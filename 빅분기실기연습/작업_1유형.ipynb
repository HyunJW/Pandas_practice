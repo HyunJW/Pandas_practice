{
  "nbformat": 4,
  "nbformat_minor": 0,
  "metadata": {
    "colab": {
      "provenance": []
    },
    "kernelspec": {
      "name": "python3",
      "display_name": "Python 3"
    },
    "language_info": {
      "name": "python"
    }
  },
  "cells": [
    {
      "cell_type": "markdown",
      "source": [
        "# 유튜브 인기동영상 데이터\n",
        "- 데이터 출처: https://www.kaggle.com/rsrishav/youtube-trending-video-dataset?select=KR_youtube_trending_data.csv\n",
        "- 데이터 설명: 유튜브 데일리 인기동영상 (한국)\n",
        "- dataurl: https://raw.githubusercontent.com/Datamanim/datarepo/main/youtube/youtube.csv"
      ],
      "metadata": {
        "id": "3du2OhS2w9Bo"
      }
    },
    {
      "cell_type": "code",
      "execution_count": 1,
      "metadata": {
        "colab": {
          "base_uri": "https://localhost:8080/",
          "height": 206
        },
        "id": "50Eba4MXwDr-",
        "outputId": "c931b39a-7f4b-47d3-c8a5-16b6e4a1ab42"
      },
      "outputs": [
        {
          "output_type": "execute_result",
          "data": {
            "text/plain": [
              "                                               title             channelTitle  \\\n",
              "0                                          [신병] 물자창고                      장삐쭈   \n",
              "1   RAIN(비) - 나로 바꾸자 Switch to me (duet with JYP) MV  RAIN's Official Channel   \n",
              "2       2020년 제야의 종 온라인 타종행사 | 보신각 현장 행사는 진행하지 않습니다.              서울시 · Seoul   \n",
              "3                                       고기남자의 칠면조 파티             고기남자 MeatMan   \n",
              "4  골목 3mc를 분노하게 만든 마음고생이 심했을 공릉 백반집 사장님의 푸념?! [예능...                    스브스밥집   \n",
              "\n",
              "   categoryId  view_count  likes  dislikes  comment_count  \\\n",
              "0          23     1893473  38249       730           8595   \n",
              "1          10     2600864      0         0          20129   \n",
              "2          29      347049   3564       120            178   \n",
              "3          26      528458  15372       280           3470   \n",
              "4          24      494904   3918       111           3142   \n",
              "\n",
              "                  channelId trending_date2  \n",
              "0  UChbE5OZQ6dRHECsX0tEPEZQ     2021-01-01  \n",
              "1  UCxXgIeE5hxWxHG6dz9Scg2w     2021-01-01  \n",
              "2  UCZUPZW5idAxYp-Asj__lVAA     2021-01-01  \n",
              "3  UCT3CumbFIJiW33uq0UI3zlg     2021-01-01  \n",
              "4  UCdWgRSfttvDucq4ApcCg5Mw     2021-01-01  "
            ],
            "text/html": [
              "\n",
              "  <div id=\"df-6f9774af-d343-4dd9-bef0-a9caac24c828\">\n",
              "    <div class=\"colab-df-container\">\n",
              "      <div>\n",
              "<style scoped>\n",
              "    .dataframe tbody tr th:only-of-type {\n",
              "        vertical-align: middle;\n",
              "    }\n",
              "\n",
              "    .dataframe tbody tr th {\n",
              "        vertical-align: top;\n",
              "    }\n",
              "\n",
              "    .dataframe thead th {\n",
              "        text-align: right;\n",
              "    }\n",
              "</style>\n",
              "<table border=\"1\" class=\"dataframe\">\n",
              "  <thead>\n",
              "    <tr style=\"text-align: right;\">\n",
              "      <th></th>\n",
              "      <th>title</th>\n",
              "      <th>channelTitle</th>\n",
              "      <th>categoryId</th>\n",
              "      <th>view_count</th>\n",
              "      <th>likes</th>\n",
              "      <th>dislikes</th>\n",
              "      <th>comment_count</th>\n",
              "      <th>channelId</th>\n",
              "      <th>trending_date2</th>\n",
              "    </tr>\n",
              "  </thead>\n",
              "  <tbody>\n",
              "    <tr>\n",
              "      <th>0</th>\n",
              "      <td>[신병] 물자창고</td>\n",
              "      <td>장삐쭈</td>\n",
              "      <td>23</td>\n",
              "      <td>1893473</td>\n",
              "      <td>38249</td>\n",
              "      <td>730</td>\n",
              "      <td>8595</td>\n",
              "      <td>UChbE5OZQ6dRHECsX0tEPEZQ</td>\n",
              "      <td>2021-01-01</td>\n",
              "    </tr>\n",
              "    <tr>\n",
              "      <th>1</th>\n",
              "      <td>RAIN(비) - 나로 바꾸자 Switch to me (duet with JYP) MV</td>\n",
              "      <td>RAIN's Official Channel</td>\n",
              "      <td>10</td>\n",
              "      <td>2600864</td>\n",
              "      <td>0</td>\n",
              "      <td>0</td>\n",
              "      <td>20129</td>\n",
              "      <td>UCxXgIeE5hxWxHG6dz9Scg2w</td>\n",
              "      <td>2021-01-01</td>\n",
              "    </tr>\n",
              "    <tr>\n",
              "      <th>2</th>\n",
              "      <td>2020년 제야의 종 온라인 타종행사 | 보신각 현장 행사는 진행하지 않습니다.</td>\n",
              "      <td>서울시 · Seoul</td>\n",
              "      <td>29</td>\n",
              "      <td>347049</td>\n",
              "      <td>3564</td>\n",
              "      <td>120</td>\n",
              "      <td>178</td>\n",
              "      <td>UCZUPZW5idAxYp-Asj__lVAA</td>\n",
              "      <td>2021-01-01</td>\n",
              "    </tr>\n",
              "    <tr>\n",
              "      <th>3</th>\n",
              "      <td>고기남자의 칠면조 파티</td>\n",
              "      <td>고기남자 MeatMan</td>\n",
              "      <td>26</td>\n",
              "      <td>528458</td>\n",
              "      <td>15372</td>\n",
              "      <td>280</td>\n",
              "      <td>3470</td>\n",
              "      <td>UCT3CumbFIJiW33uq0UI3zlg</td>\n",
              "      <td>2021-01-01</td>\n",
              "    </tr>\n",
              "    <tr>\n",
              "      <th>4</th>\n",
              "      <td>골목 3mc를 분노하게 만든 마음고생이 심했을 공릉 백반집 사장님의 푸념?! [예능...</td>\n",
              "      <td>스브스밥집</td>\n",
              "      <td>24</td>\n",
              "      <td>494904</td>\n",
              "      <td>3918</td>\n",
              "      <td>111</td>\n",
              "      <td>3142</td>\n",
              "      <td>UCdWgRSfttvDucq4ApcCg5Mw</td>\n",
              "      <td>2021-01-01</td>\n",
              "    </tr>\n",
              "  </tbody>\n",
              "</table>\n",
              "</div>\n",
              "      <button class=\"colab-df-convert\" onclick=\"convertToInteractive('df-6f9774af-d343-4dd9-bef0-a9caac24c828')\"\n",
              "              title=\"Convert this dataframe to an interactive table.\"\n",
              "              style=\"display:none;\">\n",
              "        \n",
              "  <svg xmlns=\"http://www.w3.org/2000/svg\" height=\"24px\"viewBox=\"0 0 24 24\"\n",
              "       width=\"24px\">\n",
              "    <path d=\"M0 0h24v24H0V0z\" fill=\"none\"/>\n",
              "    <path d=\"M18.56 5.44l.94 2.06.94-2.06 2.06-.94-2.06-.94-.94-2.06-.94 2.06-2.06.94zm-11 1L8.5 8.5l.94-2.06 2.06-.94-2.06-.94L8.5 2.5l-.94 2.06-2.06.94zm10 10l.94 2.06.94-2.06 2.06-.94-2.06-.94-.94-2.06-.94 2.06-2.06.94z\"/><path d=\"M17.41 7.96l-1.37-1.37c-.4-.4-.92-.59-1.43-.59-.52 0-1.04.2-1.43.59L10.3 9.45l-7.72 7.72c-.78.78-.78 2.05 0 2.83L4 21.41c.39.39.9.59 1.41.59.51 0 1.02-.2 1.41-.59l7.78-7.78 2.81-2.81c.8-.78.8-2.07 0-2.86zM5.41 20L4 18.59l7.72-7.72 1.47 1.35L5.41 20z\"/>\n",
              "  </svg>\n",
              "      </button>\n",
              "      \n",
              "  <style>\n",
              "    .colab-df-container {\n",
              "      display:flex;\n",
              "      flex-wrap:wrap;\n",
              "      gap: 12px;\n",
              "    }\n",
              "\n",
              "    .colab-df-convert {\n",
              "      background-color: #E8F0FE;\n",
              "      border: none;\n",
              "      border-radius: 50%;\n",
              "      cursor: pointer;\n",
              "      display: none;\n",
              "      fill: #1967D2;\n",
              "      height: 32px;\n",
              "      padding: 0 0 0 0;\n",
              "      width: 32px;\n",
              "    }\n",
              "\n",
              "    .colab-df-convert:hover {\n",
              "      background-color: #E2EBFA;\n",
              "      box-shadow: 0px 1px 2px rgba(60, 64, 67, 0.3), 0px 1px 3px 1px rgba(60, 64, 67, 0.15);\n",
              "      fill: #174EA6;\n",
              "    }\n",
              "\n",
              "    [theme=dark] .colab-df-convert {\n",
              "      background-color: #3B4455;\n",
              "      fill: #D2E3FC;\n",
              "    }\n",
              "\n",
              "    [theme=dark] .colab-df-convert:hover {\n",
              "      background-color: #434B5C;\n",
              "      box-shadow: 0px 1px 3px 1px rgba(0, 0, 0, 0.15);\n",
              "      filter: drop-shadow(0px 1px 2px rgba(0, 0, 0, 0.3));\n",
              "      fill: #FFFFFF;\n",
              "    }\n",
              "  </style>\n",
              "\n",
              "      <script>\n",
              "        const buttonEl =\n",
              "          document.querySelector('#df-6f9774af-d343-4dd9-bef0-a9caac24c828 button.colab-df-convert');\n",
              "        buttonEl.style.display =\n",
              "          google.colab.kernel.accessAllowed ? 'block' : 'none';\n",
              "\n",
              "        async function convertToInteractive(key) {\n",
              "          const element = document.querySelector('#df-6f9774af-d343-4dd9-bef0-a9caac24c828');\n",
              "          const dataTable =\n",
              "            await google.colab.kernel.invokeFunction('convertToInteractive',\n",
              "                                                     [key], {});\n",
              "          if (!dataTable) return;\n",
              "\n",
              "          const docLinkHtml = 'Like what you see? Visit the ' +\n",
              "            '<a target=\"_blank\" href=https://colab.research.google.com/notebooks/data_table.ipynb>data table notebook</a>'\n",
              "            + ' to learn more about interactive tables.';\n",
              "          element.innerHTML = '';\n",
              "          dataTable['output_type'] = 'display_data';\n",
              "          await google.colab.output.renderOutput(dataTable, element);\n",
              "          const docLink = document.createElement('div');\n",
              "          docLink.innerHTML = docLinkHtml;\n",
              "          element.appendChild(docLink);\n",
              "        }\n",
              "      </script>\n",
              "    </div>\n",
              "  </div>\n",
              "  "
            ]
          },
          "metadata": {},
          "execution_count": 1
        }
      ],
      "source": [
        "import pandas as pd\n",
        "df = pd.read_csv('https://raw.githubusercontent.com/Datamanim/datarepo/main/youtube/youtube.csv', index_col=0)\n",
        "df.head()"
      ]
    },
    {
      "cell_type": "markdown",
      "source": [
        "1. 인기동영상 제작횟수가 많은 채널 상위 10개명을 출력하라 (날짜기준, 중복포함)"
      ],
      "metadata": {
        "id": "2Q4HU0n2xbvg"
      }
    },
    {
      "cell_type": "code",
      "source": [
        "list(df['channelTitle'].value_counts().sort_values(ascending=False).head(10).index)"
      ],
      "metadata": {
        "colab": {
          "base_uri": "https://localhost:8080/"
        },
        "id": "TPCh7VEYxSoC",
        "outputId": "87157992-a931-427f-a00e-286a2f7d693c"
      },
      "execution_count": 2,
      "outputs": [
        {
          "output_type": "execute_result",
          "data": {
            "text/plain": [
              "['짤툰',\n",
              " '파뿌리',\n",
              " 'SPOTV',\n",
              " '런닝맨 - 스브스 공식 채널',\n",
              " '엠뚜루마뚜루 : MBC 공식 종합 채널',\n",
              " '장삐쭈',\n",
              " 'BANGTANTV',\n",
              " '채널 십오야',\n",
              " '이과장',\n",
              " '총몇명']"
            ]
          },
          "metadata": {},
          "execution_count": 2
        }
      ]
    },
    {
      "cell_type": "markdown",
      "source": [
        "2. 논란으로 인기동영상이 된 케이스를 확인하고 싶다. dislikes수가 like 수보다 높은 동영상을 제작한 채널을 모두 출력하라"
      ],
      "metadata": {
        "id": "GNh79OrdyodQ"
      }
    },
    {
      "cell_type": "code",
      "source": [
        "list(df[(df['dislikes'] > df['likes'])].channelTitle.unique())"
      ],
      "metadata": {
        "colab": {
          "base_uri": "https://localhost:8080/"
        },
        "id": "3X5sOvMpyJ_3",
        "outputId": "1213b595-1235-4b9a-bf6d-d1b5dd67c6f1"
      },
      "execution_count": 3,
      "outputs": [
        {
          "output_type": "execute_result",
          "data": {
            "text/plain": [
              "['핫도그TV',\n",
              " 'ASMR 애정TV',\n",
              " '하얀트리HayanTree',\n",
              " '양팡 YangPang',\n",
              " '철구형 (CHULTUBE)',\n",
              " '왜냐맨하우스',\n",
              " '(MUTUBE)와꾸대장봉준',\n",
              " '오메킴TV',\n",
              " '육지담',\n",
              " 'MapleStory_KR',\n",
              " 'ROAD FIGHTING CHAMPIONSHIP',\n",
              " '사나이 김기훈',\n",
              " '나혼자산다 STUDIO',\n",
              " 'Gen.G esports']"
            ]
          },
          "metadata": {},
          "execution_count": 3
        }
      ]
    },
    {
      "cell_type": "markdown",
      "source": [
        "3. 채널명을 바꾼 케이스가 있는지 확인하고 싶다. channelId의 경우 고유값이므로 이를 통해 채널명을 한번이라도 바꾼 채널의 갯수를 구하여라"
      ],
      "metadata": {
        "id": "ogQejEkMArk8"
      }
    },
    {
      "cell_type": "code",
      "source": [
        "# 확인\n",
        "change = df[['channelTitle','channelId']].drop_duplicates().channelId.value_counts()\n",
        "len(change[change > 1])"
      ],
      "metadata": {
        "colab": {
          "base_uri": "https://localhost:8080/"
        },
        "id": "hm_-OMpSXKiq",
        "outputId": "7275f8c9-088e-4497-e1df-cab1e79769d0"
      },
      "execution_count": 4,
      "outputs": [
        {
          "output_type": "execute_result",
          "data": {
            "text/plain": [
              "71"
            ]
          },
          "metadata": {},
          "execution_count": 4
        }
      ]
    },
    {
      "cell_type": "markdown",
      "source": [
        "4. 일요일에 인기있었던 영상들중 가장많은 영상 종류(categoryId)는 무엇인가?"
      ],
      "metadata": {
        "id": "kH1p4Q1Dfm4U"
      }
    },
    {
      "cell_type": "code",
      "source": [
        "df['trending_date2'] = df['trending_date2'].astype('datetime64')\n",
        "df.loc[df['trending_date2'].dt.day_name() == 'Sunday']['categoryId'].value_counts().index[0]"
      ],
      "metadata": {
        "colab": {
          "base_uri": "https://localhost:8080/"
        },
        "id": "I8L3ZvLNfmbd",
        "outputId": "502da2a8-d0e7-4151-db5b-1d749d6e9d0e"
      },
      "execution_count": 5,
      "outputs": [
        {
          "output_type": "execute_result",
          "data": {
            "text/plain": [
              "24"
            ]
          },
          "metadata": {},
          "execution_count": 5
        }
      ]
    },
    {
      "cell_type": "markdown",
      "source": [
        "5. 각 요일별 인기 영상들의 categoryId는 각각 몇개 씩인지 하나의 데이터 프레임으로 표현하라"
      ],
      "metadata": {
        "id": "JCXzMo9EggDM"
      }
    },
    {
      "cell_type": "code",
      "source": [
        "df.groupby(['categoryId', df['trending_date2'].dt.day_name()]).size().unstack()"
      ],
      "metadata": {
        "colab": {
          "base_uri": "https://localhost:8080/",
          "height": 551
        },
        "id": "3-1znOHafuvc",
        "outputId": "7140f431-1e21-4294-b777-7678874db4be"
      },
      "execution_count": 6,
      "outputs": [
        {
          "output_type": "execute_result",
          "data": {
            "text/plain": [
              "trending_date2  Friday  Monday  Saturday  Sunday  Thursday  Tuesday  Wednesday\n",
              "categoryId                                                                    \n",
              "1                  243     263       255     274       246      257        234\n",
              "2                  120     105       119      99       128      119        129\n",
              "10                 833     837       776     830       890      894        917\n",
              "15                 187     215       198     217       207      208        207\n",
              "17                 633     668       592     636       682      708        706\n",
              "19                  90      92        87      91        92       89         85\n",
              "20                 283     298       296     289       282      285        291\n",
              "22                1288    1373      1289    1337      1341     1375       1333\n",
              "23                 568     594       570     556       560      569        566\n",
              "24                2976    3148      3066    3096      2954     3084       3090\n",
              "25                 444     453       422     437       470      452        468\n",
              "26                 369     378       364     363       375      394        385\n",
              "27                 183     205       183     199       194      194        212\n",
              "28                 171     160       173     167       166      161        165\n",
              "29                  12      10        10       9        13       11         12"
            ],
            "text/html": [
              "\n",
              "  <div id=\"df-f947c7bb-dba1-49ca-aebe-325ba6d9babe\">\n",
              "    <div class=\"colab-df-container\">\n",
              "      <div>\n",
              "<style scoped>\n",
              "    .dataframe tbody tr th:only-of-type {\n",
              "        vertical-align: middle;\n",
              "    }\n",
              "\n",
              "    .dataframe tbody tr th {\n",
              "        vertical-align: top;\n",
              "    }\n",
              "\n",
              "    .dataframe thead th {\n",
              "        text-align: right;\n",
              "    }\n",
              "</style>\n",
              "<table border=\"1\" class=\"dataframe\">\n",
              "  <thead>\n",
              "    <tr style=\"text-align: right;\">\n",
              "      <th>trending_date2</th>\n",
              "      <th>Friday</th>\n",
              "      <th>Monday</th>\n",
              "      <th>Saturday</th>\n",
              "      <th>Sunday</th>\n",
              "      <th>Thursday</th>\n",
              "      <th>Tuesday</th>\n",
              "      <th>Wednesday</th>\n",
              "    </tr>\n",
              "    <tr>\n",
              "      <th>categoryId</th>\n",
              "      <th></th>\n",
              "      <th></th>\n",
              "      <th></th>\n",
              "      <th></th>\n",
              "      <th></th>\n",
              "      <th></th>\n",
              "      <th></th>\n",
              "    </tr>\n",
              "  </thead>\n",
              "  <tbody>\n",
              "    <tr>\n",
              "      <th>1</th>\n",
              "      <td>243</td>\n",
              "      <td>263</td>\n",
              "      <td>255</td>\n",
              "      <td>274</td>\n",
              "      <td>246</td>\n",
              "      <td>257</td>\n",
              "      <td>234</td>\n",
              "    </tr>\n",
              "    <tr>\n",
              "      <th>2</th>\n",
              "      <td>120</td>\n",
              "      <td>105</td>\n",
              "      <td>119</td>\n",
              "      <td>99</td>\n",
              "      <td>128</td>\n",
              "      <td>119</td>\n",
              "      <td>129</td>\n",
              "    </tr>\n",
              "    <tr>\n",
              "      <th>10</th>\n",
              "      <td>833</td>\n",
              "      <td>837</td>\n",
              "      <td>776</td>\n",
              "      <td>830</td>\n",
              "      <td>890</td>\n",
              "      <td>894</td>\n",
              "      <td>917</td>\n",
              "    </tr>\n",
              "    <tr>\n",
              "      <th>15</th>\n",
              "      <td>187</td>\n",
              "      <td>215</td>\n",
              "      <td>198</td>\n",
              "      <td>217</td>\n",
              "      <td>207</td>\n",
              "      <td>208</td>\n",
              "      <td>207</td>\n",
              "    </tr>\n",
              "    <tr>\n",
              "      <th>17</th>\n",
              "      <td>633</td>\n",
              "      <td>668</td>\n",
              "      <td>592</td>\n",
              "      <td>636</td>\n",
              "      <td>682</td>\n",
              "      <td>708</td>\n",
              "      <td>706</td>\n",
              "    </tr>\n",
              "    <tr>\n",
              "      <th>19</th>\n",
              "      <td>90</td>\n",
              "      <td>92</td>\n",
              "      <td>87</td>\n",
              "      <td>91</td>\n",
              "      <td>92</td>\n",
              "      <td>89</td>\n",
              "      <td>85</td>\n",
              "    </tr>\n",
              "    <tr>\n",
              "      <th>20</th>\n",
              "      <td>283</td>\n",
              "      <td>298</td>\n",
              "      <td>296</td>\n",
              "      <td>289</td>\n",
              "      <td>282</td>\n",
              "      <td>285</td>\n",
              "      <td>291</td>\n",
              "    </tr>\n",
              "    <tr>\n",
              "      <th>22</th>\n",
              "      <td>1288</td>\n",
              "      <td>1373</td>\n",
              "      <td>1289</td>\n",
              "      <td>1337</td>\n",
              "      <td>1341</td>\n",
              "      <td>1375</td>\n",
              "      <td>1333</td>\n",
              "    </tr>\n",
              "    <tr>\n",
              "      <th>23</th>\n",
              "      <td>568</td>\n",
              "      <td>594</td>\n",
              "      <td>570</td>\n",
              "      <td>556</td>\n",
              "      <td>560</td>\n",
              "      <td>569</td>\n",
              "      <td>566</td>\n",
              "    </tr>\n",
              "    <tr>\n",
              "      <th>24</th>\n",
              "      <td>2976</td>\n",
              "      <td>3148</td>\n",
              "      <td>3066</td>\n",
              "      <td>3096</td>\n",
              "      <td>2954</td>\n",
              "      <td>3084</td>\n",
              "      <td>3090</td>\n",
              "    </tr>\n",
              "    <tr>\n",
              "      <th>25</th>\n",
              "      <td>444</td>\n",
              "      <td>453</td>\n",
              "      <td>422</td>\n",
              "      <td>437</td>\n",
              "      <td>470</td>\n",
              "      <td>452</td>\n",
              "      <td>468</td>\n",
              "    </tr>\n",
              "    <tr>\n",
              "      <th>26</th>\n",
              "      <td>369</td>\n",
              "      <td>378</td>\n",
              "      <td>364</td>\n",
              "      <td>363</td>\n",
              "      <td>375</td>\n",
              "      <td>394</td>\n",
              "      <td>385</td>\n",
              "    </tr>\n",
              "    <tr>\n",
              "      <th>27</th>\n",
              "      <td>183</td>\n",
              "      <td>205</td>\n",
              "      <td>183</td>\n",
              "      <td>199</td>\n",
              "      <td>194</td>\n",
              "      <td>194</td>\n",
              "      <td>212</td>\n",
              "    </tr>\n",
              "    <tr>\n",
              "      <th>28</th>\n",
              "      <td>171</td>\n",
              "      <td>160</td>\n",
              "      <td>173</td>\n",
              "      <td>167</td>\n",
              "      <td>166</td>\n",
              "      <td>161</td>\n",
              "      <td>165</td>\n",
              "    </tr>\n",
              "    <tr>\n",
              "      <th>29</th>\n",
              "      <td>12</td>\n",
              "      <td>10</td>\n",
              "      <td>10</td>\n",
              "      <td>9</td>\n",
              "      <td>13</td>\n",
              "      <td>11</td>\n",
              "      <td>12</td>\n",
              "    </tr>\n",
              "  </tbody>\n",
              "</table>\n",
              "</div>\n",
              "      <button class=\"colab-df-convert\" onclick=\"convertToInteractive('df-f947c7bb-dba1-49ca-aebe-325ba6d9babe')\"\n",
              "              title=\"Convert this dataframe to an interactive table.\"\n",
              "              style=\"display:none;\">\n",
              "        \n",
              "  <svg xmlns=\"http://www.w3.org/2000/svg\" height=\"24px\"viewBox=\"0 0 24 24\"\n",
              "       width=\"24px\">\n",
              "    <path d=\"M0 0h24v24H0V0z\" fill=\"none\"/>\n",
              "    <path d=\"M18.56 5.44l.94 2.06.94-2.06 2.06-.94-2.06-.94-.94-2.06-.94 2.06-2.06.94zm-11 1L8.5 8.5l.94-2.06 2.06-.94-2.06-.94L8.5 2.5l-.94 2.06-2.06.94zm10 10l.94 2.06.94-2.06 2.06-.94-2.06-.94-.94-2.06-.94 2.06-2.06.94z\"/><path d=\"M17.41 7.96l-1.37-1.37c-.4-.4-.92-.59-1.43-.59-.52 0-1.04.2-1.43.59L10.3 9.45l-7.72 7.72c-.78.78-.78 2.05 0 2.83L4 21.41c.39.39.9.59 1.41.59.51 0 1.02-.2 1.41-.59l7.78-7.78 2.81-2.81c.8-.78.8-2.07 0-2.86zM5.41 20L4 18.59l7.72-7.72 1.47 1.35L5.41 20z\"/>\n",
              "  </svg>\n",
              "      </button>\n",
              "      \n",
              "  <style>\n",
              "    .colab-df-container {\n",
              "      display:flex;\n",
              "      flex-wrap:wrap;\n",
              "      gap: 12px;\n",
              "    }\n",
              "\n",
              "    .colab-df-convert {\n",
              "      background-color: #E8F0FE;\n",
              "      border: none;\n",
              "      border-radius: 50%;\n",
              "      cursor: pointer;\n",
              "      display: none;\n",
              "      fill: #1967D2;\n",
              "      height: 32px;\n",
              "      padding: 0 0 0 0;\n",
              "      width: 32px;\n",
              "    }\n",
              "\n",
              "    .colab-df-convert:hover {\n",
              "      background-color: #E2EBFA;\n",
              "      box-shadow: 0px 1px 2px rgba(60, 64, 67, 0.3), 0px 1px 3px 1px rgba(60, 64, 67, 0.15);\n",
              "      fill: #174EA6;\n",
              "    }\n",
              "\n",
              "    [theme=dark] .colab-df-convert {\n",
              "      background-color: #3B4455;\n",
              "      fill: #D2E3FC;\n",
              "    }\n",
              "\n",
              "    [theme=dark] .colab-df-convert:hover {\n",
              "      background-color: #434B5C;\n",
              "      box-shadow: 0px 1px 3px 1px rgba(0, 0, 0, 0.15);\n",
              "      filter: drop-shadow(0px 1px 2px rgba(0, 0, 0, 0.3));\n",
              "      fill: #FFFFFF;\n",
              "    }\n",
              "  </style>\n",
              "\n",
              "      <script>\n",
              "        const buttonEl =\n",
              "          document.querySelector('#df-f947c7bb-dba1-49ca-aebe-325ba6d9babe button.colab-df-convert');\n",
              "        buttonEl.style.display =\n",
              "          google.colab.kernel.accessAllowed ? 'block' : 'none';\n",
              "\n",
              "        async function convertToInteractive(key) {\n",
              "          const element = document.querySelector('#df-f947c7bb-dba1-49ca-aebe-325ba6d9babe');\n",
              "          const dataTable =\n",
              "            await google.colab.kernel.invokeFunction('convertToInteractive',\n",
              "                                                     [key], {});\n",
              "          if (!dataTable) return;\n",
              "\n",
              "          const docLinkHtml = 'Like what you see? Visit the ' +\n",
              "            '<a target=\"_blank\" href=https://colab.research.google.com/notebooks/data_table.ipynb>data table notebook</a>'\n",
              "            + ' to learn more about interactive tables.';\n",
              "          element.innerHTML = '';\n",
              "          dataTable['output_type'] = 'display_data';\n",
              "          await google.colab.output.renderOutput(dataTable, element);\n",
              "          const docLink = document.createElement('div');\n",
              "          docLink.innerHTML = docLinkHtml;\n",
              "          element.appendChild(docLink);\n",
              "        }\n",
              "      </script>\n",
              "    </div>\n",
              "  </div>\n",
              "  "
            ]
          },
          "metadata": {},
          "execution_count": 6
        }
      ]
    },
    {
      "cell_type": "markdown",
      "source": [
        "6. 댓글의 수로 (comment_count) 영상 반응에 대한 판단을 할 수 있다. viewcount대비 댓글수가 가장 높은 영상을 확인하라 (view_count값이 0인 경우는 제외한다)"
      ],
      "metadata": {
        "id": "r-0x0CHRimyW"
      }
    },
    {
      "cell_type": "code",
      "source": [
        "df2 = df.drop(index=df[df['view_count'] == 0].index).copy()\n",
        "df2['ratio'] = df2['comment_count'] / df2['view_count']\n",
        "df2.sort_values('ratio', ascending=False).head(1).title"
      ],
      "metadata": {
        "colab": {
          "base_uri": "https://localhost:8080/"
        },
        "id": "sH1JADpYhr3N",
        "outputId": "c3384a82-60c3-4e1a-9e62-4ba6cfc8e798"
      },
      "execution_count": 7,
      "outputs": [
        {
          "output_type": "execute_result",
          "data": {
            "text/plain": [
              "50830    60분 동안 댓글이 달리지 않으면, 영상이 삭제됩니다. (챌린지)\n",
              "Name: title, dtype: object"
            ]
          },
          "metadata": {},
          "execution_count": 7
        }
      ]
    },
    {
      "cell_type": "markdown",
      "source": [
        "7. 댓글의 수로 (comment_count) 영상 반응에 대한 판단을 할 수 있다.viewcount대비 댓글수가 가장 낮은 영상을 확인하라 (view_counts, ratio값이 0인경우는 제외한다.)"
      ],
      "metadata": {
        "id": "bpVbab96kAae"
      }
    },
    {
      "cell_type": "code",
      "source": [
        "df2.drop(index=df2[df2['ratio'] == 0].index, inplace=True)\n",
        "df2.sort_values('ratio').iloc[0, 0]"
      ],
      "metadata": {
        "colab": {
          "base_uri": "https://localhost:8080/",
          "height": 35
        },
        "id": "53wE5p4qi48t",
        "outputId": "2030fd28-a44a-4304-c39c-918354b8e1b2"
      },
      "execution_count": 8,
      "outputs": [
        {
          "output_type": "execute_result",
          "data": {
            "text/plain": [
              "'Join the BTS #PermissiontoDance Challenge only on YouTube #Shorts'"
            ],
            "application/vnd.google.colaboratory.intrinsic+json": {
              "type": "string"
            }
          },
          "metadata": {},
          "execution_count": 8
        }
      ]
    },
    {
      "cell_type": "markdown",
      "source": [
        "8. like 대비 dislike의 수가 가장 적은 영상은 무엇인가? (like, dislike 값이 0인경우는 제외한다)"
      ],
      "metadata": {
        "id": "vSw3_JI1nt7v"
      }
    },
    {
      "cell_type": "code",
      "source": [
        "df2 = df[(df['likes'] != 0) & (df['dislikes'] != 0)].copy()\n",
        "df2['ratio'] = df2['dislikes'] / df2['likes']\n",
        "df2.sort_values('ratio').iloc[0, 0]"
      ],
      "metadata": {
        "colab": {
          "base_uri": "https://localhost:8080/",
          "height": 35
        },
        "id": "nbMFN8B3nSk6",
        "outputId": "9c59515a-1ad3-42ce-c0aa-3c2fa84e7bc6"
      },
      "execution_count": 9,
      "outputs": [
        {
          "output_type": "execute_result",
          "data": {
            "text/plain": [
              "'[줌터뷰] *최초공개* 사부작즈🐰🐶의 비공식 이름은 아이라인즈? 꿀조합 티키타카 가득한 NCT 127 도영&정우의 줌터뷰'"
            ],
            "application/vnd.google.colaboratory.intrinsic+json": {
              "type": "string"
            }
          },
          "metadata": {},
          "execution_count": 9
        }
      ]
    },
    {
      "cell_type": "markdown",
      "source": [
        "9. 가장많은 트렌드 영상을 제작한 채널의 이름은 무엇인가? (날짜기준, 중복포함)"
      ],
      "metadata": {
        "id": "tlBmeG7uo7c9"
      }
    },
    {
      "cell_type": "code",
      "source": [
        "df[df['channelId'] == df['channelId'].value_counts().sort_values(ascending=False).index[0]].channelTitle.unique()[0]"
      ],
      "metadata": {
        "colab": {
          "base_uri": "https://localhost:8080/",
          "height": 35
        },
        "id": "5Tj20qbNoG2_",
        "outputId": "c31306f8-3819-4c94-e4a8-3165aad1aedc"
      },
      "execution_count": 10,
      "outputs": [
        {
          "output_type": "execute_result",
          "data": {
            "text/plain": [
              "'짤툰'"
            ],
            "application/vnd.google.colaboratory.intrinsic+json": {
              "type": "string"
            }
          },
          "metadata": {},
          "execution_count": 10
        }
      ]
    },
    {
      "cell_type": "markdown",
      "source": [
        "10. 20회(20일)이상 인기동영상 리스트에 포함된 동영상의 숫자는?"
      ],
      "metadata": {
        "id": "jTPfMUdTqEQ3"
      }
    },
    {
      "cell_type": "code",
      "source": [
        "(df[['title', 'channelId']].value_counts() >= 20).sum()"
      ],
      "metadata": {
        "colab": {
          "base_uri": "https://localhost:8080/"
        },
        "id": "5it4bFZxpXb_",
        "outputId": "812ba86f-5196-4f94-c526-61090c58e0ba"
      },
      "execution_count": 11,
      "outputs": [
        {
          "output_type": "execute_result",
          "data": {
            "text/plain": [
              "40"
            ]
          },
          "metadata": {},
          "execution_count": 11
        }
      ]
    },
    {
      "cell_type": "markdown",
      "source": [
        "# 유튜브 공범컨텐츠 동영상 데이터\n",
        "- 데이터 출처: https://www.kaggle.com/kukuroo3/youtube-episodic-contents-kr(참고, 데이터 수정)\n",
        "- 데이터 설명: 유튜브 “공범” 컨텐츠 동영상 정보 (10분 간격 수집)\n",
        "- dataurl1 (비디오 정보): https://raw.githubusercontent.com/Datamanim/datarepo/main/youtube/videoInfo.csv\n",
        "- dataurl2 (참가자 채널 정보): https://raw.githubusercontent.com/Datamanim/datarepo/main/youtube/channelInfo.csv"
      ],
      "metadata": {
        "id": "uA-QkLxr4VVO"
      }
    },
    {
      "cell_type": "code",
      "source": [
        "import pandas as pd\n",
        "video = pd.read_csv('https://raw.githubusercontent.com/Datamanim/datarepo/main/youtube/videoInfo.csv')\n",
        "channel = pd.read_csv('https://raw.githubusercontent.com/Datamanim/datarepo/main/youtube/channelInfo.csv')\n",
        "display(video.head())\n",
        "display(channel.head())"
      ],
      "metadata": {
        "id": "vQ9GJt9Usgpg",
        "colab": {
          "base_uri": "https://localhost:8080/",
          "height": 395
        },
        "outputId": "3d0e5134-adb0-4e44-a617-553c823991f5"
      },
      "execution_count": 12,
      "outputs": [
        {
          "output_type": "display_data",
          "data": {
            "text/plain": [
              "       videopk  viewcnt  likecnt  dislikecnt  favoritecnt  cmcnt  \\\n",
              "0  c5JQp6xafqc  1667010    30474         706            0   6587   \n",
              "1  c5JQp6xafqc  1669089    30495         707            0   6589   \n",
              "2  c5JQp6xafqc  1674759    30522         711            0   6596   \n",
              "3  c5JQp6xafqc  1677026    30555         712            0   6604   \n",
              "4  c5JQp6xafqc  1681824    30585         713            0   6600   \n",
              "\n",
              "                    ct videoname  \n",
              "0  2021-10-10 15:20:03    공범 EP1  \n",
              "1  2021-10-10 15:30:03    공범 EP1  \n",
              "2  2021-10-10 15:40:02    공범 EP1  \n",
              "3  2021-10-10 15:50:03    공범 EP1  \n",
              "4  2021-10-10 16:00:03    공범 EP1  "
            ],
            "text/html": [
              "\n",
              "  <div id=\"df-9925e460-2837-4c6c-b476-3e2a814aa133\">\n",
              "    <div class=\"colab-df-container\">\n",
              "      <div>\n",
              "<style scoped>\n",
              "    .dataframe tbody tr th:only-of-type {\n",
              "        vertical-align: middle;\n",
              "    }\n",
              "\n",
              "    .dataframe tbody tr th {\n",
              "        vertical-align: top;\n",
              "    }\n",
              "\n",
              "    .dataframe thead th {\n",
              "        text-align: right;\n",
              "    }\n",
              "</style>\n",
              "<table border=\"1\" class=\"dataframe\">\n",
              "  <thead>\n",
              "    <tr style=\"text-align: right;\">\n",
              "      <th></th>\n",
              "      <th>videopk</th>\n",
              "      <th>viewcnt</th>\n",
              "      <th>likecnt</th>\n",
              "      <th>dislikecnt</th>\n",
              "      <th>favoritecnt</th>\n",
              "      <th>cmcnt</th>\n",
              "      <th>ct</th>\n",
              "      <th>videoname</th>\n",
              "    </tr>\n",
              "  </thead>\n",
              "  <tbody>\n",
              "    <tr>\n",
              "      <th>0</th>\n",
              "      <td>c5JQp6xafqc</td>\n",
              "      <td>1667010</td>\n",
              "      <td>30474</td>\n",
              "      <td>706</td>\n",
              "      <td>0</td>\n",
              "      <td>6587</td>\n",
              "      <td>2021-10-10 15:20:03</td>\n",
              "      <td>공범 EP1</td>\n",
              "    </tr>\n",
              "    <tr>\n",
              "      <th>1</th>\n",
              "      <td>c5JQp6xafqc</td>\n",
              "      <td>1669089</td>\n",
              "      <td>30495</td>\n",
              "      <td>707</td>\n",
              "      <td>0</td>\n",
              "      <td>6589</td>\n",
              "      <td>2021-10-10 15:30:03</td>\n",
              "      <td>공범 EP1</td>\n",
              "    </tr>\n",
              "    <tr>\n",
              "      <th>2</th>\n",
              "      <td>c5JQp6xafqc</td>\n",
              "      <td>1674759</td>\n",
              "      <td>30522</td>\n",
              "      <td>711</td>\n",
              "      <td>0</td>\n",
              "      <td>6596</td>\n",
              "      <td>2021-10-10 15:40:02</td>\n",
              "      <td>공범 EP1</td>\n",
              "    </tr>\n",
              "    <tr>\n",
              "      <th>3</th>\n",
              "      <td>c5JQp6xafqc</td>\n",
              "      <td>1677026</td>\n",
              "      <td>30555</td>\n",
              "      <td>712</td>\n",
              "      <td>0</td>\n",
              "      <td>6604</td>\n",
              "      <td>2021-10-10 15:50:03</td>\n",
              "      <td>공범 EP1</td>\n",
              "    </tr>\n",
              "    <tr>\n",
              "      <th>4</th>\n",
              "      <td>c5JQp6xafqc</td>\n",
              "      <td>1681824</td>\n",
              "      <td>30585</td>\n",
              "      <td>713</td>\n",
              "      <td>0</td>\n",
              "      <td>6600</td>\n",
              "      <td>2021-10-10 16:00:03</td>\n",
              "      <td>공범 EP1</td>\n",
              "    </tr>\n",
              "  </tbody>\n",
              "</table>\n",
              "</div>\n",
              "      <button class=\"colab-df-convert\" onclick=\"convertToInteractive('df-9925e460-2837-4c6c-b476-3e2a814aa133')\"\n",
              "              title=\"Convert this dataframe to an interactive table.\"\n",
              "              style=\"display:none;\">\n",
              "        \n",
              "  <svg xmlns=\"http://www.w3.org/2000/svg\" height=\"24px\"viewBox=\"0 0 24 24\"\n",
              "       width=\"24px\">\n",
              "    <path d=\"M0 0h24v24H0V0z\" fill=\"none\"/>\n",
              "    <path d=\"M18.56 5.44l.94 2.06.94-2.06 2.06-.94-2.06-.94-.94-2.06-.94 2.06-2.06.94zm-11 1L8.5 8.5l.94-2.06 2.06-.94-2.06-.94L8.5 2.5l-.94 2.06-2.06.94zm10 10l.94 2.06.94-2.06 2.06-.94-2.06-.94-.94-2.06-.94 2.06-2.06.94z\"/><path d=\"M17.41 7.96l-1.37-1.37c-.4-.4-.92-.59-1.43-.59-.52 0-1.04.2-1.43.59L10.3 9.45l-7.72 7.72c-.78.78-.78 2.05 0 2.83L4 21.41c.39.39.9.59 1.41.59.51 0 1.02-.2 1.41-.59l7.78-7.78 2.81-2.81c.8-.78.8-2.07 0-2.86zM5.41 20L4 18.59l7.72-7.72 1.47 1.35L5.41 20z\"/>\n",
              "  </svg>\n",
              "      </button>\n",
              "      \n",
              "  <style>\n",
              "    .colab-df-container {\n",
              "      display:flex;\n",
              "      flex-wrap:wrap;\n",
              "      gap: 12px;\n",
              "    }\n",
              "\n",
              "    .colab-df-convert {\n",
              "      background-color: #E8F0FE;\n",
              "      border: none;\n",
              "      border-radius: 50%;\n",
              "      cursor: pointer;\n",
              "      display: none;\n",
              "      fill: #1967D2;\n",
              "      height: 32px;\n",
              "      padding: 0 0 0 0;\n",
              "      width: 32px;\n",
              "    }\n",
              "\n",
              "    .colab-df-convert:hover {\n",
              "      background-color: #E2EBFA;\n",
              "      box-shadow: 0px 1px 2px rgba(60, 64, 67, 0.3), 0px 1px 3px 1px rgba(60, 64, 67, 0.15);\n",
              "      fill: #174EA6;\n",
              "    }\n",
              "\n",
              "    [theme=dark] .colab-df-convert {\n",
              "      background-color: #3B4455;\n",
              "      fill: #D2E3FC;\n",
              "    }\n",
              "\n",
              "    [theme=dark] .colab-df-convert:hover {\n",
              "      background-color: #434B5C;\n",
              "      box-shadow: 0px 1px 3px 1px rgba(0, 0, 0, 0.15);\n",
              "      filter: drop-shadow(0px 1px 2px rgba(0, 0, 0, 0.3));\n",
              "      fill: #FFFFFF;\n",
              "    }\n",
              "  </style>\n",
              "\n",
              "      <script>\n",
              "        const buttonEl =\n",
              "          document.querySelector('#df-9925e460-2837-4c6c-b476-3e2a814aa133 button.colab-df-convert');\n",
              "        buttonEl.style.display =\n",
              "          google.colab.kernel.accessAllowed ? 'block' : 'none';\n",
              "\n",
              "        async function convertToInteractive(key) {\n",
              "          const element = document.querySelector('#df-9925e460-2837-4c6c-b476-3e2a814aa133');\n",
              "          const dataTable =\n",
              "            await google.colab.kernel.invokeFunction('convertToInteractive',\n",
              "                                                     [key], {});\n",
              "          if (!dataTable) return;\n",
              "\n",
              "          const docLinkHtml = 'Like what you see? Visit the ' +\n",
              "            '<a target=\"_blank\" href=https://colab.research.google.com/notebooks/data_table.ipynb>data table notebook</a>'\n",
              "            + ' to learn more about interactive tables.';\n",
              "          element.innerHTML = '';\n",
              "          dataTable['output_type'] = 'display_data';\n",
              "          await google.colab.output.renderOutput(dataTable, element);\n",
              "          const docLink = document.createElement('div');\n",
              "          docLink.innerHTML = docLinkHtml;\n",
              "          element.appendChild(docLink);\n",
              "        }\n",
              "      </script>\n",
              "    </div>\n",
              "  </div>\n",
              "  "
            ]
          },
          "metadata": {}
        },
        {
          "output_type": "display_data",
          "data": {
            "text/plain": [
              "                  channelid   subcnt    viewcnt  videocnt  \\\n",
              "0  UCkQCwnkQfgSuPTTnw_Y7v7w  1310000  410238653       736   \n",
              "1  UCkQCwnkQfgSuPTTnw_Y7v7w  1310000  412531322       736   \n",
              "2  UCkQCwnkQfgSuPTTnw_Y7v7w  1310000  412531322       735   \n",
              "3  UCkQCwnkQfgSuPTTnw_Y7v7w  1310000  412531322       737   \n",
              "4  UCkQCwnkQfgSuPTTnw_Y7v7w  1320000  412531322       737   \n",
              "\n",
              "                    ct channelname  \n",
              "0  2021-09-30 03:01:03         꽈뚜룹  \n",
              "1  2021-09-30 09:01:03         꽈뚜룹  \n",
              "2  2021-09-30 15:01:03         꽈뚜룹  \n",
              "3  2021-09-30 21:01:03         꽈뚜룹  \n",
              "4  2021-10-01 03:01:04         꽈뚜룹  "
            ],
            "text/html": [
              "\n",
              "  <div id=\"df-d845974f-5361-4be3-aad4-63a279cb244a\">\n",
              "    <div class=\"colab-df-container\">\n",
              "      <div>\n",
              "<style scoped>\n",
              "    .dataframe tbody tr th:only-of-type {\n",
              "        vertical-align: middle;\n",
              "    }\n",
              "\n",
              "    .dataframe tbody tr th {\n",
              "        vertical-align: top;\n",
              "    }\n",
              "\n",
              "    .dataframe thead th {\n",
              "        text-align: right;\n",
              "    }\n",
              "</style>\n",
              "<table border=\"1\" class=\"dataframe\">\n",
              "  <thead>\n",
              "    <tr style=\"text-align: right;\">\n",
              "      <th></th>\n",
              "      <th>channelid</th>\n",
              "      <th>subcnt</th>\n",
              "      <th>viewcnt</th>\n",
              "      <th>videocnt</th>\n",
              "      <th>ct</th>\n",
              "      <th>channelname</th>\n",
              "    </tr>\n",
              "  </thead>\n",
              "  <tbody>\n",
              "    <tr>\n",
              "      <th>0</th>\n",
              "      <td>UCkQCwnkQfgSuPTTnw_Y7v7w</td>\n",
              "      <td>1310000</td>\n",
              "      <td>410238653</td>\n",
              "      <td>736</td>\n",
              "      <td>2021-09-30 03:01:03</td>\n",
              "      <td>꽈뚜룹</td>\n",
              "    </tr>\n",
              "    <tr>\n",
              "      <th>1</th>\n",
              "      <td>UCkQCwnkQfgSuPTTnw_Y7v7w</td>\n",
              "      <td>1310000</td>\n",
              "      <td>412531322</td>\n",
              "      <td>736</td>\n",
              "      <td>2021-09-30 09:01:03</td>\n",
              "      <td>꽈뚜룹</td>\n",
              "    </tr>\n",
              "    <tr>\n",
              "      <th>2</th>\n",
              "      <td>UCkQCwnkQfgSuPTTnw_Y7v7w</td>\n",
              "      <td>1310000</td>\n",
              "      <td>412531322</td>\n",
              "      <td>735</td>\n",
              "      <td>2021-09-30 15:01:03</td>\n",
              "      <td>꽈뚜룹</td>\n",
              "    </tr>\n",
              "    <tr>\n",
              "      <th>3</th>\n",
              "      <td>UCkQCwnkQfgSuPTTnw_Y7v7w</td>\n",
              "      <td>1310000</td>\n",
              "      <td>412531322</td>\n",
              "      <td>737</td>\n",
              "      <td>2021-09-30 21:01:03</td>\n",
              "      <td>꽈뚜룹</td>\n",
              "    </tr>\n",
              "    <tr>\n",
              "      <th>4</th>\n",
              "      <td>UCkQCwnkQfgSuPTTnw_Y7v7w</td>\n",
              "      <td>1320000</td>\n",
              "      <td>412531322</td>\n",
              "      <td>737</td>\n",
              "      <td>2021-10-01 03:01:04</td>\n",
              "      <td>꽈뚜룹</td>\n",
              "    </tr>\n",
              "  </tbody>\n",
              "</table>\n",
              "</div>\n",
              "      <button class=\"colab-df-convert\" onclick=\"convertToInteractive('df-d845974f-5361-4be3-aad4-63a279cb244a')\"\n",
              "              title=\"Convert this dataframe to an interactive table.\"\n",
              "              style=\"display:none;\">\n",
              "        \n",
              "  <svg xmlns=\"http://www.w3.org/2000/svg\" height=\"24px\"viewBox=\"0 0 24 24\"\n",
              "       width=\"24px\">\n",
              "    <path d=\"M0 0h24v24H0V0z\" fill=\"none\"/>\n",
              "    <path d=\"M18.56 5.44l.94 2.06.94-2.06 2.06-.94-2.06-.94-.94-2.06-.94 2.06-2.06.94zm-11 1L8.5 8.5l.94-2.06 2.06-.94-2.06-.94L8.5 2.5l-.94 2.06-2.06.94zm10 10l.94 2.06.94-2.06 2.06-.94-2.06-.94-.94-2.06-.94 2.06-2.06.94z\"/><path d=\"M17.41 7.96l-1.37-1.37c-.4-.4-.92-.59-1.43-.59-.52 0-1.04.2-1.43.59L10.3 9.45l-7.72 7.72c-.78.78-.78 2.05 0 2.83L4 21.41c.39.39.9.59 1.41.59.51 0 1.02-.2 1.41-.59l7.78-7.78 2.81-2.81c.8-.78.8-2.07 0-2.86zM5.41 20L4 18.59l7.72-7.72 1.47 1.35L5.41 20z\"/>\n",
              "  </svg>\n",
              "      </button>\n",
              "      \n",
              "  <style>\n",
              "    .colab-df-container {\n",
              "      display:flex;\n",
              "      flex-wrap:wrap;\n",
              "      gap: 12px;\n",
              "    }\n",
              "\n",
              "    .colab-df-convert {\n",
              "      background-color: #E8F0FE;\n",
              "      border: none;\n",
              "      border-radius: 50%;\n",
              "      cursor: pointer;\n",
              "      display: none;\n",
              "      fill: #1967D2;\n",
              "      height: 32px;\n",
              "      padding: 0 0 0 0;\n",
              "      width: 32px;\n",
              "    }\n",
              "\n",
              "    .colab-df-convert:hover {\n",
              "      background-color: #E2EBFA;\n",
              "      box-shadow: 0px 1px 2px rgba(60, 64, 67, 0.3), 0px 1px 3px 1px rgba(60, 64, 67, 0.15);\n",
              "      fill: #174EA6;\n",
              "    }\n",
              "\n",
              "    [theme=dark] .colab-df-convert {\n",
              "      background-color: #3B4455;\n",
              "      fill: #D2E3FC;\n",
              "    }\n",
              "\n",
              "    [theme=dark] .colab-df-convert:hover {\n",
              "      background-color: #434B5C;\n",
              "      box-shadow: 0px 1px 3px 1px rgba(0, 0, 0, 0.15);\n",
              "      filter: drop-shadow(0px 1px 2px rgba(0, 0, 0, 0.3));\n",
              "      fill: #FFFFFF;\n",
              "    }\n",
              "  </style>\n",
              "\n",
              "      <script>\n",
              "        const buttonEl =\n",
              "          document.querySelector('#df-d845974f-5361-4be3-aad4-63a279cb244a button.colab-df-convert');\n",
              "        buttonEl.style.display =\n",
              "          google.colab.kernel.accessAllowed ? 'block' : 'none';\n",
              "\n",
              "        async function convertToInteractive(key) {\n",
              "          const element = document.querySelector('#df-d845974f-5361-4be3-aad4-63a279cb244a');\n",
              "          const dataTable =\n",
              "            await google.colab.kernel.invokeFunction('convertToInteractive',\n",
              "                                                     [key], {});\n",
              "          if (!dataTable) return;\n",
              "\n",
              "          const docLinkHtml = 'Like what you see? Visit the ' +\n",
              "            '<a target=\"_blank\" href=https://colab.research.google.com/notebooks/data_table.ipynb>data table notebook</a>'\n",
              "            + ' to learn more about interactive tables.';\n",
              "          element.innerHTML = '';\n",
              "          dataTable['output_type'] = 'display_data';\n",
              "          await google.colab.output.renderOutput(dataTable, element);\n",
              "          const docLink = document.createElement('div');\n",
              "          docLink.innerHTML = docLinkHtml;\n",
              "          element.appendChild(docLink);\n",
              "        }\n",
              "      </script>\n",
              "    </div>\n",
              "  </div>\n",
              "  "
            ]
          },
          "metadata": {}
        }
      ]
    },
    {
      "cell_type": "markdown",
      "source": [
        "11. 각 데이터의 ‘ct’컬럼을 시간으로 인식할수 있게 datatype을 변경하고 video 데이터의 videoname의 각 value 마다 몇개의 데이터씩 가지고 있는지 확인하라"
      ],
      "metadata": {
        "id": "SOv3O3bu5lM2"
      }
    },
    {
      "cell_type": "code",
      "source": [
        "video['ct'] = video['ct'].astype('datetime64')\n",
        "channel['ct'] = channel['ct'].astype('datetime64')\n",
        "video['videoname'].value_counts()"
      ],
      "metadata": {
        "colab": {
          "base_uri": "https://localhost:8080/"
        },
        "id": "nd-Lrr7L5Dag",
        "outputId": "0a856427-0e8a-495d-b94c-5d1141306792"
      },
      "execution_count": 13,
      "outputs": [
        {
          "output_type": "execute_result",
          "data": {
            "text/plain": [
              " 공범 EP1    3492\n",
              " 공범 EP2    3204\n",
              " 공범 EP3    2568\n",
              " 공범 EP4    2280\n",
              " 공범 EP5    1562\n",
              " 공범 EP6    1274\n",
              " 공범 EP7     555\n",
              " 공범 EP8     266\n",
              "Name: videoname, dtype: int64"
            ]
          },
          "metadata": {},
          "execution_count": 13
        }
      ]
    },
    {
      "cell_type": "markdown",
      "source": [
        "12. 수집된 각 video의 가장 최신화 된 날짜의 viewcount값을 출력하라"
      ],
      "metadata": {
        "id": "4NtlT5cK8PBo"
      }
    },
    {
      "cell_type": "code",
      "source": [
        "video.sort_values('ct', ascending=False, ignore_index=True).drop_duplicates('videoname').sort_values('videoname').reset_index(drop=True)[['viewcnt', 'videoname', 'ct']]"
      ],
      "metadata": {
        "colab": {
          "base_uri": "https://localhost:8080/",
          "height": 300
        },
        "id": "eeEWb4iZ6R3v",
        "outputId": "03e4ddeb-532e-45cc-c559-32c6b83d7d61"
      },
      "execution_count": 14,
      "outputs": [
        {
          "output_type": "execute_result",
          "data": {
            "text/plain": [
              "   viewcnt videoname                  ct\n",
              "0  3180532    공범 EP1 2021-11-01 15:30:03\n",
              "1  2199328    공범 EP2 2021-11-01 15:30:03\n",
              "2  1671294    공범 EP3 2021-11-01 15:30:03\n",
              "3  1818493    공범 EP4 2021-11-01 15:30:03\n",
              "4  1503435    공범 EP5 2021-11-01 15:30:04\n",
              "5  1750222    공범 EP6 2021-11-01 15:30:04\n",
              "6  1630200    공범 EP7 2021-11-01 15:30:05\n",
              "7  1289088    공범 EP8 2021-11-01 15:30:05"
            ],
            "text/html": [
              "\n",
              "  <div id=\"df-b344ef3f-7812-4018-bb0e-4d4c79fa4758\">\n",
              "    <div class=\"colab-df-container\">\n",
              "      <div>\n",
              "<style scoped>\n",
              "    .dataframe tbody tr th:only-of-type {\n",
              "        vertical-align: middle;\n",
              "    }\n",
              "\n",
              "    .dataframe tbody tr th {\n",
              "        vertical-align: top;\n",
              "    }\n",
              "\n",
              "    .dataframe thead th {\n",
              "        text-align: right;\n",
              "    }\n",
              "</style>\n",
              "<table border=\"1\" class=\"dataframe\">\n",
              "  <thead>\n",
              "    <tr style=\"text-align: right;\">\n",
              "      <th></th>\n",
              "      <th>viewcnt</th>\n",
              "      <th>videoname</th>\n",
              "      <th>ct</th>\n",
              "    </tr>\n",
              "  </thead>\n",
              "  <tbody>\n",
              "    <tr>\n",
              "      <th>0</th>\n",
              "      <td>3180532</td>\n",
              "      <td>공범 EP1</td>\n",
              "      <td>2021-11-01 15:30:03</td>\n",
              "    </tr>\n",
              "    <tr>\n",
              "      <th>1</th>\n",
              "      <td>2199328</td>\n",
              "      <td>공범 EP2</td>\n",
              "      <td>2021-11-01 15:30:03</td>\n",
              "    </tr>\n",
              "    <tr>\n",
              "      <th>2</th>\n",
              "      <td>1671294</td>\n",
              "      <td>공범 EP3</td>\n",
              "      <td>2021-11-01 15:30:03</td>\n",
              "    </tr>\n",
              "    <tr>\n",
              "      <th>3</th>\n",
              "      <td>1818493</td>\n",
              "      <td>공범 EP4</td>\n",
              "      <td>2021-11-01 15:30:03</td>\n",
              "    </tr>\n",
              "    <tr>\n",
              "      <th>4</th>\n",
              "      <td>1503435</td>\n",
              "      <td>공범 EP5</td>\n",
              "      <td>2021-11-01 15:30:04</td>\n",
              "    </tr>\n",
              "    <tr>\n",
              "      <th>5</th>\n",
              "      <td>1750222</td>\n",
              "      <td>공범 EP6</td>\n",
              "      <td>2021-11-01 15:30:04</td>\n",
              "    </tr>\n",
              "    <tr>\n",
              "      <th>6</th>\n",
              "      <td>1630200</td>\n",
              "      <td>공범 EP7</td>\n",
              "      <td>2021-11-01 15:30:05</td>\n",
              "    </tr>\n",
              "    <tr>\n",
              "      <th>7</th>\n",
              "      <td>1289088</td>\n",
              "      <td>공범 EP8</td>\n",
              "      <td>2021-11-01 15:30:05</td>\n",
              "    </tr>\n",
              "  </tbody>\n",
              "</table>\n",
              "</div>\n",
              "      <button class=\"colab-df-convert\" onclick=\"convertToInteractive('df-b344ef3f-7812-4018-bb0e-4d4c79fa4758')\"\n",
              "              title=\"Convert this dataframe to an interactive table.\"\n",
              "              style=\"display:none;\">\n",
              "        \n",
              "  <svg xmlns=\"http://www.w3.org/2000/svg\" height=\"24px\"viewBox=\"0 0 24 24\"\n",
              "       width=\"24px\">\n",
              "    <path d=\"M0 0h24v24H0V0z\" fill=\"none\"/>\n",
              "    <path d=\"M18.56 5.44l.94 2.06.94-2.06 2.06-.94-2.06-.94-.94-2.06-.94 2.06-2.06.94zm-11 1L8.5 8.5l.94-2.06 2.06-.94-2.06-.94L8.5 2.5l-.94 2.06-2.06.94zm10 10l.94 2.06.94-2.06 2.06-.94-2.06-.94-.94-2.06-.94 2.06-2.06.94z\"/><path d=\"M17.41 7.96l-1.37-1.37c-.4-.4-.92-.59-1.43-.59-.52 0-1.04.2-1.43.59L10.3 9.45l-7.72 7.72c-.78.78-.78 2.05 0 2.83L4 21.41c.39.39.9.59 1.41.59.51 0 1.02-.2 1.41-.59l7.78-7.78 2.81-2.81c.8-.78.8-2.07 0-2.86zM5.41 20L4 18.59l7.72-7.72 1.47 1.35L5.41 20z\"/>\n",
              "  </svg>\n",
              "      </button>\n",
              "      \n",
              "  <style>\n",
              "    .colab-df-container {\n",
              "      display:flex;\n",
              "      flex-wrap:wrap;\n",
              "      gap: 12px;\n",
              "    }\n",
              "\n",
              "    .colab-df-convert {\n",
              "      background-color: #E8F0FE;\n",
              "      border: none;\n",
              "      border-radius: 50%;\n",
              "      cursor: pointer;\n",
              "      display: none;\n",
              "      fill: #1967D2;\n",
              "      height: 32px;\n",
              "      padding: 0 0 0 0;\n",
              "      width: 32px;\n",
              "    }\n",
              "\n",
              "    .colab-df-convert:hover {\n",
              "      background-color: #E2EBFA;\n",
              "      box-shadow: 0px 1px 2px rgba(60, 64, 67, 0.3), 0px 1px 3px 1px rgba(60, 64, 67, 0.15);\n",
              "      fill: #174EA6;\n",
              "    }\n",
              "\n",
              "    [theme=dark] .colab-df-convert {\n",
              "      background-color: #3B4455;\n",
              "      fill: #D2E3FC;\n",
              "    }\n",
              "\n",
              "    [theme=dark] .colab-df-convert:hover {\n",
              "      background-color: #434B5C;\n",
              "      box-shadow: 0px 1px 3px 1px rgba(0, 0, 0, 0.15);\n",
              "      filter: drop-shadow(0px 1px 2px rgba(0, 0, 0, 0.3));\n",
              "      fill: #FFFFFF;\n",
              "    }\n",
              "  </style>\n",
              "\n",
              "      <script>\n",
              "        const buttonEl =\n",
              "          document.querySelector('#df-b344ef3f-7812-4018-bb0e-4d4c79fa4758 button.colab-df-convert');\n",
              "        buttonEl.style.display =\n",
              "          google.colab.kernel.accessAllowed ? 'block' : 'none';\n",
              "\n",
              "        async function convertToInteractive(key) {\n",
              "          const element = document.querySelector('#df-b344ef3f-7812-4018-bb0e-4d4c79fa4758');\n",
              "          const dataTable =\n",
              "            await google.colab.kernel.invokeFunction('convertToInteractive',\n",
              "                                                     [key], {});\n",
              "          if (!dataTable) return;\n",
              "\n",
              "          const docLinkHtml = 'Like what you see? Visit the ' +\n",
              "            '<a target=\"_blank\" href=https://colab.research.google.com/notebooks/data_table.ipynb>data table notebook</a>'\n",
              "            + ' to learn more about interactive tables.';\n",
              "          element.innerHTML = '';\n",
              "          dataTable['output_type'] = 'display_data';\n",
              "          await google.colab.output.renderOutput(dataTable, element);\n",
              "          const docLink = document.createElement('div');\n",
              "          docLink.innerHTML = docLinkHtml;\n",
              "          element.appendChild(docLink);\n",
              "        }\n",
              "      </script>\n",
              "    </div>\n",
              "  </div>\n",
              "  "
            ]
          },
          "metadata": {},
          "execution_count": 14
        }
      ]
    },
    {
      "cell_type": "markdown",
      "source": [
        "13. Channel 데이터중 2021-10-03일 이후 각 채널의 처음 기록 됐던 구독자 수(subcnt)를 출력하라"
      ],
      "metadata": {
        "id": "p7449UBl9grO"
      }
    },
    {
      "cell_type": "code",
      "source": [
        "channel[channel['ct'] >= pd.to_datetime('2021-10-03')].sort_values('ct').drop_duplicates('channelname')[['channelname', 'subcnt']].reset_index(drop=True)"
      ],
      "metadata": {
        "colab": {
          "base_uri": "https://localhost:8080/",
          "height": 394
        },
        "id": "0BRNO5xr7w5R",
        "outputId": "1a17b9c8-e6c5-4385-e717-5a6baf205a56"
      },
      "execution_count": 23,
      "outputs": [
        {
          "output_type": "execute_result",
          "data": {
            "text/plain": [
              "        channelname   subcnt\n",
              "0            논리왕 전기   922000\n",
              "1        츄정ChuJeong   322000\n",
              "2             야전삽짱재   257000\n",
              "3        김농밀의 농밀한 삶     7520\n",
              "4   와글와글 WagleWagle    55000\n",
              "5       릴펄 Lilpearl    10100\n",
              "6           형사!탐정되다    14900\n",
              "7               조나단   215000\n",
              "8               꽈뚜룹  1330000\n",
              "9     Balming Tiger    54300\n",
              "10    곽토리 kwak tori   471000"
            ],
            "text/html": [
              "\n",
              "  <div id=\"df-b6d1b164-ba9a-43b4-8494-c96b4418f4fb\">\n",
              "    <div class=\"colab-df-container\">\n",
              "      <div>\n",
              "<style scoped>\n",
              "    .dataframe tbody tr th:only-of-type {\n",
              "        vertical-align: middle;\n",
              "    }\n",
              "\n",
              "    .dataframe tbody tr th {\n",
              "        vertical-align: top;\n",
              "    }\n",
              "\n",
              "    .dataframe thead th {\n",
              "        text-align: right;\n",
              "    }\n",
              "</style>\n",
              "<table border=\"1\" class=\"dataframe\">\n",
              "  <thead>\n",
              "    <tr style=\"text-align: right;\">\n",
              "      <th></th>\n",
              "      <th>channelname</th>\n",
              "      <th>subcnt</th>\n",
              "    </tr>\n",
              "  </thead>\n",
              "  <tbody>\n",
              "    <tr>\n",
              "      <th>0</th>\n",
              "      <td>논리왕 전기</td>\n",
              "      <td>922000</td>\n",
              "    </tr>\n",
              "    <tr>\n",
              "      <th>1</th>\n",
              "      <td>츄정ChuJeong</td>\n",
              "      <td>322000</td>\n",
              "    </tr>\n",
              "    <tr>\n",
              "      <th>2</th>\n",
              "      <td>야전삽짱재</td>\n",
              "      <td>257000</td>\n",
              "    </tr>\n",
              "    <tr>\n",
              "      <th>3</th>\n",
              "      <td>김농밀의 농밀한 삶</td>\n",
              "      <td>7520</td>\n",
              "    </tr>\n",
              "    <tr>\n",
              "      <th>4</th>\n",
              "      <td>와글와글 WagleWagle</td>\n",
              "      <td>55000</td>\n",
              "    </tr>\n",
              "    <tr>\n",
              "      <th>5</th>\n",
              "      <td>릴펄 Lilpearl</td>\n",
              "      <td>10100</td>\n",
              "    </tr>\n",
              "    <tr>\n",
              "      <th>6</th>\n",
              "      <td>형사!탐정되다</td>\n",
              "      <td>14900</td>\n",
              "    </tr>\n",
              "    <tr>\n",
              "      <th>7</th>\n",
              "      <td>조나단</td>\n",
              "      <td>215000</td>\n",
              "    </tr>\n",
              "    <tr>\n",
              "      <th>8</th>\n",
              "      <td>꽈뚜룹</td>\n",
              "      <td>1330000</td>\n",
              "    </tr>\n",
              "    <tr>\n",
              "      <th>9</th>\n",
              "      <td>Balming Tiger</td>\n",
              "      <td>54300</td>\n",
              "    </tr>\n",
              "    <tr>\n",
              "      <th>10</th>\n",
              "      <td>곽토리 kwak tori</td>\n",
              "      <td>471000</td>\n",
              "    </tr>\n",
              "  </tbody>\n",
              "</table>\n",
              "</div>\n",
              "      <button class=\"colab-df-convert\" onclick=\"convertToInteractive('df-b6d1b164-ba9a-43b4-8494-c96b4418f4fb')\"\n",
              "              title=\"Convert this dataframe to an interactive table.\"\n",
              "              style=\"display:none;\">\n",
              "        \n",
              "  <svg xmlns=\"http://www.w3.org/2000/svg\" height=\"24px\"viewBox=\"0 0 24 24\"\n",
              "       width=\"24px\">\n",
              "    <path d=\"M0 0h24v24H0V0z\" fill=\"none\"/>\n",
              "    <path d=\"M18.56 5.44l.94 2.06.94-2.06 2.06-.94-2.06-.94-.94-2.06-.94 2.06-2.06.94zm-11 1L8.5 8.5l.94-2.06 2.06-.94-2.06-.94L8.5 2.5l-.94 2.06-2.06.94zm10 10l.94 2.06.94-2.06 2.06-.94-2.06-.94-.94-2.06-.94 2.06-2.06.94z\"/><path d=\"M17.41 7.96l-1.37-1.37c-.4-.4-.92-.59-1.43-.59-.52 0-1.04.2-1.43.59L10.3 9.45l-7.72 7.72c-.78.78-.78 2.05 0 2.83L4 21.41c.39.39.9.59 1.41.59.51 0 1.02-.2 1.41-.59l7.78-7.78 2.81-2.81c.8-.78.8-2.07 0-2.86zM5.41 20L4 18.59l7.72-7.72 1.47 1.35L5.41 20z\"/>\n",
              "  </svg>\n",
              "      </button>\n",
              "      \n",
              "  <style>\n",
              "    .colab-df-container {\n",
              "      display:flex;\n",
              "      flex-wrap:wrap;\n",
              "      gap: 12px;\n",
              "    }\n",
              "\n",
              "    .colab-df-convert {\n",
              "      background-color: #E8F0FE;\n",
              "      border: none;\n",
              "      border-radius: 50%;\n",
              "      cursor: pointer;\n",
              "      display: none;\n",
              "      fill: #1967D2;\n",
              "      height: 32px;\n",
              "      padding: 0 0 0 0;\n",
              "      width: 32px;\n",
              "    }\n",
              "\n",
              "    .colab-df-convert:hover {\n",
              "      background-color: #E2EBFA;\n",
              "      box-shadow: 0px 1px 2px rgba(60, 64, 67, 0.3), 0px 1px 3px 1px rgba(60, 64, 67, 0.15);\n",
              "      fill: #174EA6;\n",
              "    }\n",
              "\n",
              "    [theme=dark] .colab-df-convert {\n",
              "      background-color: #3B4455;\n",
              "      fill: #D2E3FC;\n",
              "    }\n",
              "\n",
              "    [theme=dark] .colab-df-convert:hover {\n",
              "      background-color: #434B5C;\n",
              "      box-shadow: 0px 1px 3px 1px rgba(0, 0, 0, 0.15);\n",
              "      filter: drop-shadow(0px 1px 2px rgba(0, 0, 0, 0.3));\n",
              "      fill: #FFFFFF;\n",
              "    }\n",
              "  </style>\n",
              "\n",
              "      <script>\n",
              "        const buttonEl =\n",
              "          document.querySelector('#df-b6d1b164-ba9a-43b4-8494-c96b4418f4fb button.colab-df-convert');\n",
              "        buttonEl.style.display =\n",
              "          google.colab.kernel.accessAllowed ? 'block' : 'none';\n",
              "\n",
              "        async function convertToInteractive(key) {\n",
              "          const element = document.querySelector('#df-b6d1b164-ba9a-43b4-8494-c96b4418f4fb');\n",
              "          const dataTable =\n",
              "            await google.colab.kernel.invokeFunction('convertToInteractive',\n",
              "                                                     [key], {});\n",
              "          if (!dataTable) return;\n",
              "\n",
              "          const docLinkHtml = 'Like what you see? Visit the ' +\n",
              "            '<a target=\"_blank\" href=https://colab.research.google.com/notebooks/data_table.ipynb>data table notebook</a>'\n",
              "            + ' to learn more about interactive tables.';\n",
              "          element.innerHTML = '';\n",
              "          dataTable['output_type'] = 'display_data';\n",
              "          await google.colab.output.renderOutput(dataTable, element);\n",
              "          const docLink = document.createElement('div');\n",
              "          docLink.innerHTML = docLinkHtml;\n",
              "          element.appendChild(docLink);\n",
              "        }\n",
              "      </script>\n",
              "    </div>\n",
              "  </div>\n",
              "  "
            ]
          },
          "metadata": {},
          "execution_count": 23
        }
      ]
    },
    {
      "cell_type": "code",
      "source": [],
      "metadata": {
        "id": "3p3_VH6J79fZ"
      },
      "execution_count": null,
      "outputs": []
    }
  ]
}