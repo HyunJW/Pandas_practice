{
 "cells": [
  {
   "cell_type": "code",
   "execution_count": 2,
   "metadata": {},
   "outputs": [],
   "source": [
    "from math import sqrt\n",
    "from numpy import mean\n",
    "from scipy.stats import sem\n",
    "from scipy.stats import t\n",
    "\n",
    "def independent_ttest(data1, data2):\n",
    "    #평균값\n",
    "    mean1, mean2 = mean(data1), mean(data2)\n",
    "\n",
    "    #표본평균의 표준편차(표준오차)\n",
    "    se1, se2 = sem(data1), sem(data2)\n",
    "\n",
    "    #표본간의 차이에 대한 표준오차\n",
    "    sed = sqrt(se1**2 + se2**2)\n",
    "\n",
    "    #t통계량\n",
    "    t_stat = (mean1 - mean2) / sed\n",
    "\n",
    "    #자유도\n",
    "    df = len(data1) + len(data2) - 2\n",
    "    \n",
    "    #p-value\n",
    "    p = (1 - t.cdf(abs(t_stat), df)) * 2 #cdf : 누적분포함수 \n",
    "    \n",
    "    return t_stat, p"
   ]
  },
  {
   "cell_type": "code",
   "execution_count": 3,
   "metadata": {},
   "outputs": [
    {
     "name": "stdout",
     "output_type": "stream",
     "text": [
      "t=4.752, p-value=0.000096\n",
      "p-value < 0.05, 귀무가설 기각, 대립가설 채택\n"
     ]
    }
   ],
   "source": [
    "#독립변수(입력값) : 전기생산량\n",
    "X = [3.52, 2.58, 3.31, 4.07, 4.62, 3.98, 4.29, 4.83, 3.71, 4.61, 3.90, 3.20]\n",
    "#종속변수(출력값) : 전기사용량\n",
    "y = [2.48, 2.27, 2.47, 2.77, 2.98, 3.05, 3.18, 3.46, 3.03, 3.25, 2.67, 2.53]\n",
    "\n",
    "#95% 신뢰수준\n",
    "alpha = 0.05\n",
    "t_stat, p = independent_ttest(X, y)\n",
    "print('t=%.3f, p-value=%f' %(t_stat, p))\n",
    "\n",
    "if p > alpha:\n",
    "    print('p-value > 0.05, 귀무가설 채택, 대립가설 기각')\n",
    "else:\n",
    "    print('p-value < 0.05, 귀무가설 기각, 대립가설 채택')"
   ]
  },
  {
   "cell_type": "code",
   "execution_count": null,
   "metadata": {},
   "outputs": [],
   "source": []
  }
 ],
 "metadata": {
  "kernelspec": {
   "display_name": "base",
   "language": "python",
   "name": "python3"
  },
  "language_info": {
   "codemirror_mode": {
    "name": "ipython",
    "version": 3
   },
   "file_extension": ".py",
   "mimetype": "text/x-python",
   "name": "python",
   "nbconvert_exporter": "python",
   "pygments_lexer": "ipython3",
   "version": "3.9.13"
  },
  "orig_nbformat": 4
 },
 "nbformat": 4,
 "nbformat_minor": 2
}
