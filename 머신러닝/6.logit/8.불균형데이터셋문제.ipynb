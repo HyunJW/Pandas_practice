{
 "cells": [
  {
   "attachments": {},
   "cell_type": "markdown",
   "metadata": {},
   "source": [
    "### 언더 샘플링"
   ]
  },
  {
   "cell_type": "code",
   "execution_count": 1,
   "metadata": {},
   "outputs": [
    {
     "data": {
      "text/html": [
       "<div>\n",
       "<style scoped>\n",
       "    .dataframe tbody tr th:only-of-type {\n",
       "        vertical-align: middle;\n",
       "    }\n",
       "\n",
       "    .dataframe tbody tr th {\n",
       "        vertical-align: top;\n",
       "    }\n",
       "\n",
       "    .dataframe thead th {\n",
       "        text-align: right;\n",
       "    }\n",
       "</style>\n",
       "<table border=\"1\" class=\"dataframe\">\n",
       "  <thead>\n",
       "    <tr style=\"text-align: right;\">\n",
       "      <th></th>\n",
       "      <th>a</th>\n",
       "      <th>b</th>\n",
       "      <th>y</th>\n",
       "    </tr>\n",
       "  </thead>\n",
       "  <tbody>\n",
       "    <tr>\n",
       "      <th>0</th>\n",
       "      <td>0.222014</td>\n",
       "      <td>0.540207</td>\n",
       "      <td>0</td>\n",
       "    </tr>\n",
       "    <tr>\n",
       "      <th>1</th>\n",
       "      <td>1.347439</td>\n",
       "      <td>1.412824</td>\n",
       "      <td>0</td>\n",
       "    </tr>\n",
       "    <tr>\n",
       "      <th>2</th>\n",
       "      <td>0.537238</td>\n",
       "      <td>0.372730</td>\n",
       "      <td>0</td>\n",
       "    </tr>\n",
       "    <tr>\n",
       "      <th>3</th>\n",
       "      <td>2.134462</td>\n",
       "      <td>1.404819</td>\n",
       "      <td>0</td>\n",
       "    </tr>\n",
       "    <tr>\n",
       "      <th>4</th>\n",
       "      <td>2.315827</td>\n",
       "      <td>1.356858</td>\n",
       "      <td>0</td>\n",
       "    </tr>\n",
       "    <tr>\n",
       "      <th>...</th>\n",
       "      <td>...</td>\n",
       "      <td>...</td>\n",
       "      <td>...</td>\n",
       "    </tr>\n",
       "    <tr>\n",
       "      <th>9995</th>\n",
       "      <td>2.440385</td>\n",
       "      <td>1.695643</td>\n",
       "      <td>0</td>\n",
       "    </tr>\n",
       "    <tr>\n",
       "      <th>9996</th>\n",
       "      <td>-0.790502</td>\n",
       "      <td>0.194243</td>\n",
       "      <td>0</td>\n",
       "    </tr>\n",
       "    <tr>\n",
       "      <th>9997</th>\n",
       "      <td>1.878130</td>\n",
       "      <td>0.829500</td>\n",
       "      <td>0</td>\n",
       "    </tr>\n",
       "    <tr>\n",
       "      <th>9998</th>\n",
       "      <td>2.585933</td>\n",
       "      <td>1.927995</td>\n",
       "      <td>0</td>\n",
       "    </tr>\n",
       "    <tr>\n",
       "      <th>9999</th>\n",
       "      <td>1.123356</td>\n",
       "      <td>1.045755</td>\n",
       "      <td>0</td>\n",
       "    </tr>\n",
       "  </tbody>\n",
       "</table>\n",
       "<p>10000 rows × 3 columns</p>\n",
       "</div>"
      ],
      "text/plain": [
       "             a         b  y\n",
       "0     0.222014  0.540207  0\n",
       "1     1.347439  1.412824  0\n",
       "2     0.537238  0.372730  0\n",
       "3     2.134462  1.404819  0\n",
       "4     2.315827  1.356858  0\n",
       "...        ...       ... ..\n",
       "9995  2.440385  1.695643  0\n",
       "9996 -0.790502  0.194243  0\n",
       "9997  1.878130  0.829500  0\n",
       "9998  2.585933  1.927995  0\n",
       "9999  1.123356  1.045755  0\n",
       "\n",
       "[10000 rows x 3 columns]"
      ]
     },
     "execution_count": 1,
     "metadata": {},
     "output_type": "execute_result"
    }
   ],
   "source": [
    "#불균형 데이터(weights=[0.99] - 1:99, 0:1의 비율)\n",
    "import pandas as pd\n",
    "from sklearn.datasets import make_classification\n",
    "X, y = make_classification(n_samples=10000, n_features=2, n_redundant=0, \n",
    "                           n_clusters_per_class=1, weights=[0.99], flip_y=0,\n",
    "                           random_state=1)\n",
    "dfX = pd.DataFrame(X, columns=['a', 'b'])\n",
    "dfy = pd.DataFrame(y, columns=['y'])\n",
    "df = pd.concat([dfX, dfy], axis=1)\n",
    "df"
   ]
  },
  {
   "cell_type": "code",
   "execution_count": 2,
   "metadata": {},
   "outputs": [],
   "source": [
    "X1 = df[['a', 'b']]\n",
    "y1 = df['y']"
   ]
  },
  {
   "cell_type": "code",
   "execution_count": 3,
   "metadata": {},
   "outputs": [
    {
     "data": {
      "text/plain": [
       "0    9900\n",
       "1     100\n",
       "Name: y, dtype: int64"
      ]
     },
     "execution_count": 3,
     "metadata": {},
     "output_type": "execute_result"
    }
   ],
   "source": [
    "df['y'].value_counts() # 불균형 데이터셋"
   ]
  },
  {
   "cell_type": "code",
   "execution_count": 4,
   "metadata": {},
   "outputs": [],
   "source": [
    "from sklearn.linear_model import LogisticRegression\n",
    "from sklearn.model_selection import train_test_split\n",
    "X_train, X_test, y_train, y_test = train_test_split(X1, y1, test_size=0.2, stratify=y1, random_state=10)"
   ]
  },
  {
   "cell_type": "code",
   "execution_count": 5,
   "metadata": {},
   "outputs": [
    {
     "name": "stdout",
     "output_type": "stream",
     "text": [
      "학습용: 0.994125\n",
      "검증용: 0.995\n"
     ]
    }
   ],
   "source": [
    "#불균형 데이터셋으로 만든 모형\n",
    "model1 = LogisticRegression(random_state=0)\n",
    "model1.fit(X_train, y_train)\n",
    "print('학습용:', model1.score(X_train, y_train))\n",
    "print('검증용:', model1.score(X_test, y_test))"
   ]
  },
  {
   "cell_type": "code",
   "execution_count": 6,
   "metadata": {},
   "outputs": [
    {
     "data": {
      "text/plain": [
       "array([[1980,    0],\n",
       "       [  10,   10]], dtype=int64)"
      ]
     },
     "execution_count": 6,
     "metadata": {},
     "output_type": "execute_result"
    }
   ],
   "source": [
    "pred1 = model1.predict(X_test)\n",
    "from sklearn.metrics import confusion_matrix\n",
    "cm = confusion_matrix(y_test, pred1)\n",
    "cm\n",
    "# score는 높으나 recall의 경우 10/(10+10) = 0.5로 낮아지는 문제 발생"
   ]
  },
  {
   "cell_type": "code",
   "execution_count": 7,
   "metadata": {},
   "outputs": [
    {
     "name": "stdout",
     "output_type": "stream",
     "text": [
      "              precision    recall  f1-score   support\n",
      "\n",
      "           0       0.99      1.00      1.00      1980\n",
      "           1       1.00      0.50      0.67        20\n",
      "\n",
      "    accuracy                           0.99      2000\n",
      "   macro avg       1.00      0.75      0.83      2000\n",
      "weighted avg       1.00      0.99      0.99      2000\n",
      "\n"
     ]
    }
   ],
   "source": [
    "#소수 클래스의 정확도와 precision, precision,recall,f1-score 확인\n",
    "from sklearn.metrics import classification_report\n",
    "print(classification_report(y_test, pred1))\n",
    "# 모형의 전반적인 정확도(accuracy)는 높지만 소수 클래스의 재현율(recall)이 0.5로 낮은 문제점"
   ]
  },
  {
   "cell_type": "code",
   "execution_count": 8,
   "metadata": {},
   "outputs": [
    {
     "data": {
      "text/plain": [
       "0    5000\n",
       "1    5000\n",
       "Name: y, dtype: int64"
      ]
     },
     "execution_count": 8,
     "metadata": {},
     "output_type": "execute_result"
    }
   ],
   "source": [
    "#균형데이터\n",
    "X, y = make_classification(n_samples=10000, n_features=2, n_redundant=0,\n",
    "                           n_clusters_per_class=1, flip_y=0, random_state=1)\n",
    "dfX = pd.DataFrame(X, columns=['a', 'b'])\n",
    "dfy = pd.DataFrame(y, columns=['y'])\n",
    "df2 = pd.concat([dfX, dfy], axis=1)\n",
    "df2['y'].value_counts()"
   ]
  },
  {
   "cell_type": "code",
   "execution_count": 9,
   "metadata": {},
   "outputs": [],
   "source": [
    "X2 = df2[['a', 'b']]\n",
    "y2 = df2['y']"
   ]
  },
  {
   "cell_type": "code",
   "execution_count": 10,
   "metadata": {},
   "outputs": [],
   "source": [
    "X_train, X_test, y_train, y_test = train_test_split(X2, y2, test_size=0.2, stratify=y2, random_state=10)"
   ]
  },
  {
   "cell_type": "code",
   "execution_count": 11,
   "metadata": {},
   "outputs": [
    {
     "name": "stdout",
     "output_type": "stream",
     "text": [
      "학습용: 0.896125\n",
      "검증용: 0.891\n"
     ]
    }
   ],
   "source": [
    "model2 = LogisticRegression(random_state=0)\n",
    "model2.fit(X_train, y_train)\n",
    "print('학습용:', model2.score(X_train, y_train))\n",
    "print('검증용:', model2.score(X_test, y_test))"
   ]
  },
  {
   "cell_type": "code",
   "execution_count": 12,
   "metadata": {},
   "outputs": [
    {
     "name": "stdout",
     "output_type": "stream",
     "text": [
      "              precision    recall  f1-score   support\n",
      "\n",
      "           0       0.88      0.91      0.89      1000\n",
      "           1       0.90      0.87      0.89      1000\n",
      "\n",
      "    accuracy                           0.89      2000\n",
      "   macro avg       0.89      0.89      0.89      2000\n",
      "weighted avg       0.89      0.89      0.89      2000\n",
      "\n"
     ]
    }
   ],
   "source": [
    "#정확도와 precision, precision,recall,f1-score 확인\n",
    "pred2 = model2.predict(X_test)\n",
    "print(classification_report(y_test, pred2))\n",
    "# 정확도와 재현율이 비슷한 결과"
   ]
  },
  {
   "cell_type": "code",
   "execution_count": 13,
   "metadata": {},
   "outputs": [],
   "source": [
    "#불균형 데이터(weights=[0.99] - 1:99, 0:1의 비율)\n",
    "X, y = make_classification(n_samples=10000, n_features=2, n_redundant=0, \n",
    "                           n_clusters_per_class=1, weights=[0.99], flip_y=0,\n",
    "                           random_state=1)\n",
    "dfX = pd.DataFrame(X, columns=['a', 'b'])\n",
    "dfy = pd.DataFrame(y, columns=['y'])\n",
    "df = pd.concat([dfX, dfy], axis=1)"
   ]
  },
  {
   "cell_type": "code",
   "execution_count": 14,
   "metadata": {},
   "outputs": [
    {
     "data": {
      "text/plain": [
       "0    100\n",
       "1    100\n",
       "Name: y, dtype: int64"
      ]
     },
     "execution_count": 14,
     "metadata": {},
     "output_type": "execute_result"
    }
   ],
   "source": [
    "#무작위로 다수 클래스의 데이터를 없애는 단순 샘플링\n",
    "from imblearn.under_sampling import RandomUnderSampler\n",
    "X_sample, y_sample = RandomUnderSampler(random_state=0).fit_resample(X, y)\n",
    "X_samp = pd.DataFrame(data=X_sample, columns=['a', 'b'])\n",
    "y_samp = pd.DataFrame(data=y_sample, columns=['y'])\n",
    "y_samp.y.value_counts()"
   ]
  },
  {
   "cell_type": "code",
   "execution_count": 15,
   "metadata": {},
   "outputs": [],
   "source": [
    "X_train, X_test, y_train, y_test = train_test_split(X_samp, y_samp, test_size=0.2, stratify=y_samp, random_state=10)"
   ]
  },
  {
   "cell_type": "code",
   "execution_count": 16,
   "metadata": {},
   "outputs": [
    {
     "name": "stdout",
     "output_type": "stream",
     "text": [
      "학습용: 0.8625\n",
      "검증용: 0.925\n"
     ]
    },
    {
     "name": "stderr",
     "output_type": "stream",
     "text": [
      "c:\\anaconda\\lib\\site-packages\\sklearn\\utils\\validation.py:993: DataConversionWarning: A column-vector y was passed when a 1d array was expected. Please change the shape of y to (n_samples, ), for example using ravel().\n",
      "  y = column_or_1d(y, warn=True)\n"
     ]
    }
   ],
   "source": [
    "model3 = LogisticRegression(random_state=42)\n",
    "model3.fit(X_train, y_train)\n",
    "print('학습용:', model3.score(X_train, y_train))\n",
    "print('검증용:', model3.score(X_test, y_test))"
   ]
  },
  {
   "cell_type": "code",
   "execution_count": 17,
   "metadata": {},
   "outputs": [
    {
     "name": "stdout",
     "output_type": "stream",
     "text": [
      "              precision    recall  f1-score   support\n",
      "\n",
      "           0       0.95      0.90      0.92        20\n",
      "           1       0.90      0.95      0.93        20\n",
      "\n",
      "    accuracy                           0.93        40\n",
      "   macro avg       0.93      0.93      0.92        40\n",
      "weighted avg       0.93      0.93      0.92        40\n",
      "\n"
     ]
    }
   ],
   "source": [
    "pred3 = model3.predict(X_test)\n",
    "print(classification_report(y_test, pred3))"
   ]
  },
  {
   "cell_type": "code",
   "execution_count": 18,
   "metadata": {},
   "outputs": [
    {
     "data": {
      "text/plain": [
       "0    9874\n",
       "1     100\n",
       "Name: y, dtype: int64"
      ]
     },
     "execution_count": 18,
     "metadata": {},
     "output_type": "execute_result"
    }
   ],
   "source": [
    "#토멕링크(Tomek's link): 다수 클래스에 속한 샘플을 제거해서 데이터 균형을 맞춤\n",
    "# 비슷한 차이일때는 효과가 좋으나 한쪽으로 심하게 쏠린경우 효과가 적음\n",
    "from imblearn.under_sampling import TomekLinks\n",
    "X_sample, y_sample = TomekLinks(sampling_strategy='majority').fit_resample(X, y)\n",
    "X_samp = pd.DataFrame(data=X_sample, columns=['a', 'b'])\n",
    "y_samp = pd.DataFrame(data=y_sample, columns=['y'])\n",
    "y_samp.y.value_counts()\n",
    "# 'majority': 다수 클래스의 샘플을 제거\n",
    "# 'not minority': 소수 클래스를 제외하고 샘플링\n",
    "# 'not majority': 다수 클래스를 제외하고 샘플링\n",
    "# 'all': 모든 클래스를 샘플링\n",
    "# 'auto': not minority와 같음(기본 옵션)"
   ]
  },
  {
   "cell_type": "code",
   "execution_count": 19,
   "metadata": {},
   "outputs": [],
   "source": [
    "X_train, X_test, y_train, y_test = train_test_split(X_samp, y_samp, test_size=0.2, stratify=y_samp, random_state=10)"
   ]
  },
  {
   "cell_type": "code",
   "execution_count": 20,
   "metadata": {},
   "outputs": [
    {
     "name": "stdout",
     "output_type": "stream",
     "text": [
      "학습용: 0.9942348665246271\n",
      "검증용: 0.9959899749373433\n"
     ]
    },
    {
     "name": "stderr",
     "output_type": "stream",
     "text": [
      "c:\\anaconda\\lib\\site-packages\\sklearn\\utils\\validation.py:993: DataConversionWarning: A column-vector y was passed when a 1d array was expected. Please change the shape of y to (n_samples, ), for example using ravel().\n",
      "  y = column_or_1d(y, warn=True)\n"
     ]
    }
   ],
   "source": [
    "model4 = LogisticRegression(random_state=42)\n",
    "model4.fit(X_train, y_train)\n",
    "print('학습용:', model4.score(X_train, y_train))\n",
    "print('검증용:', model4.score(X_test, y_test))"
   ]
  },
  {
   "cell_type": "code",
   "execution_count": 21,
   "metadata": {},
   "outputs": [
    {
     "name": "stdout",
     "output_type": "stream",
     "text": [
      "              precision    recall  f1-score   support\n",
      "\n",
      "           0       1.00      1.00      1.00      1975\n",
      "           1       1.00      0.60      0.75        20\n",
      "\n",
      "    accuracy                           1.00      1995\n",
      "   macro avg       1.00      0.80      0.87      1995\n",
      "weighted avg       1.00      1.00      1.00      1995\n",
      "\n"
     ]
    }
   ],
   "source": [
    "pred4 = model4.predict(X_test)\n",
    "print(classification_report(y_test, pred4))"
   ]
  },
  {
   "cell_type": "markdown",
   "metadata": {},
   "source": [
    "### 오버샘플링"
   ]
  },
  {
   "cell_type": "code",
   "execution_count": 22,
   "metadata": {},
   "outputs": [
    {
     "data": {
      "text/plain": [
       "0    9900\n",
       "1     100\n",
       "Name: y, dtype: int64"
      ]
     },
     "execution_count": 22,
     "metadata": {},
     "output_type": "execute_result"
    }
   ],
   "source": [
    "import pandas as pd\n",
    "from sklearn.datasets import make_classification\n",
    "X, y = make_classification(n_samples=10000, n_features=2, n_redundant=0, \n",
    "                           n_clusters_per_class=1, weights=[0.99], flip_y=0,\n",
    "                           random_state=1)\n",
    "dfX = pd.DataFrame(X, columns=['a', 'b'])\n",
    "dfy = pd.DataFrame(y, columns=['y'])\n",
    "df = pd.concat([dfX, dfy], axis=1)\n",
    "df.y.value_counts()"
   ]
  },
  {
   "cell_type": "code",
   "execution_count": 23,
   "metadata": {},
   "outputs": [
    {
     "data": {
      "text/plain": [
       "0    9900\n",
       "1    9900\n",
       "Name: y, dtype: int64"
      ]
     },
     "execution_count": 23,
     "metadata": {},
     "output_type": "execute_result"
    }
   ],
   "source": [
    "from imblearn.over_sampling import RandomOverSampler\n",
    "X_sample, y_sample = RandomOverSampler(random_state=0).fit_resample(X, y)\n",
    "X_samp = pd.DataFrame(data=X_sample, columns=['a', 'b'])\n",
    "y_samp = pd.DataFrame(data=y_sample, columns=['y'])\n",
    "y_samp.y.value_counts()"
   ]
  },
  {
   "cell_type": "code",
   "execution_count": 24,
   "metadata": {},
   "outputs": [],
   "source": [
    "from sklearn.linear_model import LogisticRegression\n",
    "from sklearn.model_selection import train_test_split\n",
    "X_train, X_test, y_train, y_test = train_test_split(X_samp, y_samp, test_size=0.2, stratify=y_samp, random_state=10)"
   ]
  },
  {
   "cell_type": "code",
   "execution_count": 25,
   "metadata": {},
   "outputs": [
    {
     "name": "stdout",
     "output_type": "stream",
     "text": [
      "학습용: 0.8955176767676768\n",
      "검증용: 0.8987373737373737\n"
     ]
    },
    {
     "name": "stderr",
     "output_type": "stream",
     "text": [
      "c:\\anaconda\\lib\\site-packages\\sklearn\\utils\\validation.py:993: DataConversionWarning: A column-vector y was passed when a 1d array was expected. Please change the shape of y to (n_samples, ), for example using ravel().\n",
      "  y = column_or_1d(y, warn=True)\n"
     ]
    }
   ],
   "source": [
    "model1 = LogisticRegression(random_state=42)\n",
    "model1.fit(X_train, y_train)\n",
    "print('학습용:', model1.score(X_train, y_train))\n",
    "print('검증용:', model1.score(X_test, y_test))"
   ]
  },
  {
   "cell_type": "code",
   "execution_count": 26,
   "metadata": {},
   "outputs": [
    {
     "name": "stdout",
     "output_type": "stream",
     "text": [
      "              precision    recall  f1-score   support\n",
      "\n",
      "           0       0.89      0.91      0.90      1980\n",
      "           1       0.91      0.88      0.90      1980\n",
      "\n",
      "    accuracy                           0.90      3960\n",
      "   macro avg       0.90      0.90      0.90      3960\n",
      "weighted avg       0.90      0.90      0.90      3960\n",
      "\n"
     ]
    }
   ],
   "source": [
    "from sklearn.metrics import classification_report\n",
    "pred1 = model1.predict(X_test)\n",
    "print(classification_report(y_test, pred1))"
   ]
  },
  {
   "cell_type": "code",
   "execution_count": 27,
   "metadata": {},
   "outputs": [
    {
     "data": {
      "text/plain": [
       "0    9900\n",
       "1    9900\n",
       "Name: y, dtype: int64"
      ]
     },
     "execution_count": 27,
     "metadata": {},
     "output_type": "execute_result"
    }
   ],
   "source": [
    "#SMOTE: 소수 클래스의 샘플을 주변의 이웃을 고려해 약간씩 이동시킨 포인트들을 추가하는 방식\n",
    "from imblearn.over_sampling import SMOTE\n",
    "X_sample, y_sample = SMOTE(random_state=0).fit_resample(X, y)\n",
    "X_samp = pd.DataFrame(data=X_sample, columns=['a', 'b'])\n",
    "y_samp = pd.DataFrame(data=y_sample, columns=['y'])\n",
    "y_samp.y.value_counts()"
   ]
  },
  {
   "cell_type": "code",
   "execution_count": 28,
   "metadata": {},
   "outputs": [],
   "source": [
    "X_train, X_test, y_train, y_test = train_test_split(X_samp, y_samp, test_size=0.2, stratify=y_samp, random_state=10)"
   ]
  },
  {
   "cell_type": "code",
   "execution_count": 29,
   "metadata": {},
   "outputs": [
    {
     "name": "stdout",
     "output_type": "stream",
     "text": [
      "학습용: 0.9096590909090909\n",
      "검증용: 0.9085858585858586\n"
     ]
    },
    {
     "name": "stderr",
     "output_type": "stream",
     "text": [
      "c:\\anaconda\\lib\\site-packages\\sklearn\\utils\\validation.py:993: DataConversionWarning: A column-vector y was passed when a 1d array was expected. Please change the shape of y to (n_samples, ), for example using ravel().\n",
      "  y = column_or_1d(y, warn=True)\n"
     ]
    }
   ],
   "source": [
    "model2 = LogisticRegression(random_state=42)\n",
    "model2.fit(X_train, y_train)\n",
    "print('학습용:', model2.score(X_train, y_train))\n",
    "print('검증용:', model2.score(X_test, y_test))"
   ]
  },
  {
   "cell_type": "code",
   "execution_count": 30,
   "metadata": {},
   "outputs": [
    {
     "name": "stdout",
     "output_type": "stream",
     "text": [
      "              precision    recall  f1-score   support\n",
      "\n",
      "           0       0.90      0.92      0.91      1980\n",
      "           1       0.92      0.89      0.91      1980\n",
      "\n",
      "    accuracy                           0.91      3960\n",
      "   macro avg       0.91      0.91      0.91      3960\n",
      "weighted avg       0.91      0.91      0.91      3960\n",
      "\n"
     ]
    }
   ],
   "source": [
    "pred2 = model2.predict(X_test)\n",
    "print(classification_report(y_test, pred2))"
   ]
  }
 ],
 "metadata": {
  "kernelspec": {
   "display_name": "base",
   "language": "python",
   "name": "python3"
  },
  "language_info": {
   "codemirror_mode": {
    "name": "ipython",
    "version": 3
   },
   "file_extension": ".py",
   "mimetype": "text/x-python",
   "name": "python",
   "nbconvert_exporter": "python",
   "pygments_lexer": "ipython3",
   "version": "3.9.13"
  },
  "orig_nbformat": 4,
  "vscode": {
   "interpreter": {
    "hash": "d7288e82646d3164eca24130947288f8779d11454649f2c02a5dfc42af7f324c"
   }
  }
 },
 "nbformat": 4,
 "nbformat_minor": 2
}
