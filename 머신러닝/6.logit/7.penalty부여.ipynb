{
 "cells": [
  {
   "attachments": {},
   "cell_type": "markdown",
   "metadata": {},
   "source": [
    "## 로지스틱 회귀모형의 penalty 부여 방식\n",
    "- 회귀계수들이 학습용 데이터에 과적합이 되지 않도록 정규화 요소를 더해주는 기법\n",
    "- 과적합이 발생할 수 있는 수치에 Penalty 부여\n",
    "- 종류: l1, l2, elasticnet, none\n",
    "    - l1(LASSO Penalty): 오차의 절대값에 페널티 부여, 해석이 용이\n",
    "        - 영향력이 적은 변수 -> 0\n",
    "        - 영향력이 큰 변수 -> 선택\n",
    "    - l2(Ridge Penalty): 오차를 제곱한 값에 페널티를 부여(일반적으로 사용하는 방식),\n",
    "        변수들 간의 공선성 구조가 있을 때 사용, 변수들간 분산을 감소시키는 기능\n",
    "    - elasticnet : LASSO와 Ridge의 혼합형, 변수도 줄이고 분산도 줄이고 싶은 경우 사용\n",
    "    - none: Penalty를 사용하지 않음"
   ]
  },
  {
   "cell_type": "code",
   "execution_count": 1,
   "metadata": {},
   "outputs": [
    {
     "data": {
      "text/html": [
       "<div>\n",
       "<style scoped>\n",
       "    .dataframe tbody tr th:only-of-type {\n",
       "        vertical-align: middle;\n",
       "    }\n",
       "\n",
       "    .dataframe tbody tr th {\n",
       "        vertical-align: top;\n",
       "    }\n",
       "\n",
       "    .dataframe thead th {\n",
       "        text-align: right;\n",
       "    }\n",
       "</style>\n",
       "<table border=\"1\" class=\"dataframe\">\n",
       "  <thead>\n",
       "    <tr style=\"text-align: right;\">\n",
       "      <th></th>\n",
       "      <th>SepalLength</th>\n",
       "      <th>SepalWidth</th>\n",
       "      <th>PetalLength</th>\n",
       "      <th>PetalWidth</th>\n",
       "      <th>Name</th>\n",
       "      <th>Species</th>\n",
       "    </tr>\n",
       "  </thead>\n",
       "  <tbody>\n",
       "    <tr>\n",
       "      <th>0</th>\n",
       "      <td>5.1</td>\n",
       "      <td>3.5</td>\n",
       "      <td>1.4</td>\n",
       "      <td>0.2</td>\n",
       "      <td>setosa</td>\n",
       "      <td>0</td>\n",
       "    </tr>\n",
       "    <tr>\n",
       "      <th>1</th>\n",
       "      <td>4.9</td>\n",
       "      <td>3.0</td>\n",
       "      <td>1.4</td>\n",
       "      <td>0.2</td>\n",
       "      <td>setosa</td>\n",
       "      <td>0</td>\n",
       "    </tr>\n",
       "    <tr>\n",
       "      <th>2</th>\n",
       "      <td>4.7</td>\n",
       "      <td>3.2</td>\n",
       "      <td>1.3</td>\n",
       "      <td>0.2</td>\n",
       "      <td>setosa</td>\n",
       "      <td>0</td>\n",
       "    </tr>\n",
       "    <tr>\n",
       "      <th>3</th>\n",
       "      <td>4.6</td>\n",
       "      <td>3.1</td>\n",
       "      <td>1.5</td>\n",
       "      <td>0.2</td>\n",
       "      <td>setosa</td>\n",
       "      <td>0</td>\n",
       "    </tr>\n",
       "    <tr>\n",
       "      <th>4</th>\n",
       "      <td>5.0</td>\n",
       "      <td>3.6</td>\n",
       "      <td>1.4</td>\n",
       "      <td>0.2</td>\n",
       "      <td>setosa</td>\n",
       "      <td>0</td>\n",
       "    </tr>\n",
       "  </tbody>\n",
       "</table>\n",
       "</div>"
      ],
      "text/plain": [
       "   SepalLength  SepalWidth  PetalLength  PetalWidth    Name  Species\n",
       "0          5.1         3.5          1.4         0.2  setosa        0\n",
       "1          4.9         3.0          1.4         0.2  setosa        0\n",
       "2          4.7         3.2          1.3         0.2  setosa        0\n",
       "3          4.6         3.1          1.5         0.2  setosa        0\n",
       "4          5.0         3.6          1.4         0.2  setosa        0"
      ]
     },
     "execution_count": 1,
     "metadata": {},
     "output_type": "execute_result"
    }
   ],
   "source": [
    "import pandas as pd\n",
    "df = pd.read_csv('c:/data/iris/iris.csv')\n",
    "df.head()"
   ]
  },
  {
   "cell_type": "code",
   "execution_count": 2,
   "metadata": {},
   "outputs": [
    {
     "data": {
      "text/plain": [
       "Index(['SepalLength', 'SepalWidth', 'PetalLength', 'PetalWidth', 'Name',\n",
       "       'Species'],\n",
       "      dtype='object')"
      ]
     },
     "execution_count": 2,
     "metadata": {},
     "output_type": "execute_result"
    }
   ],
   "source": [
    "df.columns"
   ]
  },
  {
   "cell_type": "code",
   "execution_count": 3,
   "metadata": {},
   "outputs": [],
   "source": [
    "cols = df.columns[0:4]\n",
    "X = df[cols]\n",
    "y = df['Species']"
   ]
  },
  {
   "cell_type": "code",
   "execution_count": 4,
   "metadata": {},
   "outputs": [
    {
     "data": {
      "text/plain": [
       "0    40\n",
       "1    40\n",
       "2    40\n",
       "Name: Species, dtype: int64"
      ]
     },
     "execution_count": 4,
     "metadata": {},
     "output_type": "execute_result"
    }
   ],
   "source": [
    "from sklearn.model_selection import train_test_split\n",
    "X_train, X_test, y_train, y_test = train_test_split(X, y, test_size=0.2, stratify=y, random_state=0)\n",
    "y_train.value_counts()"
   ]
  },
  {
   "cell_type": "code",
   "execution_count": 5,
   "metadata": {},
   "outputs": [],
   "source": [
    "from sklearn.linear_model import LogisticRegression\n",
    "models = [LogisticRegression(random_state=0, penalty='l1', solver='liblinear'),\n",
    "          LogisticRegression(random_state=0, penalty='l2', max_iter=1000),\n",
    "          LogisticRegression(random_state=0, penalty='elasticnet', solver='saga', \n",
    "                             l1_ratio=1, max_iter=5000),\n",
    "          LogisticRegression(random_state=0, penalty='none')]\n",
    "# solver : 최적화(최적의 가중치를 설정)에 사용할 알고리즘(newton-cg, lbfgs, liblinear, sag, saga)\n",
    "# lbfgs(Limited Memory Broyden–Fletcher–Goldfarb–Shanno): 기본값\n",
    "# liblinear : small dataset에 적합\n",
    "# sag(Stochastic Average Gradient descent), saga(Variant of Sga) : big dataset에 적합\n",
    "# newton-cg, saga, lbfgs : multi class 지원"
   ]
  },
  {
   "cell_type": "code",
   "execution_count": 7,
   "metadata": {},
   "outputs": [
    {
     "name": "stdout",
     "output_type": "stream",
     "text": [
      "LogisticRegression(penalty='l1', random_state=0, solver='liblinear')\n",
      "학습용: 0.9583333333333334\n",
      "검증용: 0.9666666666666667\n",
      "\n",
      "LogisticRegression(max_iter=1000, random_state=0)\n",
      "학습용: 0.9666666666666667\n",
      "검증용: 1.0\n",
      "\n",
      "LogisticRegression(l1_ratio=1, max_iter=5000, penalty='elasticnet',\n",
      "                   random_state=0, solver='saga')\n",
      "학습용: 0.95\n",
      "검증용: 1.0\n",
      "\n",
      "LogisticRegression(penalty='none', random_state=0)\n",
      "학습용: 0.9833333333333333\n",
      "검증용: 1.0\n",
      "\n"
     ]
    }
   ],
   "source": [
    "for logit in models:\n",
    "    print(logit)\n",
    "    logit.fit(X_train, y_train)\n",
    "    print('학습용:', logit.score(X_train, y_train))\n",
    "    print('검증용:', logit.score(X_test, y_test))\n",
    "    print()\n"
   ]
  },
  {
   "cell_type": "code",
   "execution_count": null,
   "metadata": {},
   "outputs": [],
   "source": []
  }
 ],
 "metadata": {
  "kernelspec": {
   "display_name": "base",
   "language": "python",
   "name": "python3"
  },
  "language_info": {
   "codemirror_mode": {
    "name": "ipython",
    "version": 3
   },
   "file_extension": ".py",
   "mimetype": "text/x-python",
   "name": "python",
   "nbconvert_exporter": "python",
   "pygments_lexer": "ipython3",
   "version": "3.9.13"
  },
  "orig_nbformat": 4
 },
 "nbformat": 4,
 "nbformat_minor": 2
}
