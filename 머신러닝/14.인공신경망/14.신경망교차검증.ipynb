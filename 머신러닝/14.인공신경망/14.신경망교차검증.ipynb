{
 "cells": [
  {
   "cell_type": "code",
   "execution_count": 1,
   "metadata": {},
   "outputs": [],
   "source": [
    "import numpy as np\n",
    "from keras import models\n",
    "from keras import layers\n",
    "from sklearn.model_selection import cross_val_score\n",
    "from sklearn.datasets import make_classification"
   ]
  },
  {
   "cell_type": "code",
   "execution_count": 3,
   "metadata": {},
   "outputs": [],
   "source": [
    "# 랜덤 시드 설정\n",
    "np.random.seed(0)\n",
    "\n",
    "# 특성 개수\n",
    "number_of_features = 100\n",
    "\n",
    "# 특성 행렬과 타깃 벡터\n",
    "features, target = make_classification(n_samples=10000, \n",
    "                                       n_features=number_of_features,\n",
    "                                       n_informative=3, n_redundant=0, n_classes=2, \n",
    "                                       weights=[.5, .5], random_state=0)"
   ]
  },
  {
   "cell_type": "code",
   "execution_count": 5,
   "metadata": {},
   "outputs": [],
   "source": [
    "#신경망 모델\n",
    "def create_network():\n",
    "    network = models.Sequential()\n",
    "    network.add(layers.Dense(units=16, activation='relu', name='hidden-1',\n",
    "                             input_shape=(number_of_features, )))\n",
    "    network.add(layers.Dense(units=16, activation='relu', name='hidden-2'))\n",
    "    network.add(layers.Dense(units=1, activation='sigmoid', name='output'))\n",
    "    network.compile(loss='binary_crossentropy', optimizer='rmsprop', \n",
    "                    metrics=['accuracy'])\n",
    "    return network"
   ]
  },
  {
   "cell_type": "code",
   "execution_count": 6,
   "metadata": {},
   "outputs": [],
   "source": [
    "#모델 생성\n",
    "from scikeras.wrappers import KerasClassifier\n",
    "neural_network = KerasClassifier(model=create_network, epochs=10, \n",
    "                                 batch_size=100, verbose=0)"
   ]
  },
  {
   "cell_type": "code",
   "execution_count": 7,
   "metadata": {},
   "outputs": [
    {
     "data": {
      "text/plain": [
       "array([0.90911818, 0.90759076, 0.89888989])"
      ]
     },
     "execution_count": 7,
     "metadata": {},
     "output_type": "execute_result"
    }
   ],
   "source": [
    "#교차검증을 사용하여 모델 평가\n",
    "cross_val_score(neural_network, features, target, cv=3)"
   ]
  },
  {
   "cell_type": "code",
   "execution_count": 8,
   "metadata": {},
   "outputs": [],
   "source": [
    "#하이퍼 파라미터 튜닝\n",
    "from sklearn.model_selection import GridSearchCV\n",
    "\n",
    "# 랜덤 시드 설정\n",
    "np.random.seed(0)\n",
    "\n",
    "# 특성 개수\n",
    "number_of_features = 10\n",
    "\n",
    "# 특성 행렬과 타깃 벡터\n",
    "features, target = make_classification(n_samples=100, \n",
    "                                       n_features=number_of_features,\n",
    "                                       n_informative=3, n_redundant=0, n_classes=2, \n",
    "                                       weights=[.5, .5], random_state=0)"
   ]
  },
  {
   "cell_type": "code",
   "execution_count": 9,
   "metadata": {},
   "outputs": [],
   "source": [
    "#설정된 신경망을 반환하는 함수\n",
    "def create_network(optimizer='rmsprop'):\n",
    "    network = models.Sequential()\n",
    "    network.add(layers.Dense(units=16, activation='relu', name='hidden-1',\n",
    "                             input_shape=(number_of_features, )))\n",
    "    network.add(layers.Dense(units=16, activation='relu', name='hidden-2'))\n",
    "    network.add(layers.Dense(units=1, activation='sigmoid', name='output'))\n",
    "    network.compile(loss='binary_crossentropy', optimizer=optimizer, \n",
    "                    metrics=['accuracy'])\n",
    "    return network"
   ]
  },
  {
   "cell_type": "code",
   "execution_count": 10,
   "metadata": {},
   "outputs": [
    {
     "name": "stdout",
     "output_type": "stream",
     "text": [
      "WARNING:tensorflow:5 out of the last 13 calls to <function Model.make_predict_function.<locals>.predict_function at 0x00000252863C9EE0> triggered tf.function retracing. Tracing is expensive and the excessive number of tracings could be due to (1) creating @tf.function repeatedly in a loop, (2) passing tensors with different shapes, (3) passing Python objects instead of tensors. For (1), please define your @tf.function outside of the loop. For (2), @tf.function has reduce_retracing=True option that can avoid unnecessary retracing. For (3), please refer to https://www.tensorflow.org/guide/function#controlling_retracing and https://www.tensorflow.org/api_docs/python/tf/function for  more details.\n",
      "WARNING:tensorflow:5 out of the last 11 calls to <function Model.make_predict_function.<locals>.predict_function at 0x00000252863C94C0> triggered tf.function retracing. Tracing is expensive and the excessive number of tracings could be due to (1) creating @tf.function repeatedly in a loop, (2) passing tensors with different shapes, (3) passing Python objects instead of tensors. For (1), please define your @tf.function outside of the loop. For (2), @tf.function has reduce_retracing=True option that can avoid unnecessary retracing. For (3), please refer to https://www.tensorflow.org/guide/function#controlling_retracing and https://www.tensorflow.org/api_docs/python/tf/function for  more details.\n"
     ]
    }
   ],
   "source": [
    "neural_network = KerasClassifier(model=create_network, verbose=0)\n",
    "\n",
    "# 하이퍼 파라미터 탐색영역 정의\n",
    "epochs = [5, 10]\n",
    "batches = [5, 10, 100]\n",
    "optimizers = ['rmsprop', 'adam']\n",
    "\n",
    "# 하이퍼파라미터 그리드\n",
    "hyperparameters = dict(optimizer=optimizers, epochs=epochs, batch_size=batches)\n",
    "\n",
    "# 그리드 서치\n",
    "grid = GridSearchCV(estimator=neural_network, param_grid=hyperparameters)\n",
    "\n",
    "# 그리드 서치 수행\n",
    "grid_result = grid.fit(features, target)"
   ]
  },
  {
   "cell_type": "code",
   "execution_count": 11,
   "metadata": {},
   "outputs": [
    {
     "data": {
      "text/plain": [
       "{'batch_size': 10, 'epochs': 10, 'optimizer': 'adam'}"
      ]
     },
     "execution_count": 11,
     "metadata": {},
     "output_type": "execute_result"
    }
   ],
   "source": [
    "#최적의 하이퍼파라미터 확인\n",
    "grid_result.best_params_"
   ]
  },
  {
   "cell_type": "code",
   "execution_count": 12,
   "metadata": {},
   "outputs": [
    {
     "data": {
      "text/plain": [
       "array([0.66, 0.6 , 0.61, 0.62, 0.59, 0.59, 0.6 , 0.68, 0.57, 0.46, 0.56,\n",
       "       0.53])"
      ]
     },
     "execution_count": 12,
     "metadata": {},
     "output_type": "execute_result"
    }
   ],
   "source": [
    "grid_result.cv_results_['mean_test_score']"
   ]
  },
  {
   "cell_type": "code",
   "execution_count": 13,
   "metadata": {},
   "outputs": [
    {
     "data": {
      "text/plain": [
       "KerasClassifier(\n",
       "\tmodel=<function create_network at 0x00000252855E5C10>\n",
       "\tbuild_fn=None\n",
       "\twarm_start=False\n",
       "\trandom_state=None\n",
       "\toptimizer=adam\n",
       "\tloss=None\n",
       "\tmetrics=None\n",
       "\tbatch_size=10\n",
       "\tvalidation_batch_size=None\n",
       "\tverbose=0\n",
       "\tcallbacks=None\n",
       "\tvalidation_split=0.0\n",
       "\tshuffle=True\n",
       "\trun_eagerly=False\n",
       "\tepochs=10\n",
       "\tclass_weight=None\n",
       ")"
      ]
     },
     "execution_count": 13,
     "metadata": {},
     "output_type": "execute_result"
    }
   ],
   "source": [
    "grid_result.best_estimator_"
   ]
  },
  {
   "cell_type": "code",
   "execution_count": null,
   "metadata": {},
   "outputs": [],
   "source": []
  }
 ],
 "metadata": {
  "kernelspec": {
   "display_name": "base",
   "language": "python",
   "name": "python3"
  },
  "language_info": {
   "codemirror_mode": {
    "name": "ipython",
    "version": 3
   },
   "file_extension": ".py",
   "mimetype": "text/x-python",
   "name": "python",
   "nbconvert_exporter": "python",
   "pygments_lexer": "ipython3",
   "version": "3.9.13"
  },
  "orig_nbformat": 4
 },
 "nbformat": 4,
 "nbformat_minor": 2
}
