{
 "cells": [
  {
   "cell_type": "code",
   "execution_count": 1,
   "metadata": {},
   "outputs": [],
   "source": [
    "from keras.datasets import mnist\n",
    "(X_train, y_train), (X_test, y_test) = mnist.load_data()"
   ]
  },
  {
   "cell_type": "code",
   "execution_count": 2,
   "metadata": {},
   "outputs": [],
   "source": [
    "X_train = X_train.reshape(-1, 784) \n",
    "X_test = X_test.reshape(-1, 784)\n",
    "X_train = X_train / 255.\n",
    "X_test = X_test / 255."
   ]
  },
  {
   "cell_type": "code",
   "execution_count": 3,
   "metadata": {},
   "outputs": [
    {
     "name": "stdout",
     "output_type": "stream",
     "text": [
      "torch.Size([60000, 784])\n",
      "torch.Size([60000])\n"
     ]
    }
   ],
   "source": [
    "#학습용, 검증용 데이터를 텐서로 변환\n",
    "import torch\n",
    "X_train = torch.from_numpy(X_train).float()\n",
    "y_train = torch.from_numpy(y_train.astype('int32')).long()\n",
    "X_test = torch.from_numpy(X_test).float()\n",
    "y_test = torch.from_numpy(y_test.astype('int32')).long()\n",
    "# 변환된 텐서의 샘플수\n",
    "print(X_train.shape)\n",
    "print(y_train.shape)"
   ]
  },
  {
   "cell_type": "code",
   "execution_count": 4,
   "metadata": {},
   "outputs": [],
   "source": [
    "#텐서를 gpu로 이동\n",
    "X_train = X_train.cuda()\n",
    "y_train = y_train.cuda()\n",
    "X_test = X_test.cuda()\n",
    "y_test = y_test.cuda()"
   ]
  },
  {
   "cell_type": "code",
   "execution_count": 5,
   "metadata": {},
   "outputs": [],
   "source": [
    "#신경망 구성\n",
    "import torch.nn as nn\n",
    "import torch.nn.functional as F\n",
    "class Net(nn.Module):\n",
    "    def __init__(self):\n",
    "        super(Net, self).__init__()\n",
    "        self.fc1 = nn.Linear(784, 128)\n",
    "        self.fc2 = nn.Linear(128, 10)\n",
    "        \n",
    "    def forward(self, x):\n",
    "        x = F.relu(self.fc1(x))\n",
    "        x = self.fc2(x)\n",
    "        return F.softmax(x, dim=-1)\n",
    "model = Net().cuda()"
   ]
  },
  {
   "cell_type": "code",
   "execution_count": 6,
   "metadata": {},
   "outputs": [
    {
     "name": "stdout",
     "output_type": "stream",
     "text": [
      "  epoch    train_loss    valid_acc    valid_loss     dur\n",
      "-------  ------------  -----------  ------------  ------\n",
      "      1        \u001b[36m0.6469\u001b[0m       \u001b[32m0.8981\u001b[0m        \u001b[35m0.3514\u001b[0m  1.1789\n",
      "      2        \u001b[36m0.3163\u001b[0m       \u001b[32m0.9166\u001b[0m        \u001b[35m0.2875\u001b[0m  1.1827\n",
      "      3        \u001b[36m0.2642\u001b[0m       \u001b[32m0.9271\u001b[0m        \u001b[35m0.2480\u001b[0m  1.1806\n",
      "      4        \u001b[36m0.2273\u001b[0m       \u001b[32m0.9350\u001b[0m        \u001b[35m0.2185\u001b[0m  1.1822\n",
      "      5        \u001b[36m0.1997\u001b[0m       \u001b[32m0.9428\u001b[0m        \u001b[35m0.1960\u001b[0m  1.1949\n",
      "      6        \u001b[36m0.1776\u001b[0m       \u001b[32m0.9488\u001b[0m        \u001b[35m0.1787\u001b[0m  1.1904\n",
      "      7        \u001b[36m0.1597\u001b[0m       \u001b[32m0.9525\u001b[0m        \u001b[35m0.1648\u001b[0m  1.2071\n",
      "      8        \u001b[36m0.1449\u001b[0m       \u001b[32m0.9567\u001b[0m        \u001b[35m0.1535\u001b[0m  1.2491\n",
      "      9        \u001b[36m0.1324\u001b[0m       \u001b[32m0.9599\u001b[0m        \u001b[35m0.1441\u001b[0m  1.2166\n",
      "     10        \u001b[36m0.1218\u001b[0m       \u001b[32m0.9616\u001b[0m        \u001b[35m0.1366\u001b[0m  1.2151\n",
      "     11        \u001b[36m0.1128\u001b[0m       \u001b[32m0.9633\u001b[0m        \u001b[35m0.1301\u001b[0m  1.2167\n",
      "     12        \u001b[36m0.1049\u001b[0m       \u001b[32m0.9644\u001b[0m        \u001b[35m0.1248\u001b[0m  1.2613\n",
      "     13        \u001b[36m0.0979\u001b[0m       \u001b[32m0.9657\u001b[0m        \u001b[35m0.1201\u001b[0m  1.2944\n",
      "     14        \u001b[36m0.0918\u001b[0m       \u001b[32m0.9665\u001b[0m        \u001b[35m0.1160\u001b[0m  1.2566\n",
      "     15        \u001b[36m0.0864\u001b[0m       \u001b[32m0.9678\u001b[0m        \u001b[35m0.1125\u001b[0m  1.2903\n",
      "     16        \u001b[36m0.0815\u001b[0m       \u001b[32m0.9684\u001b[0m        \u001b[35m0.1094\u001b[0m  1.1945\n",
      "     17        \u001b[36m0.0770\u001b[0m       \u001b[32m0.9692\u001b[0m        \u001b[35m0.1065\u001b[0m  1.1814\n",
      "     18        \u001b[36m0.0730\u001b[0m       \u001b[32m0.9699\u001b[0m        \u001b[35m0.1042\u001b[0m  1.1980\n",
      "     19        \u001b[36m0.0693\u001b[0m       \u001b[32m0.9702\u001b[0m        \u001b[35m0.1021\u001b[0m  1.1909\n",
      "     20        \u001b[36m0.0658\u001b[0m       \u001b[32m0.9705\u001b[0m        \u001b[35m0.1002\u001b[0m  1.1920\n"
     ]
    },
    {
     "data": {
      "text/plain": [
       "<class 'skorch.classifier.NeuralNetClassifier'>[initialized](\n",
       "  module_=Net(\n",
       "    (fc1): Linear(in_features=784, out_features=128, bias=True)\n",
       "    (fc2): Linear(in_features=128, out_features=10, bias=True)\n",
       "  ),\n",
       ")"
      ]
     },
     "execution_count": 6,
     "metadata": {},
     "output_type": "execute_result"
    }
   ],
   "source": [
    "from skorch import NeuralNetClassifier\n",
    "net = NeuralNetClassifier(Net, max_epochs=20, lr=0.1)\n",
    "net.fit(X_train, y_train)"
   ]
  },
  {
   "cell_type": "code",
   "execution_count": 7,
   "metadata": {},
   "outputs": [
    {
     "data": {
      "text/plain": [
       "0.9718"
      ]
     },
     "execution_count": 7,
     "metadata": {},
     "output_type": "execute_result"
    }
   ],
   "source": [
    "#모형의 정확도 계산\n",
    "import numpy as np\n",
    "pred = net.predict(X_test)\n",
    "y_test = y_test.cpu().numpy()\n",
    "accuracy = np.mean(pred == y_test)\n",
    "accuracy"
   ]
  },
  {
   "cell_type": "code",
   "execution_count": 8,
   "metadata": {},
   "outputs": [
    {
     "data": {
      "text/plain": [
       "==========================================================================================\n",
       "Layer (type:depth-idx)                   Output Shape              Param #\n",
       "==========================================================================================\n",
       "Net                                      [100, 10]                 --\n",
       "├─Linear: 1-1                            [100, 128]                100,480\n",
       "├─Linear: 1-2                            [100, 10]                 1,290\n",
       "==========================================================================================\n",
       "Total params: 101,770\n",
       "Trainable params: 101,770\n",
       "Non-trainable params: 0\n",
       "Total mult-adds (M): 10.18\n",
       "==========================================================================================\n",
       "Input size (MB): 0.31\n",
       "Forward/backward pass size (MB): 0.11\n",
       "Params size (MB): 0.41\n",
       "Estimated Total Size (MB): 0.83\n",
       "=========================================================================================="
      ]
     },
     "execution_count": 8,
     "metadata": {},
     "output_type": "execute_result"
    }
   ],
   "source": [
    "from torchinfo import summary\n",
    "summary(model, input_size=(100,784))"
   ]
  }
 ],
 "metadata": {
  "kernelspec": {
   "display_name": "base",
   "language": "python",
   "name": "python3"
  },
  "language_info": {
   "codemirror_mode": {
    "name": "ipython",
    "version": 3
   },
   "file_extension": ".py",
   "mimetype": "text/x-python",
   "name": "python",
   "nbconvert_exporter": "python",
   "pygments_lexer": "ipython3",
   "version": "3.9.13"
  },
  "orig_nbformat": 4
 },
 "nbformat": 4,
 "nbformat_minor": 2
}
