{
 "cells": [
  {
   "cell_type": "code",
   "execution_count": 1,
   "metadata": {},
   "outputs": [
    {
     "name": "stdout",
     "output_type": "stream",
     "text": [
      "[[5.1 3.5 1.4 0.2]\n",
      " [4.9 3.  1.4 0.2]\n",
      " [4.7 3.2 1.3 0.2]\n",
      " [4.6 3.1 1.5 0.2]\n",
      " [5.  3.6 1.4 0.2]]\n",
      "[0 0 0 0 0]\n"
     ]
    }
   ],
   "source": [
    "#iris 데이터셋 로드\n",
    "from sklearn.datasets import load_iris\n",
    "X, y = load_iris(return_X_y=True)\n",
    "print(X[:5])\n",
    "print(y[:5])"
   ]
  },
  {
   "cell_type": "code",
   "execution_count": 2,
   "metadata": {},
   "outputs": [
    {
     "name": "stdout",
     "output_type": "stream",
     "text": [
      "120\n"
     ]
    }
   ],
   "source": [
    "from sklearn.model_selection import train_test_split\n",
    "X_train, X_test, y_train, y_test = train_test_split(X, y, random_state=10, test_size=0.2, stratify=y, shuffle=True)\n",
    "print(len(X_train))"
   ]
  },
  {
   "cell_type": "code",
   "execution_count": 3,
   "metadata": {},
   "outputs": [],
   "source": [
    "#신경망 모형\n",
    "from torch import nn\n",
    "class Model(nn.Module):\n",
    "    def __init__(self, input_dim):\n",
    "        super(Model, self).__init__()\n",
    "        self.layer1 = nn.Linear(input_dim, 50) # (input nodes, output nodes:50)\n",
    "        self.layer2 = nn.Linear(50, 20)\n",
    "        self.layer3 = nn.Linear(20, 3)\n",
    "\n",
    "    # 활성화함수\n",
    "    def forward(self, x):\n",
    "        x = F.relu(self.layer1(x))\n",
    "        x = F.relu(self.layer2(x))\n",
    "        # 출력층의 활성화함수 - 소프트맥스\n",
    "        x = F.softmax(self.layer3(x), dim=0)\n",
    "        return x"
   ]
  },
  {
   "cell_type": "code",
   "execution_count": 4,
   "metadata": {},
   "outputs": [],
   "source": [
    "import torch\n",
    "# 초기화함수의 input_dim\n",
    "model = Model(X_train.shape[1])\n",
    "# 최적화함수\n",
    "optimizer = torch.optim.Adam(model.parameters(), lr=0.01)\n",
    "# 손실함수\n",
    "loss_fn = nn.CrossEntropyLoss()\n",
    "epochs = 100"
   ]
  },
  {
   "cell_type": "code",
   "execution_count": 5,
   "metadata": {},
   "outputs": [
    {
     "name": "stdout",
     "output_type": "stream",
     "text": [
      "Epoch 1\n",
      "loss: 1.0989898443222046\n",
      "Epoch 2\n",
      "loss: 1.0982489585876465\n",
      "Epoch 3\n",
      "loss: 1.0977082252502441\n",
      "Epoch 4\n",
      "loss: 1.097055435180664\n",
      "Epoch 5\n",
      "loss: 1.096272587776184\n",
      "Epoch 6\n",
      "loss: 1.095436692237854\n",
      "Epoch 7\n",
      "loss: 1.0945677757263184\n",
      "Epoch 8\n",
      "loss: 1.0936888456344604\n",
      "Epoch 9\n",
      "loss: 1.092803716659546\n",
      "Epoch 10\n",
      "loss: 1.0919359922409058\n",
      "Epoch 11\n",
      "loss: 1.0912119150161743\n",
      "Epoch 12\n",
      "loss: 1.0906003713607788\n",
      "Epoch 13\n",
      "loss: 1.0900397300720215\n",
      "Epoch 14\n",
      "loss: 1.0895307064056396\n",
      "Epoch 15\n",
      "loss: 1.089080810546875\n",
      "Epoch 16\n",
      "loss: 1.0886743068695068\n",
      "Epoch 17\n",
      "loss: 1.088299036026001\n",
      "Epoch 18\n",
      "loss: 1.087955117225647\n",
      "Epoch 19\n",
      "loss: 1.087653636932373\n",
      "Epoch 20\n",
      "loss: 1.0874038934707642\n",
      "Epoch 21\n",
      "loss: 1.0871952772140503\n",
      "Epoch 22\n",
      "loss: 1.087029218673706\n",
      "Epoch 23\n",
      "loss: 1.0868757963180542\n",
      "Epoch 24\n",
      "loss: 1.0866955518722534\n",
      "Epoch 25\n",
      "loss: 1.0865217447280884\n",
      "Epoch 26\n",
      "loss: 1.0863895416259766\n",
      "Epoch 27\n",
      "loss: 1.0862674713134766\n",
      "Epoch 28\n",
      "loss: 1.086138367652893\n",
      "Epoch 29\n",
      "loss: 1.086004614830017\n",
      "Epoch 30\n",
      "loss: 1.0858525037765503\n",
      "Epoch 31\n",
      "loss: 1.0856817960739136\n",
      "Epoch 32\n",
      "loss: 1.085517168045044\n",
      "Epoch 33\n",
      "loss: 1.0853419303894043\n",
      "Epoch 34\n",
      "loss: 1.085164189338684\n",
      "Epoch 35\n",
      "loss: 1.0849944353103638\n",
      "Epoch 36\n",
      "loss: 1.0848097801208496\n",
      "Epoch 37\n",
      "loss: 1.084621548652649\n",
      "Epoch 38\n",
      "loss: 1.0844310522079468\n",
      "Epoch 39\n",
      "loss: 1.0842353105545044\n",
      "Epoch 40\n",
      "loss: 1.0840537548065186\n",
      "Epoch 41\n",
      "loss: 1.0838837623596191\n",
      "Epoch 42\n",
      "loss: 1.0837147235870361\n",
      "Epoch 43\n",
      "loss: 1.083550214767456\n",
      "Epoch 44\n",
      "loss: 1.0833985805511475\n",
      "Epoch 45\n",
      "loss: 1.0832600593566895\n",
      "Epoch 46\n",
      "loss: 1.0831332206726074\n",
      "Epoch 47\n",
      "loss: 1.0830155611038208\n",
      "Epoch 48\n",
      "loss: 1.0829089879989624\n",
      "Epoch 49\n",
      "loss: 1.0828157663345337\n",
      "Epoch 50\n",
      "loss: 1.0827347040176392\n",
      "Epoch 51\n",
      "loss: 1.0826643705368042\n",
      "Epoch 52\n",
      "loss: 1.0826036930084229\n",
      "Epoch 53\n",
      "loss: 1.0825517177581787\n",
      "Epoch 54\n",
      "loss: 1.0825073719024658\n",
      "Epoch 55\n",
      "loss: 1.0824687480926514\n",
      "Epoch 56\n",
      "loss: 1.0824400186538696\n",
      "Epoch 57\n",
      "loss: 1.0824148654937744\n",
      "Epoch 58\n",
      "loss: 1.0823931694030762\n",
      "Epoch 59\n",
      "loss: 1.0823739767074585\n",
      "Epoch 60\n",
      "loss: 1.0823571681976318\n",
      "Epoch 61\n",
      "loss: 1.0823423862457275\n",
      "Epoch 62\n",
      "loss: 1.082329273223877\n",
      "Epoch 63\n",
      "loss: 1.0823177099227905\n",
      "Epoch 64\n",
      "loss: 1.0823073387145996\n",
      "Epoch 65\n",
      "loss: 1.082297921180725\n",
      "Epoch 66\n",
      "loss: 1.0822893381118774\n",
      "Epoch 67\n",
      "loss: 1.0822817087173462\n",
      "Epoch 68\n",
      "loss: 1.0822746753692627\n",
      "Epoch 69\n",
      "loss: 1.082268238067627\n",
      "Epoch 70\n",
      "loss: 1.082262396812439\n",
      "Epoch 71\n",
      "loss: 1.0822571516036987\n",
      "Epoch 72\n",
      "loss: 1.0822522640228271\n",
      "Epoch 73\n",
      "loss: 1.0822474956512451\n",
      "Epoch 74\n",
      "loss: 1.0822432041168213\n",
      "Epoch 75\n",
      "loss: 1.0822391510009766\n",
      "Epoch 76\n",
      "loss: 1.0822354555130005\n",
      "Epoch 77\n",
      "loss: 1.0822317600250244\n",
      "Epoch 78\n",
      "loss: 1.082228422164917\n",
      "Epoch 79\n",
      "loss: 1.0822253227233887\n",
      "Epoch 80\n",
      "loss: 1.0822222232818604\n",
      "Epoch 81\n",
      "loss: 1.0822192430496216\n",
      "Epoch 82\n",
      "loss: 1.0822163820266724\n",
      "Epoch 83\n",
      "loss: 1.0822136402130127\n",
      "Epoch 84\n",
      "loss: 1.0822107791900635\n",
      "Epoch 85\n",
      "loss: 1.0822083950042725\n",
      "Epoch 86\n",
      "loss: 1.0822060108184814\n",
      "Epoch 87\n",
      "loss: 1.0822036266326904\n",
      "Epoch 88\n",
      "loss: 1.082201600074768\n",
      "Epoch 89\n",
      "loss: 1.0821995735168457\n",
      "Epoch 90\n",
      "loss: 1.082197666168213\n",
      "Epoch 91\n",
      "loss: 1.0821958780288696\n",
      "Epoch 92\n",
      "loss: 1.0821940898895264\n",
      "Epoch 93\n",
      "loss: 1.0821925401687622\n",
      "Epoch 94\n",
      "loss: 1.0821911096572876\n",
      "Epoch 95\n",
      "loss: 1.0821895599365234\n",
      "Epoch 96\n",
      "loss: 1.0821882486343384\n",
      "Epoch 97\n",
      "loss: 1.0821869373321533\n",
      "Epoch 98\n",
      "loss: 1.0821855068206787\n",
      "Epoch 99\n",
      "loss: 1.0821843147277832\n",
      "Epoch 100\n",
      "loss: 1.0821830034255981\n"
     ]
    }
   ],
   "source": [
    "from torch.autograd import Variable\n",
    "import torch.nn.functional as F\n",
    "# 넘파이배열을 텐서로 변환\n",
    "X_train = Variable(torch.from_numpy(X_train)).float()\n",
    "y_train = Variable(torch.from_numpy(y_train)).long()\n",
    "for epoch in range(1, epochs + 1):\n",
    "    print('Epoch', epoch)\n",
    "    # 예측값\n",
    "    y_pred = model(X_train)\n",
    "    \n",
    "    # 손실함수\n",
    "    loss = loss_fn(y_pred, y_train)\n",
    "    print('loss:', loss.item())\n",
    "\n",
    "    # 경사 초기화\n",
    "    optimizer.zero_grad()\n",
    "    loss.backward() # 역전파\n",
    "    optimizer.step() # 가중치 업데이트"
   ]
  },
  {
   "cell_type": "code",
   "execution_count": 6,
   "metadata": {},
   "outputs": [
    {
     "data": {
      "text/plain": [
       "tensor([[2.6995e-06, 8.1283e-03, 2.2304e-04],\n",
       "        [3.9232e-02, 3.0258e-06, 5.3297e-11],\n",
       "        [1.1415e-06, 2.9226e-03, 5.5198e-04],\n",
       "        [2.2819e-07, 4.6139e-04, 2.7914e-03],\n",
       "        [1.3576e-04, 3.3906e-01, 3.7157e-06]], grad_fn=<SliceBackward0>)"
      ]
     },
     "execution_count": 6,
     "metadata": {},
     "output_type": "execute_result"
    }
   ],
   "source": [
    "#예측값\n",
    "X_test = Variable(torch.from_numpy(X_test)).float()\n",
    "pred = model(X_test)\n",
    "pred[:5]"
   ]
  },
  {
   "cell_type": "code",
   "execution_count": 7,
   "metadata": {},
   "outputs": [
    {
     "data": {
      "text/plain": [
       "array([1, 0, 1, 2, 1, 2, 0, 2, 2, 0, 0, 1, 2, 2, 1, 0, 0, 1, 2, 0, 2, 2,\n",
       "       2, 0, 0, 1, 1, 0, 1, 1], dtype=int64)"
      ]
     },
     "execution_count": 7,
     "metadata": {},
     "output_type": "execute_result"
    }
   ],
   "source": [
    "import numpy as np\n",
    "np.argmax(pred.data.numpy(), axis=1)"
   ]
  },
  {
   "cell_type": "code",
   "execution_count": 9,
   "metadata": {},
   "outputs": [
    {
     "data": {
      "text/plain": [
       "1.0"
      ]
     },
     "execution_count": 9,
     "metadata": {},
     "output_type": "execute_result"
    }
   ],
   "source": [
    "#모형의 정확도 측정\n",
    "from sklearn.metrics import accuracy_score\n",
    "accuracy_score(y_test, np.argmax(pred.data.numpy(), axis=1))"
   ]
  },
  {
   "cell_type": "code",
   "execution_count": 10,
   "metadata": {},
   "outputs": [],
   "source": [
    "# 모델 저장\n",
    "torch.save(model, 'c:/data/iris/iris_torch.model')"
   ]
  },
  {
   "cell_type": "code",
   "execution_count": 11,
   "metadata": {},
   "outputs": [
    {
     "data": {
      "text/plain": [
       "2"
      ]
     },
     "execution_count": 11,
     "metadata": {},
     "output_type": "execute_result"
    }
   ],
   "source": [
    "# 모델 로드\n",
    "model2 = torch.load('c:/data/iris/iris_torch.model')\n",
    "np.argmax(model2(X_test[0]).data.numpy())"
   ]
  },
  {
   "cell_type": "code",
   "execution_count": 12,
   "metadata": {},
   "outputs": [
    {
     "data": {
      "text/plain": [
       "==========================================================================================\n",
       "Layer (type:depth-idx)                   Output Shape              Param #\n",
       "==========================================================================================\n",
       "Model                                    [32, 3]                   --\n",
       "├─Linear: 1-1                            [32, 50]                  250\n",
       "├─Linear: 1-2                            [32, 20]                  1,020\n",
       "├─Linear: 1-3                            [32, 3]                   63\n",
       "==========================================================================================\n",
       "Total params: 1,333\n",
       "Trainable params: 1,333\n",
       "Non-trainable params: 0\n",
       "Total mult-adds (M): 0.04\n",
       "==========================================================================================\n",
       "Input size (MB): 0.00\n",
       "Forward/backward pass size (MB): 0.02\n",
       "Params size (MB): 0.01\n",
       "Estimated Total Size (MB): 0.02\n",
       "=========================================================================================="
      ]
     },
     "execution_count": 12,
     "metadata": {},
     "output_type": "execute_result"
    }
   ],
   "source": [
    "from torchinfo import summary\n",
    "summary(model, input_size=(32,4))"
   ]
  },
  {
   "cell_type": "code",
   "execution_count": null,
   "metadata": {},
   "outputs": [],
   "source": []
  }
 ],
 "metadata": {
  "kernelspec": {
   "display_name": "base",
   "language": "python",
   "name": "python3"
  },
  "language_info": {
   "codemirror_mode": {
    "name": "ipython",
    "version": 3
   },
   "file_extension": ".py",
   "mimetype": "text/x-python",
   "name": "python",
   "nbconvert_exporter": "python",
   "pygments_lexer": "ipython3",
   "version": "3.9.13"
  },
  "orig_nbformat": 4
 },
 "nbformat": 4,
 "nbformat_minor": 2
}
