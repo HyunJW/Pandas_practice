{
 "cells": [
  {
   "cell_type": "code",
   "execution_count": 1,
   "metadata": {},
   "outputs": [],
   "source": [
    "#LDA모델 생성\n",
    "import tomotopy as tp\n",
    "model = tp.LDAModel(k=10, min_cf=2)"
   ]
  },
  {
   "cell_type": "code",
   "execution_count": 2,
   "metadata": {},
   "outputs": [
    {
     "name": "stdout",
     "output_type": "stream",
     "text": [
      "Total docs: 8\n",
      "Total words: 198\n"
     ]
    }
   ],
   "source": [
    "import re\n",
    "from konlpy.tag import Hannanum\n",
    "han = Hannanum()\n",
    "# 파일에서 한 줄씩 읽어 model에 추가\n",
    "for i, line in enumerate(open('c:/data/text/news1.txt', encoding='utf-8')):\n",
    "    sentence = re.sub('[^가-힣ㄱ-ㅎㅏ-ㅣa-zA-Z]', ' ', line)\n",
    "    a = sentence.strip()\n",
    "    n = han.nouns(a)\n",
    "    n2 = [x for x in n if len(x) > 1]\n",
    "    if len(n2) > 0:\n",
    "        model.add_doc(n2)\n",
    "# model의 num_words, num_vocabs 확인\n",
    "model.train(0) # train(0): 0회 학습\n",
    "print('Total docs:', len(model.docs))\n",
    "print('Total words:', model.num_words)"
   ]
  },
  {
   "cell_type": "code",
   "execution_count": 3,
   "metadata": {},
   "outputs": [
    {
     "name": "stdout",
     "output_type": "stream",
     "text": [
      "Topic #0\t수험생, 등록금, 이날, 오후, 실패, 문자, 대입, 우체국, 교수, 학생\n",
      "Topic #1\t학생, 연세대, 관련, 내용, 주장, 발표, 설명, 방안, 선발, 입금\n",
      "Topic #2\t수시, 정시, 교사, 관계자, 주장, 수능, 학부모, 통합, 대입, 우체국\n",
      "Topic #3\t대입, 국가교육회의, 학부모, 위원, 비교, 수시, 통합, 우체국, 수험생, 학생\n",
      "Topic #4\t의견, 서울, 개편, 제안, 학기, 교수, 학생, 대입, 우체국, 수험생\n",
      "Topic #5\t대학, 대입제도, 학교, 전형, 준비, 부담, 교육부, 대입, 우체국, 교수\n",
      "Topic #6\t해당, 상황, 입장, 학부모, 확인, 납부, 온라인상, 미납, 수시, 통합\n",
      "Topic #7\t교수, 수능, 학부모, 수시, 통합, 대입, 우체국, 수험생, 학생, 등록금\n",
      "Topic #8\t우체국, 전산, 오류, 취소, 입학, 측은, 호소, 연대, 학부모, 수시\n",
      "Topic #9\t교수, 수능, 통합, 학년, 학종, 김경범, 서울대, 고교학점제, 학생부, 절대평가\n"
     ]
    }
   ],
   "source": [
    "#200회 학습\n",
    "model.train(200)\n",
    "for i in range(model.k):\n",
    "    # 토픽별 상위 단어 10개 출력\n",
    "    res = model.get_topic_words(i, top_n=10)\n",
    "    print(f'Topic #{i}', end='\\t')\n",
    "    print(', '.join(w for w, p in res))"
   ]
  },
  {
   "cell_type": "code",
   "execution_count": null,
   "metadata": {},
   "outputs": [],
   "source": []
  }
 ],
 "metadata": {
  "kernelspec": {
   "display_name": "base",
   "language": "python",
   "name": "python3"
  },
  "language_info": {
   "codemirror_mode": {
    "name": "ipython",
    "version": 3
   },
   "file_extension": ".py",
   "mimetype": "text/x-python",
   "name": "python",
   "nbconvert_exporter": "python",
   "pygments_lexer": "ipython3",
   "version": "3.9.13"
  },
  "orig_nbformat": 4
 },
 "nbformat": 4,
 "nbformat_minor": 2
}
