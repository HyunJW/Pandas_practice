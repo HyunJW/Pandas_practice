{
 "cells": [
  {
   "attachments": {},
   "cell_type": "markdown",
   "metadata": {},
   "source": [
    "### 잠재디리클레할당(LDA)\n",
    "- 주제별 단어수 분포를 바탕으로 주어진 문서에서 발견된 단어수 분포를 분석하여 해당 문서의 주제들을 예측하는 기법\n",
    "- 교환성 가정: 단어들의 순서는 상관하지 않고 단어들의 유무만이 중요하다는 가정"
   ]
  },
  {
   "cell_type": "code",
   "execution_count": 1,
   "metadata": {},
   "outputs": [],
   "source": [
    "#전처리 함수\n",
    "from nltk.stem.porter import PorterStemmer\n",
    "from nltk.corpus import stopwords\n",
    "from nltk.tokenize import word_tokenize\n",
    "import re\n",
    "# 영어 단어의 어근만 추출\n",
    "stm = PorterStemmer()\n",
    "\n",
    "# 영어 단어의 불용어 집합\n",
    "stopwords = set(stopwords.words('english'))\n",
    "\n",
    "# 특수문자 제거를 위한 정규식\n",
    "pattern = re.compile('[a-zA-Z][-_a-zA-Z0-9.]*')\n",
    "\n",
    "def tokenize(sentence):\n",
    "    def stem(w):\n",
    "        try:\n",
    "            return stm.stem(w)\n",
    "        except:\n",
    "            return w\n",
    "    return [stem(w) for w in word_tokenize(sentence.lower()) \n",
    "            if w not in stopwords and pattern.match(w)]"
   ]
  },
  {
   "cell_type": "code",
   "execution_count": 2,
   "metadata": {},
   "outputs": [
    {
     "name": "stdout",
     "output_type": "stream",
     "text": [
      "Total docs: 23\n",
      "Total words: 87\n",
      "['prigozhin', 'putin', 'shell', 'militari', 'russia', 'system', 'bakhmut', 'said', 'one', 'polit', 'russian', 'critic', 'day', 'boss', 'wagner', 'grandfath', 'victori', 'recent', 'seem', 'may', 'public', 'continu', 'line', 'gener', 'war', 'flank', 'warehous', 'save', 'whether', 'privat', 'compani', 'social-media', 'telegram', 'among', 'battlefield', 'week', 'brigad', 'around', 'eastern', 'troop', 'ukrainian', 'live', 'today', 'almost', 'fight', 'suppos', 'countri', 'comment', 'fighter', 'leadership']\n"
     ]
    }
   ],
   "source": [
    "#LDA모델 생성\n",
    "import tomotopy as tp\n",
    "# 토픽의 개수: 20개, 5회 미만 등장한 단어들: 제거\n",
    "model = tp.LDAModel(k=20, min_cf=5)\n",
    "# 파일에서 한 줄씩 읽어 model에 추가\n",
    "for i, line in enumerate(open('c:/data/text/news2.txt', encoding='utf-8')):\n",
    "    model.add_doc(tokenize(line))\n",
    "# model의 num_words, num_vocabs 확인\n",
    "model.train(0) # train(0): 0회 학습\n",
    "print('Total docs:', len(model.docs))\n",
    "print('Total words:', model.num_words)\n",
    "print(list(model.vocabs)[:50])"
   ]
  },
  {
   "cell_type": "code",
   "execution_count": 3,
   "metadata": {},
   "outputs": [
    {
     "name": "stdout",
     "output_type": "stream",
     "text": [
      "Topic #0\tmilitari, prigozhin, putin, shell, russia, system, bakhmut, said, one, polit\n",
      "Topic #1\tprigozhin, putin, shell, militari, russia, system, bakhmut, said, one, polit\n",
      "Topic #2\tpolit, prigozhin, putin, shell, militari, russia, system, bakhmut, said, one\n",
      "Topic #3\tprigozhin, putin, shell, militari, russia, system, bakhmut, said, one, polit\n",
      "Topic #4\tprigozhin, putin, shell, militari, russia, system, bakhmut, said, one, polit\n",
      "Topic #5\trussia, militari, prigozhin, putin, shell, system, bakhmut, said, one, polit\n",
      "Topic #6\tprigozhin, putin, shell, militari, russia, system, bakhmut, said, one, polit\n",
      "Topic #7\tprigozhin, putin, shell, militari, russia, system, bakhmut, said, one, polit\n",
      "Topic #8\tprigozhin, bakhmut, putin, shell, militari, russia, system, said, one, polit\n",
      "Topic #9\tprigozhin, putin, shell, militari, russia, system, bakhmut, said, one, polit\n",
      "Topic #10\tshell, said, prigozhin, putin, militari, russia, system, bakhmut, one, polit\n",
      "Topic #11\tprigozhin, putin, shell, militari, russia, system, bakhmut, said, one, polit\n",
      "Topic #12\tprigozhin, putin, shell, militari, russia, system, bakhmut, said, one, polit\n",
      "Topic #13\tbakhmut, prigozhin, putin, shell, militari, russia, system, said, one, polit\n",
      "Topic #14\trussian, prigozhin, putin, shell, militari, russia, system, bakhmut, said, one\n",
      "Topic #15\tsystem, said, prigozhin, putin, shell, militari, russia, bakhmut, one, polit\n",
      "Topic #16\tone, prigozhin, putin, shell, militari, russia, system, bakhmut, said, polit\n",
      "Topic #17\tprigozhin, putin, shell, militari, russia, system, bakhmut, said, one, polit\n",
      "Topic #18\tprigozhin, putin, shell, militari, russia, system, bakhmut, said, one, polit\n",
      "Topic #19\tputin, critic, prigozhin, shell, militari, russia, system, bakhmut, said, one\n"
     ]
    }
   ],
   "source": [
    "#200회 학습\n",
    "model.train(200)\n",
    "for i in range(model.k):\n",
    "    # 20개의 토픽별 상위 단어 10개 추출\n",
    "    res = model.get_topic_words(i, top_n=10)\n",
    "    print(f'Topic #{i}', end='\\t')\n",
    "    print(', '.join(w for w, p in res))"
   ]
  },
  {
   "cell_type": "code",
   "execution_count": 4,
   "metadata": {},
   "outputs": [
    {
     "data": {
      "text/plain": [
       "['emma',\n",
       " 'jane',\n",
       " 'austen',\n",
       " 'volum',\n",
       " 'chapter',\n",
       " 'emma',\n",
       " 'woodhous',\n",
       " 'handsom',\n",
       " 'clever',\n",
       " 'rich',\n",
       " 'comfort',\n",
       " 'home',\n",
       " 'happi',\n",
       " 'disposit',\n",
       " 'seem',\n",
       " 'unit',\n",
       " 'best',\n",
       " 'bless',\n",
       " 'exist',\n",
       " 'live',\n",
       " 'nearli',\n",
       " 'twenty-on',\n",
       " 'year',\n",
       " 'world',\n",
       " 'littl',\n",
       " 'distress',\n",
       " 'vex',\n",
       " 'youngest',\n",
       " 'two',\n",
       " 'daughter',\n",
       " 'affection',\n",
       " 'indulg',\n",
       " 'father',\n",
       " 'consequ',\n",
       " 'sister',\n",
       " 'marriag',\n",
       " 'mistress',\n",
       " 'hous',\n",
       " 'earli',\n",
       " 'period',\n",
       " 'mother',\n",
       " 'die',\n",
       " 'long',\n",
       " 'ago',\n",
       " 'indistinct',\n",
       " 'remembr',\n",
       " 'caress',\n",
       " 'place',\n",
       " 'suppli',\n",
       " 'excel',\n",
       " 'woman',\n",
       " 'gover',\n",
       " 'fallen',\n",
       " 'littl',\n",
       " 'short',\n",
       " 'mother',\n",
       " 'affect',\n",
       " 'sixteen',\n",
       " 'year',\n",
       " 'miss',\n",
       " 'taylor',\n",
       " 'mr.',\n",
       " 'woodhous',\n",
       " 'famili',\n",
       " 'less',\n",
       " 'gover',\n",
       " 'friend',\n",
       " 'fond',\n",
       " 'daughter',\n",
       " 'particularli',\n",
       " 'emma',\n",
       " 'intimaci',\n",
       " 'sister',\n",
       " 'even',\n",
       " 'miss',\n",
       " 'taylor',\n",
       " 'ceas',\n",
       " 'hold',\n",
       " 'nomin',\n",
       " 'offic',\n",
       " 'gover',\n",
       " 'mild',\n",
       " 'temper',\n",
       " 'hardli',\n",
       " 'allow',\n",
       " 'impos',\n",
       " 'restraint',\n",
       " 'shadow',\n",
       " 'author',\n",
       " 'long',\n",
       " 'pass',\n",
       " 'away',\n",
       " 'live',\n",
       " 'togeth',\n",
       " 'friend',\n",
       " 'friend',\n",
       " 'mutual',\n",
       " 'attach',\n",
       " 'emma',\n",
       " 'like']"
      ]
     },
     "execution_count": 4,
     "metadata": {},
     "output_type": "execute_result"
    }
   ],
   "source": [
    "#제인 오스틴의 엠마 문서 로드\n",
    "import nltk\n",
    "emma_raw = nltk.corpus.gutenberg.raw('austen-emma.txt')\n",
    "tokenize(emma_raw)[:100]"
   ]
  },
  {
   "cell_type": "code",
   "execution_count": 5,
   "metadata": {},
   "outputs": [
    {
     "name": "stdout",
     "output_type": "stream",
     "text": [
      "Total docs: 1\n",
      "Total words: 67220\n",
      "['mr.', 'emma', 'could', 'would', 'mrs.', 'miss', 'must', 'harriet', 'much', 'said', 'think', 'thing', 'one', 'weston', 'everi', 'elton', 'say', 'know', 'knightley', 'well', 'littl', 'never', 'might', 'good', 'woodhous', 'time', 'jane', 'quit', 'look', 'like', 'come', 'see', 'thought', 'great', 'feel', 'friend', 'noth', 'go', 'dear', 'alway', 'man', 'fairfax', 'even', 'churchil', 'soon', 'give', 'may', 'make', 'wish', 'shall', 'without', 'hope', 'seem', 'day', 'want', 'frank', 'first', 'sure', 'father', 'made', 'happi', 'inde', 'bodi', 'ever', 'oh', 'young', 'talk', 'two', 'though', 'better', 'way', 'love', 'hartfield', 'upon', 'long', 'walk', 'speak', 'realli', 'take', 'believ', 'rather', 'letter', 'bate', 'us', 'word', 'done', 'mani', 'marri', 'away', 'mean', 'poor', 'appear', 'hear', 'home', 'howev', 'mind', 'moment', 'woman', 'last', 'manner', 'enough', 'suppos', 'ye', 'highburi', 'pleasur', 'doubt', 'comfort', 'heard', 'came', 'place', 'ladi', 'present', 'oblig', 'idea', 'possibl', 'still', 'kind', 'parti', 'someth', 'visit', 'anoth', 'felt', 'use', 'return', 'sort', 'tell', 'call', 'morn', 'yet', 'pass', 'subject', 'saw', 'smile', 'pleas', 'natur', 'till', 'allow', 'hour', 'certainli', 'delight', 'hous', 'half', 'attent', 'understand', 'perhap', 'martin', 'deal', 'room', 'acquaint', 'repli', 'gener', 'often', 'find', 'peopl', 'ask', 'let', 'ought', 'interest', 'spirit', 'part', 'right', 'answer', 'imagin', 'mr', 'found', 'turn', 'expect', 'assur', 'randal', 'smith', 'john', 'almost', 'knew', 'engag', 'famili', 'get', 'differ', 'person', 'least', 'best', 'year', 'consid', 'old', 'immedi', 'world', 'perri', 'equal', 'togeth', 'attach', 'care', 'eye', 'live', 'gone', 'els', 'cri', 'hand', 'respect', 'meet', 'opinion', 'told', 'observ', 'given', 'extrem', 'life', 'carriag', 'wonder', 'cole', 'affect', 'sit', 'campbel', 'begin', 'busi', 'seen', 'whole', 'open', 'set', 'nobodi', 'put', 'short', 'hardli', 'situat', 'continu', 'chang', 'abl', 'dare', 'name', 'far', 'tri', 'isabella', 'surpriz', 'read', 'side', 'minut', 'thank', 'mother', 'less', 'left', 'fortun', 'point', 'heart', 'wife', 'leav', 'superior', 'readi', 'danc', 'daughter', 'perfectli', 'object', 'reason', 'toward', 'three', 'pretti', 'circumst', 'afraid', 'sir', 'back', 'cold', 'sinc', 'true', 'whether', 'fanci', 'either', 'began', 'next', 'account', 'therefor', 'receiv', 'satisfi', 'cours', 'admir', 'sorri', 'invit', 'sens', 'stay', 'end', 'power', 'girl', 'beauti', 'other', 'exactli', 'longer', 'taken', 'chapter', 'follow', 'bear', 'children', 'agreeabl', 'shew', 'state', 'door', 'brother', 'question', 'depend', 'known', 'probabl', 'aunt', 'bad', 'rememb', 'settl', 'brought', 'usual', 'beyond', 'degre', 'gave', 'particular', 'air', 'bring', 'goddard', 'except', 'express', 'among', 'rest', 'voic', 'persuad', 'glad', 'directli', 'regard', 'consider', 'complet', 'week', 'ill', 'donwel', 'cheer', 'suffer', 'convers', 'mention', 'late', 'ah', 'pain', 'convinc', 'taylor', 'promis', 'play', 'amus', 'recommend', 'societi', 'entir', 'took', 'compliment', 'difficulti', 'particularli', 'went', 'need', 'laugh', 'full', 'determin', 'view', 'near', 'enjoy', 'london', 'creatur', 'mere', 'wait', 'judg', 'stand', 'write', 'sister', 'dinner', 'charact', 'pleasant', 'imposs', 'keep', 'alreadi', 'son', 'strong', 'happen', 'disappoint', 'dixon', 'perfect', 'help', 'meant', 'encourag', 'favour', 'proper', 'eleg', 'fear', 'listen', 'honour', 'farther', 'month', 'handsom', 'real', 'evil', 'agre', 'night', 'join', 'fine', 'spoke', 'charm', 'earli', 'fond', 'concern', 'afterward', 'hurri', 'enter', 'form', 'truth', 'excus', 'resolv', 'excel', 'danger', 'companion', 'advantag', 'deserv', 'pay', 'matter', 'weather', 'arriv', 'sometim', 'suspect', 'plan', 'safe', 'whose', 'offer', 'forward', 'round', 'wrong', 'remain', 'five', 'husband', 'accept', 'head', 'met', 'resolut', 'child', 'desir', 'occas', 'neither', 'prais', 'ad', 'music', 'colonel', 'temper', 'sat', 'recollect', 'dread', 'claim', 'acknowledg', 'absolut', 'marriag', 'amiabl', 'necessari', 'got', 'regret', 'face', 'guess', 'enscomb', 'new', 'assist', 'attend', 'move', 'forget', 'news', 'increas', 'common', 'line', 'health', 'propos', 'compani', 'decid', 'tast', 'blush', 'arrang', 'stop', 'ball', 'consequ', 'match', 'larg', 'papa', 'inclin', 'sent', 'send', 'case', 'men', 'within', 'distress', 'actual', 'sensibl', 'prove', 'prefer', 'close', 'quick', 'attempt', 'robert', 'ten', 'prepar', 'refus', 'suspicion', 'clever', 'ago', 'scheme', 'fault', 'civil', 'draw', 'import', 'small', 'second', 'notic', 'gentleman', 'seriou', 'anxiou', 'proceed', 'mapl', 'grove', 'bless', 'piti', 'hors', 'connexion', 'reflect', 'chuse', 'commun', 'indiffer', 'alarm', 'spoken', 'fix', 'declar', 'worth', 'gratitud', 'none', 'greatest', 'employ', 'becom', 'produc', 'greater', 'fair', 'grow', 'eager', 'occur', 'judgment', 'easi', 'satisfact', 'intellig', 'mile', 'requir', 'whenev', 'toler', 'warm', 'prevent', 'style', 'to-morrow', 'agit', 'work', 'reach', 'belong', 'sigh', 'sweet', 'proof', 'curios', 'sight', 'sever', 'watch', 'yesterday', 'wors', 'certain', 'instead', 'asham', 'direct', 'disagre', 'event', 'friendship', 'awar', 'habit', 'tea', 'especi', 'secur', 'pray', 'alon', 'influenc', 'quiet', 'knowledg', 'purpos', 'silent', 'hint', 'delay', 'act', 'conduct', 'instrument', 'crown', 'disposit', 'sad', 'odd', 'distanc', 'slight', 'chanc', 'to-day', 'servic', 'boy', 'seat', 'sake', 'led', 'order', 'blind', 'address', 'extraordinari', 'duti', 'tone', 'it.', 'indulg', 'highli', 'loss', 'age', 'remov', 'spite', 'fact', 'lose', 'pictur', 'vain', 'abbey', 'mine', 'note', 'struck', 'admit', 'intent', 'inform', 'confess', 'justic', 'induc', 'conceal', 'beg', 'charad', 'bath', 'behaviour', 'dine', 'town', 'four', 'occupi', 'spend', 'uncl', 'favourit', 'due', 'improv', 'becam', 'understood', 'written', 'altogeth', 'scarc', 'carri', 'suit', 'run', 'coupl', 'plain', 'collect', 'inferior', 'ground', 'evid', 'gentlemen', 'quarter', 'confid', 'hesit', 'effect', 'silenc', 'tabl', 'niec', 'also', 'box', 'compar', 'dispos', 'welcom', 'inquiri', 'rain', 'joy', 'nonsens', 'endeavour', 'introduc', 'countri', 'speech', 'kept', 'mistaken', 'sudden', 'exclaim', 'henri', 'endur', 'escap', 'secret', 'caught', 'avoid', 'snow', 'william', 'pianofort', 'hill', 'intimaci', 'prospect', 'ration', 'friendli', 'spent', 'merit', 'educ', 'succeed', 'command', 'scrupl', 'unhappi', 'neighbour', 'eat', 'summer', 'remark', 'clear', 'ventur', 'gratifi', 'approv', 'approb', 'opportun', 'lead', 'conscious', 'reserv', 'intend', 'her.', 'cut', 'hold', 'past', 'tender', 'separ', 'servant', 'exert', 'shock', 'independ', 'dearest', 'whatev', 'comprehend', 'recov', 'caus', 'garden', 'women', 'rais', 'credit', 'advis', 'window', 'trust', 'perceiv', 'repeat', 'valu', 'fall', 'touch', 'smallest', 'confus', 'wit', 'thousand', 'otherwis', 'eas', 'tire', 'period', 'gentl', 'lost', 'thoroughli', 'jame', 'spare', 'grate', 'catch', 'forgotten', 'worthi', 'worst', 'charg', 'approach', 'high', 'sentiment', 'share', 'fortnight', 'anxieti', \"n't\", 'wrote', 'angri', 'uneasi', 'sensat', 'nephew', 'paid', 'hawkin', 'suckl', 'fire', 'happili', 'singl', 'quarrel', 'circl', 'pride', 'suffici', 'privat', 'thrown', 'distinct', 'fail', 'regular', 'exercis', 'total', 'entertain', 'forc', 'road', 'awkward', 'low', 'cross', 'glanc', 'troubl', 'behind', 'relat', 'astonish', 'step', 'serious', 'consent', 'appl', 'suppli', 'talent', 'afford', 'success', 'break', 'born', 'infinit', 'dress', 'histori', 'convict', 'dislik', 'counten', 'warmli', 'press', 'finish', 'fresh', 'besid', 'convey', 'mistak', 'impati', 'cure', 'simpl', 'explan', 'weymouth', 'excess', 'ceas', 'somebodi', 'frequent', 'absenc', 'flatter', 'accomplish', 'profess', 'number', 'drive', 'vicarag', 'deni', 'sincer', 'announc', 'delicaci', 'paper', 'fulli', 'futur', 'presum', 'human', 'explor', 'anywher', 'congratul', 'behav', 'drawn', 'fit', 'chosen', 'excit', 'drawing-room', 'stood', 'light', 'describ', 'sink', 'book', 'oppos', 'hundr', 'inquir', 'steadi', 'materi', 'tempt', 'princip', 'paus', 'wretch', 'nice', 'motiv', 'sea', 'aye', 'arm', 'neighbourhood', 'cox', 'master', 'save', 'sound', 'rich', 'nearli', 'easili', 'visitor', 'intim', 'connect', 'anim', 'shame', 'former', 'addit', 'appar', 'strang', 'public', 'vaniti', 'contriv', 'hair', 'grace', 'confin', 'undoubtedli', 'mortifi', 'seldom', 'blunder', 'advic', 'decis', 'entreat', 'mad', 'resent', 'suggest', 'deep', 'conclud', 'passag', 'trifl', 'solicitud', 'instantli', 'madam', 'spring', 'interrupt', 'posit', 'caution', 'burst', 'ireland', 'stori', 'ford', 'unit', 'owe', 'compass', 'will', 'tear', 'gallantri', 'you.', 'harm', 'establish', 'leisur', 'youth', 'conveni', 'consult', 'persuas', 'frighten', 'good-wil', 'winter', 'featur', 'inconveni', 'strength', 'nash', 'ignor', 'grave', 'rule', 'pretend', 'decidedli', 'deceiv', 'perform', 'fast', 'consol', 'absent', 'apolog', 'unfortun', 'unpleas', 'utmost', 'piec', 'declin', 'betray', 'grandmama', 'around', 'reproach', 'shake', 'disengag', 'miser', 'travel', 'larkin', 'richmond', 'dream', 'mistress', 'compos', 'intercours', 'melancholi', 'humour', 'hard', 'breakfast', 'rate', 'instanc', 'silli', 'rise', 'mortif', 'unreason', 'amaz', 'begun', 'truli', 'apprehens', 'report', 'earnestli', 'moder', 'fetch', 'felic', 'liber', 'soft', 'thorough', 'lay', 'gain', 'disturb', 'figur', 'complexion', 'size', 'attract', 'sooner', 'peac', 'error', 'thu', 'protest', 'restor', 'journey', 'housekeep', 'messag', 'miseri', 'bed', 'folli', 'discoveri', 'mark', 'patti', 'whisper', 'bride', 'warmth', 'neglect', 'nay', 'partner', 'die', 'offic', 'possess', 'peculiarli', 'activ', 'christma', 'nervou', 'origin', 'happier', 'brunswick', 'squar', 'lane', 'delic', 'smooth', 'interfer', 'six', 'fell', 'comparison', 'prevail', 'partial', 'measur', 'parish', 'middl', 'school', 'principl', 'anticip', 'laid', 'supper', 'griev', 'humbl', 'affair', 'maid', 'notion', 'wholli', 'submit', 'patienc', 'memori', 'add', 'gallant', 'earnest', 'parcel', 'gradual', 'detain', 'indign', 'highest', 'alter', 'exceedingli', 'sick', 'consciou', 'chair', 'cordial', 'calm', 'throat', 'complaint', 'heat', 'sacrific', 'resum', 'eagerli', \"ma'am\", 'distinguish', 'pork', 'kindli', 'check', 'ill.', 'e.', 'affection', 'remembr', 'rank', 'sorrow', 'devot', 'foot', 'matrimoni', 'daili', 'reconcil', 'lucki', 'properli', 'cool', 'unless', 'confirm', 'term', 'simplic', 'impress', 'farm', 'hurt', 'preserv', 'conceit', 'good-natur', 'precis', 'money', 'vulgar', 'disgust', 'defici', 'lament', 'liberti', 'passion', 'contain', 'higher', 'provok', 'throw', 'accompani', 'tall', 'safeti', 'prompt', 'pardon', 'grew', 'ceremoni', 'certainti', 'syllabl', 'necess', 'resourc', 'death', 'bustl', 'wingfield', 'mix', 'rejoic', 'accommod', 'shewn', 'sunk', 'england', 'retir', 'shop', 'deepli', 'me.', 'bake', 'crowd', 'selina', 'hot', 'him.', 'smallridg', 'exist', 'sixteen', 'belov', 'wed', 'promot', 'constitut', 'selfish', 'maintain', 'attack', 'bye', 'troublesom', 'luck', 'offend', 'incom', 'overcom', 'choic', 'unlik', 'sourc', 'femal', 'horror', 'parlour', 'guest', 'gruel', 'introduct', 'valuabl', 'discov', 'chose', 'held', 'strike', 'fairli', 'stopt', 'exquisit', 'peculiar', 'progress', 'knightley.', 'stir', 'languag', 'result', 'imprud', 'foolish', 'opposit', 'fellow', 'expos', 'examin', 'ran', 'provid', 'street', 'pretenc', 'grandmoth', 'relief', 'temptat', 'quietli', 'advanc', 'surri', 'fatigu', 'procur', 'render', 'heavi', 'conceiv', 'previou', 'perplex', 'polit', 'shut', 'irrit', 'trembl', 'start', 'distant', 'colour', 'conjectur', 'tranquil', 'tongu', 'bragg', 'court-plaist', 'gover', 'mutual', 'unexception', 'older', 'support', 'hate', 'good-humour', 'unnecessari', 'shook', 'constantli', 'farmer', 'proud', 'yorkshir', 'luxuri', 'expens', 'reliev', 'soften', 'twenti', 'purchas', 'boast', 'includ', 'resid', 'privileg', 'occasion', 'condit', 'pleasantli', 'boil', 'treat', 'guid', 'grant', 'penetr', 'drink', 'sing', 'aloud', 'kingston', 'birth', 'elizabeth', 'flutter', 'forti', 'contrari', 'refresh', 'aris', 'discuss', 'creat', 'lover', 'display', 'mixtur', 'offenc', 'displeas', 'shade', 'errand', 'preciou', 'proprieti', 'hitherto', 'explain', 'stronger', 'tiresom', 'weak', 'breath', 'lip', 'lord', 'resist', 'allianc', 'staid', 'glow', 'conclus', 'nod', 'eldest', \"o'clock\", 'parad', 'rose', 'capabl', 'forbear', 'coolli', 'renew', 'english', 'south', 'risk', 'abroad', 'dull', 'guard', 'sanguin', 'urg', 'instant', 'wise', 'blame', 'composur', 'practis', 'warmest', 'god', 'spectacl', 'descript', 'forgiv', 'correspond', 'spread', 'bristol', 'hall', 'earlier', 'larger', 'post-offic', 'gipsi', 'strawberri', 'fallen', 'author', 'esteem', 'chiefli', 'threaten', 'sleep', 'taught', 'unreserv', 'domest', 'dispar', 'depress', 'flow', 'damp', 'joke', 'wherev', \"weston'\", 'manag', 'pursuit', 'bore', 'anger', 'wealth', 'seek', 'accord', 'season', 'appli', 'pair', 'unequ', 'content', 'sentenc', 'refin', 'spot', 'church', 'unwil', 'push', 'defer', 'fashion', 'water', 'abbey-mil', 'exult', 'june', 'repent', 'degrad', 'symptom', 'insens', 'nearer', 'grown', 'brain', 'twelv', 'puzzl', 'vexat', 'learn', 'varieti', 'upright', 'qualiti', 'apprehend', 'destini', 'surmis', 'difficult', 'labour', 'studi', 'corner', 'destin', 'lessen', 'discern', 'morrow', 'tree', 'alert', 'repetit', 'strongli', 'suspens', 'conscienc', 'dark', 'rude', 'overpow', 'estim', 'involv', 'greatli', 'applic', 'justifi', 'hastili', 'bend', 'benefit', 'distinctli', 'bow', 'apt', 'broad', 'class', 'bare', 'lace', 'stoop', 'cautiou', 'hazard', 'autumn', 'alik', 'argument', 'law', 'white', 'happiest', 'solicit', 'insuffer', 'substanc', 'abomin', 'complain', 'seiz', 'presumpt', 'trick', 'rous', 'yield', 'saturday', 'tuesday', 'unwel', 'action', 'remind', 'acquit', 'gown', 'courag', 'faith', 'midst', 'quickli', 'draught', 'readili', 'treatment', 'februari', 'across', 'rivet', 'prosper', 'barouche-landau', 'fairfax.', 'misfortun', 'variou', 'seven', 'dearer', 'fill', 'amount', 'shrubberi', 'chat', 'goe', 'dirti', 'vast', 'apart', 'divid', 'solemn', 'match-mak', 'triumph', 'gentil', 'properti', 'social', 'proport', 'refrain', 'adjoin', 'shaken', 'obtain', 'benevol', 'nerv', 'talker', 'acquir', 'system', 'reckon', 'ampl', 'plenti', 'neat', 'request', 'unworthi', 'thin', 'wine', 'satisfactori', 'foreseen', 'divis', 'design', 'parent', 'ride', 'lower', 'henc', 'associ', 'contrast', 'plainli', 'loud', 'later', \"knightley'\", 'drew', 'slow', 'despair', 'brilliant', 'height', 'unjust', 'fate', 'contradict', 'raptur', 'pencil', 'skill', 'babi', 'georg', 'rapid', 'resembl', 'commiss', 'entreati', 'song', 'anxious', 'slowli', 'misunderstand', 'thing.', 'gracious', 'censur', 'envi', 'sun', 'stranger', 'pace', 'sought', 'mysteri', 'teach', \"goddard'\", 'inconsider', 'latter', 'riddl', 'length', 'elig', 'front', 'cheek', 'ridicul', 'submiss', 'amiss', 'cottag', 'dwell', 'gate', 'warmer', 'heaven', 'topic', 'scene', 'pale', 'practic', 'rapidli', 'injuri', 'chariti', 'indeed.', 'extent', 'fli', 'articl', 'interv', 'sore', 'liabl', 'digniti', 'neglig', 'encount', 'deem', 'afternoon', 'dining-room', 'half-hour', 'effort', 'calcul', 'terror', 'accent', 'swell', 'embarrass', 'herself.', 'abund', 'subdu', 'penanc', 'destroy', 'inevit', 'twice', 'meanwhil', 'drawback', 'injur', 'necessarili', 'openli', 'leg', 'impli', 'gay', 'stupid', 'perpetu', 'acquiesc', 'constant', 'utter', 'here.', 'heartili', 'of.', 'gilbert', 'specul', 'plea', \"churchill'\", 'insol', 'avert', 'vex', 'mild', 'restraint', 'shape', 'grief', 'suitabl', 'black', 'recal', 'nurs', 'novemb', 'struggl', 'univers', 'horribl', 'punctual', 'idl', 'nativ', 'occup', 'steadili', 'adopt', 'assum', 'prize', 'irresist', 'unwholesom', 'gentlemanlik', 'outward', 'surround', 'honest', 'quantiti', 'wholesom', 'entitl', 'prose', 'bloom', 'undertak', 'unusu', 'meal', 'cloth', 'basin', 'egg', 'bit', 'vari', 'summon', 'free', 'eight', 'bid', 'finest', 'card', 'horseback', 'forth', 'yard', 'voluntarili', 'profit', 'engross', 'displeasur', 'pattern', 'copi', 'downright', 'expedi', 'sex', \"emma'\", 'spoil', 'inherit', 'flatteri', 'uncomfort', 'kinder', 'angel', 'ill-humour', 'artless', 'mouth', 'sketch', 'sofa', 'jump', 'correct', 'shawl', 'disgrac', 'speedili', 'demur', 'contempl', 'safer', 'harriet.', 'ungrat', 'reject', 'invalid', 'infer', 'desert', 'mischief', 'project', 'abruptli', 'prudenc', 'forgiven', 'denot', 'earth', 'reign', 'ponder', 'kingdom', 'fool', 'phrase', 'deplor', 'unwelcom', 'rel', 'narrow', 'candour', 'counsel', 'virtu', 'sympathi', 'wretched', 'exceed', 'incess', 'somehow', 'coachman', 'nois', 'restless', 'doat', 'ungraci', 'septemb', 'fever', 'three-and-twenti', 'sign', 'c.', 'whim', 'bates', 'accident', 'recent', 'ear', 'moreov', 'roast', 'demand', \"elton'\", 'motion', 'modern', 'reviv', 'januari', 'restrain', 'elev', 'emot', 'oper', 'seclus', 'self', 'signifi', 'sin', 'handwrit', 'deaf', 'limit', 'commit', 'faint', 'blood', 'amend', 'forese', 'kind-heart', 'permit', 'pronounc', 'own', 'strongest', 'nobl', 'unsuspici', 'momentari', 'basket', 'emma.', 'ribbon', 'hodg', 'thoughtless', 'card-room', 'uncertainti', 'weari', 'headach', 'self-command', 'hasti', 'entranc', 'fineri', 'gaieti', 'otway', 'suddenli', 'slightest', 'now.', 'ostler', 'youngest', 'impos', 'wedding-day', 'third', 'aros', 'octob', 'lawn', 'stabl', 'elder', 'shoe', 'charmingli', 'fondli', 'widow', 'dart', 'unaffect', 'ii', 'dissuad', 'pursu', 'reluct', 'trade', 'eighteen', 'compet', 'bought', 'capric', 'strengthen', 'allevi', 'wedding-cak', 'unfit', 'slice', 'iii', 'dinner-parti', 'exchang', 'blank', 'hardship', 'uncommon', 'popular', 'train', 'formerli', 'firesid', 'visibl', 'blue', 'coars', 'hospit', 'teacher', 'cow', 'dozen', 'game', 'dwelt', 'four-and-twenti', 'beforehand', 'stock', 'station', 'repeatedli', 'abrupt', 'model', 'palpabl', 'date', 'weight', 'dispens', 'list', 'alphabet', 'diffid', 'life.', 'firm', 'somewhat', 'percept', 'naivet', 'wive', 'shoulder', 'frame', 'decemb', 'writer', 'vigor', 'persev', 'kill', 'tendenc', 'suspici', 'likewis', 'bestow', 'dropt', 'experi', 'his.', 'level', 'indubit', 'whoever', 'shift', 'assert', 'repres', 'pound', 'sanction', 'pretens', 'remonstr', 'furnish', 'comprehens', 'sober', 'grand', 'invent', 'requisit', 'contribut', 'conundrum', 'page', 'king', 'humph', 'crisi', 'shark', 'be.', 'soul', 'grandpapa', 'fright', 'charit', 'hedg', 'one-and-twenti', 'compassion', 'trial', \"harriet'\", 'boot', 'detail', 'serv', 'allus', 'dispers', 'well.', 'exact', 'asid', 'disagr', 'sauci', 'exampl', 'cooler', 'sickli', 'similar', 'been.', 'meadow', 'unconsci', 'sooth', 'exclud', 'accordingli', 'absurd', 'shelter', 'assent', 'zeal', 'jealousi', 'improprieti', 'disord', 'scrupul', 'careless', 'reproof', 'cover', 'son-in-law', 'represent', 'adventur', 'along', 'tete-a-tet', 'ador', 'fewer', 'inequ', 'perturb', 'doubl', 'indebt', 'hang', 'welfar', 'method', 'wound', 'rid', 'unfair', 'rightli', 'treasur', 'throughout', 'commend', 'unexpect', 'presenc', 'unlucki', 'first-rat', 'qualifi', 'earn', 'fortitud', 'wiser', 'imput', 'ill-health', 'complac', 'reappear', 'discret', 'persever', 'oppress', 'appeal', 'thither', 'seri', 'augusta', 'lesson', 'disdain', 'ala', 'glimps', 'dissip', 'formal', 'mill', 'portion', 'dri', 'downstair', 'liveli', 'recept', 'detect', 'concurr', 'inn', 'preparatori', 'glove', 'stretch', 'account.', 'vouchsaf', 'improp', 'chais', 'joint', 'occurr', 'assembl', 'resign', 'before.', 'irish', 'disinterest', 'divert', 'thick', 'space', 'dancer', 'impertin', 'fruit', 'key', 'shortli', 'store', 'cousin', 'measl', 'ballroom', 'stair', 'overhear', 'unwilling', 'so.', 'imaginari', 'she.', 'subsequ', 'latest', 'disappear', 'extens', 'wright', 'punish', 'protect', 'medit', 'midsumm', 'allud', 'drop', 'patient', 'bad.', 'wet', 'injustic', 'cruel', 'unpardon', 'bank', 'goodwil', 'gather', 'donkey', 'swisserland', 'union', 'generos', 'windsor', 'hush', 'bitter', 'misconduct', 'w.', 'astley', 'volum', 'alloy', 'mourn', 'well-inform', 'intellectu', 'solitud', 'surpris', 'provis', 'foretel', 'borrow', 'umbrella', 'straightforward', 'indispos', 'counti', 'captain', 'unsuit', 'estat', 'pleasantest', 'achiev', 'energi', 'solitari', 'centr', 'stomach', 'cake', 'eaten', 'grievanc', 'vicar', 'harmless', 'trivial', 'sold', 'prodigi', 'healthi', 'food', 'holiday', 'hung', 'win', 'seventeen', 'graciou', 'parlour-board', 'wast', 'alacr', 'serl', 'glass', 'iv', 'suffic', 'be', 'upper', 'fifti', 'thirti', 'perman', 'forgot', 'specimen', 'softer', 'predict', 'well-mean', 'foundat', 'conquer', 'v', 'regularli', 'industri', 'feelingli', 'hazl', 'loveli', 'lie', 'truer', 'transit', 'vi', 'admiss', 'inimit', 'whole-length', 'sang', 'capit', 'kindest', 'bella', 'apologis', 'attitud', 'fidget', 'gaze', 'complais', 'courtesi', 'critic', 'prettili', 'execut', 'incommod', 'vii', 'clearli', 'bewitch', 'waver', 'pang', 'modest', 'mount', 'viii', 'safest', 'seemingli', 'voluntari', 'desper', 'clearer', 'loudli', 'avail', 'beneath', 'disinclin', 'contempt', 'abus', 'obscur', 'prudent', 'unconcern', 'cast', 'failur', 'promin', 'rode', 'luckiest', 'ix', 'elegantli', 'sitting-room', 'easier', 'transcrib', 'ornament', 'kitti', 'frozen', 'intellect', 'inspir', 'behold', 'monarch', 'revers', 'beam', 'dul', 'mermaid', 'vers', 'handsomest', 'scold', 'twelvemonth', 'secreci', 'recurr', 'aid', 'lawyer', 'sadli', 'muse', 'string', 'rough', 'ostens', 'effus', 'x', 'yellow', 'formid', 'poverti', 'sport', 'variat', 'forbid', 'knit', 'purs', 'footstep', 'path', 'footpath', 'proposit', 'glori', 'inch', 'ingeni', 'devic', 'xi', 'needless', 'wrapt', 'ill-temp', 'worship', 'calmli', 'fals', 'advoc', 'f.', 'border', 'xii', 'buri', 'curiou', 'field', 'local', 'unpersuad', 'biliou', 'attribut', 'august', 'children.', 'airi', 'prejudic', 'cromer', 'lodg', 'xiii', 'denial', 'despatch', 'mutton', 'mutter', 'overlook', 'good-temp', 'ascertain', 'compli', 'sweep-gat', 'xiv', 'joyou', 'amongst', 'issu', 'gladli', 'jealou', 'individu', 'xv', 'infect', 'wind', 'storm', 'exclam', 'sweep', 'cloud', 'tide', 'appeas', 'stept', 'deliv', 'slightli', 'unsteadi', 'aliv', 'sole', 'indispens', 'xvi', 'blow', 'humili', 'insult', 'arrog', 'land', 'rave', 'pert', 'acut', 'xvii', 'innoc', 'retain', 'testifi', 'ingenu', 'discreet', 'repress', 'strive', 'xviii', 'foresaw', 'unnatur', 'haunt', 'watering-plac', 'consist', 'flourish', 'falsehood', 'hit', \"father'\", 'doubli', 'coxcomb', 'enabl', 'puppi', 'prejud', 'counteract', 'wander', 'usher', 'friday', 'dash', 'fame', 'nine', 'hereaft', 'abil', 'judici', 'unseen', 'bread', 'novelti', 'accus', 'skin', 'fuller', 'effectu', 'loin', 'hither', 'quickest', 'bonnet', 'sli', 'rush', 'genuin', 'rencontr', 'scatter', 'grandeur', 'somewher', 'ingratitud', 'drove', 'commonplac', 'lean', 'injunct', 'mother-in-law', 'wisest', 'confer', 'extravag', 'club', 'sash', 'hesitatingli', 'myself.', 'recur', 'wicked', 'blockhead', 'unpretend', 'numer', 'deliber', 'hungri', 'impud', 'dialogu', 'bewild', 'mode', 'honestli', 'guilt', 'petticoat', 'louder', 'subsid', 'merci', 'top', 'ann', 'amusement.', 'knock', 'reward', 'job', 'fasten', 'walli', 'custom', 'very.', 'famou', 'staircas', 'wild', 'stoke', 'forlorn', 'selv', 'chief', 'reprob', 'good-by', 'oddest', 'odiou', 'build', 'beat', 'affectedli', 'familiar', 'unknown', 'partridg', 'preced', 'caro', 'sposo', 'upstart', 'departur', 'remiss', 'retract', 'enliven', 'sneer', 'wear', 'stopped.', 'candl', 'bottom', 'themselves.', 'cough', 'better.', 'april', 'strict', 'show', 'finger', 'sure.', 'churchill.', 'encumbr', 'unnot', 'wil', 'twenty-four', 'hugh', 'bound', 'asparagu', 'enemi', 'bickerton', 'cotton', 'spruce-b', 'burn', 'inexpress', 'them.', 'river', 'again.', 'blameless', 'broken', 'refer', 'unfeel', 'salari', 'father.', 'worse.', 'arrowroot', 'inconsist', 'unaccount', 'once.', 'engagement.', 'secresi', 'disclosur', 'withdrawn', 'right.', 'delus', 'supplant', 'essenti', 'dentist', 'indistinct', 'shadow', 'unperceiv', 'self-deni', 'childhood', 'dearli', 'everywher', 'popul', 'villag', 'hannah', 'lock', 'satisfactorili', 'moonlight', 'open-heart', 'rejoin', 'chicken', 'militia', 'threw', 'decorum', 'bargain', 'reconcili', 'deceas', 'realis', 'sale', 'tacitli', 'heir', 'govern', 'deservedli', 'drank', 'feebl', 'likelihood', 'rumour', 'card-tabl', 'long-stand', 'vacant', 'aton', 'gossip', 'combin', 'moral', 'old-fashion', 'price', 'scrambl', 'reput', 'motherli', 'sixpenc', 'detach', 'flew', 'urgenc', 'warfar', 'self-approb', 'constrain', 'apple-tart', 'panic', 'affabl', 'appreci', 'basi', 'five-and-twenti', 'welch', 'summer-hous', 'merri', 'walnut', 'flock', 'goos', 'sunday', 'agricultur', 'extract', 'romanc', 'forest', 'scrape', 'firmli', 'clownish', 'genteel', 'bred', 'glare', 'passabl', 'thrive', 'illiter', 'blunt', 'fourteen', 'stimul', 'affirm', 'nothing.', 'omit', 'plagu', 'geniu', 'fortune.', 'adapt', 'stout', 'hereabout', 'fairest', 'flower', 'portrait', 'crayon', 'water-colour', 'artist', 'musician', 'sheet', 'mama', 'unclos', 'unfavour', 'mantelpiec', 'elsewher', 'irksom', 'defend', 'lover.', 'eyebrow', 'pack', 'ensur', 'deposit', 'lent', 'do.', 'concis', 'diffus', 'unequivoc', 'inflict', 'definit', 'forcibl', 'banish', 'linen-drap', 'conquest', 'bond-street', 'solac', 'prepossess', 'appropri', 'previous', 'protract', 'counsellor', 'simpleton', 'calmer', 'sphere', 'illegitimaci', 'up.', 'distast', 'ambit', 'farthest', 'waiv', 'philosoph', 'parentag', 'reveal', 'disclaim', 'plead', 'park', 'shabbi', 'player', 'bearer', 'significantli', 'rang', 'enlarg', 'mental', 'scale', 'recit', 'well-known', 'afflict', 'stupidest', 'pomp', 'freedom', 'flown', 'slave', 'thi', 'court', 'poet', 'capac', 'tenderest', 'improperli', 'affix', 'tribut', 'fairi', 'complimentari', 'true.', 'nurseri', 'easter', 'inconvenient.', 'time.', 'branch', 'sharp', 'hero', 'rubber', 'doubtingli', \"woman'\", 'sublim', 'irregular', 'main', 'proprietor', 'exterior', 'contract', 'shill', 'supersed', 'stabil', 'parley', 'overtaken', 'involuntarili', \"yesterday'\", 'butter', 'dessert', 'dexter', 'ajar', 'quicken', 'realiti', 'sea-bath', 'nervous', 'forestal', 'various', 'tie', 'gentleman-lik', 'regardless', \"daughter'\", 'plaintiv', 'part.', 'windi', 'whist', 'whenc', 'concess', 'bitterli', 'rare', 'magistr', 'longest', 'fenc', 'turnip', 'terribl', 'go.', 'discours', 'enviou', 'embroc', 'preval', 'harmoni', 'comment', 'undoubt', 'unhealthi', 'stake', 'ill-judg', 'brother-in-law', 'doom', 'hasten', 'puls', 'sore-throat', 'infecti', 'tranquillis', 'feed', 'hoars', 'imparti', 'civilli', 'regul', 'flake', 'overcharg', 'defianc', 'administ', 'heroism', 'wrap', 'precaut', 'ha', 'place.', 'gratif', 'obtrud', 'transfer', 'replet', 'weston.', 'releas', 'stone', 'undergo', 'chatti', 'awak', 'pervers', 'learnt', 'inconst', 'drift', 'constern', 'impass', 'lest', 'imped', 'accumul', 'nowher', 'brief', 'bell', 'darker', 'escort', 'three-quart', 'graviti', 'violent', 'ardent', 'urgent', 'dead', 'misl', 'insinu', 'affront', 'misconcept', 'indescrib', 'curl', 'develop', 'mis-judg', 'unnecessarili', 'alli', 'enrich', 'younger', 'secondari', 'incongru', 'warrant', 'ordinari', 'misinterpret', 'relaps', 'temporari', 'gloom', 'poignant', 'brighter', 'asund', 'complianc', 'pointedli', 'leave-tak', 'was.', 'distinction.', 'inadequ', 'sympathis', 'persist', 'proportion', 'finess', 'simpli', 'unmanag', 'obedi', 'expert', 'omiss', 'behindhand', 'good-look', 'well-br', 'over-pow', 'chatter', 'conduc', 'imperfect', 'scanti', 'floor', 'card-parti', 'huswif', 'hetti', 'amazingli', 'wednesday', 'insidi', 'monday', 'poorli', \"bates'\", 'consumpt', 'warm-heart', 'appoint', 'disciplin', 'cultur', 'defi', 'etern', 'medium', 'eye-lash', 'cavil', 'pitiabl', 'poison', 'provoc', 'ate', 'cap', 'disgustingli', 'bent', 'artific', 'swept', 'arch', 'fri', 'hind-quart', 'over-salt', 'bounti', 'wash', 'pew', 'neighbours.', 'worn', 'yesterday.', 'aspir', 'good-humouredli', 'strictli', 'well-look', 'shower', 'uncheck', 'buy', 'subordin', 'condescens', 'christian', 'debas', 'l.', 'richli', 'sweetli', 'cautious', 'attain', 'uncertain', 'furnitur', 'ceaseless', 'driven', 'trunk', 'butcher', 'coach', 'gravel', 'unattend', 'memorandum', 'wainscot', 'justli', 'process', 'murmur', 'oxford', 'exhaust', 'sparkl', 'wore', 'augur', 'eleven', 'faster', 'look-out', 'handl', \"woodhouse'\", 'exempt', \"persons'\", 'treacheri', 'gift', 'construct', 'quest', 'insincer', 'built', 'ball-room', 'cheap', 'defenc', 'hue', 'disput', 'laughed.', 'counter', 'oneself', 'repuls', 'butler', 'willingli', 'freak', 'incumb', 'moralis', 'ampli', 'surrend', 'broadwood', 'with.', 'elderli', 'extend', 'dixon.', 'dish', 'everyday', 'drown', 'sung', 'deduct', 'indic', 'concert', 'country-d', 'waltz', 'dignifi', 'splendour', 'transgress', 'lamp', 'muslin', 'carriage-hors', 'stray', 'us.', 'apple-dumpl', 'could.', 'sack', 'orchard', 'narrat', 'bar', 'random', 'heal', 'reprehens', 'chamber', 'casement', 'mentioned.', 'dimens', 'score', 'resort', 'magnific', 'art', 'council', 'candlelight', 'briskli', 'minor', 'feasibl', 'noisi', 'does.', 'aim', 'final', 'surpass', 'incap', 'constanc', 'languor', 'neg', 'compress', 'fold', 'retreat', 'witti', 'all.', 'composedli', 'to.', 'transplant', 'profus', 'overr', 'host', 'boarder', 'accustom', 'gentlewoman', 'good-breed', 'interview', 'much.', 'conjug', 'broader', 'befriend', 'forfeit', 'subject.', 'woodhouse.', 'timid', 'partak', 'exclus', 'patro', 'condemn', 'dictat', 'awe', 'irresolut', 'reveri', 'wittier', 'weigh', 'evening-parti', 'stipul', 'eighth', 'friend.', 'ninth', 'pearl', 'quiver', 'yourself.', 'million', 'clerk', 'writing-desk', 'dryli', 'half-whisp', 'juli', 'flesh', 'slave-trad', 'harp', 'over-trim', 'trim', 'silver', 'prolong', 'audibl', 'overheard', 'obliging.', 'elton.', 'incred', 'immens', 'dispel', 'cheerless', 'helpless', 'tupman', 'birmingham', 'physic', 'entangl', 'belief', 'group', 'indisput', 'obstacl', 'lighten', 'inspect', 'privi', 'gestur', 'movement', 'carriage.', 'mat', 'dr.', 'moment.', 'richard', 'mine.', 'disapprov', 'frown', 'mean.', 'superior.', 'row', 'flirtat', 'signific', 'man.', 'tippet', 'biscuit', 'sweetbread', 'smell', 'himself.', 'asleep', 'ruin', 'harbour', 'freshen', 'iron', 'word.', 'indisposit', 'tenaci', 'smaller', 'secretli', 'recollect.', 'mad.', 'henceforward', 'kiss', 'conniv', 'dreamer', 'prematur', 'coming.', 'suppress', 'proclaim', 'deeper', 'distrust', 'impart', 'arisen', 'lame', 'cried.', 'authoris', 'humourist', 'meat', 'out.', 'bright', 'avenu', 'untaint', 'hautboy', 'wood', 'delici', 'insist', 'post.', 'lime', 'wall', 'scorn', 'walk.', 'mare', 'seizur', 'intoler', 'hotter', 'relent', 'discompos', 'tour', 'poem', 'offici', 'presid', 'unheard', 'a.', 'vivac', 'pitch', 'merriment', 'depart', 'blend', 'infant', 'speed', 'fag', 'abhor', 'sweetest', 'unmerit', 'contrit', 'deriv', 'messeng', 'graver', 'opinion.', 'forebod', 'surviv', 'freed', 'mainten', 'appetit', 'agoni', 'know.', 'randalls.', 'engaged.', 'extenu', 'deceit', 'dupe', 'deepest', 'offence.', 'unabl', 'misunderstood', 'kindness.', 'enquir', 'lost.', 'latterli', 'closest', 'multipli', 'foolishli', 'shrub', 'cost', 'ride.', 'conduct.', 'another.', 'underr', 'vouch', 'way.', 'altern', 'pain.', 'concealment.', 'lectur', 'discourag', 'astray', 'disguis', 'post', 'on.', 'degree.', 'brotherli', 'sufficient.', 'known.', 'objection', 'done.', 'stare', 'ill-usag', 'congratulatori', 's.', 'eccentr', 'la', 'adelaid', 'thirteen', 'unprepar', 'mind.', 'congratulations.', 'fullest', 'stain', 'austen', 'twenty-on', 'caress', 'nomin', 'disadvantag', 'consciousness.', 'bride-peopl', 'debt', 'valetudinarian', 'lieu', 'awok', 'large.', 'housemaid', 'pretty-spoken', 'curtsey', 'needlework', 'bang', 'backgammon', 'backgammon-t', 'eight-and-thirti', 'speck', 'gainer', 'deathb', 'broadway', 'drizzl', 'mitchel', 'do-noth', 'do-al', 'grievous', 'fish', 'seven-and-twenti', 'embodi', 'militari', 'family-est', 'poorer', 'linger', 'kindr', 'widower-fath', 'portionless', 'tyrann', 'well-judg', 'choos', 'avow', 'caprici', 'dissenti', 'ennui', 'hindranc', 'teas', 'apothecari', 'bia', 'newli', 'unfrequ', 'come-at-', 'quadril', 'untoward', 'predica', 'quicksight', 'seminari', 'enorm', 'screw', 'boarding-school', 'chilblain', 'tea-visit', 'fancy-work', 'remedi', 'mansion', 'scholar', 'plump', \"smith'\", 'shi', 'artlessli', 'rent', 'unpolish', 'in-between', 'supper-t', 'impuls', 'minc', 'scallop', 'oyster', 'nicer', 'tart', 'custard', 'half-glass', 'tumbler', 'personag', 'docil', 'alderney', 'narr', 'forev', 'inspirit', 'shepherd', 'wool', 'princ', 'richardson', 'sup', 'wakefield', 'yeomanri', 'birthday', 'afloat', 'dilig', 'indoor', 'fluctuat', 'unfeign', 'survey', 'uncouth', 'unmodul', 'detest', 'solemnli', 'gross', 'inattent', 'market', 'ingrati', 'efficaci', 'fastidi', 'fight', 'battl', 'drawing-up', 'neatli', 'wished.', 'cleverest', 'cope', 'wanton', 'undesign', 'hourli', 'doctrin', 'tend', 'polish', 'grown-up', 'err', 'spleen', 'unkind', 'provinc', 'outcri', 'gentli', 'superad', 'skil', 'landscap', 'figure-piec', 'portfolio', 'miniatur', 'half-length', 'ecstasi', 'stealth', 'coarser', 'fourth', 'cockad', 'nestl', 'pet', 'vow', 'forswear', 'intermiss', 'charmed.', 'permiss', 'eyelash', 'fore-shortening.', 'doer', 'fog', 'mostli', 'languish', 'half-asham', 'grammat', 'composit', 'pen', 'unbidden', 'perhaps.', 'favourable.', 'mechan', 'twist', 'aghast', 'format', 'brace', 'seal', 'tittle-tattl', 'tender-heart', 'softli', 'slept', 'bed-room', 'substitut', 'walker', 'tediou', 'greatcoat', 'school-girl', 'giggl', 'red', 'incomprehens', 'asper', 'infatu', 'helpmat', 'aright', 'cry-out', 'statement', 'richest', 'society.', 'gentleman-farm', 'legal', 'grudg', 'comfort.', 'deny.', 'haphazard', 'slightingli', 'ninety-nin', 'misappli', 'pick', 'puff', 'writing-mast', 'canvass', 'abid', 'errant', 'habitu', 'apiec', 'do', 'adversari', 'adequ', 'war', 'clayton', 'whist-club', 'enviabl', 'endear', 'literari', 'quarto', 'hot-press', 'cipher', 'trophi', 'literatur', 'head-teach', 'enigma', 'ungal', 'politest', 'doth', 'antidot', 'heal.', 'tremor', 'loth', 'epithet', 'justest', 'neptun', 'trident', 'cream', 'completest', 'embrac', 'articul', 'prologu', 'motto', 'matter-of-fact', 'strangest', 'pre-arrang', 'channel', 'edit', 'shakespear', 'michaelma', 'text', 'preach', 'abbot', 'peep', 'arm-in-arm', 'committed.', 'couplet', 'charade.', 'smiled.', 'stanza', 'kindl', 'flame', 'hood-wink', 'fatal', 'garrick', 'christen', 'catherin', 'days.', 'knife', 'knive', 'hardi', 'misbehav', 'toss', 'ceil', 'whichev', 're-urg', 're-declin', 'smilingli', 'replac', 'proudest', 'angl', 'abod', 'smarten', 'slacken', 'eyes.', 'riddle-book', 'curtain', 'pool', 'pollard', 'imag', 'undistinguish', 'unfastidi', 'unmarri', 'celibaci', 'sour', 'perforc', 'illiber', 'carpet-work', 'blinder', 'garter', 'romant', 'vanish', 'totter', 'slipperi', 'empti', 'imit', 'half-boot', 'pitcher', 'broth', 'ahead', 'experienc', 'stilton', 'chees', 'north', 'wiltshir', 'celleri', 'beet-root', 'broke', 'ditch', 'inabl', 'ill-equip', 'ribband', 'aspect', 'superintend', 'henceforth', 'prime', 'fortuit', 'vacat', 'nursery-maid', 'matern', 'tenderli', 'over-car', 'defect', 'sister-in-law', 'fidgeti', 'retort', 'ill-bestow', 'father-in-law', 'properest', 'unsulli', 'grievou', 'hesitated.', 'papa.', 'best-temp', 'kite', 'scarlet', 'cobham', 'existence.', 'sept.', 'good-heart', 'cheerful-temp', 'all-suffici', \"brother'\", 'important.', 'making-up', 'unceremoni', 'amiti', 'discord', 'laps', 'sorry.', 'anecdot', 'home-farm', 'drain', 'acr', 'wheat', 'corn', 'strenuous', 'unsaf', 'prohibit', 'influenza', 'confound', 'vicin', 'head-ach', 'palpit', 'doctor', 'coddl', 'graham', 'bailiff', 'scotland', 'philipp', 'cook', 'hire', 'concern.', 'ejacul', 'rumin', 'relish', 'sir.', 'mud', 'anywhere.', 'pure', 'hundred.', 'coast', 'perry.', 'drug', 'sarcast', 'dryness', 'interposit', 'langham', 'path.', 'map', 'harsh', 'swiftli', 'feverish', 'unavoid', 'comfortless', 'rice', 'pud', 'inflam', 'putrid', 'to-night', 'concept', 'vision', 'extric', 'balanc', 'slyness', 'shrink', 'sky', 'milder', 'discont', 'thinner', 'dismal', 'shiver', 'colder', 'emul', 'quarrelsom', 'spruce', 'lengthen', 'dismay', 'sheepskin', 'unpermit', 'matter.', \"se'nnight\", 'select', 'slaveri', 'uninterrupt', 'odditi', 'elbow', 'intern', 'would-b', 'half-syl', 'ill-tim', 'saddl', 'put-off', 'vagari', 'devil', 'alarming.', 'odd-temp', 'instinct', 'braithwait', \"man'\", 'teaz', 'convivi', 'augment', 'sick-chamb', 'implor', 'ulcer', 'unfeelingli', 'blown', 'bleak', 'midnight', 'block', 'shod', 'whiten', 'coachmen', 'ring', 'rung', 'unequal', 'unexampl', 'vainli', 'drunken', 'drunk', 'inebrieti', 'uppermost', 'joyous', 'interpret', 'supplic', 'foot-pac', 'zigzag', 'passed.', 'coldli', 'proudli', 'miserable.', 'overthrow', 'unmark', 'dubiou', 'jumbl', 'thick-head', 'indiscreetli', 'devis', 'aggrandis', 'heiress', 'gradat', 'ancient', 'notch', 'civility.', 'honesti', 'self-interest', 'dispirit', 'cogit', 'discontinu', 'eclat', 'unmirth', 'analog', 'retent', 'atmospher', 'unsettl', 'frost', 'thaw', 'unfriendli', 'freez', 'prison', 'feminin', 'surprized.', 'compliments.', 'however.', 'lone', 'promptitud', 'grossli', 'propheci', 'lowli', 'modesti', 'abundantli', 'simple-mind', 'unvari', 'extinct', 'routin', 'non-exist', 'repel', 'gala-day', 'limb', 'idlest', 'interior', 'manoeuvr', 'vigour', 'meanli', 'knack', 'transport', 'nought', 'singular', 'french', 'aimabl', 'well-grown', 'plausibl', 'politician', 'second-r', 'third-rat', 'moderate-s', 'sweet-cak', 'beaufet', \"ceremonies'\", 'hunt', 'letter.', 'hid', 'checker-work', 'pore', \"mother'\", 'deafer', \"dixon'\", 'dublin', 'baly-craig', 'backward', 'whirl', 'sail', 'holyhead', 'flurri', 'regain', 'orphan', 'lieut', 'regiment', 'infantri', 'fondl', 'engraft', 'camp-fev', 'subsist', 'right-mind', \"campbell'\", 'lighter', 'nineteen', 'instruct', 'unfelt', 'unab', 'noviti', 'relinquish', 'compat', 'weaken', 'discharg', 'trebl', 'recoveri', 'refut', 'self-examin', 'fuss', 'magnifi', \"years'\", 'depreci', 'fat', 'likeliest', 'grey', 'twofold', 'seduc', 'mischiev', 'successless', 'suck', 'sharer', 'purest', 'career', 'labori', 'recant', 'exhibit', 'workbag', 'cloak', 'insight', 'delin', 'undon', 'muffin', 'well-behav', 'porker', 'steak', 'greas', 'salt', 'carrot', 'parsnip', 'spencer', 'salting-pan', 'kitchen.', 'lot', 'goodli', 'heritag', 'absorb', 'standard', 'arm.', 'pour', 'woollen-drap', 'haberdash', 'dealt', 'there.', 'ca', 'float', 'deaden', 'circul', 'self-satisfi', 'thereabout', 'gloriou', 'green', 'brown', 'fearless', 'piqu', 'insepar', 'vaunt', 'merchant', 'mercantil', 'drudg', 'attorney', 'wind-up', 'vacanc', 'invari', 'hat', 'predomin', 'gloss', 'star', 'lift', 'cart', 'espali', 'apple-tre', 'solitarili', 'merest', 'commonest', 'ill-dispos', 'accost', 'dinner-tim', 'quieter', 'reanim', 'worn-out', 'rout', 'sluggish', 'geographi', 'pupil', 'soliloquy', 'overcar', 'clock', 'quicker', 'creep', 'exagger', 'horsewoman', 'unmix', 'move.', 'hay', 'barn', 'ordinarili', 'hearti', 'puddl', 'hop', 'highbury.', 'happy-look', 'hyperbol', 'post-hors', 'half-gentlemen', 'environ', 'argu', 'ineleg', 'health.', 'taste.', 'citizen', 'freedom.', 'sell', 'patriot', 'guinea', 'sleek', 'well-ti', 'beaver', 'york', 'tan', 'discreetli', 'performance.', 'amused.', \"fairfax'\", 'outwardli', 'prone', 'idol', 'oftentim', 'inroad', 'pantri', 'fopperi', 'unselfish', 'heedless', 'blot', 'harshli', 'lenient', 'newspap', 'hum', 'although', 'unexpens', 'dinner-compani', 'folding-screen', 'briefli', 'dinner-visit', 'dew', 'allay', 'malt', 'liquor', 'piquet', 'unspent', 'undaunt', 'folly.', 'ostent', 'evas', 'vanities.', 'propens', 'meal.', 'owner', 'gentleman.', 'usual.', 'bravado', 'taller', 'unobjection', 'male', 'remot', 'large-s', 'ensu', 'slap', 'pitifullest', 'spinet', 'entrap', 'liberal.', 'untouch', 'excuse.', 'march', 'accid', 'overboard', 'vessel', 'durabl', 'orderli', 'unconvinc', 'giver', 'patern', 'amid', 'entre', 'unsentiment', 'shed', 'pedal', 'heroin', 'en', 'passant', 'divin', 'despis', 'pause.', 'outre', 'improvid', 'unostentati', \"henry'\", 'supplanted.', 'revolt', 'sheep', 'librari', 'mimic', 'combat', 'correctli', 'duli', 'roundli', 'vocal', 'touchston', 'put-to', 'embarrassment.', 'enhanc', 'oath', 'indignantli', 'muster', 'rariti', 'languid', 'repaid', 'unfeignedli', 'sunshin', 'italian', 'singing.', 'likely.', \"ford's.\", 'sway', 'traffic', 'busiest', 'office-door', 'letter-boy', 'obstin', 'mule', 'liveliest', 'tray', 'tidi', 'homeward', 'cur', 'bone', 'dawdl', 'baker', 'bow-window', 'gingerbread', 'eye.', 'palat', 'wretchedest', 'ford.', 'half-second', 'refuse.', 'spectacles.', 'morning.', 'saunder', 'hinder', 'kitchen', 'chimney', 'wallis', 'uncivil', 'wrist', 'medley', 'exce', 'fondest', 'closet', 'finest-look', 'home-bak', 'bushel', 'remaind', 'unluckili', 'upstair', 'desultori', 'depriv', 'slumber', 'deedili', 'livelihood', 'silversmith', 'uninterruptedli', 'uneven', 'wedg', 'feebli', 'discrimin', \"instrument'\", 'indefinit', 'conting', 'workmen', 'tune', 'cramer.', 'melodi', 'incomplet', 'compunct', 'cherish', 'together.', 'descri', 'horse-back', 'commandingli', 'sceptic', 'pleasant.', 'accru', 'wick', 'largest', \"cole'\", 'readiest', 'undertook', 'self-wil', 'forgav', 'certifi', 'inhabit', 'sight.', 'window-curtain', 'clean', 'club-night', 'supper-room', 'vote', 'sandwich', 'scout', 'infam', 'fraud', \"neighbours'\", 'nearer.', 'frank.', 'brisk-mov', 'sweet-temp', 'stokes.', 'fro', 'confess.', 'over-throw', 'repugn', 'redeem', 'deject', 'horrid', 'forerunn', 'embarrassed.', 'procrastin', 'listless', 'insipid', 'fellow-mourn', 'triumphant', 'woeful', 'unbecom', 'inexcus', 'different.', 'supposit', 'constancy.', 'changeable.', 'involved.', 'perus', 'undervalu', 'well-written', 'keenli', 'propriety.', 'unadorn', 'wreath', 'lowest', 'adieu', 'unchang', 'no.', 'favour.', 'behalf', 'form.', 'bell-ring', 'violenc', 'popularity.', 'clearest-head', 'longest-sight', 'best-judg', 'invalu', 'vexati', 'shorten', 'nothing-mean', 'elegance.', 'unpretti', 'bash', 'shine', 'well-built', 'morning-room', 'astonishingli', 'strikingli', 'laurel', 'bench', 'enchant', 'double-di', \"king's-weston\", 'proverb', 'stuck', 'seclud', 'impolit', 'auspic', 'outrag', 'doatingli', 'devoid', 'smaller-s', 'spaciou', 'outstep', 'weekli', 'jefferey', 'clara', 'milman', 'bird', 'cooper', 'enumer', 'lady-lik', 'underbr', 'bosom', 'glibli', \"eltons'\", 'pretty-behav', 'avowedli', 'lend', 'vanity-bait', 'self-import', 'ill-br', 'unimped', 'ill-wil', 'dislike.', 'enmiti', 'disrespect', 'vent', 'contemptu', 'knight-errantri', 'ladylik', 'unknown.', 'fragranc', 'verifi', 'away.', 'income.', 'shortly.', 'conciliating.', 'woodhouse-', 'licenti', 'decor', 'guidanc', 'guileless', 'condescend', 'penuri', 'professedli', 'pressingli', 'somewhere.', 'decre', 'pronoun', 'thou', 'plainest', 'implant', 'button', 'leather', 'gaiter', 'pressur', 'surprize.', 'appel', 'deed', 'self-controul', 'triumphantli', 'rout-cak', 'ice', 'behind-hand', 'unbroken', 'waiter', 'conscience-stricken', 'shameful.', 'happy.', 'party.', 'profession', 'forty-eight', 'immateri', 'unexpectedli', 'wet.', 'count', 'curs', 'outliv', 'concentr', 'mildest', 'urban', 'plant', 'for.', 'grand-mama', 'risks.', 'obviat', 'insuper', 'needlessli', 'deciph', 'habit.', 'roundabout', 'vindic', 'base', 'aspers', 'table.', 'dining-parlour', 'expedit', 'mail', 'abstain', 'candid', 'infin', 'wax-candl', 'schoolroom', 'inexperi', 'unemploy', 'fling', 'abolit', 'governess-trad', 'wide', 'victim', 'advertis', 'gaili', 'beau', 'quaint', 'poplin', 'reassembl', 'mute', 'astonishment.', 'bed-tim', 'sleeti', 'shrug', 'fluentli', 'that.', 'example.', 'southward', 'nineti', 'sixty-f', 'conservatori', 'road.', 'antagonist', 'niceti', 'interpos', 'beheld', 'clifton', 'stationari', 'plantat', 'retirement.', 'despond', 'untowardli', 'mend', 'courtship', 'hymen', 'saffron', 'robe', 'gloomi', 'cheerful', 'genial', 'implicitli', 'trait', 'instig', 'indol', 'out-churchil', 'mighti', 'annoy', 'encumb', 'west', 'dire', 'nearest', 'worri', 'compris', 'preclud', 'half-year', 'goings-on', 'heretofor', 'fare', 'weaker', 'medicin', 'medic', 'emin', 'ready-furnish', 'manchester-street', 'confidant', 'open-hearted', 'character.', 'half-circl', 'councillor', 'returned.', 'rain.', 'candidli', 'puppyism', 'chain', 'expediti', 'body.', 'aladdin', 'wedding-present.', 'oliv', 'feet', 'politeness.', 'fairy-land', 'transform', 'judge.', 'hairdress', 'caroline.', 'arthur', 'coles.', 'coffe', 'coffee.', 'understand.', 'suit.', 'forward.', 'displeasure.', 'interf', 'soon.', 'rub', 'festiv', 'else.', 'standers-bi', 'whist-play', 'bulki', 'trouble.', 'criticis', 'record', 'product', 'saunter', 'sitters-bi', 'half-way', 'glances.', 'observed.', 'glee', 'harden', 'goodnatur', 'spoon', 'nail', 'backgammon.', 'queen', 'everywhere.', 'disappointment.', 'fricasse', 'soup', 'spirit.', 'single-mind', 'gratified.', 'lazi', 'enjoy.', 'infatuation.', 'requisite.', 'front-door', 'alarm.', 'elm', 'patch', 'greensward', 'scream', 'steep', 'cramp', 'powerless', 'terrifi', 'tramper', 'assail', 'clamor', 'gang', 'scissor', 'cling', 'speech.', 'coldest', 'steadiest', 'linguist', 'grammarian', 'mathematician', 'imaginist', 'foresight', 'groundwork', 'rescu', 'mania', 'fervour', 'clung', 'impel', 'passiv', 'dwindl', 'evil.', 'world.', 'unfold', 'tunbridge-war', 'softest', 'evening.', 'penknif', 'relic', 'pocket', 'senseless', 'pull', 'pocket-book', 'brew', 'spruce-beer.', \"harriet's.\", 'undesignedli', 'debat', 'indignantly.', 'resolved.', 'speed.', 'vener', 'honourable.', 'gratefully.', 'defeat', 'unison', 'indiscret', 'void', 'cowper', 'twilight', 'dreamt', 'nobody.', 'heap', 'pop', 'circular', 'small-siz', 'pembrok', 'dull-look', 'exultingli', 'lain', 'disingenu', 'vehicl', 'sedat', 'covert', 'preconceiv', 'unexamin', 'dusk', 'sting', 'fruitless', 'perfectly.', 'twentieth', 'essay', 'stagger', 'where', 'how', 'fed', 'speedi', 'interchang', 'restrict', \"sucklings'\", 'eventu', 'picnic', 'acced', 'arrear', 'pigeon-pi', 'lamb', 'useabl', 'stagnat', 'ripen', 'plainer', 'strawberry-b', 'cabbage-b', 'carte-blanche.', 'deleg', 'aunt.', 'pink', 'anyth', 'spurn', 'dust', 'dirt', 'dusti', 'humourist.', 'speciou', 'lurk', 'upbraid', 'credul', 'unask', 'mid-day', 'al-fresco', 'characterist', 'stream', 'timber', 'root', 'rambl', 'rooms.', 'understanding.', 'strawberry-beds.', 'apparatu', 'wholesome.', 'sorts.', 'eatabl', 'chili', 'flavour', 'cultiv', 'cherri', 'currant', 'uneasy.', 'immediately.', 'removal.', 'pertinac', 'grounds.', 'pillar', 'erect', 'termin', 'pretty.', 'slope', 'steeper', 'curv', 'verdur', 'appendag', 'pastur', 'blossom', 'column', 'smoke', 'ascending.', 'etc', 'story.', 'repast', 'fish-pond', 'clover', 'engrav', 'drawer', 'medal', 'cameo', 'coral', 'shell', 'cabinet', 'methodical.', 'ground-plot', 'escape.', 'directly.', 'pond', 'danger.', 'st.', 'venic', 'etc.', 'defin', 'incident', 'climat', 'prescrib', 'thwart', 'madeira', 'par', 'crosser', 'harmonis', 'collat', 'flirt', 'overcam', 'unanswer', 'mickleham', 'dork', 'carelessli', 'brunt', 'emphat', 'sha', 'mock', 'is.', 'guess.', 'em-ma.', 'acrost', 'ill-luck', 'ru', 'confeder', 'overtak', 'car', 'ill-assort', 'badli', 'motionless', 'sullen', 'brutal', 'misspent', 'back-gammon', 'penit', 'volubl', 'twinkl', 'ungener', 'indefatig', 'pleasure.', 'sum', 'abdi', 'twenty-seven', 'bed-ridden', 'rheumat', 'gout', 'tom', 'houseroom', 'pensiv', 'heighten', 'instantan', 'honoured.', 'perceive.', 'more.', 'nature.', 'amity.', 'undecid', 'dilatori', 'pleasanter.', 'unfinish', 'background', 'six-and-thirti', 'goldsmith', 'ill-fam', 'twenty-f', 'hem', 'commiser', 'earliest', 'guidabl', 'endang', 'funer', 'lavish', 'verbal', 'derang', 'pulmonari', 'undertaken', 'tremul', 'diet', 'nourish', 'peremptorili', 'reprov', 'parlour-door', 'replied.', 'terror.', 'sacr', 'hope.', 'undesir', 'otways.', 'horror-struck', 'said.', 'darl', 'placid', 'expressli', 'integr', 'adher', 'transact', 'indelicaci', 'conviction.', 'vault', 'undu', 'hour.', 'hypocrisi', 'espionag', 'leagu', 'hear.', 'luck.', 'intreat', 'deviat', \"fairfax's.\", 'condol', 'congratulation.', 'brisk', 'palliat', 'torment', 'prophet', 'disservice.', 'guilti', 'insuffici', 'dreadful.', 'cure.', 'insignific', 'over.', 'prosperous.', 'jealousy.', 'rival', 'rack', 'storeroom', 'would.', 'token', 'might.', 'stoutli', 'rescue.', 'modestli', 'arrow', 'indel', 'irrat', 'demerit', 'delight.', 'create.', 'inward', 'detail.', 'tautolog', 'corrobor', 'dances.', 'extent.', 'agreement', 'feelings.', 'unsuspect', 'undiscern', 'lime-walk', 'spontan', 'thoughts.', 'amidst', 'decept', 'postur', 'weakli', 'involuntari', 'institut', 'comparison.', 'kind.', 'threadbar', 'stale', 'thought.', 'impossible.', 'captiv', 'sequel', 'formerly.', 'felt.', \"knightley's.\", 'self-consequ', 'worldli', 'affection.', 'impartiality.', 'clear-sight', 'goodwill.', 'satisfied.', 'secured.', 'incompat', 'were.', 'wretchedli', 'farther.', 'irritate.', 'confidenti', 'wake', 'daughter-in-law', 'elect', 'heart-felt', 'pent', 'energet', 'attest', 'expiat', 'inquietud', 'captiou', 'unansw', 'closer', 'leviti', 'stab', 'stormi', 'despoil', 'erron', 'brighten', 'also.', 'loneli', 'seren', 'shrubbery.', 'unquestion', 'distant.', 'yes.', 'begin.', 'suspicions.', 'caution.', 'wound.', 'scoundrel', 'steadier', 'reason.', 'deserve.', 'reverse.', 'clemenc', 'pleased.', 'trifling.', 'chance.', 'disinterested', 'puriti', 'wants.', 'mortals.', 'good.', 'dies.', 'speak.', 'happiness.', 'startl', 'envy.', 'curiosity.', 'unsaid', 'indecis', 'awaken', 'convincing.', 'am.', 'veloc', 'groundless', 'not.', 'flight', 'smooth.', 'entreated.', 'crush', 'material.', 'enchanting.', 'equal.', 'distrust.', 'enlighten', 'country.', 'attentions.', 'indifferent.', 'brillianc', 'longer.', \"morning'\", 'keen', 'ridden', 'faultless', 'low.', 'villain.', 'desperate.', 'respit', 'western', 'plot', 'breast', 'lung', 'impend', 'self-content', 'sleepless', 'tax', 'wept', 'divest', 'square.', 'stolen', 'liter', 'reinstat', 'deprec', 'wade', 'packet', 'enclos', 'effect.', 'preface.', 'lately.', 'ungeni', 'north-east', 'wind.', 'windsor-juli', 'indulgence.', 'brick', 'creation', 'humiliation.', 'ought.', 'thrown.', 'wish.', 'goodhumour', 'expir', 'acquitt', 'queer', 'f', 'designedli', 'merit.', 'insan', 'encroach.', 'unseason', 'ult.', 'shrunk', 'refinement.', 'retrospect', 'blameabl', 'enough.', 'quarrelled.', 'dissatisfact', 'useless', 'suspected.', 'resent.', 'advances.', 'hatr', 'bandi', 'multipl', 'uneasiness.', 'captious.', 'misconstru', 'only.', 'sort.', 'wan', 'looks.', 'alone.', 'subscrib', 'foretold', 'urge.', 'disapprob', 'acquittal.', 'convenience.', 'fathom', 'intrigu', 'others.', 'pervert', 'boyish', 'unnecessarily.', 'contend', 'observation.', 'natural.', 'dissolv', 'reconciliation.', 'thanker', 'thousands.', 'inadmiss', 'evinc', 'sacrif', 'unprovid', 'heir-expect', 'outweigh', 'loser', 'separate.', 'stroke', 'invention.', 'tooth', 'care.', 'persuadable.', 'present.', 'unsuccess', 'unsuspected.', 'name.', 'intelligible.', 'wanted.', 'purpl', 'gold', 'reticul', 'gone.', 'behaviour.', 'mum', 'wise.', 'observe.', 'minist', 'side-gl', 'physician', 'windsor.', 'some.', 'recovered.', 'glad.', 'power.', 'commonli', 'overcome.', 'bates.', 'night.', 'other.', 'overs', 'churchwarden', 'i.', 'fortnight.', 'screen', 'consultation.', 'lead.', 'to-morrow.', 'side.', 'patronag', 'solid', 'perfection.', 'already.', 'greet', 'appeared.', 'sampl', 'wife.', 'broil', 'expected.', 'woods.', 'must.', 'remiss.', 'harri', 'sideboard', 'receipt', 'aggress', 'correct.', 'collectedli', 'artifici', 'act.', 'well-do', 'baronn', \"d'alman\", 'comtess', \"d'ostali\", 'de', 'genli', 'theodor', 'infanc', 'spoilt', 'dint', 'anna', 'so-and-so', 'sound.', 'ters', 'k.', 'n.', 'm.', 'womanli', 'unment', 'make.', 'misfortune.', 'taylor.', 'idea.', 'rest.', 'occasion.', 'secondli', 'feign', 'event.', 'utmost.', 'singularli', 'ago.', 'renounc', 'impedi', 'knee', 'outgrown', 'familiaris', 'sagac', 'vicarage.', 'daringli', 'qualities.', 'least.', 'day.', 'flush', 'feared.', 'recours', 'workbasket', 'john.', 'vain.', 'interesting.', 'great.', 'overflow', 'broadli', 'soft-heart', 'cattl', 'drill', 'ox', 'emphasi', 'brightest', 'util', 'head.', 'security.', 'humil', 'circumspect', 'dole', 'heartfelt', 'equivoc', 'gayest', 'arrived.', 'forbad', 'service.', 'bond', 'northward.', 'access', 'paused.', 'satisfaction.', 'fair.', 'archli', 'dog', 'had.', 'mirth', 'in.', 'readier', 'jewel', 'laughing.', 'partli', 'entertainingli', 'xix', 'unbias', 'presumptu', 'self-deceiv', 'unqualifi', 'irresistible.', 'unintellig', 'tradesman', 'decent', 'unbleach', 'nobil', 'regretted.', 'impair.', 'clergyman', 'altar', 'campbells.', 'intermedi', 'seasid', 'plan.', 'hopeless.', 'illumin', 'poultry-hous', 'rob', 'turkey', 'poultry-yard', 'suffered.', 'pilfer', 'fears.', 'safe.', 'own.', 'satin', 'veil', 'band', 'fini']\n"
     ]
    }
   ],
   "source": [
    "#LDA모델\n",
    "# 모델생성\n",
    "model = tp.LDAModel(k=5, min_cf=5)\n",
    "# 전처리 후 모형에 추가\n",
    "model.add_doc(tokenize(emma_raw))\n",
    "# 0회 학습\n",
    "model.train(0)\n",
    "print('Total docs:', len(model.docs))\n",
    "print('Total words:', model.num_words)\n",
    "print(model.vocabs)"
   ]
  },
  {
   "cell_type": "code",
   "execution_count": 6,
   "metadata": {},
   "outputs": [
    {
     "name": "stdout",
     "output_type": "stream",
     "text": [
      "[('much', 0.02730192430317402), ('emma', 0.02602687105536461)]\n",
      "Topic #0\tmuch, emma\n",
      "[('could', 0.029140541329979897), ('one', 0.02802216447889805)]\n",
      "Topic #1\tcould, one\n",
      "[('mrs.', 0.04703768342733383), ('would', 0.04161332920193672)]\n",
      "Topic #2\tmrs., would\n",
      "[('think', 0.030721284449100494), ('emma', 0.030056335031986237)]\n",
      "Topic #3\tthink, emma\n",
      "[('mr.', 0.03733336552977562), ('come', 0.028377624228596687)]\n",
      "Topic #4\tmr., come\n"
     ]
    }
   ],
   "source": [
    "#100회 학습\n",
    "model.train(100)\n",
    "for i in range(model.k):\n",
    "    # 5개의 토픽별 상위 단어 2개 추출\n",
    "    res = model.get_topic_words(i, top_n=2)\n",
    "    print(res)\n",
    "    print(f'Topic #{i}', end='\\t')\n",
    "    print(', '.join(w for w, p in res))"
   ]
  },
  {
   "cell_type": "code",
   "execution_count": null,
   "metadata": {},
   "outputs": [],
   "source": []
  }
 ],
 "metadata": {
  "kernelspec": {
   "display_name": "base",
   "language": "python",
   "name": "python3"
  },
  "language_info": {
   "codemirror_mode": {
    "name": "ipython",
    "version": 3
   },
   "file_extension": ".py",
   "mimetype": "text/x-python",
   "name": "python",
   "nbconvert_exporter": "python",
   "pygments_lexer": "ipython3",
   "version": "3.9.13"
  },
  "orig_nbformat": 4
 },
 "nbformat": 4,
 "nbformat_minor": 2
}
