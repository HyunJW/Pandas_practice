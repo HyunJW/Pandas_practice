{
 "cells": [
  {
   "attachments": {},
   "cell_type": "markdown",
   "metadata": {},
   "source": [
    "### 원핫인코딩\n",
    "- 단어의 순서에 맞게 배열\n",
    "- 단점\n",
    "    - 단어 갯수가 많아지면 변수의 갯수가 많아지게 됨\n",
    "    - 메모리 활용의 비효율성\n",
    "    - 비슷한 단어들의 유사성을 표현하기 어려움"
   ]
  },
  {
   "cell_type": "code",
   "execution_count": 2,
   "metadata": {},
   "outputs": [
    {
     "name": "stdout",
     "output_type": "stream",
     "text": [
      "['나', '는', '학교', '에', '간다', '나', '는', '집', '에', '간다']\n"
     ]
    }
   ],
   "source": [
    "#토큰화(형태소 분석)\n",
    "from konlpy.tag import Okt\n",
    "okt = Okt()\n",
    "token = okt.morphs(\"나는 학교에 간다 나는 집에 간다\")\n",
    "print(token)"
   ]
  },
  {
   "cell_type": "code",
   "execution_count": 3,
   "metadata": {},
   "outputs": [
    {
     "name": "stdout",
     "output_type": "stream",
     "text": [
      "{'나': 0, '는': 1, '학교': 2, '에': 3, '간다': 4, '집': 5}\n"
     ]
    }
   ],
   "source": [
    "#중복된 단어는 제외하고 단어를 key로 고유한 숫자 인덱스 부여\n",
    "word2index ={}\n",
    "for idx, voca in enumerate(token):\n",
    "    if voca not in word2index.keys():\n",
    "        word2index[voca] = len(word2index)\n",
    "print(word2index)        "
   ]
  },
  {
   "cell_type": "code",
   "execution_count": 4,
   "metadata": {},
   "outputs": [
    {
     "name": "stdout",
     "output_type": "stream",
     "text": [
      "dict_keys(['나', '는', '학교', '에', '간다', '집'])\n",
      "나 [1, 0, 0, 0, 0, 0]\n",
      "는 [0, 1, 0, 0, 0, 0]\n",
      "학교 [0, 0, 1, 0, 0, 0]\n",
      "에 [0, 0, 0, 1, 0, 0]\n",
      "간다 [0, 0, 0, 0, 1, 0]\n",
      "집 [0, 0, 0, 0, 0, 1]\n"
     ]
    }
   ],
   "source": [
    "#원핫인코딩 함수\n",
    "def one_hot_encoding(word, word2index):\n",
    "    # 전체 단어 개수만큼 0으로 채운 리스트\n",
    "    one_hot_vector = [0] * (len(word2index))\n",
    "    # 해당하는 단어의 인덱스를 찾아서 1로 설정\n",
    "    index = word2index[word]\n",
    "    one_hot_vector[index] = 1\n",
    "    return one_hot_vector\n",
    "\n",
    "key_list = word2index.keys()\n",
    "print(key_list)\n",
    "\n",
    "for key in key_list:\n",
    "    print(key, one_hot_encoding(key, word2index))"
   ]
  },
  {
   "cell_type": "code",
   "execution_count": 5,
   "metadata": {},
   "outputs": [
    {
     "name": "stdout",
     "output_type": "stream",
     "text": [
      "{'나는': 1, '간다': 2, '학교에': 3, '집에': 4}\n"
     ]
    }
   ],
   "source": [
    "#케라스에서 지원하는 원핫인코딩 함수\n",
    "from keras.preprocessing.text import Tokenizer\n",
    "from keras.utils import to_categorical\n",
    "text = '나는 학교에 간다 나는 집에 간다'\n",
    "t = Tokenizer()\n",
    "# 각 단어에 대한 정수 인코딩\n",
    "t.fit_on_texts([text])\n",
    "print(t.word_index)"
   ]
  },
  {
   "cell_type": "code",
   "execution_count": 6,
   "metadata": {},
   "outputs": [
    {
     "name": "stdout",
     "output_type": "stream",
     "text": [
      "[1, 4, 2]\n"
     ]
    }
   ],
   "source": [
    "#각 단어에 매핑된 숫자로 변환된 리스트\n",
    "sub_text = '나는 집에 간다'\n",
    "encoded = t.texts_to_sequences([sub_text])[0]\n",
    "print(encoded)"
   ]
  }
 ],
 "metadata": {
  "kernelspec": {
   "display_name": "base",
   "language": "python",
   "name": "python3"
  },
  "language_info": {
   "codemirror_mode": {
    "name": "ipython",
    "version": 3
   },
   "file_extension": ".py",
   "mimetype": "text/x-python",
   "name": "python",
   "nbconvert_exporter": "python",
   "pygments_lexer": "ipython3",
   "version": "3.9.13"
  },
  "orig_nbformat": 4
 },
 "nbformat": 4,
 "nbformat_minor": 2
}
