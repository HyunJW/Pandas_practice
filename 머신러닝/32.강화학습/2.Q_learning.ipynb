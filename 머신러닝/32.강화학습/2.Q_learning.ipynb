{
 "cells": [
  {
   "cell_type": "code",
   "execution_count": 1,
   "metadata": {},
   "outputs": [],
   "source": [
    "#환경 생성\n",
    "import gym\n",
    "import numpy as np\n",
    "env = gym.make('FrozenLake-v1')"
   ]
  },
  {
   "cell_type": "code",
   "execution_count": 2,
   "metadata": {},
   "outputs": [
    {
     "data": {
      "text/plain": [
       "array([[0., 0., 0., 0.],\n",
       "       [0., 0., 0., 0.],\n",
       "       [0., 0., 0., 0.],\n",
       "       [0., 0., 0., 0.],\n",
       "       [0., 0., 0., 0.],\n",
       "       [0., 0., 0., 0.],\n",
       "       [0., 0., 0., 0.],\n",
       "       [0., 0., 0., 0.],\n",
       "       [0., 0., 0., 0.],\n",
       "       [0., 0., 0., 0.],\n",
       "       [0., 0., 0., 0.],\n",
       "       [0., 0., 0., 0.],\n",
       "       [0., 0., 0., 0.],\n",
       "       [0., 0., 0., 0.],\n",
       "       [0., 0., 0., 0.],\n",
       "       [0., 0., 0., 0.]])"
      ]
     },
     "execution_count": 2,
     "metadata": {},
     "output_type": "execute_result"
    }
   ],
   "source": [
    "#Q값을 저장할 테이블 초기화(rows: cell의 수, cols: 이동할 수 있는 방향의 수)\n",
    "q_func = np.zeros((16, 4))\n",
    "q_func"
   ]
  },
  {
   "cell_type": "code",
   "execution_count": 3,
   "metadata": {},
   "outputs": [],
   "source": [
    "#총 보상\n",
    "total_reward = 0.0"
   ]
  },
  {
   "cell_type": "code",
   "execution_count": 4,
   "metadata": {},
   "outputs": [],
   "source": [
    "#게임 시작\n",
    "for i_episode in range(10000):\n",
    "    # 초기화\n",
    "    observation = env.reset()\n",
    "    \n",
    "    # 현재 게임의 보상\n",
    "    episode_reward = 0.0\n",
    "    \n",
    "    for t in range(100):\n",
    "        # 1턴 실행 후의 위치를 현재 위치로 설정\n",
    "        current_state = observation\n",
    "    \n",
    "        if np.random.rand() < 0.1:\n",
    "            # 무작위로 행동 선택\n",
    "            action = env.action_space.sample()\n",
    "        else:\n",
    "            # Q값이 최대가 되는 행동 선택\n",
    "            action = np.argmax(q_func[current_state])\n",
    "    \n",
    "        # 1턴 실행\n",
    "        observation, reward, done, info = env.step(action)\n",
    "\n",
    "        # Q값 업데이트(학습률 0.3, 할인율 0.99): 할인율을 곱하고 보상을 더한 값으로 Q를 업데이트\n",
    "        q_func[current_state, action] += 0.3 * (reward + 0.99*np.max(q_func[observation, :]) - q_func[current_state, action])\n",
    "    \n",
    "        # 종료\n",
    "        if done:\n",
    "            # 현재 게임 보상 누적 계산\n",
    "            episode_reward += reward\n",
    "    \n",
    "    # 총 보상 누적 계산\n",
    "    total_reward += episode_reward"
   ]
  },
  {
   "cell_type": "code",
   "execution_count": 5,
   "metadata": {},
   "outputs": [
    {
     "name": "stdout",
     "output_type": "stream",
     "text": [
      "3226.0\n",
      "0.3226\n"
     ]
    }
   ],
   "source": [
    "# 총 보상\n",
    "print(total_reward)\n",
    "\n",
    "# 게임당 평균 보상\n",
    "print(total_reward/10000)"
   ]
  },
  {
   "cell_type": "code",
   "execution_count": 6,
   "metadata": {},
   "outputs": [
    {
     "data": {
      "text/plain": [
       "array([[0.46281952, 0.44993519, 0.45739872, 0.45097567],\n",
       "       [0.23481972, 0.13409961, 0.16752168, 0.44442423],\n",
       "       [0.37658699, 0.40648862, 0.3871895 , 0.4252264 ],\n",
       "       [0.31859574, 0.30019224, 0.18536329, 0.41251903],\n",
       "       [0.48724752, 0.41802508, 0.30532628, 0.36757643],\n",
       "       [0.        , 0.        , 0.        , 0.        ],\n",
       "       [0.27341345, 0.16523149, 0.21609744, 0.09425668],\n",
       "       [0.        , 0.        , 0.        , 0.        ],\n",
       "       [0.31521095, 0.43695078, 0.28687285, 0.52819019],\n",
       "       [0.43819068, 0.52448097, 0.1341875 , 0.3274763 ],\n",
       "       [0.42233908, 0.35824783, 0.18171297, 0.2618256 ],\n",
       "       [0.        , 0.        , 0.        , 0.        ],\n",
       "       [0.        , 0.        , 0.        , 0.        ],\n",
       "       [0.55205848, 0.55531745, 0.61059331, 0.56784946],\n",
       "       [0.62503953, 0.63626521, 0.7529489 , 0.6359426 ],\n",
       "       [0.        , 0.        , 0.        , 0.        ]])"
      ]
     },
     "execution_count": 6,
     "metadata": {},
     "output_type": "execute_result"
    }
   ],
   "source": [
    "# 학습된 Q값\n",
    "q_func"
   ]
  },
  {
   "cell_type": "code",
   "execution_count": 7,
   "metadata": {},
   "outputs": [],
   "source": [
    "#학습된 Q값을 사용하여 게임 진행\n",
    "# 총 보상\n",
    "total_reward = 0.0\n",
    "\n",
    "frames=[]\n",
    "\n",
    "# 게임 시작\n",
    "for i_episode in range(10):\n",
    "    # 초기화\n",
    "    observation = env.reset()\n",
    "    \n",
    "    # 현재 게임의 보상\n",
    "    episode_reward = 0.0\n",
    "    \n",
    "    for t in range(100):\n",
    "        # 1턴 실행 후의 위치를 현재 위치로 삼음\n",
    "        current_state = observation\n",
    "        \n",
    "        # Q값이 최대가 되는 행동을 선택함\n",
    "        action = np.argmax(q_func[current_state])\n",
    "        \n",
    "        # 1턴 실행\n",
    "        observation, reward, done, info = env.step(action)\n",
    "        \n",
    "        # 애니메이션을 위하여 정보 기록\n",
    "        frames.append({\n",
    "            'frame': env.render(mode='ansi'),\n",
    "            'state': observation,\n",
    "            'action': action,\n",
    "            'reward': reward\n",
    "            }\n",
    "        )   \n",
    "\n",
    "        # 종료\n",
    "        if done:\n",
    "            # 현재 게임 보상 누적 계산\n",
    "            episode_reward += reward\n",
    "    # 총 보상 누적 계산\n",
    "    total_reward += episode_reward"
   ]
  },
  {
   "cell_type": "code",
   "execution_count": 8,
   "metadata": {},
   "outputs": [
    {
     "name": "stdout",
     "output_type": "stream",
     "text": [
      "6.0\n",
      "0.006\n"
     ]
    }
   ],
   "source": [
    "# 총 보상\n",
    "print(total_reward)\n",
    "\n",
    "# 게임당 평균 보상\n",
    "print(total_reward/1000)"
   ]
  },
  {
   "cell_type": "code",
   "execution_count": 9,
   "metadata": {},
   "outputs": [
    {
     "name": "stdout",
     "output_type": "stream",
     "text": [
      "  (Left)\n",
      "SFFF\n",
      "FHFH\n",
      "FFFH\n",
      "HFF\u001b[41mG\u001b[0m\n",
      "\n",
      "Timestep: 1000\n",
      "State: 15\n",
      "Action: 0\n",
      "Reward: 0\n"
     ]
    }
   ],
   "source": [
    "from IPython.display import clear_output\n",
    "from time import sleep\n",
    "\n",
    "def print_frames(frames):\n",
    "    for i, frame in enumerate(frames):\n",
    "        clear_output(wait=True)\n",
    "        print(frame['frame'])\n",
    "        print(f\"Timestep: {i + 1}\")\n",
    "        print(f\"State: {frame['state']}\")\n",
    "        print(f\"Action: {frame['action']}\")\n",
    "        print(f\"Reward: {frame['reward']}\")\n",
    "        sleep(.1)\n",
    "        \n",
    "print_frames(frames)"
   ]
  },
  {
   "cell_type": "code",
   "execution_count": null,
   "metadata": {},
   "outputs": [],
   "source": []
  }
 ],
 "metadata": {
  "kernelspec": {
   "display_name": "base",
   "language": "python",
   "name": "python3"
  },
  "language_info": {
   "codemirror_mode": {
    "name": "ipython",
    "version": 3
   },
   "file_extension": ".py",
   "mimetype": "text/x-python",
   "name": "python",
   "nbconvert_exporter": "python",
   "pygments_lexer": "ipython3",
   "version": "3.9.13"
  },
  "orig_nbformat": 4
 },
 "nbformat": 4,
 "nbformat_minor": 2
}
