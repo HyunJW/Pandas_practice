{
 "cells": [
  {
   "cell_type": "code",
   "execution_count": 1,
   "metadata": {},
   "outputs": [
    {
     "name": "stdout",
     "output_type": "stream",
     "text": [
      "[5 0 4 1 9]\n"
     ]
    }
   ],
   "source": [
    "#학습용, 검증용 분리\n",
    "from keras.datasets import mnist\n",
    "(X_train, y_train), (X_test, y_test) = mnist.load_data()\n",
    "print(y_train[:5])"
   ]
  },
  {
   "cell_type": "code",
   "execution_count": 2,
   "metadata": {},
   "outputs": [
    {
     "name": "stdout",
     "output_type": "stream",
     "text": [
      "[[0. 0. 0. 0. 0. 1. 0. 0. 0. 0.]\n",
      " [1. 0. 0. 0. 0. 0. 0. 0. 0. 0.]\n",
      " [0. 0. 0. 0. 1. 0. 0. 0. 0. 0.]\n",
      " [0. 1. 0. 0. 0. 0. 0. 0. 0. 0.]\n",
      " [0. 0. 0. 0. 0. 0. 0. 0. 0. 1.]]\n"
     ]
    }
   ],
   "source": [
    "#원핫인코딩\n",
    "from keras.utils import np_utils\n",
    "y_train = np_utils.to_categorical(y_train)\n",
    "print(y_train[:5])\n",
    "y_test = np_utils.to_categorical(y_test)\n",
    "L, W, H = X_train.shape"
   ]
  },
  {
   "cell_type": "code",
   "execution_count": 3,
   "metadata": {},
   "outputs": [],
   "source": [
    "#정규화\n",
    "X_train = X_train.reshape(-1, W*H)\n",
    "X_test = X_test.reshape(-1, W*H)\n",
    "X_train = X_train / 255.0\n",
    "X_test = X_test / 255.0"
   ]
  },
  {
   "cell_type": "code",
   "execution_count": 4,
   "metadata": {},
   "outputs": [],
   "source": [
    "#분류 DNN 모델 구현 함수\n",
    "from keras.layers import Dense, Dropout\n",
    "from keras.models import Sequential\n",
    "def make_model(input_number, layers, output_number):\n",
    "    # 모델 초기화\n",
    "    model = Sequential()\n",
    "    model.add(Dense(layers[0], activation='relu', input_shape=(input_number,)))\n",
    "    model.add(Dense(layers[1], activation='relu'))\n",
    "    model.add(Dense(layers[2], activation='relu'))\n",
    "    # 드롭아웃\n",
    "    model.add(Dropout(0.2))\n",
    "    # 출력층\n",
    "    model.add(Dense(output_number, activation='softmax', name='output'))\n",
    "    model.compile(loss='categorical_crossentropy', optimizer='adam', metrics=['accuracy'])\n",
    "    return model"
   ]
  },
  {
   "cell_type": "code",
   "execution_count": 5,
   "metadata": {},
   "outputs": [
    {
     "name": "stdout",
     "output_type": "stream",
     "text": [
      "Model: \"sequential\"\n",
      "_________________________________________________________________\n",
      " Layer (type)                Output Shape              Param #   \n",
      "=================================================================\n",
      " dense (Dense)               (None, 1428)              1120980   \n",
      "                                                                 \n",
      " dense_1 (Dense)             (None, 64)                91456     \n",
      "                                                                 \n",
      " dense_2 (Dense)             (None, 32)                2080      \n",
      "                                                                 \n",
      " dropout (Dropout)           (None, 32)                0         \n",
      "                                                                 \n",
      " output (Dense)              (None, 10)                330       \n",
      "                                                                 \n",
      "=================================================================\n",
      "Total params: 1,214,846\n",
      "Trainable params: 1,214,846\n",
      "Non-trainable params: 0\n",
      "_________________________________________________________________\n"
     ]
    }
   ],
   "source": [
    "#모델 생성\n",
    "input_number = 784 # 28x28\n",
    "hidden_layers = [1428, 64, 32] # 은닉층\n",
    "number_of_class = 10\n",
    "output_number = number_of_class\n",
    "model = make_model(input_number, hidden_layers, output_number)\n",
    "model.summary()"
   ]
  },
  {
   "cell_type": "code",
   "execution_count": 6,
   "metadata": {},
   "outputs": [
    {
     "name": "stdout",
     "output_type": "stream",
     "text": [
      "Epoch 1/5\n",
      "375/375 [==============================] - 3s 5ms/step - loss: 0.3786 - accuracy: 0.8886 - val_loss: 0.1308 - val_accuracy: 0.9616\n",
      "Epoch 2/5\n",
      "375/375 [==============================] - 2s 5ms/step - loss: 0.1342 - accuracy: 0.9626 - val_loss: 0.0980 - val_accuracy: 0.9710\n",
      "Epoch 3/5\n",
      "375/375 [==============================] - 2s 5ms/step - loss: 0.0854 - accuracy: 0.9752 - val_loss: 0.0905 - val_accuracy: 0.9712\n",
      "Epoch 4/5\n",
      "375/375 [==============================] - 2s 5ms/step - loss: 0.0616 - accuracy: 0.9819 - val_loss: 0.0901 - val_accuracy: 0.9744\n",
      "Epoch 5/5\n",
      "375/375 [==============================] - 2s 4ms/step - loss: 0.0486 - accuracy: 0.9859 - val_loss: 0.0935 - val_accuracy: 0.9747\n"
     ]
    }
   ],
   "source": [
    "#모델 학습\n",
    "hist = model.fit(X_train, y_train, epochs=5, batch_size=128, validation_split=0.2)"
   ]
  },
  {
   "cell_type": "code",
   "execution_count": 7,
   "metadata": {},
   "outputs": [
    {
     "name": "stdout",
     "output_type": "stream",
     "text": [
      "79/79 [==============================] - 0s 2ms/step - loss: 0.0815 - accuracy: 0.9774\n"
     ]
    },
    {
     "data": {
      "text/plain": [
       "[0.08152032643556595, 0.977400004863739]"
      ]
     },
     "execution_count": 7,
     "metadata": {},
     "output_type": "execute_result"
    }
   ],
   "source": [
    "#모델 평가\n",
    "model.evaluate(X_test, y_test, batch_size=128)"
   ]
  },
  {
   "cell_type": "code",
   "execution_count": 8,
   "metadata": {},
   "outputs": [
    {
     "data": {
      "image/png": "[encoded data removed]",
      "text/plain": [
       "<Figure size 640x480 with 1 Axes>"
      ]
     },
     "metadata": {},
     "output_type": "display_data"
    }
   ],
   "source": [
    "# 모델 학습 과정 표시\n",
    "import matplotlib.pyplot as plt\n",
    "plt.plot(hist.history['loss'])\n",
    "plt.plot(hist.history['accuracy'])\n",
    "plt.plot(hist.history['val_loss'])\n",
    "plt.plot(hist.history['val_accuracy'])\n",
    "plt.legend(['loss','accuracy','val_loss','val_accuracy'])\n",
    "plt.show()"
   ]
  },
  {
   "cell_type": "code",
   "execution_count": null,
   "metadata": {},
   "outputs": [],
   "source": []
  }
 ],
 "metadata": {
  "kernelspec": {
   "display_name": "base",
   "language": "python",
   "name": "python3"
  },
  "language_info": {
   "codemirror_mode": {
    "name": "ipython",
    "version": 3
   },
   "file_extension": ".py",
   "mimetype": "text/x-python",
   "name": "python",
   "nbconvert_exporter": "python",
   "pygments_lexer": "ipython3",
   "version": "3.9.13"
  },
  "orig_nbformat": 4
 },
 "nbformat": 4,
 "nbformat_minor": 2
}
