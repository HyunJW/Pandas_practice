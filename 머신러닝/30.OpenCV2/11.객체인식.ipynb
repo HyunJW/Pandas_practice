{
 "cells": [
  {
   "cell_type": "code",
   "execution_count": 1,
   "metadata": {},
   "outputs": [],
   "source": [
    "import cv2\n",
    "img = cv2.imread(\"c:/data/images/image.jpg\")\n",
    "img=cv2.resize(img, (640,480))\n",
    "img_object = cv2.imread(\"c:/data/images/object.jpg\", cv2.IMREAD_GRAYSCALE)\n",
    "gray = cv2.cvtColor(img, cv2.COLOR_BGR2GRAY)"
   ]
  },
  {
   "cell_type": "code",
   "execution_count": 2,
   "metadata": {},
   "outputs": [],
   "source": [
    "#특징점 검출 알고리즘\n",
    "orb = cv2.ORB_create(nfeatures=40000)\n",
    "# 특징점과 특징디스크립터 계산\n",
    "# 특징 디스크립터: 특징점 주변 픽셀을 일정한 크기의 블록으로 나누어 \n",
    "# 각 블록에 속한 픽셀의 그레디언트 히스토그램을 계산한 것(특징점 주변의 밝기, 색상, 방향, 크기 등의 정보)\n",
    "kp1, des1 = orb.detectAndCompute(gray, None)\n",
    "kp2, des2 = orb.detectAndCompute(img_object, None)\n",
    "# 유사도 계산\n",
    "bf = cv2.BFMatcher(cv2.NORM_HAMMING, crossCheck=True)\n",
    "matches = bf.match(des1, des2)\n",
    "matches = sorted(matches, key=lambda x: x.distance)\n",
    "count = 100\n",
    "for i in matches[:count]:\n",
    "    idx = i.queryIdx\n",
    "    x1, y1 = kp1[idx].pt\n",
    "    cv2.circle(img, (int(x1),int(y1)), 3, (0,0,255), 3)\n",
    "cv2.imshow(\"img\", img)\n",
    "cv2.waitKey(0)\n",
    "cv2.destroyAllWindows()"
   ]
  },
  {
   "cell_type": "code",
   "execution_count": null,
   "metadata": {},
   "outputs": [],
   "source": []
  }
 ],
 "metadata": {
  "kernelspec": {
   "display_name": "base",
   "language": "python",
   "name": "python3"
  },
  "language_info": {
   "codemirror_mode": {
    "name": "ipython",
    "version": 3
   },
   "file_extension": ".py",
   "mimetype": "text/x-python",
   "name": "python",
   "nbconvert_exporter": "python",
   "pygments_lexer": "ipython3",
   "version": "3.9.13"
  },
  "orig_nbformat": 4
 },
 "nbformat": 4,
 "nbformat_minor": 2
}
