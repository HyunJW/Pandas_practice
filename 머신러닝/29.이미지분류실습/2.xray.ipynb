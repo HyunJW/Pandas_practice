{
 "cells": [
  {
   "cell_type": "code",
   "execution_count": 1,
   "metadata": {},
   "outputs": [
    {
     "name": "stdout",
     "output_type": "stream",
     "text": [
      "[PhysicalDevice(name='/physical_device:GPU:0', device_type='GPU')]\n"
     ]
    }
   ],
   "source": [
    "import tensorflow as tf\n",
    "gpus = tf.config.experimental.list_physical_devices('GPU')\n",
    "print(gpus)\n",
    "if gpus:\n",
    "    try:\n",
    "        for gpu in gpus:\n",
    "            tf.config.experimental.set_memory_growth(gpu, True)\n",
    "    except RuntimeError as e:\n",
    "        print(e)"
   ]
  },
  {
   "cell_type": "code",
   "execution_count": 2,
   "metadata": {},
   "outputs": [],
   "source": [
    "import glob\n",
    "from PIL import Image\n",
    "import numpy as np\n",
    "all_images = []\n",
    "all_labels = []\n",
    "filenames=[]\n",
    "ages=[]\n",
    "img_size=(80, 100)\n",
    "for f in glob.glob('c:\\\\data\\\\xray\\\\**\\\\*.jpg', recursive=True):\n",
    "    arr = f.split('\\\\')\n",
    "    arr2 = arr[3].split(\"_\")\n",
    "    if arr2[1] == 'M':\n",
    "    # if arr2[1] == 'F':\n",
    "        img = Image.open(f)\n",
    "        filenames.append(arr[-1])\n",
    "        img_resize = img.resize((img_size[0], img_size[1]))\n",
    "        all_images.append(img_resize)\n",
    "        age = int(arr2[2].replace('yr', ''))\n",
    "        ages.append(age)"
   ]
  },
  {
   "cell_type": "code",
   "execution_count": 3,
   "metadata": {},
   "outputs": [
    {
     "data": {
      "text/plain": [
       "['332_M.jpg',\n",
       " '333_M.jpg',\n",
       " '334_M.jpg',\n",
       " '335_M.jpg',\n",
       " '336_M.jpg',\n",
       " '337_M.jpg',\n",
       " '338_M.jpg',\n",
       " '339_M.jpg',\n",
       " '340_M.jpg',\n",
       " '341_M.jpg']"
      ]
     },
     "execution_count": 3,
     "metadata": {},
     "output_type": "execute_result"
    }
   ],
   "source": [
    "filenames[:10]"
   ]
  },
  {
   "cell_type": "code",
   "execution_count": 4,
   "metadata": {},
   "outputs": [
    {
     "data": {
      "text/plain": [
       "[('332_M.jpg', 10, <PIL.Image.Image image mode=RGB size=80x100>),\n",
       " ('333_M.jpg', 10, <PIL.Image.Image image mode=RGB size=80x100>),\n",
       " ('334_M.jpg', 10, <PIL.Image.Image image mode=RGB size=80x100>),\n",
       " ('335_M.jpg', 10, <PIL.Image.Image image mode=RGB size=80x100>),\n",
       " ('336_M.jpg', 10, <PIL.Image.Image image mode=RGB size=80x100>),\n",
       " ('337_M.jpg', 10, <PIL.Image.Image image mode=RGB size=80x100>),\n",
       " ('338_M.jpg', 10, <PIL.Image.Image image mode=RGB size=80x100>),\n",
       " ('339_M.jpg', 10, <PIL.Image.Image image mode=RGB size=80x100>),\n",
       " ('340_M.jpg', 10, <PIL.Image.Image image mode=RGB size=80x100>),\n",
       " ('341_M.jpg', 10, <PIL.Image.Image image mode=RGB size=80x100>)]"
      ]
     },
     "execution_count": 4,
     "metadata": {},
     "output_type": "execute_result"
    }
   ],
   "source": [
    "items = list(zip(filenames, ages, all_images))\n",
    "items[:10]"
   ]
  },
  {
   "cell_type": "code",
   "execution_count": 5,
   "metadata": {},
   "outputs": [
    {
     "data": {
      "text/plain": [
       "665"
      ]
     },
     "execution_count": 5,
     "metadata": {},
     "output_type": "execute_result"
    }
   ],
   "source": [
    "len(all_images)"
   ]
  },
  {
   "cell_type": "code",
   "execution_count": 6,
   "metadata": {},
   "outputs": [
    {
     "data": {
      "text/plain": [
       "(100, 80, 3)"
      ]
     },
     "execution_count": 6,
     "metadata": {},
     "output_type": "execute_result"
    }
   ],
   "source": [
    "np.array(all_images[0]).shape"
   ]
  },
  {
   "cell_type": "code",
   "execution_count": 7,
   "metadata": {},
   "outputs": [
    {
     "data": {
      "text/plain": [
       "(666, 80, 100, 3)"
      ]
     },
     "execution_count": 7,
     "metadata": {},
     "output_type": "execute_result"
    }
   ],
   "source": [
    "X=np.empty((1, img_size[0], img_size[1], 3))\n",
    "for img in all_images:\n",
    "    X=np.vstack((X,np.array(img).reshape(1, img_size[0], img_size[1], 3)))\n",
    "X.shape"
   ]
  },
  {
   "cell_type": "code",
   "execution_count": 8,
   "metadata": {},
   "outputs": [],
   "source": [
    "X = np.delete(X, (0), axis=0)"
   ]
  },
  {
   "cell_type": "code",
   "execution_count": 9,
   "metadata": {},
   "outputs": [
    {
     "data": {
      "text/plain": [
       "(665, 80, 100, 3)"
      ]
     },
     "execution_count": 9,
     "metadata": {},
     "output_type": "execute_result"
    }
   ],
   "source": [
    "X.shape"
   ]
  },
  {
   "cell_type": "code",
   "execution_count": 10,
   "metadata": {},
   "outputs": [
    {
     "data": {
      "text/plain": [
       "array([10, 10, 10, 10, 10, 10, 10, 10, 10, 10])"
      ]
     },
     "execution_count": 10,
     "metadata": {},
     "output_type": "execute_result"
    }
   ],
   "source": [
    "y = np.array(ages)\n",
    "y[:10]"
   ]
  },
  {
   "cell_type": "code",
   "execution_count": 11,
   "metadata": {},
   "outputs": [
    {
     "data": {
      "image/png": "[encoded data removed]",
      "text/plain": [
       "<Figure size 640x480 with 1 Axes>"
      ]
     },
     "metadata": {},
     "output_type": "display_data"
    }
   ],
   "source": [
    "import matplotlib.pyplot as plt\n",
    "plt.imshow(all_images[0])\n",
    "plt.show()"
   ]
  },
  {
   "cell_type": "code",
   "execution_count": 12,
   "metadata": {},
   "outputs": [
    {
     "data": {
      "text/plain": [
       "((532, 80, 100, 3), (133, 80, 100, 3), (532,), (133,))"
      ]
     },
     "execution_count": 12,
     "metadata": {},
     "output_type": "execute_result"
    }
   ],
   "source": [
    "from sklearn.model_selection import train_test_split\n",
    "X_train, X_test, y_train, y_test = train_test_split(X, y, test_size=0.2, stratify=y, \n",
    "                                                    shuffle=True, random_state=10)\n",
    "X_train.shape, X_test.shape, y_train.shape, y_test.shape"
   ]
  },
  {
   "cell_type": "code",
   "execution_count": 13,
   "metadata": {},
   "outputs": [
    {
     "data": {
      "text/plain": [
       "4     40\n",
       "5     40\n",
       "6     40\n",
       "7     40\n",
       "8     40\n",
       "9     40\n",
       "10    40\n",
       "11    40\n",
       "12    40\n",
       "13    40\n",
       "14    40\n",
       "15    36\n",
       "3     25\n",
       "16    24\n",
       "17     7\n",
       "dtype: int64"
      ]
     },
     "execution_count": 13,
     "metadata": {},
     "output_type": "execute_result"
    }
   ],
   "source": [
    "import pandas as pd\n",
    "pd.DataFrame(y_train).value_counts()"
   ]
  },
  {
   "cell_type": "code",
   "execution_count": 14,
   "metadata": {},
   "outputs": [],
   "source": [
    "X_train = X_train.reshape(-1, img_size[0]*img_size[1]*3)\n",
    "X_test = X_test.reshape(-1, img_size[0]*img_size[1]*3)"
   ]
  },
  {
   "cell_type": "code",
   "execution_count": 15,
   "metadata": {},
   "outputs": [],
   "source": [
    "X_train = X_train/255.\n",
    "X_test = X_test/255."
   ]
  },
  {
   "cell_type": "code",
   "execution_count": 16,
   "metadata": {},
   "outputs": [],
   "source": [
    "X_train = X_train.reshape(-1, img_size[0], img_size[1], 3)\n",
    "X_test = X_test.reshape(-1, img_size[0], img_size[1], 3)"
   ]
  },
  {
   "cell_type": "code",
   "execution_count": 17,
   "metadata": {},
   "outputs": [],
   "source": [
    "y_train_backup = y_train\n",
    "y_test_backup = y_test"
   ]
  },
  {
   "cell_type": "code",
   "execution_count": 18,
   "metadata": {},
   "outputs": [
    {
     "name": "stdout",
     "output_type": "stream",
     "text": [
      "Model: \"sequential\"\n",
      "_________________________________________________________________\n",
      " Layer (type)                Output Shape              Param #   \n",
      "=================================================================\n",
      " conv2d (Conv2D)             (None, 80, 100, 64)       1792      \n",
      "                                                                 \n",
      " max_pooling2d (MaxPooling2D  (None, 40, 50, 64)       0         \n",
      " )                                                               \n",
      "                                                                 \n",
      " conv2d_1 (Conv2D)           (None, 38, 48, 64)        36928     \n",
      "                                                                 \n",
      " max_pooling2d_1 (MaxPooling  (None, 19, 24, 64)       0         \n",
      " 2D)                                                             \n",
      "                                                                 \n",
      " conv2d_2 (Conv2D)           (None, 17, 22, 64)        36928     \n",
      "                                                                 \n",
      " flatten (Flatten)           (None, 23936)             0         \n",
      "                                                                 \n",
      " dense (Dense)               (None, 64)                1531968   \n",
      "                                                                 \n",
      " dense_1 (Dense)             (None, 1)                 65        \n",
      "                                                                 \n",
      "=================================================================\n",
      "Total params: 1,607,681\n",
      "Trainable params: 1,607,681\n",
      "Non-trainable params: 0\n",
      "_________________________________________________________________\n"
     ]
    }
   ],
   "source": [
    "from keras.models import Sequential\n",
    "from keras.layers import Conv2D, MaxPooling2D, Dense, Flatten\n",
    "model = Sequential()\n",
    "model.add(Conv2D(64, (3,3), padding=\"same\",\n",
    "input_shape = X_train.shape[1:], activation='relu'))\n",
    "model.add(MaxPooling2D(2,2))\n",
    "model.add(Conv2D(64,(3,3), activation=\"relu\"))\n",
    "model.add(MaxPooling2D(2,2))\n",
    "model.add(Conv2D(64,(3,3), activation=\"relu\"))\n",
    "model.add(Flatten())\n",
    "model.add(Dense(64, activation=\"relu\"))\n",
    "model.add(Dense(1))\n",
    "model.compile(optimizer=\"rmsprop\", loss=\"mae\", metrics=[\"mae\"])\n",
    "model.summary()"
   ]
  },
  {
   "cell_type": "code",
   "execution_count": 19,
   "metadata": {},
   "outputs": [
    {
     "data": {
      "text/plain": [
       "((532, 80, 100, 3), (532,), (133, 80, 100, 3), (133,))"
      ]
     },
     "execution_count": 19,
     "metadata": {},
     "output_type": "execute_result"
    }
   ],
   "source": [
    "X_train.shape, y_train.shape, X_test.shape, y_test.shape"
   ]
  },
  {
   "cell_type": "code",
   "execution_count": 20,
   "metadata": {},
   "outputs": [
    {
     "name": "stdout",
     "output_type": "stream",
     "text": [
      "Epoch 1/100\n",
      "14/14 [==============================] - ETA: 0s - loss: 6.5066 - mae: 6.5066\n",
      "Epoch 1: val_mae improved from inf to 4.09655, saving model to c:/data/model\\xray_m_best.h5\n",
      "14/14 [==============================] - 3s 68ms/step - loss: 6.5066 - mae: 6.5066 - val_loss: 4.0966 - val_mae: 4.0966\n",
      "Epoch 2/100\n",
      "13/14 [==========================>...] - ETA: 0s - loss: 3.7959 - mae: 3.7959\n",
      "Epoch 2: val_mae improved from 4.09655 to 3.27443, saving model to c:/data/model\\xray_m_best.h5\n",
      "14/14 [==============================] - 0s 35ms/step - loss: 3.8026 - mae: 3.8026 - val_loss: 3.2744 - val_mae: 3.2744\n",
      "Epoch 3/100\n",
      "13/14 [==========================>...] - ETA: 0s - loss: 3.3549 - mae: 3.3549\n",
      "Epoch 3: val_mae did not improve from 3.27443\n",
      "14/14 [==============================] - 0s 31ms/step - loss: 3.4474 - mae: 3.4474 - val_loss: 4.1065 - val_mae: 4.1065\n",
      "Epoch 4/100\n",
      "13/14 [==========================>...] - ETA: 0s - loss: 3.4553 - mae: 3.4553\n",
      "Epoch 4: val_mae did not improve from 3.27443\n",
      "14/14 [==============================] - 0s 31ms/step - loss: 3.4293 - mae: 3.4293 - val_loss: 4.0056 - val_mae: 4.0056\n",
      "Epoch 5/100\n",
      "13/14 [==========================>...] - ETA: 0s - loss: 3.6352 - mae: 3.6352\n",
      "Epoch 5: val_mae did not improve from 3.27443\n",
      "14/14 [==============================] - 0s 31ms/step - loss: 3.6086 - mae: 3.6086 - val_loss: 3.6899 - val_mae: 3.6899\n",
      "Epoch 6/100\n",
      "13/14 [==========================>...] - ETA: 0s - loss: 3.3971 - mae: 3.3971\n",
      "Epoch 6: val_mae did not improve from 3.27443\n",
      "14/14 [==============================] - 0s 32ms/step - loss: 3.3716 - mae: 3.3716 - val_loss: 6.1687 - val_mae: 6.1687\n",
      "Epoch 7/100\n",
      "13/14 [==========================>...] - ETA: 0s - loss: 3.7358 - mae: 3.7358\n",
      "Epoch 7: val_mae improved from 3.27443 to 3.04720, saving model to c:/data/model\\xray_m_best.h5\n",
      "14/14 [==============================] - 0s 34ms/step - loss: 3.7099 - mae: 3.7099 - val_loss: 3.0472 - val_mae: 3.0472\n",
      "Epoch 8/100\n",
      "13/14 [==========================>...] - ETA: 0s - loss: 3.1132 - mae: 3.1132\n",
      "Epoch 8: val_mae did not improve from 3.04720\n",
      "14/14 [==============================] - 0s 32ms/step - loss: 3.1092 - mae: 3.1092 - val_loss: 4.4470 - val_mae: 4.4470\n",
      "Epoch 9/100\n",
      "13/14 [==========================>...] - ETA: 0s - loss: 3.2376 - mae: 3.2376\n",
      "Epoch 9: val_mae did not improve from 3.04720\n",
      "14/14 [==============================] - 0s 32ms/step - loss: 3.2808 - mae: 3.2808 - val_loss: 4.4113 - val_mae: 4.4113\n",
      "Epoch 10/100\n",
      "13/14 [==========================>...] - ETA: 0s - loss: 3.2634 - mae: 3.2634\n",
      "Epoch 10: val_mae did not improve from 3.04720\n",
      "14/14 [==============================] - 0s 32ms/step - loss: 3.2725 - mae: 3.2725 - val_loss: 4.5480 - val_mae: 4.5480\n",
      "Epoch 11/100\n",
      "13/14 [==========================>...] - ETA: 0s - loss: 2.9881 - mae: 2.9881\n",
      "Epoch 11: val_mae improved from 3.04720 to 2.89941, saving model to c:/data/model\\xray_m_best.h5\n",
      "14/14 [==============================] - 0s 34ms/step - loss: 2.9806 - mae: 2.9806 - val_loss: 2.8994 - val_mae: 2.8994\n",
      "Epoch 12/100\n",
      "13/14 [==========================>...] - ETA: 0s - loss: 3.2607 - mae: 3.2607\n",
      "Epoch 12: val_mae did not improve from 2.89941\n",
      "14/14 [==============================] - 0s 32ms/step - loss: 3.2286 - mae: 3.2286 - val_loss: 3.8848 - val_mae: 3.8848\n",
      "Epoch 13/100\n",
      "13/14 [==========================>...] - ETA: 0s - loss: 2.9067 - mae: 2.9067\n",
      "Epoch 13: val_mae improved from 2.89941 to 2.29905, saving model to c:/data/model\\xray_m_best.h5\n",
      "14/14 [==============================] - 0s 35ms/step - loss: 2.8979 - mae: 2.8979 - val_loss: 2.2991 - val_mae: 2.2991\n",
      "Epoch 14/100\n",
      "13/14 [==========================>...] - ETA: 0s - loss: 2.9282 - mae: 2.9282\n",
      "Epoch 14: val_mae did not improve from 2.29905\n",
      "14/14 [==============================] - 0s 31ms/step - loss: 2.9172 - mae: 2.9172 - val_loss: 2.3805 - val_mae: 2.3805\n",
      "Epoch 15/100\n",
      "13/14 [==========================>...] - ETA: 0s - loss: 2.7295 - mae: 2.7295\n",
      "Epoch 15: val_mae did not improve from 2.29905\n",
      "14/14 [==============================] - 0s 32ms/step - loss: 2.7075 - mae: 2.7075 - val_loss: 3.6131 - val_mae: 3.6131\n",
      "Epoch 16/100\n",
      "13/14 [==========================>...] - ETA: 0s - loss: 3.0069 - mae: 3.0069\n",
      "Epoch 16: val_mae improved from 2.29905 to 2.29118, saving model to c:/data/model\\xray_m_best.h5\n",
      "14/14 [==============================] - 0s 34ms/step - loss: 2.9850 - mae: 2.9850 - val_loss: 2.2912 - val_mae: 2.2912\n",
      "Epoch 17/100\n",
      "13/14 [==========================>...] - ETA: 0s - loss: 2.3692 - mae: 2.3692\n",
      "Epoch 17: val_mae improved from 2.29118 to 1.81864, saving model to c:/data/model\\xray_m_best.h5\n",
      "14/14 [==============================] - 0s 34ms/step - loss: 2.3650 - mae: 2.3650 - val_loss: 1.8186 - val_mae: 1.8186\n",
      "Epoch 18/100\n",
      "13/14 [==========================>...] - ETA: 0s - loss: 2.6528 - mae: 2.6528\n",
      "Epoch 18: val_mae did not improve from 1.81864\n",
      "14/14 [==============================] - 0s 32ms/step - loss: 2.6530 - mae: 2.6530 - val_loss: 2.2160 - val_mae: 2.2160\n",
      "Epoch 19/100\n",
      "13/14 [==========================>...] - ETA: 0s - loss: 2.5570 - mae: 2.5570\n",
      "Epoch 19: val_mae did not improve from 1.81864\n",
      "14/14 [==============================] - 0s 32ms/step - loss: 2.5603 - mae: 2.5603 - val_loss: 3.3458 - val_mae: 3.3458\n",
      "Epoch 20/100\n",
      "13/14 [==========================>...] - ETA: 0s - loss: 2.1846 - mae: 2.1846\n",
      "Epoch 20: val_mae did not improve from 1.81864\n",
      "14/14 [==============================] - 0s 31ms/step - loss: 2.1795 - mae: 2.1795 - val_loss: 2.2708 - val_mae: 2.2708\n",
      "Epoch 21/100\n",
      "13/14 [==========================>...] - ETA: 0s - loss: 2.3249 - mae: 2.3249\n",
      "Epoch 21: val_mae did not improve from 1.81864\n",
      "14/14 [==============================] - 0s 31ms/step - loss: 2.3146 - mae: 2.3146 - val_loss: 2.8484 - val_mae: 2.8484\n",
      "Epoch 22/100\n",
      "13/14 [==========================>...] - ETA: 0s - loss: 2.1528 - mae: 2.1528\n",
      "Epoch 22: val_mae did not improve from 1.81864\n",
      "14/14 [==============================] - 0s 31ms/step - loss: 2.1358 - mae: 2.1358 - val_loss: 3.6528 - val_mae: 3.6528\n",
      "Epoch 23/100\n",
      "13/14 [==========================>...] - ETA: 0s - loss: 2.3360 - mae: 2.3360\n",
      "Epoch 23: val_mae did not improve from 1.81864\n",
      "14/14 [==============================] - 0s 32ms/step - loss: 2.3451 - mae: 2.3451 - val_loss: 2.2572 - val_mae: 2.2572\n",
      "Epoch 24/100\n",
      "13/14 [==========================>...] - ETA: 0s - loss: 2.0475 - mae: 2.0475\n",
      "Epoch 24: val_mae did not improve from 1.81864\n",
      "14/14 [==============================] - 0s 31ms/step - loss: 2.0318 - mae: 2.0318 - val_loss: 2.4548 - val_mae: 2.4548\n",
      "Epoch 25/100\n",
      "13/14 [==========================>...] - ETA: 0s - loss: 2.2237 - mae: 2.2237\n",
      "Epoch 25: val_mae improved from 1.81864 to 1.65473, saving model to c:/data/model\\xray_m_best.h5\n",
      "14/14 [==============================] - 0s 36ms/step - loss: 2.2194 - mae: 2.2194 - val_loss: 1.6547 - val_mae: 1.6547\n",
      "Epoch 26/100\n",
      "13/14 [==========================>...] - ETA: 0s - loss: 1.9011 - mae: 1.9011\n",
      "Epoch 26: val_mae did not improve from 1.65473\n",
      "14/14 [==============================] - 0s 32ms/step - loss: 1.8936 - mae: 1.8936 - val_loss: 1.6753 - val_mae: 1.6753\n",
      "Epoch 27/100\n",
      "13/14 [==========================>...] - ETA: 0s - loss: 1.9395 - mae: 1.9395\n",
      "Epoch 27: val_mae did not improve from 1.65473\n",
      "14/14 [==============================] - 0s 31ms/step - loss: 1.9373 - mae: 1.9373 - val_loss: 2.1203 - val_mae: 2.1203\n",
      "Epoch 28/100\n",
      "13/14 [==========================>...] - ETA: 0s - loss: 2.0012 - mae: 2.0012\n",
      "Epoch 28: val_mae improved from 1.65473 to 1.60907, saving model to c:/data/model\\xray_m_best.h5\n",
      "14/14 [==============================] - 0s 35ms/step - loss: 1.9910 - mae: 1.9910 - val_loss: 1.6091 - val_mae: 1.6091\n",
      "Epoch 29/100\n",
      "13/14 [==========================>...] - ETA: 0s - loss: 1.7755 - mae: 1.7755\n",
      "Epoch 29: val_mae did not improve from 1.60907\n",
      "14/14 [==============================] - 0s 32ms/step - loss: 1.7743 - mae: 1.7743 - val_loss: 2.0062 - val_mae: 2.0062\n",
      "Epoch 30/100\n",
      "13/14 [==========================>...] - ETA: 0s - loss: 1.8251 - mae: 1.8251\n",
      "Epoch 30: val_mae did not improve from 1.60907\n",
      "14/14 [==============================] - 0s 34ms/step - loss: 1.8260 - mae: 1.8260 - val_loss: 3.2758 - val_mae: 3.2758\n",
      "Epoch 31/100\n",
      "13/14 [==========================>...] - ETA: 0s - loss: 1.7989 - mae: 1.7989\n",
      "Epoch 31: val_mae did not improve from 1.60907\n",
      "14/14 [==============================] - 0s 32ms/step - loss: 1.8053 - mae: 1.8053 - val_loss: 1.7040 - val_mae: 1.7040\n",
      "Epoch 32/100\n",
      "13/14 [==========================>...] - ETA: 0s - loss: 1.7186 - mae: 1.7186\n",
      "Epoch 32: val_mae improved from 1.60907 to 1.55017, saving model to c:/data/model\\xray_m_best.h5\n",
      "14/14 [==============================] - 0s 36ms/step - loss: 1.7227 - mae: 1.7227 - val_loss: 1.5502 - val_mae: 1.5502\n",
      "Epoch 33/100\n",
      "13/14 [==========================>...] - ETA: 0s - loss: 1.6645 - mae: 1.6645\n",
      "Epoch 33: val_mae improved from 1.55017 to 1.46922, saving model to c:/data/model\\xray_m_best.h5\n",
      "14/14 [==============================] - 0s 34ms/step - loss: 1.6905 - mae: 1.6905 - val_loss: 1.4692 - val_mae: 1.4692\n",
      "Epoch 34/100\n",
      "13/14 [==========================>...] - ETA: 0s - loss: 1.6450 - mae: 1.6450\n",
      "Epoch 34: val_mae did not improve from 1.46922\n",
      "14/14 [==============================] - 0s 31ms/step - loss: 1.6387 - mae: 1.6387 - val_loss: 1.5467 - val_mae: 1.5467\n",
      "Epoch 35/100\n",
      "13/14 [==========================>...] - ETA: 0s - loss: 1.6931 - mae: 1.6931\n",
      "Epoch 35: val_mae did not improve from 1.46922\n",
      "14/14 [==============================] - 0s 31ms/step - loss: 1.6929 - mae: 1.6929 - val_loss: 1.4834 - val_mae: 1.4834\n",
      "Epoch 36/100\n",
      "13/14 [==========================>...] - ETA: 0s - loss: 1.5870 - mae: 1.5870\n",
      "Epoch 36: val_mae did not improve from 1.46922\n",
      "14/14 [==============================] - 0s 31ms/step - loss: 1.5909 - mae: 1.5909 - val_loss: 1.5123 - val_mae: 1.5123\n",
      "Epoch 37/100\n",
      "13/14 [==========================>...] - ETA: 0s - loss: 1.3769 - mae: 1.3769\n",
      "Epoch 37: val_mae did not improve from 1.46922\n",
      "14/14 [==============================] - 0s 31ms/step - loss: 1.3648 - mae: 1.3648 - val_loss: 1.9480 - val_mae: 1.9480\n",
      "Epoch 38/100\n",
      "13/14 [==========================>...] - ETA: 0s - loss: 1.5653 - mae: 1.5653\n",
      "Epoch 38: val_mae did not improve from 1.46922\n",
      "14/14 [==============================] - 0s 33ms/step - loss: 1.5637 - mae: 1.5637 - val_loss: 2.0601 - val_mae: 2.0601\n",
      "Epoch 39/100\n",
      "13/14 [==========================>...] - ETA: 0s - loss: 1.4679 - mae: 1.4679\n",
      "Epoch 39: val_mae did not improve from 1.46922\n",
      "14/14 [==============================] - 0s 31ms/step - loss: 1.4721 - mae: 1.4721 - val_loss: 2.8201 - val_mae: 2.8201\n",
      "Epoch 40/100\n",
      "13/14 [==========================>...] - ETA: 0s - loss: 1.5031 - mae: 1.5031\n",
      "Epoch 40: val_mae did not improve from 1.46922\n",
      "14/14 [==============================] - 0s 31ms/step - loss: 1.4901 - mae: 1.4901 - val_loss: 2.8821 - val_mae: 2.8821\n",
      "Epoch 41/100\n",
      "13/14 [==========================>...] - ETA: 0s - loss: 1.6434 - mae: 1.6434\n",
      "Epoch 41: val_mae did not improve from 1.46922\n",
      "14/14 [==============================] - 0s 32ms/step - loss: 1.6377 - mae: 1.6377 - val_loss: 1.9067 - val_mae: 1.9067\n",
      "Epoch 42/100\n",
      "13/14 [==========================>...] - ETA: 0s - loss: 1.4839 - mae: 1.4839\n",
      "Epoch 42: val_mae did not improve from 1.46922\n",
      "14/14 [==============================] - 0s 33ms/step - loss: 1.4824 - mae: 1.4824 - val_loss: 1.6083 - val_mae: 1.6083\n",
      "Epoch 43/100\n",
      "13/14 [==========================>...] - ETA: 0s - loss: 1.4045 - mae: 1.4045\n",
      "Epoch 43: val_mae did not improve from 1.46922\n",
      "14/14 [==============================] - 0s 32ms/step - loss: 1.4368 - mae: 1.4368 - val_loss: 1.6244 - val_mae: 1.6244\n",
      "Epoch 44/100\n",
      "13/14 [==========================>...] - ETA: 0s - loss: 1.3314 - mae: 1.3314\n",
      "Epoch 44: val_mae did not improve from 1.46922\n",
      "14/14 [==============================] - 0s 31ms/step - loss: 1.3390 - mae: 1.3390 - val_loss: 1.9563 - val_mae: 1.9563\n",
      "Epoch 45/100\n",
      "13/14 [==========================>...] - ETA: 0s - loss: 1.4083 - mae: 1.4083\n",
      "Epoch 45: val_mae did not improve from 1.46922\n",
      "14/14 [==============================] - 0s 31ms/step - loss: 1.4192 - mae: 1.4192 - val_loss: 1.8925 - val_mae: 1.8925\n",
      "Epoch 46/100\n",
      "13/14 [==========================>...] - ETA: 0s - loss: 1.3090 - mae: 1.3090\n",
      "Epoch 46: val_mae did not improve from 1.46922\n",
      "14/14 [==============================] - 0s 31ms/step - loss: 1.3161 - mae: 1.3161 - val_loss: 2.1107 - val_mae: 2.1107\n",
      "Epoch 47/100\n",
      "13/14 [==========================>...] - ETA: 0s - loss: 1.3665 - mae: 1.3665\n",
      "Epoch 47: val_mae did not improve from 1.46922\n",
      "14/14 [==============================] - 0s 32ms/step - loss: 1.3676 - mae: 1.3676 - val_loss: 1.8488 - val_mae: 1.8488\n",
      "Epoch 48/100\n",
      "13/14 [==========================>...] - ETA: 0s - loss: 1.2747 - mae: 1.2747\n",
      "Epoch 48: val_mae did not improve from 1.46922\n",
      "14/14 [==============================] - 0s 33ms/step - loss: 1.2872 - mae: 1.2872 - val_loss: 1.5540 - val_mae: 1.5540\n",
      "Epoch 49/100\n",
      "13/14 [==========================>...] - ETA: 0s - loss: 1.3386 - mae: 1.3386\n",
      "Epoch 49: val_mae did not improve from 1.46922\n",
      "14/14 [==============================] - 0s 31ms/step - loss: 1.3379 - mae: 1.3379 - val_loss: 1.6491 - val_mae: 1.6491\n",
      "Epoch 50/100\n",
      "13/14 [==========================>...] - ETA: 0s - loss: 1.3872 - mae: 1.3872\n",
      "Epoch 50: val_mae did not improve from 1.46922\n",
      "14/14 [==============================] - 0s 31ms/step - loss: 1.3855 - mae: 1.3855 - val_loss: 2.1916 - val_mae: 2.1916\n",
      "Epoch 51/100\n",
      "13/14 [==========================>...] - ETA: 0s - loss: 1.1662 - mae: 1.1662\n",
      "Epoch 51: val_mae did not improve from 1.46922\n",
      "14/14 [==============================] - 0s 32ms/step - loss: 1.1514 - mae: 1.1514 - val_loss: 1.9793 - val_mae: 1.9793\n",
      "Epoch 52/100\n",
      "13/14 [==========================>...] - ETA: 0s - loss: 1.1251 - mae: 1.1251\n",
      "Epoch 52: val_mae did not improve from 1.46922\n",
      "14/14 [==============================] - 0s 31ms/step - loss: 1.1164 - mae: 1.1164 - val_loss: 1.6583 - val_mae: 1.6583\n",
      "Epoch 53/100\n",
      "13/14 [==========================>...] - ETA: 0s - loss: 1.4371 - mae: 1.4371\n",
      "Epoch 53: val_mae improved from 1.46922 to 1.45742, saving model to c:/data/model\\xray_m_best.h5\n",
      "14/14 [==============================] - 0s 34ms/step - loss: 1.4431 - mae: 1.4431 - val_loss: 1.4574 - val_mae: 1.4574\n",
      "Epoch 54/100\n",
      "13/14 [==========================>...] - ETA: 0s - loss: 1.1745 - mae: 1.1745\n",
      "Epoch 54: val_mae improved from 1.45742 to 1.42542, saving model to c:/data/model\\xray_m_best.h5\n",
      "14/14 [==============================] - 1s 37ms/step - loss: 1.1750 - mae: 1.1750 - val_loss: 1.4254 - val_mae: 1.4254\n",
      "Epoch 55/100\n",
      "13/14 [==========================>...] - ETA: 0s - loss: 1.3088 - mae: 1.3088\n",
      "Epoch 55: val_mae did not improve from 1.42542\n",
      "14/14 [==============================] - 0s 32ms/step - loss: 1.3083 - mae: 1.3083 - val_loss: 1.7110 - val_mae: 1.7110\n",
      "Epoch 56/100\n",
      "13/14 [==========================>...] - ETA: 0s - loss: 1.1279 - mae: 1.1279\n",
      "Epoch 56: val_mae did not improve from 1.42542\n",
      "14/14 [==============================] - 0s 31ms/step - loss: 1.1158 - mae: 1.1158 - val_loss: 1.7324 - val_mae: 1.7324\n",
      "Epoch 57/100\n",
      "13/14 [==========================>...] - ETA: 0s - loss: 1.2409 - mae: 1.2409\n",
      "Epoch 57: val_mae did not improve from 1.42542\n",
      "14/14 [==============================] - 0s 31ms/step - loss: 1.2340 - mae: 1.2340 - val_loss: 1.4722 - val_mae: 1.4722\n",
      "Epoch 58/100\n",
      "13/14 [==========================>...] - ETA: 0s - loss: 1.0615 - mae: 1.0615\n",
      "Epoch 58: val_mae did not improve from 1.42542\n",
      "14/14 [==============================] - 0s 31ms/step - loss: 1.0608 - mae: 1.0608 - val_loss: 2.0397 - val_mae: 2.0397\n",
      "Epoch 59/100\n",
      "13/14 [==========================>...] - ETA: 0s - loss: 0.9961 - mae: 0.9961\n",
      "Epoch 59: val_mae did not improve from 1.42542\n",
      "14/14 [==============================] - 0s 35ms/step - loss: 1.0121 - mae: 1.0121 - val_loss: 2.2089 - val_mae: 2.2089\n",
      "Epoch 60/100\n",
      "13/14 [==========================>...] - ETA: 0s - loss: 1.1849 - mae: 1.1849\n",
      "Epoch 60: val_mae did not improve from 1.42542\n",
      "14/14 [==============================] - 0s 31ms/step - loss: 1.1916 - mae: 1.1916 - val_loss: 1.7282 - val_mae: 1.7282\n",
      "Epoch 61/100\n",
      "13/14 [==========================>...] - ETA: 0s - loss: 1.0867 - mae: 1.0867\n",
      "Epoch 61: val_mae did not improve from 1.42542\n",
      "14/14 [==============================] - 0s 31ms/step - loss: 1.0782 - mae: 1.0782 - val_loss: 1.5136 - val_mae: 1.5136\n",
      "Epoch 62/100\n",
      "13/14 [==========================>...] - ETA: 0s - loss: 1.2059 - mae: 1.2059\n",
      "Epoch 62: val_mae did not improve from 1.42542\n",
      "14/14 [==============================] - 0s 31ms/step - loss: 1.1930 - mae: 1.1930 - val_loss: 2.5975 - val_mae: 2.5975\n",
      "Epoch 63/100\n",
      "13/14 [==========================>...] - ETA: 0s - loss: 1.1797 - mae: 1.1797\n",
      "Epoch 63: val_mae did not improve from 1.42542\n",
      "14/14 [==============================] - 0s 32ms/step - loss: 1.1972 - mae: 1.1972 - val_loss: 1.5284 - val_mae: 1.5284\n",
      "Epoch 64/100\n",
      "13/14 [==========================>...] - ETA: 0s - loss: 1.0904 - mae: 1.0904\n",
      "Epoch 64: val_mae improved from 1.42542 to 1.40935, saving model to c:/data/model\\xray_m_best.h5\n",
      "14/14 [==============================] - 0s 36ms/step - loss: 1.0920 - mae: 1.0920 - val_loss: 1.4094 - val_mae: 1.4094\n",
      "Epoch 65/100\n",
      "13/14 [==========================>...] - ETA: 0s - loss: 1.0800 - mae: 1.0800\n",
      "Epoch 65: val_mae did not improve from 1.40935\n",
      "14/14 [==============================] - 0s 33ms/step - loss: 1.0968 - mae: 1.0968 - val_loss: 1.5172 - val_mae: 1.5172\n",
      "Epoch 66/100\n",
      "13/14 [==========================>...] - ETA: 0s - loss: 1.0146 - mae: 1.0146\n",
      "Epoch 66: val_mae did not improve from 1.40935\n",
      "14/14 [==============================] - 0s 31ms/step - loss: 1.0159 - mae: 1.0159 - val_loss: 1.7002 - val_mae: 1.7002\n",
      "Epoch 67/100\n",
      "13/14 [==========================>...] - ETA: 0s - loss: 1.0281 - mae: 1.0281\n",
      "Epoch 67: val_mae did not improve from 1.40935\n",
      "14/14 [==============================] - 0s 32ms/step - loss: 1.0262 - mae: 1.0262 - val_loss: 1.5811 - val_mae: 1.5811\n",
      "Epoch 68/100\n",
      "13/14 [==========================>...] - ETA: 0s - loss: 1.0080 - mae: 1.0080\n",
      "Epoch 68: val_mae did not improve from 1.40935\n",
      "14/14 [==============================] - 0s 31ms/step - loss: 1.0060 - mae: 1.0060 - val_loss: 1.6574 - val_mae: 1.6574\n",
      "Epoch 69/100\n",
      "12/14 [========================>.....] - ETA: 0s - loss: 1.1005 - mae: 1.1005\n",
      "Epoch 69: val_mae did not improve from 1.40935\n",
      "14/14 [==============================] - 0s 33ms/step - loss: 1.0686 - mae: 1.0686 - val_loss: 1.6755 - val_mae: 1.6755\n",
      "Epoch 70/100\n",
      "13/14 [==========================>...] - ETA: 0s - loss: 1.0258 - mae: 1.0258\n",
      "Epoch 70: val_mae did not improve from 1.40935\n",
      "14/14 [==============================] - 0s 31ms/step - loss: 1.0138 - mae: 1.0138 - val_loss: 1.4385 - val_mae: 1.4385\n",
      "Epoch 71/100\n",
      "13/14 [==========================>...] - ETA: 0s - loss: 0.9314 - mae: 0.9314\n",
      "Epoch 71: val_mae did not improve from 1.40935\n",
      "14/14 [==============================] - 0s 30ms/step - loss: 0.9350 - mae: 0.9350 - val_loss: 1.9507 - val_mae: 1.9507\n",
      "Epoch 72/100\n",
      "13/14 [==========================>...] - ETA: 0s - loss: 1.0091 - mae: 1.0091\n",
      "Epoch 72: val_mae did not improve from 1.40935\n",
      "14/14 [==============================] - 0s 31ms/step - loss: 1.0123 - mae: 1.0123 - val_loss: 2.0716 - val_mae: 2.0716\n",
      "Epoch 73/100\n",
      "13/14 [==========================>...] - ETA: 0s - loss: 1.0085 - mae: 1.0085\n",
      "Epoch 73: val_mae did not improve from 1.40935\n",
      "14/14 [==============================] - 0s 30ms/step - loss: 1.0086 - mae: 1.0086 - val_loss: 1.5466 - val_mae: 1.5466\n",
      "Epoch 74/100\n",
      "13/14 [==========================>...] - ETA: 0s - loss: 0.9878 - mae: 0.9878\n",
      "Epoch 74: val_mae did not improve from 1.40935\n",
      "14/14 [==============================] - 0s 33ms/step - loss: 0.9902 - mae: 0.9902 - val_loss: 1.4626 - val_mae: 1.4626\n",
      "Epoch 75/100\n",
      "13/14 [==========================>...] - ETA: 0s - loss: 0.8321 - mae: 0.8321\n",
      "Epoch 75: val_mae did not improve from 1.40935\n",
      "14/14 [==============================] - 0s 31ms/step - loss: 0.8255 - mae: 0.8255 - val_loss: 1.6661 - val_mae: 1.6661\n",
      "Epoch 76/100\n",
      "13/14 [==========================>...] - ETA: 0s - loss: 0.9998 - mae: 0.9998\n",
      "Epoch 76: val_mae did not improve from 1.40935\n",
      "14/14 [==============================] - 0s 30ms/step - loss: 1.0047 - mae: 1.0047 - val_loss: 1.8950 - val_mae: 1.8950\n",
      "Epoch 77/100\n",
      "13/14 [==========================>...] - ETA: 0s - loss: 0.9625 - mae: 0.9625\n",
      "Epoch 77: val_mae did not improve from 1.40935\n",
      "14/14 [==============================] - 0s 31ms/step - loss: 0.9554 - mae: 0.9554 - val_loss: 1.7755 - val_mae: 1.7755\n",
      "Epoch 78/100\n",
      "13/14 [==========================>...] - ETA: 0s - loss: 0.9112 - mae: 0.9112\n",
      "Epoch 78: val_mae did not improve from 1.40935\n",
      "14/14 [==============================] - 0s 32ms/step - loss: 0.9026 - mae: 0.9026 - val_loss: 1.5897 - val_mae: 1.5897\n",
      "Epoch 79/100\n",
      "13/14 [==========================>...] - ETA: 0s - loss: 1.0408 - mae: 1.0408\n",
      "Epoch 79: val_mae did not improve from 1.40935\n",
      "14/14 [==============================] - 0s 31ms/step - loss: 1.0287 - mae: 1.0287 - val_loss: 1.6143 - val_mae: 1.6143\n",
      "Epoch 80/100\n",
      "13/14 [==========================>...] - ETA: 0s - loss: 0.9556 - mae: 0.9556\n",
      "Epoch 80: val_mae did not improve from 1.40935\n",
      "14/14 [==============================] - 0s 31ms/step - loss: 0.9700 - mae: 0.9700 - val_loss: 1.4309 - val_mae: 1.4309\n",
      "Epoch 81/100\n",
      "13/14 [==========================>...] - ETA: 0s - loss: 0.9148 - mae: 0.9148\n",
      "Epoch 81: val_mae did not improve from 1.40935\n",
      "14/14 [==============================] - 0s 31ms/step - loss: 0.9066 - mae: 0.9066 - val_loss: 1.6956 - val_mae: 1.6956\n",
      "Epoch 82/100\n",
      "13/14 [==========================>...] - ETA: 0s - loss: 0.9605 - mae: 0.9605\n",
      "Epoch 82: val_mae did not improve from 1.40935\n",
      "14/14 [==============================] - 0s 31ms/step - loss: 0.9520 - mae: 0.9520 - val_loss: 1.4633 - val_mae: 1.4633\n",
      "Epoch 83/100\n",
      "13/14 [==========================>...] - ETA: 0s - loss: 0.9455 - mae: 0.9455\n",
      "Epoch 83: val_mae did not improve from 1.40935\n",
      "14/14 [==============================] - 0s 31ms/step - loss: 0.9398 - mae: 0.9398 - val_loss: 1.6133 - val_mae: 1.6133\n",
      "Epoch 84/100\n",
      "13/14 [==========================>...] - ETA: 0s - loss: 0.9152 - mae: 0.9152\n",
      "Epoch 84: val_mae did not improve from 1.40935\n",
      "14/14 [==============================] - 0s 31ms/step - loss: 0.9178 - mae: 0.9178 - val_loss: 1.7058 - val_mae: 1.7058\n",
      "Epoch 85/100\n",
      "13/14 [==========================>...] - ETA: 0s - loss: 0.8281 - mae: 0.8281\n",
      "Epoch 85: val_mae did not improve from 1.40935\n",
      "14/14 [==============================] - 0s 31ms/step - loss: 0.8385 - mae: 0.8385 - val_loss: 1.5369 - val_mae: 1.5369\n",
      "Epoch 86/100\n",
      "13/14 [==========================>...] - ETA: 0s - loss: 0.8319 - mae: 0.8319\n",
      "Epoch 86: val_mae did not improve from 1.40935\n",
      "14/14 [==============================] - 0s 32ms/step - loss: 0.8328 - mae: 0.8328 - val_loss: 1.5487 - val_mae: 1.5487\n",
      "Epoch 87/100\n",
      "13/14 [==========================>...] - ETA: 0s - loss: 0.9220 - mae: 0.9220\n",
      "Epoch 87: val_mae did not improve from 1.40935\n",
      "14/14 [==============================] - 0s 31ms/step - loss: 0.9142 - mae: 0.9142 - val_loss: 1.7757 - val_mae: 1.7757\n",
      "Epoch 88/100\n",
      "13/14 [==========================>...] - ETA: 0s - loss: 0.8764 - mae: 0.8764\n",
      "Epoch 88: val_mae did not improve from 1.40935\n",
      "14/14 [==============================] - 0s 32ms/step - loss: 0.8735 - mae: 0.8735 - val_loss: 1.4832 - val_mae: 1.4832\n",
      "Epoch 89/100\n",
      "13/14 [==========================>...] - ETA: 0s - loss: 0.7710 - mae: 0.7710\n",
      "Epoch 89: val_mae did not improve from 1.40935\n",
      "14/14 [==============================] - 0s 31ms/step - loss: 0.7646 - mae: 0.7646 - val_loss: 1.4777 - val_mae: 1.4777\n",
      "Epoch 90/100\n",
      "13/14 [==========================>...] - ETA: 0s - loss: 0.9296 - mae: 0.9296\n",
      "Epoch 90: val_mae did not improve from 1.40935\n",
      "14/14 [==============================] - 0s 31ms/step - loss: 0.9182 - mae: 0.9182 - val_loss: 1.7531 - val_mae: 1.7531\n",
      "Epoch 91/100\n",
      "13/14 [==========================>...] - ETA: 0s - loss: 0.9349 - mae: 0.9349\n",
      "Epoch 91: val_mae did not improve from 1.40935\n",
      "14/14 [==============================] - 0s 31ms/step - loss: 0.9390 - mae: 0.9390 - val_loss: 1.6516 - val_mae: 1.6516\n",
      "Epoch 92/100\n",
      "13/14 [==========================>...] - ETA: 0s - loss: 0.7847 - mae: 0.7847\n",
      "Epoch 92: val_mae did not improve from 1.40935\n",
      "14/14 [==============================] - 0s 32ms/step - loss: 0.7866 - mae: 0.7866 - val_loss: 1.4357 - val_mae: 1.4357\n",
      "Epoch 93/100\n",
      "13/14 [==========================>...] - ETA: 0s - loss: 0.9344 - mae: 0.9344\n",
      "Epoch 93: val_mae did not improve from 1.40935\n",
      "14/14 [==============================] - 0s 31ms/step - loss: 0.9389 - mae: 0.9389 - val_loss: 1.5211 - val_mae: 1.5211\n",
      "Epoch 94/100\n",
      "13/14 [==========================>...] - ETA: 0s - loss: 0.8794 - mae: 0.8794\n",
      "Epoch 94: val_mae did not improve from 1.40935\n",
      "14/14 [==============================] - 0s 31ms/step - loss: 0.8839 - mae: 0.8839 - val_loss: 1.5190 - val_mae: 1.5190\n",
      "Epoch 95/100\n",
      "12/14 [========================>.....] - ETA: 0s - loss: 0.7600 - mae: 0.7600\n",
      "Epoch 95: val_mae did not improve from 1.40935\n",
      "14/14 [==============================] - 0s 33ms/step - loss: 0.7874 - mae: 0.7874 - val_loss: 1.4293 - val_mae: 1.4293\n",
      "Epoch 96/100\n",
      "13/14 [==========================>...] - ETA: 0s - loss: 0.6923 - mae: 0.6923\n",
      "Epoch 96: val_mae did not improve from 1.40935\n",
      "14/14 [==============================] - 0s 31ms/step - loss: 0.6873 - mae: 0.6873 - val_loss: 1.4867 - val_mae: 1.4867\n",
      "Epoch 97/100\n",
      "13/14 [==========================>...] - ETA: 0s - loss: 0.8576 - mae: 0.8576\n",
      "Epoch 97: val_mae did not improve from 1.40935\n",
      "14/14 [==============================] - 0s 32ms/step - loss: 0.8525 - mae: 0.8525 - val_loss: 1.4833 - val_mae: 1.4833\n",
      "Epoch 98/100\n",
      "13/14 [==========================>...] - ETA: 0s - loss: 0.8421 - mae: 0.8421\n",
      "Epoch 98: val_mae did not improve from 1.40935\n",
      "14/14 [==============================] - 0s 31ms/step - loss: 0.8387 - mae: 0.8387 - val_loss: 1.7766 - val_mae: 1.7766\n",
      "Epoch 99/100\n",
      "13/14 [==========================>...] - ETA: 0s - loss: 0.9127 - mae: 0.9127\n",
      "Epoch 99: val_mae did not improve from 1.40935\n",
      "14/14 [==============================] - 0s 32ms/step - loss: 0.9113 - mae: 0.9113 - val_loss: 1.6403 - val_mae: 1.6403\n",
      "Epoch 100/100\n",
      "12/14 [========================>.....] - ETA: 0s - loss: 0.7925 - mae: 0.7925\n",
      "Epoch 100: val_mae did not improve from 1.40935\n",
      "14/14 [==============================] - 0s 33ms/step - loss: 0.7663 - mae: 0.7663 - val_loss: 1.6891 - val_mae: 1.6891\n"
     ]
    }
   ],
   "source": [
    "from keras.callbacks import ModelCheckpoint\n",
    "checkpoint = ModelCheckpoint(\"c:/data/model/xray_m_best.h5\", monitor='val_mae', \n",
    "                             verbose=1, save_best_only=True, mode='min')\n",
    "# checkpoint = ModelCheckpoint(\"c:/data/model/xray_f_best.h5\", monitor='val_mae', \n",
    "#                              verbose=1, save_best_only=True, mode='min')\n",
    "hist = model.fit(X_train, y_train, batch_size=32, validation_split=0.2, epochs=100, \n",
    "                 callbacks=[checkpoint])"
   ]
  },
  {
   "cell_type": "code",
   "execution_count": 21,
   "metadata": {},
   "outputs": [
    {
     "data": {
      "image/png": "[encoded data removed]",
      "text/plain": [
       "<Figure size 1200x800 with 1 Axes>"
      ]
     },
     "metadata": {},
     "output_type": "display_data"
    }
   ],
   "source": [
    "plt.figure(figsize=(12,8))\n",
    "plt.plot(hist.history['loss'])\n",
    "plt.plot(hist.history['val_loss'])\n",
    "plt.legend(['loss', 'val_loss'])\n",
    "plt.grid()\n",
    "plt.show()"
   ]
  },
  {
   "cell_type": "code",
   "execution_count": 22,
   "metadata": {},
   "outputs": [
    {
     "name": "stdout",
     "output_type": "stream",
     "text": [
      "17/17 [==============================] - 0s 14ms/step - loss: 0.8260 - mae: 0.8260\n",
      "[0.8260098695755005, 0.8260098695755005]\n"
     ]
    }
   ],
   "source": [
    "from tensorflow.keras.models import load_model\n",
    "model = load_model('c:/data/model/xray_m_best.h5')\n",
    "# model = load_model('c:/data/model/xray_f_best.h5')\n",
    "scores = model.evaluate(X_train, y_train, verbose=1)\n",
    "print(scores)"
   ]
  },
  {
   "cell_type": "code",
   "execution_count": 23,
   "metadata": {},
   "outputs": [
    {
     "name": "stdout",
     "output_type": "stream",
     "text": [
      "5/5 [==============================] - 0s 23ms/step - loss: 1.5946 - mae: 1.5946\n",
      "[1.5945656299591064, 1.5945656299591064]\n"
     ]
    }
   ],
   "source": [
    "model = load_model('c:/data/model/xray_m_best.h5')\n",
    "# model = load_model('c:/data/model/xray_f_best.h5')\n",
    "scores = model.evaluate(X_test, y_test, verbose=1)\n",
    "print(scores)"
   ]
  },
  {
   "cell_type": "code",
   "execution_count": 24,
   "metadata": {},
   "outputs": [
    {
     "name": "stdout",
     "output_type": "stream",
     "text": [
      "5/5 [==============================] - 0s 7ms/step\n"
     ]
    },
    {
     "data": {
      "text/plain": [
       "array([[11.001526 ],\n",
       "       [ 8.207409 ],\n",
       "       [12.691399 ],\n",
       "       [12.912662 ],\n",
       "       [ 3.3289769]], dtype=float32)"
      ]
     },
     "execution_count": 24,
     "metadata": {},
     "output_type": "execute_result"
    }
   ],
   "source": [
    "pred = model.predict(X_test)\n",
    "pred[:5]"
   ]
  },
  {
   "cell_type": "code",
   "execution_count": 25,
   "metadata": {},
   "outputs": [
    {
     "data": {
      "text/plain": [
       "array([10,  9, 13, 11,  5])"
      ]
     },
     "execution_count": 25,
     "metadata": {},
     "output_type": "execute_result"
    }
   ],
   "source": [
    "y_test[:5]"
   ]
  },
  {
   "cell_type": "code",
   "execution_count": null,
   "metadata": {},
   "outputs": [],
   "source": []
  }
 ],
 "metadata": {
  "kernelspec": {
   "display_name": "base",
   "language": "python",
   "name": "python3"
  },
  "language_info": {
   "codemirror_mode": {
    "name": "ipython",
    "version": 3
   },
   "file_extension": ".py",
   "mimetype": "text/x-python",
   "name": "python",
   "nbconvert_exporter": "python",
   "pygments_lexer": "ipython3",
   "version": "3.9.13"
  },
  "orig_nbformat": 4
 },
 "nbformat": 4,
 "nbformat_minor": 2
}
