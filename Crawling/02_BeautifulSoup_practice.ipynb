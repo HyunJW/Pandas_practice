{
 "cells": [
  {
   "cell_type": "code",
   "execution_count": 1,
   "id": "75b6b3f5",
   "metadata": {},
   "outputs": [],
   "source": [
    "import requests\n",
    "from bs4 import BeautifulSoup"
   ]
  },
  {
   "cell_type": "code",
   "execution_count": 2,
   "id": "8725856f",
   "metadata": {},
   "outputs": [],
   "source": [
    "url = 'https://crawlingstudy-dd3c9.web.app/01/'\n",
    "response = requests.get(url)\n",
    "soup = BeautifulSoup(response.text, 'html.parser')"
   ]
  },
  {
   "cell_type": "code",
   "execution_count": 3,
   "id": "3da176e6",
   "metadata": {
    "scrolled": true
   },
   "outputs": [
    {
     "data": {
      "text/plain": [
       "<!DOCTYPE html>\n",
       "\n",
       "<html>\n",
       "<head>\n",
       "<title>크롤링 연습사이트 01</title>\n",
       "</head>\n",
       "<body>\n",
       "<h1>저의 첫 웹사이트 오신것을 환영합니다.</h1>\n",
       "<h1 title=\"welcome\">인사이트캠퍼스.</h1>\n",
       "<h2>이곳은 크롤링 연습을 위한 웹사이트입니다.</h2>\n",
       "<table border=\"1\">\n",
       "<thead>\n",
       "<tr>\n",
       "<th class=\"tablehead\">이름</th>\n",
       "<th class=\"tablehead\">나이</th>\n",
       "</tr>\n",
       "</thead>\n",
       "<tbody>\n",
       "<tr>\n",
       "<td>이몽룡</td>\n",
       "<td>34</td>\n",
       "</tr>\n",
       "<tr>\n",
       "<td>홍길동</td>\n",
       "<td>23</td>\n",
       "</tr>\n",
       "</tbody>\n",
       "</table>\n",
       "<p id=\"hello\">\n",
       "    이탈리아 요리의 시작은 기원전 4세기로 거슬러 올라갈 수 있다. 대항해시대를 거치면서 아메리카 대륙에서 감자·토마토·후추·옥수수 등이 유입되어 그 종류와 풍미가 다양해졌고 현대에 이르러서는 피자와 파스타 등 많은 이탈리아 요리가 널리 퍼지게 되었다.\n",
       "</p>\n",
       "<p id=\"cook\">\n",
       "    전통적인 요리법이나 양식은 상당한 차이가 있지만, 이탈리아 요리는 다른 국가의 요리 문화에서 다양한 영감을 줄 만큼 다양하고 혁신적인 것으로 평가되고 있다. 각 지방마다 고유의 특색이 있어 그 양식도 다양하지만 크게 북부와 남부로 나눌 수 있다. 다른 나라와 국경을 맞대고 있던 북부 지방은 산업화되어 경제적으로 풍족하고 농업이 발달해 쌀이 풍부해 유제품이 다양한 반면 경제적으로 침체되었던 남부 지방은 올리브와 토마토, 모차렐라 치즈가 유명하고 특별히 해산물을 활용한 요리가 많다. 식재료와 치즈 등의 차이는 파스타의 종류와 소스와 수프 등도 다름을 의미한다.\n",
       "</p>\n",
       "<a href=\"01.html\">1페이지 바로가기</a>\n",
       "<a href=\"02.html\">2페이지 바로가기</a>\n",
       "<a href=\"03.html\">3페이지 바로가기</a>\n",
       "<a href=\"04.html\">4페이지 바로가기</a>\n",
       "</body>\n",
       "</html>"
      ]
     },
     "execution_count": 3,
     "metadata": {},
     "output_type": "execute_result"
    }
   ],
   "source": [
    "soup"
   ]
  },
  {
   "cell_type": "code",
   "execution_count": 4,
   "id": "554c9b60",
   "metadata": {},
   "outputs": [
    {
     "data": {
      "text/plain": [
       "'\\n    전통적인 요리법이나 양식은 상당한 차이가 있지만, 이탈리아 요리는 다른 국가의 요리 문화에서 다양한 영감을 줄 만큼 다양하고 혁신적인 것으로 평가되고 있다. 각 지방마다 고유의 특색이 있어 그 양식도 다양하지만 크게 북부와 남부로 나눌 수 있다. 다른 나라와 국경을 맞대고 있던 북부 지방은 산업화되어 경제적으로 풍족하고 농업이 발달해 쌀이 풍부해 유제품이 다양한 반면 경제적으로 침체되었던 남부 지방은 올리브와 토마토, 모차렐라 치즈가 유명하고 특별히 해산물을 활용한 요리가 많다. 식재료와 치즈 등의 차이는 파스타의 종류와 소스와 수프 등도 다름을 의미한다.\\n'"
      ]
     },
     "execution_count": 4,
     "metadata": {},
     "output_type": "execute_result"
    }
   ],
   "source": [
    "soup.select('#cook')[0].string"
   ]
  },
  {
   "cell_type": "code",
   "execution_count": 8,
   "id": "3cdbc27e",
   "metadata": {},
   "outputs": [
    {
     "data": {
      "text/plain": [
       "'전통적인 요리법이나 양식은 상당한 차이가 있지만, 이탈리아 요리는 다른 국가의 요리 문화에서 다양한 영감을 줄 만큼 다양하고 혁신적인 것으로 평가되고 있다. 각 지방마다 고유의 특색이 있어 그 양식도 다양하지만 크게 북부와 남부로 나눌 수 있다. 다른 나라와 국경을 맞대고 있던 북부 지방은 산업화되어 경제적으로 풍족하고 농업이 발달해 쌀이 풍부해 유제품이 다양한 반면 경제적으로 침체되었던 남부 지방은 올리브와 토마토, 모차렐라 치즈가 유명하고 특별히 해산물을 활용한 요리가 많다. 식재료와 치즈 등의 차이는 파스타의 종류와 소스와 수프 등도 다름을 의미한다.'"
      ]
     },
     "execution_count": 8,
     "metadata": {},
     "output_type": "execute_result"
    }
   ],
   "source": [
    "soup.select_one('#cook').text.replace('\\n', '').lstrip()"
   ]
  },
  {
   "cell_type": "code",
   "execution_count": 21,
   "id": "dab6e07d",
   "metadata": {},
   "outputs": [],
   "source": [
    "tab = soup.select('table')"
   ]
  },
  {
   "cell_type": "code",
   "execution_count": 72,
   "id": "97a354f1",
   "metadata": {},
   "outputs": [],
   "source": [
    "keys = []\n",
    "dic = []\n",
    "for th in tab[0].select('.tablehead'):\n",
    "    keys.append(th.string)\n",
    "for tr in tab[0].select('tbody > tr'):\n",
    "    values = []\n",
    "    for td in tr.select('td'):\n",
    "        values.append(td.string)\n",
    "    dic.append(dict(zip(keys, temp)))"
   ]
  },
  {
   "cell_type": "code",
   "execution_count": 73,
   "id": "a0affebc",
   "metadata": {},
   "outputs": [
    {
     "data": {
      "text/plain": [
       "[{'이름': '홍길동', '나이': '23'}, {'이름': '홍길동', '나이': '23'}]"
      ]
     },
     "execution_count": 73,
     "metadata": {},
     "output_type": "execute_result"
    }
   ],
   "source": [
    "dic"
   ]
  },
  {
   "cell_type": "code",
   "execution_count": 76,
   "id": "c7d7cd1a",
   "metadata": {},
   "outputs": [
    {
     "data": {
      "text/plain": [
       "[<a href=\"01.html\">1페이지 바로가기</a>,\n",
       " <a href=\"02.html\">2페이지 바로가기</a>,\n",
       " <a href=\"03.html\">3페이지 바로가기</a>,\n",
       " <a href=\"04.html\">4페이지 바로가기</a>]"
      ]
     },
     "execution_count": 76,
     "metadata": {},
     "output_type": "execute_result"
    }
   ],
   "source": [
    "atag = soup.find_all('a')\n",
    "atag"
   ]
  },
  {
   "cell_type": "code",
   "execution_count": 80,
   "id": "66d2b9f1",
   "metadata": {},
   "outputs": [
    {
     "data": {
      "text/plain": [
       "'01.html'"
      ]
     },
     "execution_count": 80,
     "metadata": {},
     "output_type": "execute_result"
    }
   ],
   "source": [
    "atag[0].attrs['href']"
   ]
  },
  {
   "cell_type": "code",
   "execution_count": 94,
   "id": "d09c6247",
   "metadata": {
    "scrolled": true
   },
   "outputs": [
    {
     "name": "stdout",
     "output_type": "stream",
     "text": [
      "크롤링 연습사이트 01-1 페이지입니다.\n",
      "크롤링 연습사이트 01-2 페이지입니다.\n",
      "크롤링 연습사이트 01-3 페이지입니다.\n",
      "크롤링 연습사이트 01-4 페이지입니다.\n"
     ]
    }
   ],
   "source": [
    "for a in atag:\n",
    "    page = requests.get(url + a.attrs['href'])\n",
    "    soup = BeautifulSoup(page.text, 'html.parser')\n",
    "    print(soup.find('p').text.strip())"
   ]
  },
  {
   "cell_type": "code",
   "execution_count": 95,
   "id": "64c5531c",
   "metadata": {},
   "outputs": [],
   "source": [
    "url = 'https://crawlingstudy-dd3c9.web.app/03/'\n",
    "response = requests.get(url)\n",
    "soup = BeautifulSoup(response.text, 'html.parser')"
   ]
  },
  {
   "cell_type": "code",
   "execution_count": 96,
   "id": "7d58e25e",
   "metadata": {
    "scrolled": true
   },
   "outputs": [
    {
     "data": {
      "text/plain": [
       "<!DOCTYPE html>\n",
       "\n",
       "<html>\n",
       "<head>\n",
       "<meta charset=\"utf-8\"/>\n",
       "<link href=\"mystyle.css\" rel=\"stylesheet\" type=\"text/css\"/>\n",
       "<title>크롤링 연습사이트 03</title>\n",
       "</head>\n",
       "<body>\n",
       "<div class=\"title\">\n",
       "        인기검색종목\n",
       "    </div>\n",
       "<ul class=\"lst_pop\" id=\"popularItemList\">\n",
       "<li class=\"up\"><em>1.</em><a href=\"https://finance.naver.com/item/main.nhn?code=004770\">써니전자</a><span>5,000</span><img alt=\"상한\" height=\"11\" src=\"https://ssl.pstatic.net/static/nfinance/ico_up2.gif\" width=\"7\"/></li>\n",
       "<li class=\"dn\"><em>2.</em><a href=\"https://finance.naver.com/item/main.nhn?code=005930\">삼성전자</a><span>55,200</span><img alt=\"하락\" height=\"6\" src=\"https://ssl.pstatic.net/static/nfinance/ico_down.gif\" width=\"7\"/></li>\n",
       "<li class=\"up\"><em>3.</em><a href=\"https://finance.naver.com/item/main.nhn?code=053800\">안랩</a><span>81,000</span><img alt=\"상승\" height=\"6\" src=\"https://ssl.pstatic.net/static/nfinance/ico_up.gif\" width=\"7\"/></li>\n",
       "<li class=\"up\"><em>4.</em><a href=\"https://finance.naver.com/item/main.nhn?code=032500\">케이엠더블..</a><span>57,300</span><img alt=\"상승\" height=\"6\" src=\"https://ssl.pstatic.net/static/nfinance/ico_up.gif\" width=\"7\"/></li>\n",
       "<li class=\"up\"><em>5.</em><a href=\"https://finance.naver.com/item/main.nhn?code=062970\">피피아이</a><span>12,600</span><img alt=\"상한\" height=\"11\" src=\"https://ssl.pstatic.net/static/nfinance/ico_up2.gif\" width=\"7\"/></li>\n",
       "<li class=\"dn\"><em>6.</em><a href=\"https://finance.naver.com/item/main.nhn?code=033780\">KT&amp;G</a><span>92,500</span><img alt=\"하락\" height=\"6\" src=\"https://ssl.pstatic.net/static/nfinance/ico_down.gif\" width=\"7\"/></li>\n",
       "<li class=\"up\"><em>7.</em><a href=\"https://finance.naver.com/item/main.nhn?code=005935\">삼성전자우</a><span>45,600</span><img alt=\"상승\" height=\"6\" src=\"https://ssl.pstatic.net/static/nfinance/ico_up.gif\" width=\"7\"/></li>\n",
       "<li class=\"dn\"><em>8.</em><a href=\"https://finance.naver.com/item/main.nhn?code=009190\">대양금속</a><span>10,550</span><img alt=\"하한\" height=\"11\" src=\"https://ssl.pstatic.net/static/nfinance/ico_down2.gif\" width=\"7\"/></li>\n",
       "<li class=\"up\"><em>9.</em><a href=\"https://finance.naver.com/item/main.nhn?code=000660\">SK하이닉스</a><span>94,700</span><img alt=\"상승\" height=\"6\" src=\"https://ssl.pstatic.net/static/nfinance/ico_up.gif\" width=\"7\"/></li>\n",
       "<li class=\"dn\"><em>10.</em><a href=\"https://finance.naver.com/item/main.nhn?code=017670\">SK텔레콤</a><span>234,000</span><img alt=\"하락\" height=\"6\" src=\"https://ssl.pstatic.net/static/nfinance/ico_down.gif\" width=\"7\"/></li>\n",
       "</ul>\n",
       "<div class=\"title\">\n",
       "        주요해외지수\n",
       "    </div>\n",
       "<ul class=\"lst_major\">\n",
       "<li class=\"up\"><a href=\"https://finance.naver.com/world/sise.nhn?symbol=DJI@DJI&amp;fdtc=0\">다우산업</a><span>28,647.43</span><img alt=\"상한\" height=\"11\" src=\"https://ssl.pstatic.net/static/nfinance/ico_up2.gif\" width=\"7\"/></li>\n",
       "<li class=\"up\"><a href=\"https://finance.naver.com/world/sise.nhn?symbol=NAS@IXIC&amp;fdtc=0\">나스닥</a><span>9,015.03</span><img alt=\"상한\" height=\"11\" src=\"https://ssl.pstatic.net/static/nfinance/ico_up2.gif\" width=\"7\"/></li>\n",
       "<li class=\"up\"><a href=\"https://finance.naver.com/world/sise.nhn?symbol=HSI@HSCE&amp;fdtc=0\">홍콩H</a><span>11,320.56</span><img alt=\"상한\" height=\"11\" src=\"https://ssl.pstatic.net/static/nfinance/ico_up2.gif\" width=\"7\"/></li>\n",
       "<li class=\"up\"><a href=\"https://finance.naver.com/world/sise.nhn?symbol=SHS@000001&amp;fdtc=0\">상해종합</a><span>3,085.20</span><img alt=\"상한\" height=\"11\" src=\"https://ssl.pstatic.net/static/nfinance/ico_up2.gif\" width=\"7\"/></li>\n",
       "<li class=\"dn\"><a href=\"https://finance.naver.com/world/sise.nhn?symbol=NII@NI225&amp;fdtc=0\">니케이225</a><span>23,656.62</span><img alt=\"하락\" height=\"6\" src=\"https://ssl.pstatic.net/static/nfinance/ico_down.gif\" width=\"7\"/></li>\n",
       "</ul>\n",
       "<div class=\"title\">\n",
       "        분양중\n",
       "    </div>\n",
       "<ul class=\"sale_list _sale_list\">\n",
       "<li class=\"sale_item\">\n",
       "<div class=\"sale_box\">\n",
       "<div class=\"sale_tit\">\n",
       "<a href=\"#\" target=\"_blank\">H하우스장위</a>\n",
       "</div>\n",
       "<div class=\"sale_desc\">\n",
       "<img alt=\"\" class=\"thumb_img\" height=\"82\" src=\"https://search.pstatic.net/common/?src=https%3A%2F%2Flandthumb-phinf.pstatic.net%2F20200102_216%2Fisale_complex_1577947561833Uclja_JPEG%2Fuploadfile_202001025582218.jpg%3Ftype%3Dm232&amp;type=f82_82_q75\" width=\"82\"/>\n",
       "</div>\n",
       "<div class=\"sale_detail\">\n",
       "<dl class=\"detail_info\">\n",
       "<dt class=\"tit\">보증금</dt><dd class=\"txt\"><strong class=\"point\">16,000</strong> 만원</dd>\n",
       "<dt class=\"tit\">유형</dt><dd class=\"txt\">아파트<span class=\"bar\">|</span>일반민간임대</dd>\n",
       "<dt class=\"tit\">규모/면적</dt><dd class=\"txt\">분양 134세대<span class=\"bar\">|</span>45㎡~65㎡</dd>\n",
       "<dt class=\"tit\">위치</dt> <dd class=\"txt\">서울시 성북구 장위동</dd>\n",
       "</dl>\n",
       "</div>\n",
       "</div>\n",
       "</li>\n",
       "<li class=\"sale_item\">\n",
       "<div class=\"sale_box\">\n",
       "<div class=\"sale_tit\">\n",
       "<a href=\"#\" target=\"_blank\">고덕리엔파크2단지 장기전세</a>\n",
       "</div>\n",
       "<div class=\"sale_desc\">\n",
       "<img alt=\"\" class=\"thumb_img\" height=\"82\" src=\"https://search.pstatic.net/common/?src=https%3A%2F%2Flandthumb-phinf.pstatic.net%2F20110810_136%2Fisale_complex_1312968580369Yxsk9_JPEG%2Fuploadfile_201103075773845.jpg%3Ftype%3Dm232&amp;type=f82_82_q75\" width=\"82\"/>\n",
       "</div>\n",
       "<div class=\"sale_detail\">\n",
       "<dl class=\"detail_info\">\n",
       "<dt class=\"tit\">보증금</dt><dd class=\"txt\"><strong class=\"point\">38,400</strong> 만원</dd>\n",
       "<dt class=\"tit\">유형</dt><dd class=\"txt\">아파트<span class=\"bar\">|</span>장기전세주택</dd>\n",
       "<dt class=\"tit\">규모/면적</dt><dd class=\"txt\">분양 1세대<span class=\"bar\">|</span>149㎡</dd>\n",
       "<dt class=\"tit\">위치</dt> <dd class=\"txt\">서울시 강동구 강일동</dd>\n",
       "</dl>\n",
       "</div>\n",
       "</div>\n",
       "</li>\n",
       "<li class=\"sale_item\">\n",
       "<div class=\"sale_box\">\n",
       "<div class=\"sale_tit\">\n",
       "<a href=\"#\" target=\"_blank\">신정이펜하우스3단지 장기전세</a>\n",
       "</div>\n",
       "<div class=\"sale_desc\">\n",
       "<img alt=\"\" class=\"thumb_img\" height=\"82\" src=\"https://search.pstatic.net/common/?src=https%3A%2F%2Flandthumb-phinf.pstatic.net%2F20110810_260%2Fisale_complex_1312968335794i6pKe_JPEG%2Fuploadfile_201102243825127.jpg%3Ftype%3Dm232&amp;type=f82_82_q75\" width=\"82\"/>\n",
       "</div>\n",
       "<div class=\"sale_detail\">\n",
       "<dl class=\"detail_info\">\n",
       "<dt class=\"tit\">보증금</dt><dd class=\"txt\"><strong class=\"point\">39,040</strong> 만원</dd>\n",
       "<dt class=\"tit\">유형</dt><dd class=\"txt\">아파트<span class=\"bar\">|</span>장기전세주택</dd>\n",
       "<dt class=\"tit\">규모/면적</dt><dd class=\"txt\">분양 1세대<span class=\"bar\">|</span>148㎡</dd>\n",
       "<dt class=\"tit\">위치</dt> <dd class=\"txt\">서울시 양천구 신정동</dd>\n",
       "</dl>\n",
       "</div>\n",
       "</div>\n",
       "</li>\n",
       "<li class=\"sale_item\">\n",
       "<div class=\"sale_box\">\n",
       "<div class=\"sale_tit\">\n",
       "<a href=\"#\" target=\"_blank\">천왕이펜하우스2단지 장기전세</a>\n",
       "</div>\n",
       "<div class=\"sale_desc\">\n",
       "<img alt=\"\" class=\"thumb_img\" height=\"82\" src=\"https://search.pstatic.net/common/?src=https%3A%2F%2Flandthumb-phinf.pstatic.net%2F20110810_35%2Fisale_complex_1312968350479SO2pI_JPEG%2Fuploadfile_201102244996257.jpg%3Ftype%3Dm232&amp;type=f82_82_q75\" width=\"82\"/>\n",
       "</div>\n",
       "<div class=\"sale_detail\">\n",
       "<dl class=\"detail_info\">\n",
       "<dt class=\"tit\">보증금</dt><dd class=\"txt\"><strong class=\"point\">38,240</strong> 만원</dd>\n",
       "<dt class=\"tit\">유형</dt><dd class=\"txt\">아파트<span class=\"bar\">|</span>장기전세주택</dd>\n",
       "<dt class=\"tit\">규모/면적</dt><dd class=\"txt\">분양 1세대<span class=\"bar\">|</span>142㎡</dd>\n",
       "<dt class=\"tit\">위치</dt> <dd class=\"txt\">서울시 구로구 오류동</dd>\n",
       "</dl>\n",
       "</div>\n",
       "</div>\n",
       "</li>\n",
       "<li class=\"sale_item\">\n",
       "<div class=\"sale_box\">\n",
       "<div class=\"sale_tit\">\n",
       "<a href=\"#\" target=\"_blank\">송파파크데일2단지 장기전세</a>\n",
       "</div>\n",
       "<div class=\"sale_desc\">\n",
       "<img alt=\"\" class=\"thumb_img\" height=\"82\" src=\"https://search.pstatic.net/common/?src=https%3A%2F%2Flandthumb-phinf.pstatic.net%2F20110810_211%2Fisale_complex_1312968571650Iusoz_JPEG%2Fuploadfile_201103074989552.jpg%3Ftype%3Dm232&amp;type=f82_82_q75\" width=\"82\"/>\n",
       "</div>\n",
       "<div class=\"sale_detail\">\n",
       "<dl class=\"detail_info\">\n",
       "<dt class=\"tit\">보증금</dt><dd class=\"txt\"><strong class=\"point\">45,600</strong> 만원</dd>\n",
       "<dt class=\"tit\">유형</dt><dd class=\"txt\">아파트<span class=\"bar\">|</span>장기전세주택</dd>\n",
       "<dt class=\"tit\">규모/면적</dt><dd class=\"txt\">분양 1세대<span class=\"bar\">|</span>150㎡</dd>\n",
       "<dt class=\"tit\">위치</dt> <dd class=\"txt\">서울시 송파구 마천동</dd>\n",
       "</dl>\n",
       "</div>\n",
       "</div>\n",
       "</li>\n",
       "</ul></body>\n",
       "</html>"
      ]
     },
     "execution_count": 96,
     "metadata": {},
     "output_type": "execute_result"
    }
   ],
   "source": [
    "soup"
   ]
  },
  {
   "cell_type": "code",
   "execution_count": 131,
   "id": "3783eb85",
   "metadata": {},
   "outputs": [
    {
     "data": {
      "text/plain": [
       "[['써니전자', '5,000'],\n",
       " ['삼성전자', '55,200'],\n",
       " ['안랩', '81,000'],\n",
       " ['케이엠더블..', '57,300'],\n",
       " ['피피아이', '12,600'],\n",
       " ['KT&G', '92,500'],\n",
       " ['삼성전자우', '45,600'],\n",
       " ['대양금속', '10,550'],\n",
       " ['SK하이닉스', '94,700'],\n",
       " ['SK텔레콤', '234,000']]"
      ]
     },
     "execution_count": 131,
     "metadata": {},
     "output_type": "execute_result"
    }
   ],
   "source": [
    "lst_pop = []\n",
    "for li in soup.select('.lst_pop > li'):\n",
    "    lst_pop.append([li.find('a').string, li.find('span').string])\n",
    "lst_pop"
   ]
  },
  {
   "cell_type": "code",
   "execution_count": 132,
   "id": "e2e85e48",
   "metadata": {},
   "outputs": [
    {
     "data": {
      "text/plain": [
       "[['다우산업', '28,647.43'],\n",
       " ['나스닥', '9,015.03'],\n",
       " ['홍콩H', '11,320.56'],\n",
       " ['상해종합', '3,085.20'],\n",
       " ['니케이225', '23,656.62']]"
      ]
     },
     "execution_count": 132,
     "metadata": {},
     "output_type": "execute_result"
    }
   ],
   "source": [
    "lst_major = []\n",
    "for li in soup.select('.lst_major > li'):\n",
    "    lst_major.append([li.find('a').string, li.find('span').string])\n",
    "lst_major"
   ]
  },
  {
   "cell_type": "code",
   "execution_count": 156,
   "id": "a1686843",
   "metadata": {},
   "outputs": [
    {
     "data": {
      "text/plain": [
       "[['써니전자', '5,000'], ['피피아이', '12,600']]"
      ]
     },
     "execution_count": 156,
     "metadata": {},
     "output_type": "execute_result"
    }
   ],
   "source": [
    "lst_pop_up = []\n",
    "for li in soup.select('.lst_pop > .up'):\n",
    "    if li.find('img')['alt'] == '상한':\n",
    "        lst_pop_up.append([li.find('a').string, li.find('span').string])\n",
    "lst_pop_up"
   ]
  },
  {
   "cell_type": "code",
   "execution_count": 158,
   "id": "85aa5219",
   "metadata": {},
   "outputs": [
    {
     "data": {
      "text/plain": [
       "[['다우산업', '28,647.43'],\n",
       " ['나스닥', '9,015.03'],\n",
       " ['홍콩H', '11,320.56'],\n",
       " ['상해종합', '3,085.20']]"
      ]
     },
     "execution_count": 158,
     "metadata": {},
     "output_type": "execute_result"
    }
   ],
   "source": [
    "lst_major_up = []\n",
    "for li in soup.select('.lst_major > .up'):\n",
    "    if li.find('img')['alt'] == '상한':\n",
    "        lst_major_up.append([li.find('a').string, li.find('span').string])\n",
    "lst_major_up"
   ]
  },
  {
   "cell_type": "code",
   "execution_count": 197,
   "id": "ff279f09",
   "metadata": {},
   "outputs": [
    {
     "data": {
      "text/plain": [
       "<ul class=\"sale_list _sale_list\">\n",
       "<li class=\"sale_item\">\n",
       "<div class=\"sale_box\">\n",
       "<div class=\"sale_tit\">\n",
       "<a href=\"#\" target=\"_blank\">H하우스장위</a>\n",
       "</div>\n",
       "<div class=\"sale_desc\">\n",
       "<img alt=\"\" class=\"thumb_img\" height=\"82\" src=\"https://search.pstatic.net/common/?src=https%3A%2F%2Flandthumb-phinf.pstatic.net%2F20200102_216%2Fisale_complex_1577947561833Uclja_JPEG%2Fuploadfile_202001025582218.jpg%3Ftype%3Dm232&amp;type=f82_82_q75\" width=\"82\"/>\n",
       "</div>\n",
       "<div class=\"sale_detail\">\n",
       "<dl class=\"detail_info\">\n",
       "<dt class=\"tit\">보증금</dt><dd class=\"txt\"><strong class=\"point\">16,000</strong> 만원</dd>\n",
       "<dt class=\"tit\">유형</dt><dd class=\"txt\">아파트<span class=\"bar\">|</span>일반민간임대</dd>\n",
       "<dt class=\"tit\">규모/면적</dt><dd class=\"txt\">분양 134세대<span class=\"bar\">|</span>45㎡~65㎡</dd>\n",
       "<dt class=\"tit\">위치</dt> <dd class=\"txt\">서울시 성북구 장위동</dd>\n",
       "</dl>\n",
       "</div>\n",
       "</div>\n",
       "</li>\n",
       "<li class=\"sale_item\">\n",
       "<div class=\"sale_box\">\n",
       "<div class=\"sale_tit\">\n",
       "<a href=\"#\" target=\"_blank\">고덕리엔파크2단지 장기전세</a>\n",
       "</div>\n",
       "<div class=\"sale_desc\">\n",
       "<img alt=\"\" class=\"thumb_img\" height=\"82\" src=\"https://search.pstatic.net/common/?src=https%3A%2F%2Flandthumb-phinf.pstatic.net%2F20110810_136%2Fisale_complex_1312968580369Yxsk9_JPEG%2Fuploadfile_201103075773845.jpg%3Ftype%3Dm232&amp;type=f82_82_q75\" width=\"82\"/>\n",
       "</div>\n",
       "<div class=\"sale_detail\">\n",
       "<dl class=\"detail_info\">\n",
       "<dt class=\"tit\">보증금</dt><dd class=\"txt\"><strong class=\"point\">38,400</strong> 만원</dd>\n",
       "<dt class=\"tit\">유형</dt><dd class=\"txt\">아파트<span class=\"bar\">|</span>장기전세주택</dd>\n",
       "<dt class=\"tit\">규모/면적</dt><dd class=\"txt\">분양 1세대<span class=\"bar\">|</span>149㎡</dd>\n",
       "<dt class=\"tit\">위치</dt> <dd class=\"txt\">서울시 강동구 강일동</dd>\n",
       "</dl>\n",
       "</div>\n",
       "</div>\n",
       "</li>\n",
       "<li class=\"sale_item\">\n",
       "<div class=\"sale_box\">\n",
       "<div class=\"sale_tit\">\n",
       "<a href=\"#\" target=\"_blank\">신정이펜하우스3단지 장기전세</a>\n",
       "</div>\n",
       "<div class=\"sale_desc\">\n",
       "<img alt=\"\" class=\"thumb_img\" height=\"82\" src=\"https://search.pstatic.net/common/?src=https%3A%2F%2Flandthumb-phinf.pstatic.net%2F20110810_260%2Fisale_complex_1312968335794i6pKe_JPEG%2Fuploadfile_201102243825127.jpg%3Ftype%3Dm232&amp;type=f82_82_q75\" width=\"82\"/>\n",
       "</div>\n",
       "<div class=\"sale_detail\">\n",
       "<dl class=\"detail_info\">\n",
       "<dt class=\"tit\">보증금</dt><dd class=\"txt\"><strong class=\"point\">39,040</strong> 만원</dd>\n",
       "<dt class=\"tit\">유형</dt><dd class=\"txt\">아파트<span class=\"bar\">|</span>장기전세주택</dd>\n",
       "<dt class=\"tit\">규모/면적</dt><dd class=\"txt\">분양 1세대<span class=\"bar\">|</span>148㎡</dd>\n",
       "<dt class=\"tit\">위치</dt> <dd class=\"txt\">서울시 양천구 신정동</dd>\n",
       "</dl>\n",
       "</div>\n",
       "</div>\n",
       "</li>\n",
       "<li class=\"sale_item\">\n",
       "<div class=\"sale_box\">\n",
       "<div class=\"sale_tit\">\n",
       "<a href=\"#\" target=\"_blank\">천왕이펜하우스2단지 장기전세</a>\n",
       "</div>\n",
       "<div class=\"sale_desc\">\n",
       "<img alt=\"\" class=\"thumb_img\" height=\"82\" src=\"https://search.pstatic.net/common/?src=https%3A%2F%2Flandthumb-phinf.pstatic.net%2F20110810_35%2Fisale_complex_1312968350479SO2pI_JPEG%2Fuploadfile_201102244996257.jpg%3Ftype%3Dm232&amp;type=f82_82_q75\" width=\"82\"/>\n",
       "</div>\n",
       "<div class=\"sale_detail\">\n",
       "<dl class=\"detail_info\">\n",
       "<dt class=\"tit\">보증금</dt><dd class=\"txt\"><strong class=\"point\">38,240</strong> 만원</dd>\n",
       "<dt class=\"tit\">유형</dt><dd class=\"txt\">아파트<span class=\"bar\">|</span>장기전세주택</dd>\n",
       "<dt class=\"tit\">규모/면적</dt><dd class=\"txt\">분양 1세대<span class=\"bar\">|</span>142㎡</dd>\n",
       "<dt class=\"tit\">위치</dt> <dd class=\"txt\">서울시 구로구 오류동</dd>\n",
       "</dl>\n",
       "</div>\n",
       "</div>\n",
       "</li>\n",
       "<li class=\"sale_item\">\n",
       "<div class=\"sale_box\">\n",
       "<div class=\"sale_tit\">\n",
       "<a href=\"#\" target=\"_blank\">송파파크데일2단지 장기전세</a>\n",
       "</div>\n",
       "<div class=\"sale_desc\">\n",
       "<img alt=\"\" class=\"thumb_img\" height=\"82\" src=\"https://search.pstatic.net/common/?src=https%3A%2F%2Flandthumb-phinf.pstatic.net%2F20110810_211%2Fisale_complex_1312968571650Iusoz_JPEG%2Fuploadfile_201103074989552.jpg%3Ftype%3Dm232&amp;type=f82_82_q75\" width=\"82\"/>\n",
       "</div>\n",
       "<div class=\"sale_detail\">\n",
       "<dl class=\"detail_info\">\n",
       "<dt class=\"tit\">보증금</dt><dd class=\"txt\"><strong class=\"point\">45,600</strong> 만원</dd>\n",
       "<dt class=\"tit\">유형</dt><dd class=\"txt\">아파트<span class=\"bar\">|</span>장기전세주택</dd>\n",
       "<dt class=\"tit\">규모/면적</dt><dd class=\"txt\">분양 1세대<span class=\"bar\">|</span>150㎡</dd>\n",
       "<dt class=\"tit\">위치</dt> <dd class=\"txt\">서울시 송파구 마천동</dd>\n",
       "</dl>\n",
       "</div>\n",
       "</div>\n",
       "</li>\n",
       "</ul>"
      ]
     },
     "execution_count": 197,
     "metadata": {},
     "output_type": "execute_result"
    }
   ],
   "source": [
    "soup.select('.sale_list')[0]"
   ]
  },
  {
   "cell_type": "code",
   "execution_count": 208,
   "id": "9a52db29",
   "metadata": {},
   "outputs": [
    {
     "data": {
      "text/plain": [
       "[{'이름': 'H하우스장위',\n",
       "  '보증금': '16000',\n",
       "  '유형': '아파트',\n",
       "  '분양유형': '일반민간임대',\n",
       "  '세대수': '분양 134세대',\n",
       "  '평형': '45㎡~65㎡'},\n",
       " {'이름': '고덕리엔파크2단지 장기전세',\n",
       "  '보증금': '38400',\n",
       "  '유형': '아파트',\n",
       "  '분양유형': '장기전세주택',\n",
       "  '세대수': '분양 1세대',\n",
       "  '평형': '149㎡'},\n",
       " {'이름': '신정이펜하우스3단지 장기전세',\n",
       "  '보증금': '39040',\n",
       "  '유형': '아파트',\n",
       "  '분양유형': '장기전세주택',\n",
       "  '세대수': '분양 1세대',\n",
       "  '평형': '148㎡'},\n",
       " {'이름': '천왕이펜하우스2단지 장기전세',\n",
       "  '보증금': '38240',\n",
       "  '유형': '아파트',\n",
       "  '분양유형': '장기전세주택',\n",
       "  '세대수': '분양 1세대',\n",
       "  '평형': '142㎡'},\n",
       " {'이름': '송파파크데일2단지 장기전세',\n",
       "  '보증금': '45600',\n",
       "  '유형': '아파트',\n",
       "  '분양유형': '장기전세주택',\n",
       "  '세대수': '분양 1세대',\n",
       "  '평형': '150㎡'}]"
      ]
     },
     "execution_count": 208,
     "metadata": {},
     "output_type": "execute_result"
    }
   ],
   "source": [
    "apt = []\n",
    "for item in soup.select('.sale_list > li'):\n",
    "    apt.append({\n",
    "        '이름' : item.select_one('.sale_tit').text.strip(),\n",
    "        '보증금' : item.select('.detail_info > dd.txt')[0].select_one('strong').text.replace(',', ''),\n",
    "        '유형' : item.select('.detail_info > dd.txt')[1].text.split('|')[0],\n",
    "        '분양유형' : item.select('.detail_info > dd.txt')[1].text.split('|')[1],\n",
    "        '세대수' : item.select('.detail_info > dd.txt')[2].text.split('|')[0],\n",
    "        '평형' : item.select('.detail_info > dd.txt')[2].text.split('|')[1]\n",
    "    })\n",
    "apt"
   ]
  },
  {
   "cell_type": "code",
   "execution_count": null,
   "id": "ddcd4bf4",
   "metadata": {},
   "outputs": [],
   "source": []
  }
 ],
 "metadata": {
  "kernelspec": {
   "display_name": "Python 3 (ipykernel)",
   "language": "python",
   "name": "python3"
  },
  "language_info": {
   "codemirror_mode": {
    "name": "ipython",
    "version": 3
   },
   "file_extension": ".py",
   "mimetype": "text/x-python",
   "name": "python",
   "nbconvert_exporter": "python",
   "pygments_lexer": "ipython3",
   "version": "3.11.1"
  }
 },
 "nbformat": 4,
 "nbformat_minor": 5
}
