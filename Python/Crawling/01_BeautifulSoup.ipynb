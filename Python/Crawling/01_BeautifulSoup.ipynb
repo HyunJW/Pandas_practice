{
 "cells": [
  {
   "cell_type": "code",
   "execution_count": 1,
   "id": "16904b12",
   "metadata": {},
   "outputs": [],
   "source": [
    "from bs4 import BeautifulSoup"
   ]
  },
  {
   "cell_type": "code",
   "execution_count": 2,
   "id": "8ffecff2",
   "metadata": {},
   "outputs": [],
   "source": [
    "with open('00.Example.html', encoding='utf8') as f:\n",
    "    soup = BeautifulSoup(f, 'html.parser')"
   ]
  },
  {
   "cell_type": "code",
   "execution_count": 3,
   "id": "6a219fd8",
   "metadata": {},
   "outputs": [
    {
     "data": {
      "text/plain": [
       "<!DOCTYPE html>\n",
       "\n",
       "<html lang=\"en\">\n",
       "<head>\n",
       "<meta charset=\"utf-8\"/>\n",
       "<meta content=\"IE=edge\" http-equiv=\"X-UA-Compatible\"/>\n",
       "<meta content=\"width=device-width, initial-scale=1.0\" name=\"viewport\"/>\n",
       "<title>Web Crawling Example</title>\n",
       "</head>\n",
       "<body>\n",
       "<div>\n",
       "<p>a</p><p>b</p><p>c</p>\n",
       "</div>\n",
       "<div class=\"ex_class sample\">\n",
       "<p>X</p><p>Y</p><p>Z</p>\n",
       "</div>\n",
       "<div id=\"ex_id\">\n",
       "<p>1</p><p>2</p><p>3</p>\n",
       "</div>\n",
       "<h1>This is a heading.</h1>\n",
       "<p>This is a paragraph.</p>\n",
       "<a class=\"a sample\" href=\"www.naver.com\">네이버</a>\n",
       "<table border=\"1\">\n",
       "<tr>\n",
       "<td>A</td>\n",
       "<td>B</td>\n",
       "<td>C</td>\n",
       "</tr>\n",
       "<tr>\n",
       "<td>x</td>\n",
       "<td>y</td>\n",
       "<td>z</td>\n",
       "</tr>\n",
       "</table>\n",
       "<ul>\n",
       "<li>삼겹살</li>\n",
       "<li>치킨</li>\n",
       "<li>비빕밥</li>\n",
       "</ul>\n",
       "</body>\n",
       "</html>"
      ]
     },
     "execution_count": 3,
     "metadata": {},
     "output_type": "execute_result"
    }
   ],
   "source": [
    "soup"
   ]
  },
  {
   "cell_type": "markdown",
   "id": "4035d4db",
   "metadata": {},
   "source": [
    "# 1. find(), find_all()"
   ]
  },
  {
   "cell_type": "code",
   "execution_count": 4,
   "id": "86effb5f",
   "metadata": {},
   "outputs": [
    {
     "name": "stdout",
     "output_type": "stream",
     "text": [
      "<div>\n",
      "<p>a</p><p>b</p><p>c</p>\n",
      "</div>\n"
     ]
    }
   ],
   "source": [
    "# 첫번째 div 태그의 내용 가져오기\n",
    "first_div = soup.find('div')\n",
    "print(first_div)"
   ]
  },
  {
   "cell_type": "code",
   "execution_count": 5,
   "id": "32a020ed",
   "metadata": {},
   "outputs": [
    {
     "name": "stdout",
     "output_type": "stream",
     "text": [
      "[<p>a</p>, <p>b</p>, <p>c</p>]\n"
     ]
    }
   ],
   "source": [
    "# 해당되는 태그를 모두 가져오기\n",
    "ps = first_div.find_all('p')\n",
    "print(ps)"
   ]
  },
  {
   "cell_type": "code",
   "execution_count": 6,
   "id": "41d27b61",
   "metadata": {},
   "outputs": [
    {
     "name": "stdout",
     "output_type": "stream",
     "text": [
      "<p>a</p>\n",
      "<p>b</p>\n",
      "<p>c</p>\n"
     ]
    }
   ],
   "source": [
    "for ptag in ps:\n",
    "    print(ptag)"
   ]
  },
  {
   "cell_type": "code",
   "execution_count": 7,
   "id": "ed1b5653",
   "metadata": {},
   "outputs": [
    {
     "data": {
      "text/plain": [
       "<p>b</p>"
      ]
     },
     "execution_count": 7,
     "metadata": {},
     "output_type": "execute_result"
    }
   ],
   "source": [
    "ps[1]"
   ]
  },
  {
   "cell_type": "markdown",
   "id": "6b547203",
   "metadata": {},
   "source": [
    "# 2. CSS selector : selcet_one(), select()"
   ]
  },
  {
   "cell_type": "code",
   "execution_count": 8,
   "id": "ff7a195d",
   "metadata": {},
   "outputs": [
    {
     "data": {
      "text/plain": [
       "<div class=\"ex_class sample\">\n",
       "<p>X</p><p>Y</p><p>Z</p>\n",
       "</div>"
      ]
     },
     "execution_count": 8,
     "metadata": {},
     "output_type": "execute_result"
    }
   ],
   "source": [
    "# class 명이 ex_class인 태그의 정보를 가져오기\n",
    "second_div = soup.select_one('.ex_class')\n",
    "second_div"
   ]
  },
  {
   "cell_type": "code",
   "execution_count": 41,
   "id": "a08a68d8",
   "metadata": {},
   "outputs": [
    {
     "data": {
      "text/plain": [
       "<div class=\"ex_class sample\">\n",
       "<p>X</p><p>Y</p><p>Z</p>\n",
       "</div>"
      ]
     },
     "execution_count": 41,
     "metadata": {},
     "output_type": "execute_result"
    }
   ],
   "source": [
    "# 여러개의 클래스 이름을 가져오기\n",
    "second_div2 = soup.select_one('.ex_class.sample')\n",
    "second_div2"
   ]
  },
  {
   "cell_type": "code",
   "execution_count": 42,
   "id": "9bdb3f4f",
   "metadata": {},
   "outputs": [
    {
     "data": {
      "text/plain": [
       "[<div class=\"ex_class sample\">\n",
       " <p>X</p><p>Y</p><p>Z</p>\n",
       " </div>,\n",
       " <a class=\"a sample\" href=\"www.naver.com\">네이버</a>]"
      ]
     },
     "execution_count": 42,
     "metadata": {},
     "output_type": "execute_result"
    }
   ],
   "source": [
    "soup.select('.sample')"
   ]
  },
  {
   "cell_type": "code",
   "execution_count": 9,
   "id": "3f0f909a",
   "metadata": {},
   "outputs": [
    {
     "data": {
      "text/plain": [
       "<div id=\"ex_id\">\n",
       "<p>1</p><p>2</p><p>3</p>\n",
       "</div>"
      ]
     },
     "execution_count": 9,
     "metadata": {},
     "output_type": "execute_result"
    }
   ],
   "source": [
    "third_div = soup.select_one('#ex_id')\n",
    "third_div"
   ]
  },
  {
   "cell_type": "code",
   "execution_count": 10,
   "id": "c37e4034",
   "metadata": {},
   "outputs": [
    {
     "data": {
      "text/plain": [
       "[<div>\n",
       " <p>a</p><p>b</p><p>c</p>\n",
       " </div>,\n",
       " <div class=\"ex_class sample\">\n",
       " <p>X</p><p>Y</p><p>Z</p>\n",
       " </div>,\n",
       " <div id=\"ex_id\">\n",
       " <p>1</p><p>2</p><p>3</p>\n",
       " </div>]"
      ]
     },
     "execution_count": 10,
     "metadata": {},
     "output_type": "execute_result"
    }
   ],
   "source": [
    "# div 태그를 모두 가져오기\n",
    "all_div = soup.select('div')\n",
    "all_div"
   ]
  },
  {
   "cell_type": "code",
   "execution_count": 11,
   "id": "db3214c6",
   "metadata": {},
   "outputs": [
    {
     "data": {
      "text/plain": [
       "3"
      ]
     },
     "execution_count": 11,
     "metadata": {},
     "output_type": "execute_result"
    }
   ],
   "source": [
    "len(all_div)"
   ]
  },
  {
   "cell_type": "code",
   "execution_count": 13,
   "id": "56816efc",
   "metadata": {},
   "outputs": [
    {
     "data": {
      "text/plain": [
       "[<p>a</p>,\n",
       " <p>b</p>,\n",
       " <p>c</p>,\n",
       " <p>X</p>,\n",
       " <p>Y</p>,\n",
       " <p>Z</p>,\n",
       " <p>1</p>,\n",
       " <p>2</p>,\n",
       " <p>3</p>,\n",
       " <p>This is a paragraph.</p>]"
      ]
     },
     "execution_count": 13,
     "metadata": {},
     "output_type": "execute_result"
    }
   ],
   "source": [
    "all_p = soup.select('p')\n",
    "all_p"
   ]
  },
  {
   "cell_type": "code",
   "execution_count": 14,
   "id": "01bd4610",
   "metadata": {},
   "outputs": [
    {
     "data": {
      "text/plain": [
       "10"
      ]
     },
     "execution_count": 14,
     "metadata": {},
     "output_type": "execute_result"
    }
   ],
   "source": [
    "len(all_p)"
   ]
  },
  {
   "cell_type": "code",
   "execution_count": 17,
   "id": "ff8487c9",
   "metadata": {},
   "outputs": [
    {
     "data": {
      "text/plain": [
       "9"
      ]
     },
     "execution_count": 17,
     "metadata": {},
     "output_type": "execute_result"
    }
   ],
   "source": [
    "# div의 자식인 p태그\n",
    "div_ps = soup.select('div p')\n",
    "len(div_ps)"
   ]
  },
  {
   "cell_type": "markdown",
   "id": "3d125fde",
   "metadata": {},
   "source": [
    "# 3. 결과"
   ]
  },
  {
   "cell_type": "code",
   "execution_count": 18,
   "id": "5f1c5d5f",
   "metadata": {},
   "outputs": [
    {
     "data": {
      "text/plain": [
       "<h1>This is a heading.</h1>"
      ]
     },
     "execution_count": 18,
     "metadata": {},
     "output_type": "execute_result"
    }
   ],
   "source": [
    "#  태그 안의 내용\n",
    "h1_info = soup.find('h1')\n",
    "h1_info"
   ]
  },
  {
   "cell_type": "code",
   "execution_count": 19,
   "id": "f841a3e3",
   "metadata": {},
   "outputs": [
    {
     "data": {
      "text/plain": [
       "'This is a heading.'"
      ]
     },
     "execution_count": 19,
     "metadata": {},
     "output_type": "execute_result"
    }
   ],
   "source": [
    "h1_info = h1_info.get_text()\n",
    "h1_info"
   ]
  },
  {
   "cell_type": "code",
   "execution_count": 20,
   "id": "b0de57cd",
   "metadata": {},
   "outputs": [
    {
     "data": {
      "text/plain": [
       "'This is a heading.'"
      ]
     },
     "execution_count": 20,
     "metadata": {},
     "output_type": "execute_result"
    }
   ],
   "source": [
    "soup.find('h1').string"
   ]
  },
  {
   "cell_type": "code",
   "execution_count": 21,
   "id": "cef372bc",
   "metadata": {},
   "outputs": [
    {
     "data": {
      "text/plain": [
       "'네이버'"
      ]
     },
     "execution_count": 21,
     "metadata": {},
     "output_type": "execute_result"
    }
   ],
   "source": [
    "soup.find('a').get_text() # a 태그의 내용 가져오기"
   ]
  },
  {
   "cell_type": "code",
   "execution_count": 22,
   "id": "696daf89",
   "metadata": {},
   "outputs": [
    {
     "data": {
      "text/plain": [
       "'www.naver.com'"
      ]
     },
     "execution_count": 22,
     "metadata": {},
     "output_type": "execute_result"
    }
   ],
   "source": [
    "soup.find('a')['href'] # a 태그의 속성값 가져오기"
   ]
  },
  {
   "cell_type": "code",
   "execution_count": 47,
   "id": "879c669a",
   "metadata": {},
   "outputs": [],
   "source": [
    "lis = soup.find_all('li')"
   ]
  },
  {
   "cell_type": "code",
   "execution_count": 49,
   "id": "eb14d7f9",
   "metadata": {},
   "outputs": [
    {
     "name": "stdout",
     "output_type": "stream",
     "text": [
      "삼겹살\n",
      "치킨\n",
      "비빕밥\n"
     ]
    }
   ],
   "source": [
    "for li in lis:\n",
    "    print(li.string)"
   ]
  },
  {
   "cell_type": "code",
   "execution_count": 52,
   "id": "621c624f",
   "metadata": {},
   "outputs": [
    {
     "data": {
      "text/plain": [
       "['삼겹살', '치킨', '비빕밥']"
      ]
     },
     "execution_count": 52,
     "metadata": {},
     "output_type": "execute_result"
    }
   ],
   "source": [
    "[li.string for li in lis]"
   ]
  },
  {
   "cell_type": "code",
   "execution_count": 64,
   "id": "c0d74ab6",
   "metadata": {},
   "outputs": [
    {
     "data": {
      "text/plain": [
       "[<tr>\n",
       " <td>A</td>\n",
       " <td>B</td>\n",
       " <td>C</td>\n",
       " </tr>,\n",
       " <tr>\n",
       " <td>x</td>\n",
       " <td>y</td>\n",
       " <td>z</td>\n",
       " </tr>]"
      ]
     },
     "execution_count": 64,
     "metadata": {},
     "output_type": "execute_result"
    }
   ],
   "source": [
    "trs = soup.select('table > tr')\n",
    "trs"
   ]
  },
  {
   "cell_type": "code",
   "execution_count": 68,
   "id": "90d42ab8",
   "metadata": {},
   "outputs": [
    {
     "name": "stdout",
     "output_type": "stream",
     "text": [
      "ABC\n",
      "xyz\n"
     ]
    }
   ],
   "source": [
    "for tr in trs:\n",
    "    tds = tr.select('td')\n",
    "    for td in tds:\n",
    "        print(td.string, end='')\n",
    "    print()"
   ]
  },
  {
   "cell_type": "code",
   "execution_count": null,
   "id": "916b12c2",
   "metadata": {},
   "outputs": [],
   "source": []
  }
 ],
 "metadata": {
  "kernelspec": {
   "display_name": "Python 3 (ipykernel)",
   "language": "python",
   "name": "python3"
  },
  "language_info": {
   "codemirror_mode": {
    "name": "ipython",
    "version": 3
   },
   "file_extension": ".py",
   "mimetype": "text/x-python",
   "name": "python",
   "nbconvert_exporter": "python",
   "pygments_lexer": "ipython3",
   "version": "3.11.1"
  }
 },
 "nbformat": 4,
 "nbformat_minor": 5
}
