{
 "cells": [
  {
   "cell_type": "markdown",
   "id": "cd8a89c6",
   "metadata": {},
   "source": [
    "# 광주 소방서 정보 가져오기\n",
    "* '관서명', '주소', '전화번호'"
   ]
  },
  {
   "cell_type": "code",
   "execution_count": 52,
   "id": "394f3894",
   "metadata": {},
   "outputs": [],
   "source": [
    "from bs4 import BeautifulSoup\n",
    "import pandas as pd\n",
    "import time\n",
    "from selenium import webdriver\n",
    "from selenium.webdriver.common.keys import Keys\n",
    "from selenium.webdriver.common.by import By\n",
    "import math"
   ]
  },
  {
   "cell_type": "markdown",
   "id": "25bd528a",
   "metadata": {},
   "source": [
    "## 1. 광주검색"
   ]
  },
  {
   "cell_type": "code",
   "execution_count": 9,
   "id": "eff72d12",
   "metadata": {},
   "outputs": [
    {
     "name": "stderr",
     "output_type": "stream",
     "text": [
      "C:\\Users\\tjoeun\\AppData\\Local\\Temp\\ipykernel_7976\\1194244807.py:2: DeprecationWarning: executable_path has been deprecated, please pass in a Service object\n",
      "  driver = webdriver.Chrome('chromedriver.exe')\n"
     ]
    }
   ],
   "source": [
    "url = 'https://www.nfa.go.kr/nfa/introduce/status/firestationidfo/?searchDistance=10&searchMode=keyword&myX=37.5605672&myY=126.9433486&searchKeyword='\n",
    "driver = webdriver.Chrome('chromedriver.exe')\n",
    "driver.get(url)"
   ]
  },
  {
   "cell_type": "code",
   "execution_count": 10,
   "id": "152bcfae",
   "metadata": {},
   "outputs": [],
   "source": [
    "# '광주' 검색\n",
    "driver.find_element(By.ID, 'searchKeyword').send_keys('광주')\n",
    "driver.find_element(By.ID, 'fsSearchBtn').click()\n",
    "time.sleep(3)"
   ]
  },
  {
   "cell_type": "markdown",
   "id": "8484a856",
   "metadata": {},
   "source": [
    "## 2. 1페이지 정보만 가져오기"
   ]
  },
  {
   "cell_type": "code",
   "execution_count": 19,
   "id": "8aaa3fb5",
   "metadata": {},
   "outputs": [],
   "source": [
    "soup = BeautifulSoup(driver.page_source, 'html.parser')"
   ]
  },
  {
   "cell_type": "code",
   "execution_count": 26,
   "id": "83a95775",
   "metadata": {},
   "outputs": [],
   "source": [
    "divs = soup.select('.stations-list li')"
   ]
  },
  {
   "cell_type": "code",
   "execution_count": 27,
   "id": "9ce5c687",
   "metadata": {},
   "outputs": [
    {
     "data": {
      "text/plain": [
       "10"
      ]
     },
     "execution_count": 27,
     "metadata": {},
     "output_type": "execute_result"
    }
   ],
   "source": [
    "len(divs)"
   ]
  },
  {
   "cell_type": "code",
   "execution_count": 53,
   "id": "afc0477e",
   "metadata": {},
   "outputs": [],
   "source": [
    "div = divs[0]"
   ]
  },
  {
   "cell_type": "code",
   "execution_count": 37,
   "id": "1f47c984",
   "metadata": {},
   "outputs": [
    {
     "data": {
      "text/plain": [
       "'북부소방서_광주-일곡-119 안전센터'"
      ]
     },
     "execution_count": 37,
     "metadata": {},
     "output_type": "execute_result"
    }
   ],
   "source": [
    "title = div.select_one('.title').text\n",
    "title"
   ]
  },
  {
   "cell_type": "code",
   "execution_count": 38,
   "id": "9b72891d",
   "metadata": {},
   "outputs": [
    {
     "data": {
      "text/plain": [
       "<address>광주광역시 북구 설죽로 529(일곡동)</address>"
      ]
     },
     "execution_count": 38,
     "metadata": {},
     "output_type": "execute_result"
    }
   ],
   "source": [
    "addr = div.select_one('address')\n",
    "addr"
   ]
  },
  {
   "cell_type": "code",
   "execution_count": 36,
   "id": "78dec14d",
   "metadata": {},
   "outputs": [
    {
     "data": {
      "text/plain": [
       "'062-606-4743'"
      ]
     },
     "execution_count": 36,
     "metadata": {},
     "output_type": "execute_result"
    }
   ],
   "source": [
    "tel = div.select_one('.tel').text\n",
    "tel"
   ]
  },
  {
   "cell_type": "code",
   "execution_count": 34,
   "id": "a9a215ae",
   "metadata": {},
   "outputs": [],
   "source": [
    "lines = []\n",
    "\n",
    "for div in divs:\n",
    "    title = div.select_one('.title').text\n",
    "    addr = div.select_one('address').text\n",
    "    tel = div.select_one('.tel').text\n",
    "    \n",
    "    lines.append([title, addr, tel])"
   ]
  },
  {
   "cell_type": "code",
   "execution_count": 35,
   "id": "e03251d4",
   "metadata": {},
   "outputs": [
    {
     "data": {
      "text/html": [
       "<div>\n",
       "<style scoped>\n",
       "    .dataframe tbody tr th:only-of-type {\n",
       "        vertical-align: middle;\n",
       "    }\n",
       "\n",
       "    .dataframe tbody tr th {\n",
       "        vertical-align: top;\n",
       "    }\n",
       "\n",
       "    .dataframe thead th {\n",
       "        text-align: right;\n",
       "    }\n",
       "</style>\n",
       "<table border=\"1\" class=\"dataframe\">\n",
       "  <thead>\n",
       "    <tr style=\"text-align: right;\">\n",
       "      <th></th>\n",
       "      <th>관서명</th>\n",
       "      <th>주소</th>\n",
       "      <th>전화번호</th>\n",
       "    </tr>\n",
       "  </thead>\n",
       "  <tbody>\n",
       "    <tr>\n",
       "      <th>0</th>\n",
       "      <td>광산소방서_광주-평동-119 안전센터</td>\n",
       "      <td>광주광역시 광산구 월전동 1251</td>\n",
       "      <td>전화공사중</td>\n",
       "    </tr>\n",
       "    <tr>\n",
       "      <th>1</th>\n",
       "      <td>광산소방서_광주-첨단-119 안전센터</td>\n",
       "      <td>광주광역시 광산구 임방울대로825번길 16(쌍암동)</td>\n",
       "      <td>062-606-4883</td>\n",
       "    </tr>\n",
       "    <tr>\n",
       "      <th>2</th>\n",
       "      <td>광산소방서_광주-신가-119 안전센터</td>\n",
       "      <td>광주광역시 광산구 수등로 236(신가동)</td>\n",
       "      <td>062-606-4863</td>\n",
       "    </tr>\n",
       "    <tr>\n",
       "      <th>3</th>\n",
       "      <td>광산소방서_광주-비아-119 안전센터</td>\n",
       "      <td>광주광역시 광산구 비아로12번길 10(비아동)</td>\n",
       "      <td>062-606-4843</td>\n",
       "    </tr>\n",
       "    <tr>\n",
       "      <th>4</th>\n",
       "      <td>광산소방서_광주-월곡-119 안전센터</td>\n",
       "      <td>광주광역시 광산구 사암로 276(월곡동)</td>\n",
       "      <td>062-606-4823</td>\n",
       "    </tr>\n",
       "    <tr>\n",
       "      <th>5</th>\n",
       "      <td>광산소방서_광주-송정-119 안전센터</td>\n",
       "      <td>광주광역시 광산구 상무대로 93-1(도산동)</td>\n",
       "      <td>062-606-4803</td>\n",
       "    </tr>\n",
       "    <tr>\n",
       "      <th>6</th>\n",
       "      <td>광산소방서_광주-하남-119 안전센터</td>\n",
       "      <td>광주광역시 광산구 하남산단1번로 13(하남동)</td>\n",
       "      <td>062-606-4903</td>\n",
       "    </tr>\n",
       "    <tr>\n",
       "      <th>7</th>\n",
       "      <td>북부소방서_광주-동림-119 안전센터</td>\n",
       "      <td>광주광역시 북구 북문대로 202(동림동)</td>\n",
       "      <td>062-606-4783</td>\n",
       "    </tr>\n",
       "    <tr>\n",
       "      <th>8</th>\n",
       "      <td>북부소방서_광주-두암-119 안전센터</td>\n",
       "      <td>광주광역시 북구 삼정로 5(두암동)</td>\n",
       "      <td>062-606-4763</td>\n",
       "    </tr>\n",
       "    <tr>\n",
       "      <th>9</th>\n",
       "      <td>북부소방서_광주-일곡-119 안전센터</td>\n",
       "      <td>광주광역시 북구 설죽로 529(일곡동)</td>\n",
       "      <td>062-606-4743</td>\n",
       "    </tr>\n",
       "  </tbody>\n",
       "</table>\n",
       "</div>"
      ],
      "text/plain": [
       "                    관서명                            주소          전화번호\n",
       "0  광산소방서_광주-평동-119 안전센터            광주광역시 광산구 월전동 1251         전화공사중\n",
       "1  광산소방서_광주-첨단-119 안전센터  광주광역시 광산구 임방울대로825번길 16(쌍암동)  062-606-4883\n",
       "2  광산소방서_광주-신가-119 안전센터        광주광역시 광산구 수등로 236(신가동)  062-606-4863\n",
       "3  광산소방서_광주-비아-119 안전센터     광주광역시 광산구 비아로12번길 10(비아동)  062-606-4843\n",
       "4  광산소방서_광주-월곡-119 안전센터        광주광역시 광산구 사암로 276(월곡동)  062-606-4823\n",
       "5  광산소방서_광주-송정-119 안전센터      광주광역시 광산구 상무대로 93-1(도산동)  062-606-4803\n",
       "6  광산소방서_광주-하남-119 안전센터     광주광역시 광산구 하남산단1번로 13(하남동)  062-606-4903\n",
       "7  북부소방서_광주-동림-119 안전센터        광주광역시 북구 북문대로 202(동림동)  062-606-4783\n",
       "8  북부소방서_광주-두암-119 안전센터           광주광역시 북구 삼정로 5(두암동)  062-606-4763\n",
       "9  북부소방서_광주-일곡-119 안전센터         광주광역시 북구 설죽로 529(일곡동)  062-606-4743"
      ]
     },
     "execution_count": 35,
     "metadata": {},
     "output_type": "execute_result"
    }
   ],
   "source": [
    "df = pd.DataFrame(lines, columns=['관서명', '주소', '전화번호'])\n",
    "df"
   ]
  },
  {
   "cell_type": "markdown",
   "id": "979abe53",
   "metadata": {},
   "source": [
    "## 3. 전체 페이지 가져오기"
   ]
  },
  {
   "cell_type": "code",
   "execution_count": 39,
   "id": "308e5cc9",
   "metadata": {},
   "outputs": [],
   "source": [
    "# 2페이지 이동\n",
    "driver.find_element(By.XPATH, '//*[@id=\"listForm\"]/div/section/ul/li[1]/div/div/ul/li[4]/a').click()"
   ]
  },
  {
   "cell_type": "code",
   "execution_count": 40,
   "id": "887746c2",
   "metadata": {},
   "outputs": [],
   "source": [
    "# 3, 4페이지 이동\n",
    "driver.find_element(By.CSS_SELECTOR, '.next_page').click()"
   ]
  },
  {
   "cell_type": "code",
   "execution_count": 54,
   "id": "780eff6c",
   "metadata": {},
   "outputs": [],
   "source": [
    "# 검색결과 건수 가져오기\n",
    "strong = soup.select('.stations-local-after > p > strong')[1].string"
   ]
  },
  {
   "cell_type": "code",
   "execution_count": 56,
   "id": "89b9f9e3",
   "metadata": {},
   "outputs": [
    {
     "data": {
      "text/plain": [
       "4"
      ]
     },
     "execution_count": 56,
     "metadata": {},
     "output_type": "execute_result"
    }
   ],
   "source": [
    "count = int(strong[0:-1])\n",
    "count = math.ceil(count/10) # ceil : 입력한 정수를 계산하여 올림처리\n",
    "count"
   ]
  },
  {
   "cell_type": "code",
   "execution_count": 77,
   "id": "0ec828c3",
   "metadata": {},
   "outputs": [],
   "source": [
    "driver.get(url)\n",
    "time.sleep(3)\n",
    "driver.find_element(By.ID, 'searchKeyword').send_keys('광주')\n",
    "driver.find_element(By.ID, 'fsSearchBtn').click()"
   ]
  },
  {
   "cell_type": "code",
   "execution_count": 78,
   "id": "f1d07e19",
   "metadata": {},
   "outputs": [],
   "source": [
    "lines = []\n",
    "for i in range(count):\n",
    "    # 페이지 이동\n",
    "    if i == 0:\n",
    "        time.sleep(3)\n",
    "    elif i == 1:\n",
    "        driver.find_element(By.XPATH, '//*[@id=\"listForm\"]/div/section/ul/li[1]/div/div/ul/li[4]/a').click()\n",
    "        time.sleep(3)\n",
    "    else:\n",
    "        driver.find_element(By.CSS_SELECTOR, '.next_page').click()\n",
    "        time.sleep(3)\n",
    "    \n",
    "    # 각 페이지의 데이터 추출\n",
    "    soup = BeautifulSoup(driver.page_source, 'html.parser')\n",
    "    divs = soup.select('.stations-list li')\n",
    "    \n",
    "    for div in divs:\n",
    "        title = div.select_one('.title').text\n",
    "        addr = div.select_one('address').text\n",
    "        tel = div.select_one('.tel').text\n",
    "\n",
    "        lines.append([title, addr, tel])"
   ]
  },
  {
   "cell_type": "code",
   "execution_count": 79,
   "id": "e42b5964",
   "metadata": {},
   "outputs": [
    {
     "data": {
      "text/html": [
       "<div>\n",
       "<style scoped>\n",
       "    .dataframe tbody tr th:only-of-type {\n",
       "        vertical-align: middle;\n",
       "    }\n",
       "\n",
       "    .dataframe tbody tr th {\n",
       "        vertical-align: top;\n",
       "    }\n",
       "\n",
       "    .dataframe thead th {\n",
       "        text-align: right;\n",
       "    }\n",
       "</style>\n",
       "<table border=\"1\" class=\"dataframe\">\n",
       "  <thead>\n",
       "    <tr style=\"text-align: right;\">\n",
       "      <th></th>\n",
       "      <th>관서명</th>\n",
       "      <th>주소</th>\n",
       "      <th>전화번호</th>\n",
       "    </tr>\n",
       "  </thead>\n",
       "  <tbody>\n",
       "    <tr>\n",
       "      <th>0</th>\n",
       "      <td>광산소방서_광주-평동-119 안전센터</td>\n",
       "      <td>광주광역시 광산구 월전동 1251</td>\n",
       "      <td>전화공사중</td>\n",
       "    </tr>\n",
       "    <tr>\n",
       "      <th>1</th>\n",
       "      <td>광산소방서_광주-첨단-119 안전센터</td>\n",
       "      <td>광주광역시 광산구 임방울대로825번길 16(쌍암동)</td>\n",
       "      <td>062-606-4883</td>\n",
       "    </tr>\n",
       "    <tr>\n",
       "      <th>2</th>\n",
       "      <td>광산소방서_광주-신가-119 안전센터</td>\n",
       "      <td>광주광역시 광산구 수등로 236(신가동)</td>\n",
       "      <td>062-606-4863</td>\n",
       "    </tr>\n",
       "    <tr>\n",
       "      <th>3</th>\n",
       "      <td>광산소방서_광주-비아-119 안전센터</td>\n",
       "      <td>광주광역시 광산구 비아로12번길 10(비아동)</td>\n",
       "      <td>062-606-4843</td>\n",
       "    </tr>\n",
       "    <tr>\n",
       "      <th>4</th>\n",
       "      <td>광산소방서_광주-월곡-119 안전센터</td>\n",
       "      <td>광주광역시 광산구 사암로 276(월곡동)</td>\n",
       "      <td>062-606-4823</td>\n",
       "    </tr>\n",
       "    <tr>\n",
       "      <th>5</th>\n",
       "      <td>광산소방서_광주-송정-119 안전센터</td>\n",
       "      <td>광주광역시 광산구 상무대로 93-1(도산동)</td>\n",
       "      <td>062-606-4803</td>\n",
       "    </tr>\n",
       "    <tr>\n",
       "      <th>6</th>\n",
       "      <td>광산소방서_광주-하남-119 안전센터</td>\n",
       "      <td>광주광역시 광산구 하남산단1번로 13(하남동)</td>\n",
       "      <td>062-606-4903</td>\n",
       "    </tr>\n",
       "    <tr>\n",
       "      <th>7</th>\n",
       "      <td>북부소방서_광주-동림-119 안전센터</td>\n",
       "      <td>광주광역시 북구 북문대로 202(동림동)</td>\n",
       "      <td>062-606-4783</td>\n",
       "    </tr>\n",
       "    <tr>\n",
       "      <th>8</th>\n",
       "      <td>북부소방서_광주-두암-119 안전센터</td>\n",
       "      <td>광주광역시 북구 삼정로 5(두암동)</td>\n",
       "      <td>062-606-4763</td>\n",
       "    </tr>\n",
       "    <tr>\n",
       "      <th>9</th>\n",
       "      <td>북부소방서_광주-일곡-119 안전센터</td>\n",
       "      <td>광주광역시 북구 설죽로 529(일곡동)</td>\n",
       "      <td>062-606-4743</td>\n",
       "    </tr>\n",
       "    <tr>\n",
       "      <th>10</th>\n",
       "      <td>북부소방서_광주-우산-119 안전센터</td>\n",
       "      <td>광주광역시 북구 동문대로 127(우산동)</td>\n",
       "      <td>062-606-4723</td>\n",
       "    </tr>\n",
       "    <tr>\n",
       "      <th>11</th>\n",
       "      <td>북부소방서_광주-임동-119 안전센터</td>\n",
       "      <td>광주광역시 북구 서림로 5(임동)</td>\n",
       "      <td>062-606-4703</td>\n",
       "    </tr>\n",
       "    <tr>\n",
       "      <th>12</th>\n",
       "      <td>북부소방서_광주-문흥-119 안전센터</td>\n",
       "      <td>광주광역시 북구 서하로 290(오치동)</td>\n",
       "      <td>062-606-4353</td>\n",
       "    </tr>\n",
       "    <tr>\n",
       "      <th>13</th>\n",
       "      <td>남부소방서_광주-봉선-119 안전센터</td>\n",
       "      <td>광주광역시 남구 오방로 63(방림동)</td>\n",
       "      <td>062-606-4623</td>\n",
       "    </tr>\n",
       "    <tr>\n",
       "      <th>14</th>\n",
       "      <td>남부소방서_광주-월산-119 안전센터</td>\n",
       "      <td>광주광역시 남구 수박등로 1(월산동)</td>\n",
       "      <td>062-606-4603</td>\n",
       "    </tr>\n",
       "    <tr>\n",
       "      <th>15</th>\n",
       "      <td>남부소방서_광주-송하-119 안전센터</td>\n",
       "      <td>광주광역시 남구 송암로58번길 13(송하동)</td>\n",
       "      <td>062-606-4303</td>\n",
       "    </tr>\n",
       "    <tr>\n",
       "      <th>16</th>\n",
       "      <td>서부소방서_광주-풍암-119 안전센터</td>\n",
       "      <td>광주광역시 서구 회재로 907(금호동)</td>\n",
       "      <td>062-606-4564</td>\n",
       "    </tr>\n",
       "    <tr>\n",
       "      <th>17</th>\n",
       "      <td>서부소방서_광주-상무-119 안전센터</td>\n",
       "      <td>광주광역시 서구 치평로 65(치평동)</td>\n",
       "      <td>062-606-4543</td>\n",
       "    </tr>\n",
       "    <tr>\n",
       "      <th>18</th>\n",
       "      <td>서부소방서_광주-금호-119 안전센터</td>\n",
       "      <td>광주광역시 서구 운천로 112(쌍촌동)</td>\n",
       "      <td>062-606-4525</td>\n",
       "    </tr>\n",
       "    <tr>\n",
       "      <th>19</th>\n",
       "      <td>서부소방서_광주-염주-119 안전센터</td>\n",
       "      <td>광주광역시 서구 염화로 77(화정동)</td>\n",
       "      <td>062-606-4507</td>\n",
       "    </tr>\n",
       "    <tr>\n",
       "      <th>20</th>\n",
       "      <td>서부소방서_광주-화정-119 안전센터</td>\n",
       "      <td>광주광역시 서구 화운로 197(화정동)</td>\n",
       "      <td>062-606-4255</td>\n",
       "    </tr>\n",
       "    <tr>\n",
       "      <th>21</th>\n",
       "      <td>동부소방서_광주-학운-119 안전센터</td>\n",
       "      <td>광주광역시 동구 남문로 692(학동)</td>\n",
       "      <td>062-606-4403</td>\n",
       "    </tr>\n",
       "    <tr>\n",
       "      <th>22</th>\n",
       "      <td>동부소방서_광주-지산-119 안전센터</td>\n",
       "      <td>광주광역시 동구 밤실로30번길 16(지산동)</td>\n",
       "      <td>062-606-4423</td>\n",
       "    </tr>\n",
       "    <tr>\n",
       "      <th>23</th>\n",
       "      <td>동부소방서_광주-대인-119 안전센터</td>\n",
       "      <td>광주광역시 동구 제봉로 210(대인동)</td>\n",
       "      <td>062-606-4203</td>\n",
       "    </tr>\n",
       "    <tr>\n",
       "      <th>24</th>\n",
       "      <td>광주소방서-능평-119 안전센터</td>\n",
       "      <td>경기도 광주시 오포읍 대명대길 30 (능평리)</td>\n",
       "      <td>031-799-2540</td>\n",
       "    </tr>\n",
       "    <tr>\n",
       "      <th>25</th>\n",
       "      <td>광주소방서-곤지암-119 안전센터</td>\n",
       "      <td>경기도 광주시 곤지암읍 도척로 163 (곤지암리)</td>\n",
       "      <td>031-799-2530</td>\n",
       "    </tr>\n",
       "    <tr>\n",
       "      <th>26</th>\n",
       "      <td>광주소방서-오포-119 안전센터</td>\n",
       "      <td>경기도 광주시 오포읍 오포로 910-5 (고산리)</td>\n",
       "      <td>031-799-2521</td>\n",
       "    </tr>\n",
       "    <tr>\n",
       "      <th>27</th>\n",
       "      <td>광주소방서-경안-119 안전센터</td>\n",
       "      <td>경기도 광주시 수하길 36 (송정동)</td>\n",
       "      <td>031-799-2510</td>\n",
       "    </tr>\n",
       "    <tr>\n",
       "      <th>28</th>\n",
       "      <td>광주소방서-초월-119 안전센터</td>\n",
       "      <td>경기도 광주시 초월읍 무들로 112 (대쌍령리)</td>\n",
       "      <td>031-799-2500</td>\n",
       "    </tr>\n",
       "    <tr>\n",
       "      <th>29</th>\n",
       "      <td>광산소방서</td>\n",
       "      <td>광주광역시 광산구 하남산단1번로 13(하남동)</td>\n",
       "      <td>062-613-8813</td>\n",
       "    </tr>\n",
       "    <tr>\n",
       "      <th>30</th>\n",
       "      <td>남부소방서</td>\n",
       "      <td>광주광역시 남구 송암로58번길 13(송하동)</td>\n",
       "      <td>062-613-8613</td>\n",
       "    </tr>\n",
       "    <tr>\n",
       "      <th>31</th>\n",
       "      <td>동부소방서</td>\n",
       "      <td>광주광역시 동구 제봉로 210(대인동)</td>\n",
       "      <td>062-613-8413</td>\n",
       "    </tr>\n",
       "    <tr>\n",
       "      <th>32</th>\n",
       "      <td>북부소방서</td>\n",
       "      <td>광주광역시 북구 서하로 290(오치동)</td>\n",
       "      <td>062-613-8713</td>\n",
       "    </tr>\n",
       "    <tr>\n",
       "      <th>33</th>\n",
       "      <td>서부소방서</td>\n",
       "      <td>광주광역시 서구 화운로 197(화정동)</td>\n",
       "      <td>062-613-8513</td>\n",
       "    </tr>\n",
       "    <tr>\n",
       "      <th>34</th>\n",
       "      <td>광주소방서</td>\n",
       "      <td>경기도 광주시 초월읍 무들로 112</td>\n",
       "      <td>031-799-2212</td>\n",
       "    </tr>\n",
       "  </tbody>\n",
       "</table>\n",
       "</div>"
      ],
      "text/plain": [
       "                     관서명                            주소          전화번호\n",
       "0   광산소방서_광주-평동-119 안전센터            광주광역시 광산구 월전동 1251         전화공사중\n",
       "1   광산소방서_광주-첨단-119 안전센터  광주광역시 광산구 임방울대로825번길 16(쌍암동)  062-606-4883\n",
       "2   광산소방서_광주-신가-119 안전센터        광주광역시 광산구 수등로 236(신가동)  062-606-4863\n",
       "3   광산소방서_광주-비아-119 안전센터     광주광역시 광산구 비아로12번길 10(비아동)  062-606-4843\n",
       "4   광산소방서_광주-월곡-119 안전센터        광주광역시 광산구 사암로 276(월곡동)  062-606-4823\n",
       "5   광산소방서_광주-송정-119 안전센터      광주광역시 광산구 상무대로 93-1(도산동)  062-606-4803\n",
       "6   광산소방서_광주-하남-119 안전센터     광주광역시 광산구 하남산단1번로 13(하남동)  062-606-4903\n",
       "7   북부소방서_광주-동림-119 안전센터        광주광역시 북구 북문대로 202(동림동)  062-606-4783\n",
       "8   북부소방서_광주-두암-119 안전센터           광주광역시 북구 삼정로 5(두암동)  062-606-4763\n",
       "9   북부소방서_광주-일곡-119 안전센터         광주광역시 북구 설죽로 529(일곡동)  062-606-4743\n",
       "10  북부소방서_광주-우산-119 안전센터        광주광역시 북구 동문대로 127(우산동)  062-606-4723\n",
       "11  북부소방서_광주-임동-119 안전센터            광주광역시 북구 서림로 5(임동)  062-606-4703\n",
       "12  북부소방서_광주-문흥-119 안전센터         광주광역시 북구 서하로 290(오치동)  062-606-4353\n",
       "13  남부소방서_광주-봉선-119 안전센터          광주광역시 남구 오방로 63(방림동)  062-606-4623\n",
       "14  남부소방서_광주-월산-119 안전센터          광주광역시 남구 수박등로 1(월산동)  062-606-4603\n",
       "15  남부소방서_광주-송하-119 안전센터      광주광역시 남구 송암로58번길 13(송하동)  062-606-4303\n",
       "16  서부소방서_광주-풍암-119 안전센터         광주광역시 서구 회재로 907(금호동)  062-606-4564\n",
       "17  서부소방서_광주-상무-119 안전센터          광주광역시 서구 치평로 65(치평동)  062-606-4543\n",
       "18  서부소방서_광주-금호-119 안전센터         광주광역시 서구 운천로 112(쌍촌동)  062-606-4525\n",
       "19  서부소방서_광주-염주-119 안전센터          광주광역시 서구 염화로 77(화정동)  062-606-4507\n",
       "20  서부소방서_광주-화정-119 안전센터         광주광역시 서구 화운로 197(화정동)  062-606-4255\n",
       "21  동부소방서_광주-학운-119 안전센터          광주광역시 동구 남문로 692(학동)  062-606-4403\n",
       "22  동부소방서_광주-지산-119 안전센터      광주광역시 동구 밤실로30번길 16(지산동)  062-606-4423\n",
       "23  동부소방서_광주-대인-119 안전센터         광주광역시 동구 제봉로 210(대인동)  062-606-4203\n",
       "24     광주소방서-능평-119 안전센터     경기도 광주시 오포읍 대명대길 30 (능평리)  031-799-2540\n",
       "25    광주소방서-곤지암-119 안전센터   경기도 광주시 곤지암읍 도척로 163 (곤지암리)  031-799-2530\n",
       "26     광주소방서-오포-119 안전센터   경기도 광주시 오포읍 오포로 910-5 (고산리)  031-799-2521\n",
       "27     광주소방서-경안-119 안전센터          경기도 광주시 수하길 36 (송정동)  031-799-2510\n",
       "28     광주소방서-초월-119 안전센터    경기도 광주시 초월읍 무들로 112 (대쌍령리)  031-799-2500\n",
       "29                 광산소방서     광주광역시 광산구 하남산단1번로 13(하남동)  062-613-8813\n",
       "30                 남부소방서      광주광역시 남구 송암로58번길 13(송하동)  062-613-8613\n",
       "31                 동부소방서         광주광역시 동구 제봉로 210(대인동)  062-613-8413\n",
       "32                 북부소방서         광주광역시 북구 서하로 290(오치동)  062-613-8713\n",
       "33                 서부소방서         광주광역시 서구 화운로 197(화정동)  062-613-8513\n",
       "34                 광주소방서           경기도 광주시 초월읍 무들로 112  031-799-2212"
      ]
     },
     "execution_count": 79,
     "metadata": {},
     "output_type": "execute_result"
    }
   ],
   "source": [
    "df = pd.DataFrame(lines, columns=['관서명', '주소', '전화번호'])\n",
    "df"
   ]
  },
  {
   "cell_type": "code",
   "execution_count": 80,
   "id": "87332ed6",
   "metadata": {},
   "outputs": [
    {
     "data": {
      "text/plain": [
       "35"
      ]
     },
     "execution_count": 80,
     "metadata": {},
     "output_type": "execute_result"
    }
   ],
   "source": [
    "df['관서명'].nunique()"
   ]
  },
  {
   "cell_type": "code",
   "execution_count": 81,
   "id": "da3013c5",
   "metadata": {},
   "outputs": [],
   "source": [
    "df.to_csv('광주소방서.csv', index=False)"
   ]
  },
  {
   "cell_type": "code",
   "execution_count": null,
   "id": "f03b3b36",
   "metadata": {},
   "outputs": [],
   "source": []
  }
 ],
 "metadata": {
  "kernelspec": {
   "display_name": "Python 3 (ipykernel)",
   "language": "python",
   "name": "python3"
  },
  "language_info": {
   "codemirror_mode": {
    "name": "ipython",
    "version": 3
   },
   "file_extension": ".py",
   "mimetype": "text/x-python",
   "name": "python",
   "nbconvert_exporter": "python",
   "pygments_lexer": "ipython3",
   "version": "3.11.1"
  }
 },
 "nbformat": 4,
 "nbformat_minor": 5
}
