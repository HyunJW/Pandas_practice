{
 "cells": [
  {
   "cell_type": "markdown",
   "id": "7e74f812",
   "metadata": {},
   "source": [
    "# 다나와 무선청소기"
   ]
  },
  {
   "cell_type": "markdown",
   "id": "2783bc5e",
   "metadata": {},
   "source": [
    "# 1. 다나와 웹페이지에서 상품정보 가져오기"
   ]
  },
  {
   "cell_type": "code",
   "execution_count": 1,
   "id": "0294381d",
   "metadata": {},
   "outputs": [],
   "source": [
    "from bs4 import BeautifulSoup\n",
    "import pandas as pd\n",
    "import time\n",
    "from selenium import webdriver\n",
    "from selenium.webdriver.common.keys import Keys\n",
    "from selenium.webdriver.common.by import By"
   ]
  },
  {
   "cell_type": "code",
   "execution_count": 2,
   "id": "d80a2aed",
   "metadata": {},
   "outputs": [
    {
     "name": "stderr",
     "output_type": "stream",
     "text": [
      "C:\\Users\\tjoeun\\AppData\\Local\\Temp\\ipykernel_2140\\1660069413.py:2: DeprecationWarning: executable_path has been deprecated, please pass in a Service object\n",
      "  driver = webdriver.Chrome('chromedriver.exe')\n"
     ]
    }
   ],
   "source": [
    "url = 'https://www.danawa.com/'\n",
    "driver = webdriver.Chrome('chromedriver.exe')\n",
    "driver.get(url)"
   ]
  },
  {
   "cell_type": "markdown",
   "id": "333686f7",
   "metadata": {},
   "source": [
    "## 1-1. 1페이지 크롤링"
   ]
  },
  {
   "cell_type": "code",
   "execution_count": 3,
   "id": "b2dc3435",
   "metadata": {},
   "outputs": [],
   "source": [
    "# 무선청소기에 대한 정보 가져오기\n",
    "driver.find_element(By.CLASS_NAME, 'search__input').send_keys('무선청소기')\n",
    "time.sleep(2)"
   ]
  },
  {
   "cell_type": "code",
   "execution_count": 4,
   "id": "beaa0039",
   "metadata": {},
   "outputs": [],
   "source": [
    "driver.find_element(By.CLASS_NAME, 'search__submit').click()"
   ]
  },
  {
   "cell_type": "code",
   "execution_count": 5,
   "id": "2038a4bc",
   "metadata": {},
   "outputs": [],
   "source": [
    "soup = BeautifulSoup(driver.page_source, 'html.parser')"
   ]
  },
  {
   "cell_type": "code",
   "execution_count": 6,
   "id": "8be98e6c",
   "metadata": {},
   "outputs": [
    {
     "data": {
      "text/plain": [
       "44"
      ]
     },
     "execution_count": 6,
     "metadata": {},
     "output_type": "execute_result"
    }
   ],
   "source": [
    "prod_items = soup.select('.product_list .prod_item')\n",
    "len(prod_items)"
   ]
  },
  {
   "cell_type": "code",
   "execution_count": 7,
   "id": "d7904e37",
   "metadata": {},
   "outputs": [],
   "source": [
    "# 무선청소기 세부정보 가져오기\n",
    "prod_item = prod_items[0]"
   ]
  },
  {
   "cell_type": "code",
   "execution_count": 8,
   "id": "48a2bb8c",
   "metadata": {},
   "outputs": [
    {
     "data": {
      "text/plain": [
       "<li class=\"prod_item\" id=\"productItem15170318\">\n",
       "<input id=\"productItem_categoryInfo_15170318\" type=\"hidden\" value=\"생활가전_청소기\"/>\n",
       "<input id=\"min_price_15170318\" type=\"hidden\" value=\"458920\"/>\n",
       "<div class=\"prod_main_info\">\n",
       "<div class=\"thumb_image\">\n",
       "<a class=\"thumb_link click_log_product_standard_img_\" href=\"https://prod.danawa.com/info/?pcode=15170318&amp;keyword=%EB%AC%B4%EC%84%A0%EC%B2%AD%EC%86%8C%EA%B8%B0&amp;cate=10325109\" id=\"thumbLink_15170318\" onmousedown=\"_trkEventLog('통합검색_상품블로그_유입');\" target=\"_blank\">\n",
       "<img alt=\"제트 VS20A956A3\" onerror=\"this.onerror=null; this.src='//img.danawa.com/new/noData/img/noImg_160.gif';\" src=\"//img.danawa.com/prod_img/500000/318/170/img/15170318_1.jpg?shrink=130:130&amp;_v=20210906145334\"/>\n",
       "</a>\n",
       "<a class=\"btn_view_zoom\" data-assemblygallerycategory=\"N\" href=\"#\" id=\"imageZoom_15170318\" onclick=\"return false;\">\n",
       "<span class=\"ico i_zoom_vw\"></span>이미지보기\n",
       "\t\t\t\t\t\t\t\t\t\t</a>\n",
       "<input id=\"hidden_cate_sub_c1\" type=\"hidden\" value=\"72\"/>\n",
       "<input id=\"hidden_cate_sub_c2\" type=\"hidden\" value=\"80\"/>\n",
       "<input id=\"hidden_cate_sub_c3\" type=\"hidden\" value=\"81\"/>\n",
       "<div class=\"img_selector\">\n",
       "<a class=\"sel_item\" href=\"#\" onclick=\"return false;\" title=\"상품 색상\">\n",
       "<span class=\"hide_indent sub_color_w100\" style=\"background-color:#1C4587;\">상품 색상</span>\n",
       "</a>\n",
       "<a class=\"sel_item\" href=\"#\" onclick=\"return false;\" title=\"상품 색상\">\n",
       "<span class=\"hide_indent sub_color_w100\" style=\"background-color:#FFFFFF;\">상품 색상</span>\n",
       "</a>\n",
       "<a class=\"sel_item\" href=\"#\" onclick=\"return false;\" title=\"상품 색상\">\n",
       "<span class=\"hide_indent sub_color_w100\" style=\"background-color:#6AA84F;\">상품 색상</span>\n",
       "</a>\n",
       "</div>\n",
       "</div>\n",
       "<div class=\"prod_info\">\n",
       "<p class=\"prod_name\">\n",
       "<a class=\"click_log_product_standard_title_\" href=\"https://prod.danawa.com/info/?pcode=15170318&amp;keyword=%EB%AC%B4%EC%84%A0%EC%B2%AD%EC%86%8C%EA%B8%B0&amp;cate=10325109\" onmousedown=\"_trkEventLog('통합검색_상품블로그_유입'); doCTR('%EB%AC%B4%EC%84%A0%EC%B2%AD%EC%86%8C%EA%B8%B0','15170318',1);\" target=\"_blank\">삼성전자 비스포크 제트 VS20A956A3</a>\n",
       "</p>\n",
       "<div class=\"prod_intro\">\n",
       "<p class=\"intro_text\">배터리 1개+물걸레, 침구, 펫브러쉬 제외 액세서리 4종 구성 (청소기+청정스테이션 합포장)</p>\n",
       "</div>\n",
       "<dl class=\"prod_spec_set\">\n",
       "<dt class=\"screen_out\">상세 스펙</dt>\n",
       "<dd>\n",
       "<div class=\"spec_list\">\n",
       "<a class=\"view_dic\" href=\"#\" onclick=\"$.termDicViewLink(8501, 'view', this, 0, 72, 80); return false;\">핸디스틱<b>청소기</b></a>\n",
       "\t\t\t\t\t\t\t\t\t\t\t\t / \t\t\t\t\t\t\t\t\t\t\t\t\t\t\t\t\t\t\t\t\t\t\t\t\t\t\t\t\t\t<a class=\"view_dic\" href=\"#\" onclick=\"$.termDicViewLink(14900, 'view', this, 0, 72, 80); return false;\">무선형</a>\n",
       "\t\t\t\t\t\t\t\t\t\t\t\t / 흡입전용 / \t\t\t\t\t\t\t\t\t\t\t\t\t\t\t\t\t\t\t\t\t\t\t\t\t\t\t\t\t\t<a class=\"view_dic\" href=\"#\" onclick=\"$.termDicViewLink(3996, 'view', this, 0, 72, 80); return false;\">흡입력</a>\n",
       "\t\t\t\t\t\t\t\t\t\t\t\t: \t\t\t\t\t\t\t\t\t\t\t\t\t\t\t\t\t\t\t\t\t\t\t\t\t\t\t\t\t\t<a class=\"view_dic\" href=\"#\" onclick=\"$.termDicViewLink(3996, 'view', this, 0, 72, 80); return false;\">210W</a>\n",
       "\t\t\t\t\t\t\t\t\t\t\t\t / <br/><span class=\"cm_mark\">[구성]</span> <a class=\"view_dic\" href=\"#\" onclick=\"$.termDicViewLink(18333, 'view', this, 0, 72, 80); return false;\">바닥</a>\n",
       "\t\t\t\t\t\t\t\t\t\t\t\t / \t\t\t\t\t\t\t\t\t\t\t\t\t\t\t\t\t\t\t\t\t\t\t\t\t\t\t\t\t\t<a class=\"view_dic\" href=\"#\" onclick=\"$.termDicViewLink(18442, 'view', this, 0, 72, 80); return false;\">솔형</a>\n",
       "\t\t\t\t\t\t\t\t\t\t\t\t / \t\t\t\t\t\t\t\t\t\t\t\t\t\t\t\t\t\t\t\t\t\t\t\t\t\t\t\t\t\t<a class=\"view_dic\" href=\"#\" onclick=\"$.termDicViewLink(18436, 'view', this, 0, 72, 80); return false;\">틈새</a>\n",
       "\t\t\t\t\t\t\t\t\t\t\t\t / \t\t\t\t\t\t\t\t\t\t\t\t\t\t\t\t\t\t\t\t\t\t\t\t\t\t\t\t\t\t<a class=\"view_dic\" href=\"#\" onclick=\"$.termDicViewLink(27313, 'view', this, 0, 72, 80); return false;\">연장툴</a>\n",
       "\t\t\t\t\t\t\t\t\t\t\t\t / \t\t\t\t\t\t\t\t\t\t\t\t\t\t\t\t\t\t\t\t\t\t\t\t\t\t\t\t\t\t<a class=\"view_dic\" href=\"#\" onclick=\"$.termDicViewLink(218109, 'view', this, 0, 72, 80); return false;\">청정스테이션</a>\n",
       "\t\t\t\t\t\t\t\t\t\t\t\t / <br/><span class=\"cm_mark\">[배터리]</span> <a class=\"view_dic\" href=\"#\" onclick=\"$.termDicViewLink(217578, 'view', this, 0, 72, 80); return false;\">분리형 (1개)</a>\n",
       "\t\t\t\t\t\t\t\t\t\t\t\t / \t\t\t\t\t\t\t\t\t\t\t\t\t\t\t\t\t\t\t\t\t\t\t\t\t\t\t\t\t\t<a class=\"view_dic\" href=\"#\" onclick=\"$.termDicViewLink(14921, 'view', this, 0, 72, 80); return false;\">충전시간</a>\n",
       "\t\t\t\t\t\t\t\t\t\t\t\t: \t\t\t\t\t\t\t\t\t\t\t\t\t\t\t\t\t\t\t\t\t\t\t\t\t\t\t\t\t\t<a class=\"view_dic\" href=\"#\" onclick=\"$.termDicViewLink(14921, 'view', this, 0, 72, 80); return false;\">3시간30분</a>\n",
       "\t\t\t\t\t\t\t\t\t\t\t\t / \t\t\t\t\t\t\t\t\t\t\t\t\t\t\t\t\t\t\t\t\t\t\t\t\t\t\t\t\t\t<a class=\"view_dic\" href=\"#\" onclick=\"$.termDicViewLink(8515, 'view', this, 0, 72, 80); return false;\">사용시간(개당)</a>\n",
       "\t\t\t\t\t\t\t\t\t\t\t\t: \t\t\t\t\t\t\t\t\t\t\t\t\t\t\t\t\t\t\t\t\t\t\t\t\t\t\t\t\t\t<a class=\"view_dic\" href=\"#\" onclick=\"$.termDicViewLink(8515, 'view', this, 0, 72, 80); return false;\">1시간</a>\n",
       "\t\t\t\t\t\t\t\t\t\t\t\t / <br/><span class=\"cm_mark\">[성능]</span> <a class=\"view_dic\" href=\"#\" onclick=\"$.termDicViewLink(27442, 'view', this, 0, 72, 80); return false;\">디지털인버터모터</a>\n",
       "\t\t\t\t\t\t\t\t\t\t\t\t / \t\t\t\t\t\t\t\t\t\t\t\t\t\t\t\t\t\t\t\t\t\t\t\t\t\t\t\t\t\t<a class=\"view_dic\" href=\"#\" onclick=\"$.termDicViewLink(30024, 'view', this, 0, 72, 80); return false;\">5단계여과</a>\n",
       "\t\t\t\t\t\t\t\t\t\t\t\t / <br/><span class=\"cm_mark\">[기능]</span> 물걸레(별도구매) / \t\t\t\t\t\t\t\t\t\t\t\t\t\t\t\t\t\t\t\t\t\t\t\t\t\t\t\t\t\t<a class=\"view_dic\" href=\"#\" onclick=\"$.termDicViewLink(30484, 'view', this, 0, 72, 80); return false;\">디스플레이표시창</a>\n",
       "\t\t\t\t\t\t\t\t\t\t\t\t / \t\t\t\t\t\t\t\t\t\t\t\t\t\t\t\t\t\t\t\t\t\t\t\t\t\t\t\t\t\t<a class=\"view_dic\" href=\"#\" onclick=\"$.termDicViewLink(216261, 'view', this, 0, 72, 80); return false;\">자동물공급</a>\n",
       "\t\t\t\t\t\t\t\t\t\t\t\t / \t\t\t\t\t\t\t\t\t\t\t\t\t\t\t\t\t\t\t\t\t\t\t\t\t\t\t\t\t\t<a class=\"view_dic\" href=\"#\" onclick=\"$.termDicViewLink(27321, 'view', this, 0, 72, 80); return false;\">배터리잔량표시</a>\n",
       "\t\t\t\t\t\t\t\t\t\t\t\t / \t\t\t\t\t\t\t\t\t\t\t\t\t\t\t\t\t\t\t\t\t\t\t\t\t\t\t\t\t\t<a class=\"view_dic\" href=\"#\" onclick=\"$.termDicViewLink(219165, 'view', this, 0, 72, 80); return false;\">자동먼지비움</a>\n",
       "\t\t\t\t\t\t\t\t\t\t\t\t / <br/><span class=\"cm_mark\">[부가]</span> <a class=\"view_dic\" href=\"#\" onclick=\"$.termDicViewLink(214653, 'view', this, 0, 72, 80); return false;\">먼지통용량</a>\n",
       "\t\t\t\t\t\t\t\t\t\t\t\t: \t\t\t\t\t\t\t\t\t\t\t\t\t\t\t\t\t\t\t\t\t\t\t\t\t\t\t\t\t\t<a class=\"view_dic\" href=\"#\" onclick=\"$.termDicViewLink(214653, 'view', this, 0, 72, 80); return false;\">0.5L</a>\n",
       "\t\t\t\t\t\t\t\t\t\t\t\t / \t\t\t\t\t\t\t\t\t\t\t\t\t\t\t\t\t\t\t\t\t\t\t\t\t\t\t\t\t\t<a class=\"view_dic\" href=\"#\" onclick=\"$.termDicViewLink(14854, 'view', this, 0, 72, 80); return false;\">물통용량</a>\n",
       "\t\t\t\t\t\t\t\t\t\t\t\t: \t\t\t\t\t\t\t\t\t\t\t\t\t\t\t\t\t\t\t\t\t\t\t\t\t\t\t\t\t\t<a class=\"view_dic\" href=\"#\" onclick=\"$.termDicViewLink(14854, 'view', this, 0, 72, 80); return false;\">0.15L</a>\n",
       "\t\t\t\t\t\t\t\t\t\t\t\t / \t\t\t\t\t\t\t\t\t\t\t\t\t\t\t\t\t\t\t\t\t\t\t\t\t\t\t\t\t\t<a class=\"view_dic\" href=\"#\" onclick=\"$.termDicViewLink(14771, 'view', this, 0, 72, 80); return false;\">색상</a>\n",
       "\t\t\t\t\t\t\t\t\t\t\t\t: \t\t\t\t\t\t\t\t\t\t\t\t\t\t\t\t\t\t\t\t\t\t\t\t\t\t\t\t\t\t<a class=\"view_dic\" href=\"#\" onclick=\"$.termDicViewLink(14771, 'view', this, 0, 72, 80); return false;\">미드나잇블루</a>\n",
       "\t\t\t\t\t\t\t\t\t\t\t\t / \t\t\t\t\t\t\t\t\t\t\t\t\t\t\t\t\t\t\t\t\t\t\t\t\t\t\t\t\t\t<a class=\"view_dic\" href=\"#\" onclick=\"$.termDicViewLink(27312, 'view', this, 0, 72, 80); return false;\">무게</a>\n",
       "\t\t\t\t\t\t\t\t\t\t\t\t: \t\t\t\t\t\t\t\t\t\t\t\t\t\t\t\t\t\t\t\t\t\t\t\t\t\t\t\t\t\t<a class=\"view_dic\" href=\"#\" onclick=\"$.termDicViewLink(27312, 'view', this, 0, 72, 80); return false;\">2.5kg</a>\n",
       "\t\t\t\t\t\t\t\t\t\t\t\t / 액세서리크래들  / 크기(가로x세로x깊이): 250x930x202mm\t\t\t\t\t\t\t\t\t\t\t</div>\n",
       "</dd>\n",
       "</dl>\n",
       "<div class=\"relation_goods_unit\" id=\"relation_goods_unit_15170318\"><dl class=\"unit_goods_list\"><dt class=\"title_unit\">관련용품▶</dt><dd class=\"unit_lists\"><a class=\"unit_link view_dic\" data-relationcode=\"14407868\" href=\"#\" onclick=\"return false;\">리튬이온배터리</a><span class=\"ucomma\">,</span><a class=\"unit_link view_dic\" data-relationcode=\"14407970\" href=\"#\" onclick=\"return false;\">물걸레브러쉬</a><span class=\"ucomma\">,</span><a class=\"unit_link view_dic\" data-relationcode=\"14415326\" href=\"#\" onclick=\"return false;\">펫브러쉬</a><span class=\"ucomma\">,</span><a class=\"unit_link view_dic\" data-relationcode=\"15103583\" href=\"#\" onclick=\"return false;\">청정스테이션먼지봉투</a></dd></dl></div>\n",
       "<div class=\"prod_rel_content\">\n",
       "<dl class=\"rel_item rel_event\">\n",
       "<dt>기획전</dt>\n",
       "<dd><a href=\"https://plan.danawa.com/info/?nPlanSeq=5574\" rel=\"noopener\" target=\"_blank\">삼성전자 무선청소기\n",
       "모델명 풀어보기</a></dd>\n",
       "</dl>\n",
       "</div>\n",
       "<div class=\"prod_sub_info\">\n",
       "<div class=\"prod_sub_meta\">\n",
       "<dl class=\"meta_item mt_date\">\n",
       "<dt>등록월</dt>\n",
       "<dd>2021.09.</dd>\n",
       "</dl>\n",
       "<dl class=\"meta_item mt_comment\">\n",
       "<dt><span class=\"dt_behind\">상품의견</span></dt>\n",
       "<dd>\n",
       "<div class=\"cnt_star\">\n",
       "<div class=\"point_type_list\">\n",
       "<div class=\"mask\" style=\"width:97%\">\n",
       "</div>\n",
       "</div>\n",
       "<div class=\"point_num\">\n",
       "<strong>4.8</strong>점\n",
       "\t\t\t\t\t\t\t\t\t\t\t\t\t\t\t\t\t</div>\n",
       "</div>\n",
       "<div class=\"cnt_opinion\">\n",
       "\t\t\t\t\t\t\t\t\t\t\t\t\t\t\t\t\t(<a class=\"click_log_prod_content_count\" href=\"https://prod.danawa.com/info/?pcode=15170318&amp;keyword=%EB%AC%B4%EC%84%A0%EC%B2%AD%EC%86%8C%EA%B8%B0&amp;cate=10325109&amp;bookmark=cm_opinion#bookmark_cm_opinion\" onmousedown=\"_trkEventLog('통합검색_상품블로그_유입');\" target=\"_blank\"><strong>2,257</strong></a>건)\n",
       "\t\t\t\t\t\t\t\t\t\t\t\t\t\t\t\t</div>\n",
       "</dd>\n",
       "</dl>\n",
       "<dl class=\"meta_item\">\n",
       "<dt class=\"screen_out\">관심상품</dt>\n",
       "<dd>\n",
       "<a class=\"click_wish_prod click_log_wishList btn_like\" code=\"15170318\" href=\"#\" key=\"\" listtype=\"search_bundle\" onmousedown=\"doCTR('%EB%AC%B4%EC%84%A0%EC%B2%AD%EC%86%8C%EA%B8%B0','15170318',4);\" price=\"458920\" title=\"관심상품에 담기\">관심\n",
       "\t\t\t\t\t\t\t\t\t\t\t\t        </a>\n",
       "</dd>\n",
       "<input id=\"wishListBundleVal_15170318\" type=\"hidden\" value=\"미드나잇블루, VS20A956A3B^15170318**미스티화이트, VS20A956A3W^15170459**우디그린, VS20A956A3N^15170501//삼성전자 비스포크 제트 VS20A956A3//15170318\"/>\n",
       "</dl>\n",
       "</div>\n",
       "<dl class=\"prod_category_location\">\n",
       "<dt class=\"screen_out\">상품분류</dt>\n",
       "<dd>\n",
       "<a href=\"https://prod.danawa.com/list/?cate=10325109\" onmousedown=\"doCTR('%EB%AC%B4%EC%84%A0%EC%B2%AD%EC%86%8C%EA%B8%B0','15170318',3);\" target=\"_blank\"><span>생활가전</span> &gt; <span>청소기</span> &gt; <span>무선청소기</span></a> <div class=\"more_cate_layer\" style=\"display: none; z-index: 1;\">\n",
       "<ul class=\"list_category_location\">\n",
       "</ul>\n",
       "</div>\n",
       "</dd>\n",
       "</dl>\n",
       "</div>\n",
       "</div>\n",
       "<div class=\"prod_pricelist\" data-cate=\"72|80|81|0\">\n",
       "<ul>\n",
       "<li class=\"rank_one\" id=\"productInfoDetail_15170318\" style=\"\">\n",
       "<p class=\"chk_sect\">\n",
       "\t\t\t\t\t\t\t\t\t\t\t\t\t488몰\n",
       "\t\t\t\t\t\t\t\t\t\t\t\t\t<label for=\"prodCompareCheck_15170318\">\n",
       "<input id=\"prodCompareCheck_15170318\" type=\"checkbox\"/><strong>상품비교</strong>\n",
       "</label>\n",
       "<input name=\"compareValue\" type=\"hidden\" value=\"15170318\"/>\n",
       "<input name=\"compareRepValue\" type=\"hidden\" value=\"15170318\"/>\n",
       "</p>\n",
       "<p class=\"price_sect\">\n",
       "<a class=\"click_log_product_standard_price_\" href=\"https://prod.danawa.com/info/?pcode=15170318&amp;keyword=%EB%AC%B4%EC%84%A0%EC%B2%AD%EC%86%8C%EA%B8%B0&amp;cate=10325109\" onmousedown=\"doCTR('%EB%AC%B4%EC%84%A0%EC%B2%AD%EC%86%8C%EA%B8%B0','15170318',1);\" target=\"_blank\"><strong>458,920</strong>원</a>\n",
       "<span class=\"more_btn_wrap\">\n",
       "<button class=\"ico i_more\">가격정보 더보기</button>\n",
       "<span class=\"layer_price_more\" id=\"layer_price_more_15170318\"></span>\n",
       "<span class=\"sep_line\"></span>\n",
       "</span>\n",
       "</p>\n",
       "<p class=\"memory_sect\">\n",
       "<span class=\"rank\">1위</span>\t\t\t\t\t\t\t\t\t\t\t\t\t\t\t\t\t\t\t\t\t\t\t\t\t\t\t미드나잇블루, VS20A956A3B\t\t\t\t\t\t\t\t\t\t\t\t\t\t\t\t\t\t\t\t\t\t\t\t\t\t<a href=\"https://prod.danawa.com/info/?pcode=15170318&amp;keyword=%EB%AC%B4%EC%84%A0%EC%B2%AD%EC%86%8C%EA%B8%B0&amp;cate=10325109\" onmousedown=\"doCTR('%EB%AC%B4%EC%84%A0%EC%B2%AD%EC%86%8C%EA%B8%B0','15170318',1);\" target=\"_blank\">\n",
       "</a>\n",
       "</p>\n",
       "</li>\n",
       "<li id=\"productInfoDetail_15170459\" style=\"\">\n",
       "<p class=\"chk_sect\">\n",
       "\t\t\t\t\t\t\t\t\t\t\t\t\t499몰\n",
       "\t\t\t\t\t\t\t\t\t\t\t\t\t<label for=\"prodCompareCheck_15170459\">\n",
       "<input id=\"prodCompareCheck_15170459\" type=\"checkbox\"/><strong>상품비교</strong>\n",
       "</label>\n",
       "<input name=\"compareValue\" type=\"hidden\" value=\"15170459\"/>\n",
       "<input name=\"compareRepValue\" type=\"hidden\" value=\"15170318\"/>\n",
       "</p>\n",
       "<p class=\"price_sect\">\n",
       "<a class=\"click_log_product_standard_price_\" href=\"https://prod.danawa.com/info/?pcode=15170459&amp;keyword=%EB%AC%B4%EC%84%A0%EC%B2%AD%EC%86%8C%EA%B8%B0&amp;cate=10325109\" onmousedown=\"doCTR('%EB%AC%B4%EC%84%A0%EC%B2%AD%EC%86%8C%EA%B8%B0','15170459',1);\" target=\"_blank\"><strong>459,110</strong>원</a>\n",
       "<span class=\"more_btn_wrap\">\n",
       "<button class=\"ico i_more\">가격정보 더보기</button>\n",
       "<span class=\"layer_price_more\" id=\"layer_price_more_15170459\"></span>\n",
       "<span class=\"sep_line\"></span>\n",
       "</span>\n",
       "</p>\n",
       "<p class=\"memory_sect\">\n",
       "<span class=\"rank\">2위</span>\t\t\t\t\t\t\t\t\t\t\t\t\t\t\t\t\t\t\t\t\t\t\t\t\t\t\t미스티화이트, VS20A956A3W\t\t\t\t\t\t\t\t\t\t\t\t\t\t\t\t\t\t\t\t\t\t\t\t\t\t<a href=\"https://prod.danawa.com/info/?pcode=15170459&amp;keyword=%EB%AC%B4%EC%84%A0%EC%B2%AD%EC%86%8C%EA%B8%B0&amp;cate=10325109\" onmousedown=\"doCTR('%EB%AC%B4%EC%84%A0%EC%B2%AD%EC%86%8C%EA%B8%B0','15170459',1);\" target=\"_blank\">\n",
       "</a>\n",
       "</p>\n",
       "</li>\n",
       "<li id=\"productInfoDetail_15170501\" style=\"\">\n",
       "<p class=\"chk_sect\">\n",
       "\t\t\t\t\t\t\t\t\t\t\t\t\t305몰\n",
       "\t\t\t\t\t\t\t\t\t\t\t\t\t<label for=\"prodCompareCheck_15170501\">\n",
       "<input id=\"prodCompareCheck_15170501\" type=\"checkbox\"/><strong>상품비교</strong>\n",
       "</label>\n",
       "<input name=\"compareValue\" type=\"hidden\" value=\"15170501\"/>\n",
       "<input name=\"compareRepValue\" type=\"hidden\" value=\"15170318\"/>\n",
       "</p>\n",
       "<p class=\"price_sect\">\n",
       "<a class=\"click_log_product_standard_price_\" href=\"https://prod.danawa.com/info/?pcode=15170501&amp;keyword=%EB%AC%B4%EC%84%A0%EC%B2%AD%EC%86%8C%EA%B8%B0&amp;cate=10325109\" onmousedown=\"doCTR('%EB%AC%B4%EC%84%A0%EC%B2%AD%EC%86%8C%EA%B8%B0','15170501',1);\" target=\"_blank\"><strong>480,320</strong>원</a>\n",
       "<span class=\"more_btn_wrap\">\n",
       "<button class=\"ico i_more\">가격정보 더보기</button>\n",
       "<span class=\"layer_price_more\" id=\"layer_price_more_15170501\"></span>\n",
       "<span class=\"sep_line\"></span>\n",
       "</span>\n",
       "</p>\n",
       "<p class=\"memory_sect\">\n",
       "\t\t\t\t\t\t\t\t\t\t\t\t\t\t\t\t\t\t\t\t\t\t\t\t\t\t\t\t\t\t\t\t\t\t\t\t\t\t\t\t우디그린, VS20A956A3N\t\t\t\t\t\t\t\t\t\t\t\t\t\t\t\t\t\t\t\t\t\t\t\t\t\t<a href=\"https://prod.danawa.com/info/?pcode=15170501&amp;keyword=%EB%AC%B4%EC%84%A0%EC%B2%AD%EC%86%8C%EA%B8%B0&amp;cate=10325109\" onmousedown=\"doCTR('%EB%AC%B4%EC%84%A0%EC%B2%AD%EC%86%8C%EA%B8%B0','15170501',1);\" target=\"_blank\">\n",
       "</a>\n",
       "</p>\n",
       "</li>\n",
       "</ul>\n",
       "</div>\n",
       "</div>\n",
       "</li>"
      ]
     },
     "execution_count": 8,
     "metadata": {},
     "output_type": "execute_result"
    }
   ],
   "source": [
    "prod_item"
   ]
  },
  {
   "cell_type": "code",
   "execution_count": 9,
   "id": "c64d4f3e",
   "metadata": {},
   "outputs": [
    {
     "data": {
      "text/plain": [
       "'삼성전자 비스포크 제트 VS20A956A3'"
      ]
     },
     "execution_count": 9,
     "metadata": {},
     "output_type": "execute_result"
    }
   ],
   "source": [
    "# 상품명\n",
    "name = prod_item.select_one('p.prod_name').text.strip()\n",
    "name"
   ]
  },
  {
   "cell_type": "code",
   "execution_count": 10,
   "id": "a70cdf31",
   "metadata": {
    "scrolled": true
   },
   "outputs": [
    {
     "data": {
      "text/plain": [
       "'핸디스틱청소기 / 무선형 / 흡입전용 / 흡입력: 210W / [구성] 바닥 / 솔형 / 틈새 / 연장툴 / 청정스테이션 / [배터리] 분리형 (1개) / 충전시간: 3시간30분 / 사용시간(개당): 1시간 / [성능] 디지털인버터모터 / 5단계여과 / [기능] 물걸레(별도구매) / 디스플레이표시창 / 자동물공급 / 배터리잔량표시 / 자동먼지비움 / [부가] 먼지통용량: 0.5L / 물통용량: 0.15L / 색상: 미드나잇블루 / 무게: 2.5kg / 액세서리크래들  / 크기(가로x세로x깊이): 250x930x202mm'"
      ]
     },
     "execution_count": 10,
     "metadata": {},
     "output_type": "execute_result"
    }
   ],
   "source": [
    "# 스펙목록\n",
    "spec_list = prod_item.select('div.spec_list')[0].text.replace('\\n', '').replace('\\t', '')\n",
    "spec_list"
   ]
  },
  {
   "cell_type": "code",
   "execution_count": 11,
   "id": "ec8486a6",
   "metadata": {},
   "outputs": [
    {
     "data": {
      "text/plain": [
       "'458920'"
      ]
     },
     "execution_count": 11,
     "metadata": {},
     "output_type": "execute_result"
    }
   ],
   "source": [
    "# 가격\n",
    "price = prod_item.select_one('li.rank_one > p.price_sect strong').text.replace(',' ,'')\n",
    "price"
   ]
  },
  {
   "cell_type": "code",
   "execution_count": 12,
   "id": "a836a7e0",
   "metadata": {},
   "outputs": [
    {
     "name": "stdout",
     "output_type": "stream",
     "text": [
      "40\n",
      "[['삼성전자 비스포크 제트 VS20A956A3', '핸디스틱청소기 / 무선형 / 흡입전용 / 흡입력: 210W / [구성] 바닥 / 솔형 / 틈새 / 연장툴 / 청정스테이션 / [배터리] 분리형 (1개) / 충전시간: 3시간30분 / 사용시간(개당): 1시간 / [성능] 디지털인버터모터 / 5단계여과 / [기능] 물걸레(별도구매) / 디스플레이표시창 / 자동물공급 / 배터리잔량표시 / 자동먼지비움 / [부가] 먼지통용량: 0.5L / 물통용량: 0.15L / 색상: 미드나잇블루 / 무게: 2.5kg / 액세서리크래들  / 크기(가로x세로x깊이): 250x930x202mm', '458920'], ['베이스어스 차량용 청소기 A3 (해외구매)', '차량용청소기 / 무선 / 흡입력: 15,000Pa / 최대출력: 135W / 헤파필터 / 추가노즐: 틈새, 솔브러쉬 / LED라이트 / 사용시간: 45분 / 배터리 잔량표시 / 소음: 75dB / 충전방식: USB C타입 / 충전시간: 3~5시간 / 색상: 블랙, 실버 / 크기: 296x56.5mm', '48360'], ['LG전자 오브제컬렉션 코드제로 A9S AU9982', '핸디스틱청소기 / 무선형 / 흡입+물걸레겸용 / 흡입력: 220W / [구성] 와이드바닥 / 스팀물걸레 / 침구 / 솔형 / 틈새 / 올인원타워 / [배터리] 분리형 (2개) / 충전시간: 4시간 / 사용시간(개당): 1시간 / [성능] 스마트인버터모터 / 헤파필터 / 5단계여과 / [기능] IoT기능 / 디스플레이표시창 / 자동물공급 / LED라이트 / 자동먼지비움 / [부가] 색상: 카밍베이지 / 무게: 2.7kg / 크기(가로x세로x깊이): 300x1120x260mm', '1059950'], ['삼성전자 비스포크 제트 VS20B956AX', '핸디스틱청소기 / 무선형 / 흡입전용 / 흡입력: 220W / [구성] 바닥 / 솔형 / 틈새 / 연장툴 / 청정스테이션 / [배터리] 분리형 (1개) / 충전시간: 3시간30분 / 사용시간(개당): 1시간 / [성능] 디지털인버터모터 / 5단계여과 / [기능] 물걸레(별도구매) / IoT기능 / 디스플레이표시창 / 자동물공급 / LED라이트 / 배터리잔량표시 / 자동먼지비움 / [부가] 먼지통용량: 0.5L / 색상: 산토리니베이지 / 크기(가로x세로x깊이): 250x930x202mm', '539990'], ['샤오미 CLEANFLY 차량용 무선 청소기 4세대 H2 (해외구매)', '차량용청소기 / 무선 / 흡입력: 16,800Pa / 최대출력: 120W / 헤파필터 / 스테인리스 필터 / 추가노즐: 틈새, 솔브러쉬, 연장호스 / 사용시간: 30분 / 소음: 73.8dB / 충전방식: USB C타입 / 배터리용량: 2,000mAh / 색상: 블랙, 화이트 / 크기: 369x72mm / 무게: 560g', '63330'], ['일렉트로룩스 에르고라피도 ZB3512IG', '핸디스틱청소기 / 무선형 / 흡입전용 / [구성] 바닥 / 솔형 / 틈새 / 긴틈새 / [배터리] 내장형 / 충전시간: 4시간 / 사용시간(개당): 35분 / [성능] 4단계여과 / [기능] 셀프스탠딩 / LED라이트 / 배터리잔량표시 / [부가] 먼지통용량: 0.42L / 색상: 아이언그레이 / 무게: 2.5kg / 크기(가로x세로x깊이): 299x689x165mm', '160080'], ['LG전자 코드제로 A9S AT9200BA', '핸디스틱청소기 / 무선형 / 흡입전용 / 흡입력: 200W / [구성] 바닥 / 솔형 / 틈새 / 올인원타워 / [배터리] 분리형 (1개) / 충전시간: 4시간 / 사용시간(개당): 1시간 / [성능] 스마트인버터모터 / 분리형배기필터 / 헤파필터 / 5단계여과 / [기능] 물걸레(별도구매) / IoT기능 / 자동물공급 / 배터리잔량표시 / 자동먼지비움 / [부가] 색상: 블랙+딥그레이 / 무게: 2.6kg / 크기(가로x세로x깊이): 250x1120x260mm', '576860'], ['삼성전자 제트 VS20T92K3QD', '핸디스틱청소기 / 무선형 / 흡입전용 / 흡입력: 200W / [구성] 바닥 / 솔형 / 틈새 / 거치대 / 청정스테이션 / [배터리] 분리형 (1개) / 충전시간: 3시간30분 / 사용시간(개당): 1시간 / [성능] 인버터모터 / 헤파필터 / 5단계여과 / [기능] 물걸레(별도구매) / 디스플레이표시창 / 프리볼트 / [부가] 먼지통용량: 0.6L / 색상: 티탄/그레이 / 무게: 2.64kg / 크기(가로x세로x깊이): 250x1123x215mm', '359980'], ['삼성전자 비스포크 제트 VS20A956AVW', '핸디스틱청소기 / 무선형 / 흡입전용 / 흡입력: 210W / [구성] 바닥 / 솔형 / 틈새 / 청정스테이션 / [배터리] 분리형 (1개) / 충전시간: 3시간30분 / 사용시간(개당): 1시간 / [성능] 디지털인버터모터 / 5단계여과 / [기능] 물걸레(별도구매) / 디스플레이표시창 / 자동물공급 / 배터리잔량표시 / 자동먼지비움 / [부가] 먼지통용량: 0.5L / 색상: 미스티화이트 / 무게: 2.5kg / 크기(가로x세로x깊이): 250x930x202mm', '439070'], ['오아 클린듀얼 차량용 청소기 OCL-028BK', '차량용청소기 / 무선 / 흡입력: 15,000~Pa / 2중필터 / 헤파필터 / 추가노즐: 틈새, 솔브러쉬, 연장호스 / 사용시간: 25분 / 충전시간: 3.5시간 / 크기: 70x54x330mm / 무게 : 520g', '79000'], ['다이슨 V10 앱솔루트', '핸디스틱청소기 / 무선형 / 흡입전용 / [구성] 소프트롤러 / 다이렉트드라이브 / 미니모터 / 솔형 / 더스팅 / 틈새 / 도킹스테이션 / [배터리] 충전시간: 3시간30분 / 사용시간(개당): 1시간 / [기능] 프리볼트 / [부가] 색상: 블루, 코퍼, 블랙 / 무게: 2.5kg / 크기(가로x세로x깊이): 250x1241x256mm', '468880'], ['샤오미 드리미 V10', '핸디스틱청소기 / 무선형 / 흡입전용 / 흡입력: 140AW / 흡입력: 22000Pa / [구성] 바닥 / 침구 / 솔형 / 틈새 / 연장툴 / 거치대 / [배터리] 충전시간: 3시간30분 / 사용시간(개당): 1시간 / [성능] BLDC모터 / 헤파필터 / 5단계여과 / [부가] 먼지통용량: 0.5L / 색상: 화이트 / 무게: 1.5kg', '157730'], ['벤딕트 차량용 핸디 무선 청소기 VDT-031', '차량용청소기 / 무선 / 흡입력: 6,000~15,000Pa / 최대출력: 120W / 헤파필터 / 스테인리스 필터 / 추가노즐: 틈새, 솔브러쉬 / 사용시간: 18~50분 / 충전방식: USB C타입 / 배터리용량: 7,500mAh / 크기: 294x55x55mm / 무게: 500g', '87000'], ['LG전자 오브제컬렉션 코드제로 A9S AU9882', '핸디스틱청소기 / 무선형 / 흡입+물걸레겸용 / 흡입력: 220W / [구성] 와이드바닥 / 스팀물걸레 / 솔형 / 틈새 / 올인원타워 / [배터리] 분리형 (2개) / 충전시간: 4시간 / 사용시간(개당): 1시간 / [성능] 스마트인버터모터 / 헤파필터 / 5단계여과 / [기능] IoT기능 / 디스플레이표시창 / 자동물공급 / LED라이트 / 자동먼지비움 / [부가] 색상: 카밍베이지 / 무게: 2.7kg / 크기(가로x세로x깊이): 300x1120x260mm', '1035480'], ['삼성전자 비스포크 제트 VS20B957D4', '핸디스틱청소기 / 무선형 / 흡입+물걸레겸용 / 흡입력: 220W / [구성] 바닥 / 물걸레 / 솔형 / 틈새 / 청정스테이션 / [배터리] 분리형 (2개) / 충전시간: 3시간30분 / 사용시간(개당): 1시간 / [성능] 디지털인버터모터 / 5단계여과 / [기능] IoT기능 / 디스플레이표시창 / 자동물공급 / LED라이트 / 배터리잔량표시 / 자동먼지비움 / [부가] 먼지통용량: 0.5L / 색상: 페블그레이 / 크기(가로x세로x깊이): 250x930x202mm', '719780'], ['지엔앰주식회사 콜튼 차량용 무선 청소기 에어건 3세대 CT30', '차량용청소기 / 무선 / 흡입력: ~12,000Pa / 헤파필터 / 추가노즐: 틈새 / LED라이트 / 배터리: 7,200mAh /  충전시간: 2.5시간 / 배터리 잔량 표시 / BLDC모터 / 90,000RPM', '98000'], ['아이닉 NEW i20', '핸디스틱청소기 / 무선형 / 흡입전용 / 흡입력: 30000Pa / [구성] 바닥 / 침구 / 솔형 / 틈새 / [배터리] 분리형 (1개) / 충전시간: 5시간 / 사용시간(개당): 50분 / [성능] BLDC모터 / 헤파필터 / 5단계여과 / [기능] 물걸레(별도구매) / 배터리잔량표시 / [부가] 먼지통용량: 0.5L / 색상: 블랙 / 무게: 2.5kg / 크기(가로x세로x깊이): 241x1144x211mm', '179000'], ['다이슨 V10 플러피 오리진', '핸디스틱청소기 / 무선형 / 흡입전용 / 흡입력: 151AW / [구성] 소프트롤러 / 미니모터 / 솔형 / 더스팅 / 틈새 / 도킹스테이션 / [배터리] 충전시간: 3시간30분 / 사용시간(개당): 1시간 / [부가] 먼지통용량: 0.5L / 색상: 레드 / 무게: 2.5kg / 크기(가로x세로x깊이): 256x1241x250mm', '484930'], ['삼성전자 비스포크 제트 VS20B956D5', '핸디스틱청소기 / 무선형 / 흡입+물걸레겸용 / 흡입력: 220W / [구성] 바닥 / 물걸레 / 솔형 / 틈새 / 연장툴 / 청정스테이션 / [배터리] 분리형 (1개) / 충전시간: 3시간30분 / 사용시간(개당): 1시간 / [성능] 디지털인버터모터 / 5단계여과 / [기능] IoT기능 / 디스플레이표시창 / 자동물공급 / LED라이트 / 배터리잔량표시 / 자동먼지비움 / [부가] 먼지통용량: 0.5L / 색상: 산토리니베이지 / 크기(가로x세로x깊이): 250x930x202mm', '619510'], ['샤오미 LYDSTO 차량용 무선 청소기 H2 (해외구매)', '차량용청소기 / 무선 / 흡입력: 16,000Pa / 최대출력: 120W / 헤파필터 / 추가노즐: 틈새, 솔브러쉬 / 사용시간: 32분 / 소음: 85dB 미만 / 충전방식: USB C타입 / 색상: 블랙, 화이트 / 크기: 56x265mm', '38200'], ['삼성전자 비스포크 제트 VS20A957D2', '핸디스틱청소기 / 무선형 / 흡입+물걸레겸용 / 흡입력: 210W / [구성] 바닥 / 물걸레 / 솔형 / 틈새 / 청정스테이션 / [배터리] 분리형 (2개) / 충전시간: 3시간30분 / 사용시간(개당): 1시간 / [성능] 디지털인버터모터 / 5단계여과 / [기능] 디스플레이표시창 / 자동물공급 / 배터리잔량표시 / 자동먼지비움 / [부가] 먼지통용량: 0.5L / 색상: 미드나잇블루 / 무게: 2.5kg / 액세서리크래들  / 크기(가로x세로x깊이): 250x930x202mm', '608000'], ['샤오미 미지아 차량용 핸디 무선 청소기 (해외구매)', '차량용청소기 / 무선 / 흡입력: 13,000Pa / 최대출력: 120W / 헤파필터 / 추가노즐: 틈새, 솔브러쉬 / 사용시간: 9~30분 / 버튼 잠금 장치 / 2단 세기 조절 / 크기: 55x267mm / 무게: 500g', '36800'], ['LG전자 오브제컬렉션 코드제로 A9S AT9201WB', '핸디스틱청소기 / 무선형 / 흡입전용 / 흡입력: 210W / [구성] 바닥 / 솔형 / 틈새 / 올인원타워 / [배터리] 분리형 (1개) / 충전시간: 4시간 / 사용시간(개당): 1시간 / [성능] 스마트인버터모터 / 타공/분리형배기필터 / 헤파필터 / 5단계여과 / [기능] 물걸레(별도구매) / IoT기능 / 자동물공급 / 배터리잔량표시 / 자동먼지비움 / [부가] 색상: 카밍베이지 / 무게: 2.6kg / 크기(가로x세로x깊이): 250x1120x260mm', '671260'], ['LG전자 오브제컬렉션 코드제로 A9S AU9602WD', '핸디스틱청소기 / 무선형 / 흡입전용 / 흡입력: 220W / [구성] 와이드바닥 / 솔형 / 틈새 / 올인원타워 / [배터리] 분리형 (1개) / 충전시간: 4시간 / 사용시간(개당): 1시간 / [성능] 스마트인버터모터 / 헤파필터 / 5단계여과 / [기능] 물걸레(별도구매) / IoT기능 / 디스플레이표시창 / 자동물공급 / LED라이트 / 자동먼지비움 / [부가] 색상: 카밍베이지 / 무게: 2.7kg / 크기(가로x세로x깊이): 300x1120x260mm', '824780'], ['리하스 차량용 미니 무선 청소기 TEB-4120', '차량용청소기 / 무선 / 흡입력: 15,000Pa / 최대출력: 120W / 헤파필터 / 스테인리스 필터 / 추가노즐: 틈새, 솔브러쉬, 연장호스 / 사용시간: 15~28분 / 충전시간: 4~5시간 / 색상: 블랙, 스카이블루, 화이트 / 크기: 415mm / 무게: 520g', '78000'], ['로엘 듀스핀3 PRO', '물걸레청소기 / 회전식 / 물걸레전용 / 무선형 / [배터리] 충전시간: 4시간 / 사용시간(개당): 3시간 / [기능] 물분사 / 각도조절 / 셀프스탠딩 / [부가] 먼지통용량: 0.24L / 색상: 화이트 / 무게: 1.99kg / 자동세척탈수 / 크기(가로x세로x깊이): 360x1160x170mm', '179880'], ['삼성전자 비스포크 제트 VS20B957E5', '핸디스틱청소기 / 무선형 / 흡입+물걸레겸용 / 흡입력: 220W / [구성] 바닥 / 물걸레 / 침구 / 솔형 / 틈새 / 연장툴 / 청정스테이션 / [배터리] 분리형 (1개) / 충전시간: 3시간30분 / 사용시간(개당): 1시간 / [성능] 디지털인버터모터 / 5단계여과 / [기능] IoT기능 / 디스플레이표시창 / 자동물공급 / LED라이트 / 배터리잔량표시 / 자동먼지비움 / [부가] 먼지통용량: 0.5L / 색상: 산토리니베이지 / 크기(가로x세로x깊이): 250x930x202mm', '764810'], ['샤오미 미지아 차량용 핸디 무선 청소기', '차량용청소기 / 무선 / 흡입력: 13,000Pa / 최대출력: 120W / 헤파필터 / 추가노즐: 틈새, 솔브러쉬 / 사용시간: 9~30분 / 버튼 잠금 장치 / 2단 세기 조절 / 크기: 55x267mm / 무게: 500g', '48000'], ['삼성전자 비스포크 제트 VS20B956BUE', '핸디스틱청소기 / 무선형 / 흡입전용 / 흡입력: 220W / [구성] 바닥 / 침구 / 솔형 / 틈새 / 연장툴 / 청정스테이션 / [배터리] 분리형 (1개) / 충전시간: 3시간30분 / 사용시간(개당): 1시간 / [성능] 디지털인버터모터 / 5단계여과 / [기능] 물걸레(별도구매) / IoT기능 / 디스플레이표시창 / 자동물공급 / LED라이트 / 배터리잔량표시 / 자동먼지비움 / [부가] 먼지통용량: 0.5L / 색상: 산토리니베이지 / 크기(가로x세로x깊이): 250x930x202mm', '565730'], ['LG전자 오브제컬렉션 코드제로 A9S AO9571', '핸디스틱청소기 / 무선형 / 흡입+물걸레겸용 / 흡입력: 210W / [구성] 바닥 / 물걸레 / 침구 / 솔형 / 틈새 / 올인원타워 / [배터리] 분리형 (2개) / 충전시간: 4시간 / 사용시간(개당): 1시간 / [성능] 스마트인버터모터 / 분리형배기필터 / 헤파필터 / 5단계여과 / [기능] IoT기능 / 자동물공급 / 배터리잔량표시 / 자동먼지비움 / [부가] 색상: 카밍베이지 / 무게: 2.6kg / 크기(가로x세로x깊이): 250x1120x260mm / 출시가: 1,650,000원', '928800'], ['다이슨 Gen5 디텍트™ 컴플리트', '핸디스틱청소기 / 무선형 / 흡입전용 / 흡입력: 262AW / [구성] 플러피옵틱클리너 / 헤어스크류 / 미니모터 / 긴틈새 / 거치대 / [배터리] 분리형 (1개) / 충전시간: 4시간30 / 사용시간(개당): 1시간10분 / [성능] 헤파필터 / [기능] 디스플레이표시창 / 먼지감지센서 / [부가] 먼지통용량: 0.77L / 색상: 퍼플/퍼플 / 무게: 3.5kg / 크기(가로x세로x깊이): 276x1276x250mm', '1320150'], ['LG전자 코드제로 A9S AS9271', '핸디스틱청소기 / 무선형 / 흡입+물걸레겸용 / 흡입력: 210W / [구성] 바닥 / 물걸레 / 솔형 / 틈새 / 거치대 / [배터리] 분리형 (1개) / 충전시간: 4시간 / 사용시간(개당): 1시간 / [성능] 스마트인버터모터 / 분리형배기필터 / 헤파필터 / 5단계여과 / [기능] IoT기능 / 자동물공급 / 배터리잔량표시 / 자동먼지비움 / [부가] 색상: 아이언그레이 / 무게: 2.6kg / 크기(가로x세로x깊이): 250x1120x260mm', '573140'], ['오토코스 차량용 프리미엄 무선 청소기 H2', '차량용청소기 / 무선 / 12V / 흡입력: 20,000Pa / 최대출력: 150W / 2중필터 / 추가노즐: 틈새, 솔브러쉬 / LED라이트 / 사용시간: 30분 / 무게: 530g', '88170'], ['LG전자 코드제로 A9S AT9271', '핸디스틱청소기 / 무선형 / 흡입+물걸레겸용 / 흡입력: 210W / [구성] 바닥 / 물걸레 / 솔형 / 틈새 / 올인원타워 / [배터리] 분리형 (1개) / 충전시간: 4시간 / 사용시간(개당): 1시간 / [성능] 스마트인버터모터 / 분리형배기필터 / 헤파필터 / 5단계여과 / [기능] IoT기능 / 자동물공급 / 배터리잔량표시 / 자동먼지비움 / [부가] 색상: 아이언그레+딥그레이 / 무게: 2.6kg / 크기(가로x세로x깊이): 250x1120x260mm', '691080'], ['샤오미 SHUNZAO 차량용 무선청소기 2세대 Z1 (해외구매)', '차량용청소기 / 무선 / 흡입력: 7,000Pa / 최대출력: 90W / 2중필터 / 추가노즐: 틈새, 솔브러쉬 / LED라이트 / 사용시간: 30분 / 충전방식: USB C타입 / 충전시간: 2시간30분 / 크기: 73x76x336mm / 무게: 700g', '25900'], ['시프이컴 핸디형 차량용 무선 청소기 DK-X112', '차량용청소기 / 무선 / 흡입력: 5200Pa / 추가노즐: 솔브러쉬, 연장호스 / 사용시간: 22분 / 크기: 277x72mm / 무게: 560g', '39900'], ['다이슨 V12 디텍트 슬림 컴플리트', '핸디스틱청소기 / 무선형 / 흡입전용 / 흡입력: 150AW / [구성] 레이저슬림플러피 / 다이렉트드라이브 / 헤어스크류 / 솔형 / 더스팅 / 스터번더트 / 틈새 / 거치대 / 도킹스테이션 / [배터리] 분리형 (1개) / 충전시간: 3시간30분 / 사용시간(개당): 1시간 / [성능] 헤파필터 / [기능] 디스플레이표시창 / 먼지감지센서 / [부가] 먼지통용량: 0.35L / 색상: 옐로우/아이언/니켈, 골드/골드 / 무게: 2.2kg / 크기(가로x세로x깊이): 250x1095x251mm', '870300'], ['LG전자 오브제컬렉션 코드제로 A9S AU9972', '핸디스틱청소기 / 무선형 / 흡입+물걸레겸용 / 흡입력: 220W / [구성] 와이드바닥 / 물걸레 / 침구 / 솔형 / 틈새 / 올인원타워 / [배터리] 분리형 (2개) / 충전시간: 4시간 / 사용시간(개당): 1시간 / [성능] 스마트인버터모터 / 헤파필터 / 5단계여과 / [기능] IoT기능 / 디스플레이표시창 / 자동물공급 / LED라이트 / 자동먼지비움 / [부가] 색상: 카밍베이지 / 무게: 2.7kg / 크기(가로x세로x깊이): 300x1120x260mm', '1108360'], ['LG전자 코드제로 A9S AS9200BA', '핸디스틱청소기 / 무선형 / 흡입전용 / 흡입력: 200W / [구성] 바닥 / 솔형 / 틈새 / 거치대 / [배터리] 분리형 (1개) / 충전시간: 4시간 / 사용시간(개당): 1시간 / [성능] 스마트인버터모터 / 5단계여과 / [기능] 물걸레(별도구매) / IoT기능 / 디스플레이표시창 / 배터리잔량표시 / [부가] 색상: 블랙 / 무게: 2.6kg / 크기(가로x세로x깊이): 250x1120x260mm', '521330'], ['일렉트로룩스 WELL Q6 WQ61-1EDB', '핸디스틱청소기 / 무선형 / 흡입전용 / [구성] 바닥 / 솔형 / 더스팅 / 긴틈새 / 거치대 / [배터리] 내장형 / 충전시간: 4시간30분 / 사용시간(개당): 45분 / [성능] 5단계여과 / [기능] 브러쉬자동청소 / 셀프스탠딩 / LED라이트 / 배터리잔량표시 / [부가] 먼지통용량: 0.3L / 색상: 데님블루 / 무게: 2.65kg / 크기(가로x세로x깊이): 258x1105x140mm', '179200']]\n"
     ]
    }
   ],
   "source": [
    "# 1페이지에 대한 상품정보 추출\n",
    "prod_data = []\n",
    "\n",
    "for prod_item in prod_items:\n",
    "    # 공백 ('li.prod_itme.product-pot') 제외\n",
    "    if 'product-pot' in prod_item['class']:\n",
    "        continue\n",
    "    try:\n",
    "        name = prod_item.select_one('p.prod_name').text.replace('\\n', '')\n",
    "        spec_list = prod_item.select('div.spec_list')[0].text.replace('\\n', '').replace('\\t', '')\n",
    "        price = prod_item.select_one('li.rank_one > p.price_sect strong').text.replace(',' ,'')\n",
    "\n",
    "        prod_data.append([name, spec_list, price])\n",
    "    except:\n",
    "        pass\n",
    "print(len(prod_data))\n",
    "print(prod_data)"
   ]
  },
  {
   "cell_type": "code",
   "execution_count": 13,
   "id": "49b97ea2",
   "metadata": {},
   "outputs": [],
   "source": [
    "# 상품 정보 태그에서 원하는 정보를 추출하는 함수\n",
    "def get_prod_items(prod_items):\n",
    "    prod_data = []\n",
    "\n",
    "    for prod_item in prod_items:\n",
    "        # 공백 ('li.prod_itme.product-pot') 제외\n",
    "        if 'product-pot' in prod_item['class']:\n",
    "            continue\n",
    "        try:\n",
    "            name = prod_item.select_one('p.prod_name').text.replace('\\n', '')\n",
    "            spec_list = prod_item.select('div.spec_list')[0].text.replace('\\n', '').replace('\\t', '')\n",
    "            price = prod_item.select_one('li.rank_one > p.price_sect strong').text.replace(',' ,'')\n",
    "\n",
    "            prod_data.append([name, spec_list, price])\n",
    "        except:\n",
    "            pass\n",
    "    return prod_data"
   ]
  },
  {
   "cell_type": "code",
   "execution_count": 14,
   "id": "46200ab3",
   "metadata": {},
   "outputs": [
    {
     "name": "stdout",
     "output_type": "stream",
     "text": [
      "40\n"
     ]
    }
   ],
   "source": [
    "# 상품 정보를 가져오는 함수 테스트\n",
    "prod_items = soup.select('div.main_prodlist ul.product_list li.prod_item')\n",
    "prod_data = get_prod_items(prod_items)\n",
    "print(len(prod_data))"
   ]
  },
  {
   "cell_type": "markdown",
   "id": "42b54daa",
   "metadata": {},
   "source": [
    "## 1-2. 여러페이지에 걸친 다나와 검색 페이지 크롤링"
   ]
  },
  {
   "cell_type": "code",
   "execution_count": 15,
   "id": "8274e054",
   "metadata": {},
   "outputs": [
    {
     "data": {
      "text/plain": [
       "'https://search.danawa.com/dsearch.php?query=무선청소기&originalQuery=무선청소기&previousKeyword=무선청소기&volumeType=allvs&page=1&limit=40&sort=saveDESC&list=list&boost=true&addDelivery=N&recommendedSort=Y&defaultUICategoryCode=10325109&defaultPhysicsCategoryCode=72%7C80%7C81%7C0&defaultVmTab=2941&defaultVaTab=719669&tab=main'"
      ]
     },
     "execution_count": 15,
     "metadata": {},
     "output_type": "execute_result"
    }
   ],
   "source": [
    "# 다나와 검색 url을 만들어 주는 함수\n",
    "def get_search_page_url(keyword, page):\n",
    "    return f'https://search.danawa.com/dsearch.php?query={keyword}&originalQuery={keyword}&previousKeyword={keyword}&volumeType=allvs&page={page}&limit=40&sort=saveDESC&list=list&boost=true&addDelivery=N&recommendedSort=Y&defaultUICategoryCode=10325109&defaultPhysicsCategoryCode=72%7C80%7C81%7C0&defaultVmTab=2941&defaultVaTab=719669&tab=main'\n",
    "keyword = '무선청소기'\n",
    "page = 1\n",
    "url = get_search_page_url(keyword, page)\n",
    "url"
   ]
  },
  {
   "cell_type": "code",
   "execution_count": 16,
   "id": "b686f817",
   "metadata": {},
   "outputs": [],
   "source": [
    "import time\n",
    "from tqdm.notebook import tqdm"
   ]
  },
  {
   "cell_type": "code",
   "execution_count": 17,
   "id": "cc84cb03",
   "metadata": {},
   "outputs": [
    {
     "data": {
      "application/vnd.jupyter.widget-view+json": {
       "model_id": "12cd9bee661746138819a43c54d26a74",
       "version_major": 2,
       "version_minor": 0
      },
      "text/plain": [
       "  0%|          | 0/10 [00:00<?, ?it/s]"
      ]
     },
     "metadata": {},
     "output_type": "display_data"
    }
   ],
   "source": [
    "keyword = '무선청소기'\n",
    "total_page = 10\n",
    "prod_data_to_ten = []\n",
    "for page in tqdm(range(1, total_page + 1)):\n",
    "    url = get_search_page_url(keyword, page)\n",
    "    driver.get(url)\n",
    "    time.sleep(3)\n",
    "    \n",
    "    html = driver.page_source\n",
    "    soup = BeautifulSoup(html, 'html.parser')\n",
    "    \n",
    "    # 상품정보 추출\n",
    "    prod_items = soup.select('div#productListArea > div.main_prodlist > ul.product_list > li.prod_item')\n",
    "    prod_item_list = get_prod_items(prod_items)\n",
    "    \n",
    "    # 추출한 데이터 저장\n",
    "    prod_data_to_ten = prod_data_to_ten + prod_item_list"
   ]
  },
  {
   "cell_type": "markdown",
   "id": "8fa44da2",
   "metadata": {},
   "source": [
    "## 1-3. 수집한 데이터 저장"
   ]
  },
  {
   "cell_type": "code",
   "execution_count": 18,
   "id": "5401b45e",
   "metadata": {},
   "outputs": [],
   "source": [
    "df = pd.DataFrame(prod_data_to_ten, columns=['상품명', '스펙 목록', '가격'])"
   ]
  },
  {
   "cell_type": "code",
   "execution_count": 19,
   "id": "a53773b2",
   "metadata": {},
   "outputs": [],
   "source": [
    "df.to_csv('danawa_crawling_result.csv', index=False)"
   ]
  },
  {
   "cell_type": "code",
   "execution_count": 20,
   "id": "35bbf5ce",
   "metadata": {},
   "outputs": [],
   "source": [
    "driver.close()"
   ]
  },
  {
   "cell_type": "markdown",
   "id": "fbc638d9",
   "metadata": {},
   "source": [
    "# 2. 데이터 전처리"
   ]
  },
  {
   "cell_type": "code",
   "execution_count": 31,
   "id": "d9407cec",
   "metadata": {},
   "outputs": [
    {
     "name": "stdout",
     "output_type": "stream",
     "text": [
      "<class 'pandas.core.frame.DataFrame'>\n",
      "RangeIndex: 400 entries, 0 to 399\n",
      "Data columns (total 3 columns):\n",
      " #   Column  Non-Null Count  Dtype \n",
      "---  ------  --------------  ----- \n",
      " 0   상품명     400 non-null    object\n",
      " 1   스펙 목록   400 non-null    object\n",
      " 2   가격      400 non-null    int64 \n",
      "dtypes: int64(1), object(2)\n",
      "memory usage: 9.5+ KB\n"
     ]
    },
    {
     "data": {
      "text/html": [
       "<div>\n",
       "<style scoped>\n",
       "    .dataframe tbody tr th:only-of-type {\n",
       "        vertical-align: middle;\n",
       "    }\n",
       "\n",
       "    .dataframe tbody tr th {\n",
       "        vertical-align: top;\n",
       "    }\n",
       "\n",
       "    .dataframe thead th {\n",
       "        text-align: right;\n",
       "    }\n",
       "</style>\n",
       "<table border=\"1\" class=\"dataframe\">\n",
       "  <thead>\n",
       "    <tr style=\"text-align: right;\">\n",
       "      <th></th>\n",
       "      <th>상품명</th>\n",
       "      <th>스펙 목록</th>\n",
       "      <th>가격</th>\n",
       "    </tr>\n",
       "  </thead>\n",
       "  <tbody>\n",
       "    <tr>\n",
       "      <th>0</th>\n",
       "      <td>삼성전자 비스포크 제트 VS20A956A3</td>\n",
       "      <td>핸디스틱청소기 / 무선형 / 흡입전용 / 흡입력: 210W / [구성] 바닥 / 솔...</td>\n",
       "      <td>458920</td>\n",
       "    </tr>\n",
       "    <tr>\n",
       "      <th>1</th>\n",
       "      <td>베이스어스 차량용 청소기 A3 (해외구매)</td>\n",
       "      <td>차량용청소기 / 무선 / 흡입력: 15,000Pa / 최대출력: 135W / 헤파필...</td>\n",
       "      <td>48360</td>\n",
       "    </tr>\n",
       "    <tr>\n",
       "      <th>2</th>\n",
       "      <td>LG전자 오브제컬렉션 코드제로 A9S AU9982</td>\n",
       "      <td>핸디스틱청소기 / 무선형 / 흡입+물걸레겸용 / 흡입력: 220W / [구성] 와이...</td>\n",
       "      <td>1059950</td>\n",
       "    </tr>\n",
       "    <tr>\n",
       "      <th>3</th>\n",
       "      <td>삼성전자 비스포크 제트 VS20B956AX</td>\n",
       "      <td>핸디스틱청소기 / 무선형 / 흡입전용 / 흡입력: 220W / [구성] 바닥 / 솔...</td>\n",
       "      <td>539990</td>\n",
       "    </tr>\n",
       "    <tr>\n",
       "      <th>4</th>\n",
       "      <td>샤오미 CLEANFLY 차량용 무선 청소기 4세대 H2 (해외구매)</td>\n",
       "      <td>차량용청소기 / 무선 / 흡입력: 16,800Pa / 최대출력: 120W / 헤파필...</td>\n",
       "      <td>63330</td>\n",
       "    </tr>\n",
       "  </tbody>\n",
       "</table>\n",
       "</div>"
      ],
      "text/plain": [
       "                                     상품명  \\\n",
       "0                삼성전자 비스포크 제트 VS20A956A3   \n",
       "1                베이스어스 차량용 청소기 A3 (해외구매)   \n",
       "2            LG전자 오브제컬렉션 코드제로 A9S AU9982   \n",
       "3                삼성전자 비스포크 제트 VS20B956AX   \n",
       "4  샤오미 CLEANFLY 차량용 무선 청소기 4세대 H2 (해외구매)   \n",
       "\n",
       "                                               스펙 목록       가격  \n",
       "0  핸디스틱청소기 / 무선형 / 흡입전용 / 흡입력: 210W / [구성] 바닥 / 솔...   458920  \n",
       "1  차량용청소기 / 무선 / 흡입력: 15,000Pa / 최대출력: 135W / 헤파필...    48360  \n",
       "2  핸디스틱청소기 / 무선형 / 흡입+물걸레겸용 / 흡입력: 220W / [구성] 와이...  1059950  \n",
       "3  핸디스틱청소기 / 무선형 / 흡입전용 / 흡입력: 220W / [구성] 바닥 / 솔...   539990  \n",
       "4  차량용청소기 / 무선 / 흡입력: 16,800Pa / 최대출력: 120W / 헤파필...    63330  "
      ]
     },
     "execution_count": 31,
     "metadata": {},
     "output_type": "execute_result"
    }
   ],
   "source": [
    "# 카테고리 회사명 제품 가격 사용시간(분) 흡입력\n",
    "data = pd.read_csv('danawa_crawling_result.csv')\n",
    "data.info()\n",
    "data.head()"
   ]
  },
  {
   "cell_type": "markdown",
   "id": "2ecb976a",
   "metadata": {},
   "source": [
    "## 2-1. 회사명 모델명 정리"
   ]
  },
  {
   "cell_type": "code",
   "execution_count": 98,
   "id": "122f0891",
   "metadata": {},
   "outputs": [],
   "source": [
    "company_list = []\n",
    "product_list = []\n",
    "for title in data['상품명']:\n",
    "    title_info = title.split(' ', 1)\n",
    "    company_name = title_info[0]\n",
    "    product_name = title_info[1]\n",
    "    company_list.append(company_name)\n",
    "    product_list.append(product_name)"
   ]
  },
  {
   "cell_type": "markdown",
   "id": "d253b874",
   "metadata": {},
   "source": [
    "## 2-2 스펙목록에서 카테고리 사용시간, 흡입력을 추출"
   ]
  },
  {
   "cell_type": "code",
   "execution_count": 99,
   "id": "ada1e020",
   "metadata": {},
   "outputs": [
    {
     "data": {
      "text/plain": [
       "['핸디스틱청소기',\n",
       " '무선형',\n",
       " '흡입전용',\n",
       " '흡입력: 210W',\n",
       " '[구성] 바닥',\n",
       " '솔형',\n",
       " '틈새',\n",
       " '연장툴',\n",
       " '청정스테이션',\n",
       " '[배터리] 분리형 (1개)',\n",
       " '충전시간: 3시간30분',\n",
       " '사용시간(개당): 1시간',\n",
       " '[성능] 디지털인버터모터',\n",
       " '5단계여과',\n",
       " '[기능] 물걸레(별도구매)',\n",
       " '디스플레이표시창',\n",
       " '자동물공급',\n",
       " '배터리잔량표시',\n",
       " '자동먼지비움',\n",
       " '[부가] 먼지통용량: 0.5L',\n",
       " '물통용량: 0.15L',\n",
       " '색상: 미드나잇블루',\n",
       " '무게: 2.5kg',\n",
       " '액세서리크래들 ',\n",
       " '크기(가로x세로x깊이): 250x930x202mm']"
      ]
     },
     "execution_count": 99,
     "metadata": {},
     "output_type": "execute_result"
    }
   ],
   "source": [
    "spec_list = data['스펙 목록'][0].split(' / ')\n",
    "spec_list"
   ]
  },
  {
   "cell_type": "code",
   "execution_count": 100,
   "id": "b396438d",
   "metadata": {},
   "outputs": [
    {
     "data": {
      "text/plain": [
       "'핸디스틱청소기'"
      ]
     },
     "execution_count": 100,
     "metadata": {},
     "output_type": "execute_result"
    }
   ],
   "source": [
    "# 카테고리 정보를 추출\n",
    "category = spec_list[0]\n",
    "category"
   ]
  },
  {
   "cell_type": "code",
   "execution_count": 101,
   "id": "d441142b",
   "metadata": {},
   "outputs": [
    {
     "name": "stdout",
     "output_type": "stream",
     "text": [
      "사용시간(개당): 1시간\n",
      "흡입력: 210W\n"
     ]
    }
   ],
   "source": [
    "# 사용시간, 흡입력이 포함된 원소 추출\n",
    "for spec in spec_list:\n",
    "    if '사용시간' in spec:\n",
    "        use_time_spec = spec\n",
    "    elif '흡입력' in spec:\n",
    "        suction_spec = spec\n",
    "print(use_time_spec)\n",
    "print(suction_spec)"
   ]
  },
  {
   "cell_type": "code",
   "execution_count": 105,
   "id": "cc63d539",
   "metadata": {},
   "outputs": [
    {
     "data": {
      "text/plain": [
       "'1시간'"
      ]
     },
     "execution_count": 105,
     "metadata": {},
     "output_type": "execute_result"
    }
   ],
   "source": [
    "use_time_value = use_time_spec.split(' ')[1].strip()\n",
    "use_time_value\n",
    "# suction_value = suction_spec.split(' ')[1].strip()"
   ]
  },
  {
   "cell_type": "code",
   "execution_count": 138,
   "id": "5b48a1fa",
   "metadata": {},
   "outputs": [],
   "source": [
    "# 카테고리, 사용시간, 흡입력 추출\n",
    "category_list = []\n",
    "use_time_list = []\n",
    "suction_list = []\n",
    "for spec_data in data['스펙 목록']:\n",
    "    spec_list = spec_data.split(' / ')\n",
    "    # 카테고리\n",
    "    category = spec_list[0]\n",
    "    category_list.append(category)\n",
    "    \n",
    "    # 사용시간, 흡입력\n",
    "    use_time_value = None\n",
    "    suction_value = None\n",
    "    for spec in spec_list:\n",
    "        if '사용시간' in spec:\n",
    "            use_time_value = spec.split(' ')[1].strip()\n",
    "        elif '흡입력' in spec:\n",
    "            suction_value = spec.split(' ')[-1].strip()\n",
    "    use_time_list.append(use_time_value)\n",
    "    suction_list.append(suction_value)"
   ]
  },
  {
   "cell_type": "code",
   "execution_count": 139,
   "id": "c5d894ec",
   "metadata": {},
   "outputs": [
    {
     "name": "stdout",
     "output_type": "stream",
     "text": [
      "400 ['핸디스틱청소기', '차량용청소기', '핸디스틱청소기', '핸디스틱청소기', '차량용청소기']\n",
      "400 ['1시간', '45분', '1시간', '1시간', '30분']\n",
      "400 ['210W', '15,000Pa', '220W', '220W', '16,800Pa']\n"
     ]
    }
   ],
   "source": [
    "print(len(category_list), category_list[0:5])\n",
    "print(len(use_time_list), use_time_list[0:5])\n",
    "print(len(suction_list), suction_list[0:5])"
   ]
  },
  {
   "cell_type": "markdown",
   "id": "229acd4c",
   "metadata": {},
   "source": [
    "## 2-3. 무선청소기 사용시간 단위 통일"
   ]
  },
  {
   "cell_type": "code",
   "execution_count": 140,
   "id": "58925276",
   "metadata": {},
   "outputs": [],
   "source": [
    "# 40분 -> 40, 3시간30분 -> 210\n",
    "def convert_time_minute(time):\n",
    "    try:\n",
    "        if '시간' in time:\n",
    "            hour = time.split('시간')[0] # 3시간30분 -> 3\n",
    "            if '분' in time:\n",
    "                minute = time.split('시간')[-1].split('분')[0] # 3시간30분 -> 30분 -> 30\n",
    "            else:\n",
    "                minute = 0 # 1시간 -> 0\n",
    "        else:\n",
    "            hour = 0\n",
    "            minute = time.split('분')[0]\n",
    "        return int(hour) * 60 + int(minute)\n",
    "    except:\n",
    "        return None"
   ]
  },
  {
   "cell_type": "code",
   "execution_count": 141,
   "id": "bd5bac71",
   "metadata": {},
   "outputs": [
    {
     "name": "stdout",
     "output_type": "stream",
     "text": [
      "40분 = 40\n",
      "4분 = 4\n",
      "1시간 = 60\n",
      "2시간25분 = 145\n",
      "4시간 = 240\n"
     ]
    }
   ],
   "source": [
    "# 함수 테스트\n",
    "times = ['40분', '4분', '1시간', '2시간25분', '4시간']\n",
    "for time in times:\n",
    "    time_value = convert_time_minute(time)\n",
    "    print(time , '=', time_value)"
   ]
  },
  {
   "cell_type": "code",
   "execution_count": 142,
   "id": "62cf3d76",
   "metadata": {},
   "outputs": [],
   "source": [
    "# 사용시간을 분 단위로 통일\n",
    "convert_use_time_list = []\n",
    "for time in use_time_list:\n",
    "    value = convert_time_minute(time)\n",
    "    convert_use_time_list.append(value)"
   ]
  },
  {
   "cell_type": "code",
   "execution_count": 143,
   "id": "25d4dd53",
   "metadata": {},
   "outputs": [
    {
     "name": "stdout",
     "output_type": "stream",
     "text": [
      "400 [60, 45, 60, 60, 30, 35, 60, 60, 60, 25]\n"
     ]
    }
   ],
   "source": [
    "print(len(convert_use_time_list), convert_use_time_list[0:10])"
   ]
  },
  {
   "cell_type": "markdown",
   "id": "5fed82d1",
   "metadata": {},
   "source": [
    "## 2-4. 무선 청소기 흡입력 단위 통일"
   ]
  },
  {
   "cell_type": "code",
   "execution_count": 147,
   "id": "b021e841",
   "metadata": {},
   "outputs": [],
   "source": [
    "# w = 100pa\n",
    "def convert_suction(value):\n",
    "    try:\n",
    "        value = value.upper()\n",
    "        if 'AW' in value or 'W' in value:\n",
    "            result = value.replace('A', '').replace('W', '').replace(',', '').replace('~', '')\n",
    "            result = int(result)\n",
    "        elif 'PA' in value:\n",
    "            result = value.replace('PA', '').replace(',', '').replace('~', '')\n",
    "            result = int(result) / 100\n",
    "        else:\n",
    "            result = None\n",
    "        return result\n",
    "    except:\n",
    "        return None"
   ]
  },
  {
   "cell_type": "code",
   "execution_count": 148,
   "id": "ae66a0c5",
   "metadata": {},
   "outputs": [],
   "source": [
    "# 흡입력 단위 통일\n",
    "convert_suction_list = []\n",
    "for power in suction_list:\n",
    "    value = convert_suction(power)\n",
    "    convert_suction_list.append(value)"
   ]
  },
  {
   "cell_type": "code",
   "execution_count": 149,
   "id": "f19fe03e",
   "metadata": {},
   "outputs": [
    {
     "name": "stdout",
     "output_type": "stream",
     "text": [
      "400 [210, 150.0, 220, 220, 168.0, None, 200, 200, 210, 150.0]\n"
     ]
    }
   ],
   "source": [
    "print(len(convert_suction_list), convert_suction_list[0:10])"
   ]
  },
  {
   "cell_type": "markdown",
   "id": "970aa7ac",
   "metadata": {},
   "source": [
    "## 2-5. 전처리 결과를 엑셀로 저장"
   ]
  },
  {
   "cell_type": "code",
   "execution_count": 178,
   "id": "075b724a",
   "metadata": {},
   "outputs": [
    {
     "data": {
      "text/html": [
       "<div>\n",
       "<style scoped>\n",
       "    .dataframe tbody tr th:only-of-type {\n",
       "        vertical-align: middle;\n",
       "    }\n",
       "\n",
       "    .dataframe tbody tr th {\n",
       "        vertical-align: top;\n",
       "    }\n",
       "\n",
       "    .dataframe thead th {\n",
       "        text-align: right;\n",
       "    }\n",
       "</style>\n",
       "<table border=\"1\" class=\"dataframe\">\n",
       "  <thead>\n",
       "    <tr style=\"text-align: right;\">\n",
       "      <th></th>\n",
       "      <th>카테고리</th>\n",
       "      <th>회사명</th>\n",
       "      <th>제품</th>\n",
       "      <th>가격</th>\n",
       "      <th>사용시간</th>\n",
       "      <th>흡입력</th>\n",
       "    </tr>\n",
       "  </thead>\n",
       "  <tbody>\n",
       "    <tr>\n",
       "      <th>0</th>\n",
       "      <td>핸디스틱청소기</td>\n",
       "      <td>삼성전자</td>\n",
       "      <td>비스포크 제트 VS20A956A3</td>\n",
       "      <td>458920</td>\n",
       "      <td>60.0</td>\n",
       "      <td>210.0</td>\n",
       "    </tr>\n",
       "    <tr>\n",
       "      <th>1</th>\n",
       "      <td>차량용청소기</td>\n",
       "      <td>베이스어스</td>\n",
       "      <td>차량용 청소기 A3 (해외구매)</td>\n",
       "      <td>48360</td>\n",
       "      <td>45.0</td>\n",
       "      <td>150.0</td>\n",
       "    </tr>\n",
       "    <tr>\n",
       "      <th>2</th>\n",
       "      <td>핸디스틱청소기</td>\n",
       "      <td>LG전자</td>\n",
       "      <td>오브제컬렉션 코드제로 A9S AU9982</td>\n",
       "      <td>1059950</td>\n",
       "      <td>60.0</td>\n",
       "      <td>220.0</td>\n",
       "    </tr>\n",
       "    <tr>\n",
       "      <th>3</th>\n",
       "      <td>핸디스틱청소기</td>\n",
       "      <td>삼성전자</td>\n",
       "      <td>비스포크 제트 VS20B956AX</td>\n",
       "      <td>539990</td>\n",
       "      <td>60.0</td>\n",
       "      <td>220.0</td>\n",
       "    </tr>\n",
       "    <tr>\n",
       "      <th>4</th>\n",
       "      <td>차량용청소기</td>\n",
       "      <td>샤오미</td>\n",
       "      <td>CLEANFLY 차량용 무선 청소기 4세대 H2 (해외구매)</td>\n",
       "      <td>63330</td>\n",
       "      <td>30.0</td>\n",
       "      <td>168.0</td>\n",
       "    </tr>\n",
       "  </tbody>\n",
       "</table>\n",
       "</div>"
      ],
      "text/plain": [
       "      카테고리    회사명                                 제품       가격  사용시간    흡입력\n",
       "0  핸디스틱청소기   삼성전자                 비스포크 제트 VS20A956A3   458920  60.0  210.0\n",
       "1   차량용청소기  베이스어스                  차량용 청소기 A3 (해외구매)    48360  45.0  150.0\n",
       "2  핸디스틱청소기   LG전자             오브제컬렉션 코드제로 A9S AU9982  1059950  60.0  220.0\n",
       "3  핸디스틱청소기   삼성전자                 비스포크 제트 VS20B956AX   539990  60.0  220.0\n",
       "4   차량용청소기    샤오미  CLEANFLY 차량용 무선 청소기 4세대 H2 (해외구매)    63330  30.0  168.0"
      ]
     },
     "execution_count": 178,
     "metadata": {},
     "output_type": "execute_result"
    }
   ],
   "source": [
    "pd_data = pd.DataFrame()\n",
    "pd_data['카테고리'] = category_list\n",
    "pd_data['회사명'] = company_list\n",
    "pd_data['제품'] = product_list\n",
    "pd_data['가격'] = data['가격']\n",
    "pd_data['사용시간'] = convert_use_time_list\n",
    "pd_data['흡입력'] = convert_suction_list\n",
    "pd_data.head()"
   ]
  },
  {
   "cell_type": "code",
   "execution_count": 179,
   "id": "b834995a",
   "metadata": {},
   "outputs": [],
   "source": [
    "pd_data.to_csv('result_preprocessing', index=False)"
   ]
  },
  {
   "cell_type": "markdown",
   "id": "93acaa4d",
   "metadata": {},
   "source": [
    "# 3. 핸디스틱청소기로 가성비 좋은 제품 찾기"
   ]
  },
  {
   "cell_type": "markdown",
   "id": "66fe1666",
   "metadata": {},
   "source": [
    "## 3-1. 핸디스틱청소기만 추출"
   ]
  },
  {
   "cell_type": "code",
   "execution_count": 180,
   "id": "84120789",
   "metadata": {},
   "outputs": [
    {
     "data": {
      "text/plain": [
       "핸디스틱청소기             221\n",
       "차량용청소기               89\n",
       "물걸레청소기               31\n",
       "핸디청소기                30\n",
       "스틱청소기                 7\n",
       "욕실청소기                 7\n",
       "침구청소기                 5\n",
       "핸디/스틱청소기+로봇청소기세트      3\n",
       "업소용청소기                3\n",
       "차량용선풍기                1\n",
       "핸디/스틱청소기+공기청정기세트      1\n",
       "수영장청소기                1\n",
       "물걸레청소기+스팀청소기          1\n",
       "Name: 카테고리, dtype: int64"
      ]
     },
     "execution_count": 180,
     "metadata": {},
     "output_type": "execute_result"
    }
   ],
   "source": [
    "pd_data['카테고리'].value_counts()"
   ]
  },
  {
   "cell_type": "code",
   "execution_count": 181,
   "id": "8e41c4cb",
   "metadata": {},
   "outputs": [
    {
     "data": {
      "text/plain": [
       "221"
      ]
     },
     "execution_count": 181,
     "metadata": {},
     "output_type": "execute_result"
    }
   ],
   "source": [
    "pd_data_final = pd_data[pd_data['카테고리'].isin(['핸디스틱청소기'])]\n",
    "len(pd_data_final)"
   ]
  },
  {
   "cell_type": "code",
   "execution_count": 183,
   "id": "755ace5c",
   "metadata": {
    "scrolled": true
   },
   "outputs": [
    {
     "data": {
      "text/plain": [
       "array([ 458920, 1059950,  539990,  160080,  576860,  359980,  439070,\n",
       "        468880,  157730, 1035480,  719780,  179000,  484930,  619510,\n",
       "        608000,  671260,  824780,  764810,  565730,  928800, 1320150,\n",
       "        573140,  691080,  870300, 1108360,  521330,  179200,  665552,\n",
       "        687140,  716890,  755100,  162470,  792100,  811750,  461080,\n",
       "         56860,  226060,  591090,  578630,  237280,  123600,  543920,\n",
       "        718140,  239000,  613350, 1160850,  499500,  948990,  167910,\n",
       "        795470,  827470,  189000,  329000,  750500,  149000,   93790,\n",
       "        693780,  278220,  193000,  954900,  942170,  139000,  188090,\n",
       "        430950,   73790,  980600,  902090,  601590,  379080,  184990,\n",
       "        104360,   77320,  233150,   38960,  957390,  178100,  366340,\n",
       "        699390, 1266930,  296100,  327800,  843650,  470370,   89308,\n",
       "         63760,  394670,  230330,   77790,   41900, 1043820,   47400,\n",
       "        219890,  184640,  709600,   83650,  144690,  643160,   77130,\n",
       "        156990,  152930,  532530,  477520,  257000,   89000,  357260,\n",
       "         40320,  169000,  698950,  197800,  118900,   77500,  345780,\n",
       "        166320,  125130,  459000,  199000,  635660,  267670,   48570,\n",
       "        348990,  261250,  321990,  355770,  643970,   84370,  156740,\n",
       "        241240,  232390,   63790,  223300,  593590,   85400,  178080,\n",
       "         47900,  135100,  286430,  636500,  169100,   29800,  943410,\n",
       "         49800,  231300,  135710,  479000,  198000,  129000,  706600,\n",
       "        179960,   84210,  389980,  304780,  256160,  127460,  181990,\n",
       "        580000,  218530,  207060,  296710,  147750,  377100,  313070,\n",
       "         99000,  235000,  159000,  396750,  619990,  351820,  742210,\n",
       "        249000,  266990,  168990,   89380,  417050,  158000,  639330,\n",
       "        172890,  122380,  139190,  238400,  228000,  485000,  268810,\n",
       "         38900,  929060,  244440,  248990,  521130,  460000,  295040,\n",
       "        103750,  379000,  181830,   75600,  214020,   42990,   68500,\n",
       "        290550,  260280,  157170,  279810,  736070,  525680,   82770,\n",
       "        181740,   39900,  697490,  858800,   74900,  369000,  938360,\n",
       "        119960,  152150,  146280], dtype=int64)"
      ]
     },
     "execution_count": 183,
     "metadata": {},
     "output_type": "execute_result"
    }
   ],
   "source": [
    "pd_data_final['가격'].unique() # \"가격비교예정\"인 데이터가 있는지 확인"
   ]
  },
  {
   "cell_type": "code",
   "execution_count": 184,
   "id": "d6b28cb5",
   "metadata": {},
   "outputs": [
    {
     "data": {
      "text/plain": [
       "221"
      ]
     },
     "execution_count": 184,
     "metadata": {},
     "output_type": "execute_result"
    }
   ],
   "source": [
    "# 만약 \"가격비교예정\" 데이터가 있으면 상품을 제외\n",
    "cond = pd_data_final['가격'] != \"가격비교예정\"\n",
    "pd_data_final = pd_data_final[cond]\n",
    "len(pd_data_final)"
   ]
  },
  {
   "cell_type": "code",
   "execution_count": 187,
   "id": "8aabda42",
   "metadata": {},
   "outputs": [
    {
     "data": {
      "text/html": [
       "<div>\n",
       "<style scoped>\n",
       "    .dataframe tbody tr th:only-of-type {\n",
       "        vertical-align: middle;\n",
       "    }\n",
       "\n",
       "    .dataframe tbody tr th {\n",
       "        vertical-align: top;\n",
       "    }\n",
       "\n",
       "    .dataframe thead th {\n",
       "        text-align: right;\n",
       "    }\n",
       "</style>\n",
       "<table border=\"1\" class=\"dataframe\">\n",
       "  <thead>\n",
       "    <tr style=\"text-align: right;\">\n",
       "      <th></th>\n",
       "      <th>카테고리</th>\n",
       "      <th>회사명</th>\n",
       "      <th>제품</th>\n",
       "      <th>가격</th>\n",
       "      <th>사용시간</th>\n",
       "      <th>흡입력</th>\n",
       "    </tr>\n",
       "  </thead>\n",
       "  <tbody>\n",
       "    <tr>\n",
       "      <th>132</th>\n",
       "      <td>핸디스틱청소기</td>\n",
       "      <td>샤오미</td>\n",
       "      <td>드리미 V12</td>\n",
       "      <td>327800</td>\n",
       "      <td>90.0</td>\n",
       "      <td>270.0</td>\n",
       "    </tr>\n",
       "    <tr>\n",
       "      <th>352</th>\n",
       "      <td>핸디스틱청소기</td>\n",
       "      <td>샤오미</td>\n",
       "      <td>드리미 V11</td>\n",
       "      <td>460000</td>\n",
       "      <td>90.0</td>\n",
       "      <td>250.0</td>\n",
       "    </tr>\n",
       "    <tr>\n",
       "      <th>350</th>\n",
       "      <td>핸디스틱청소기</td>\n",
       "      <td>샤오미</td>\n",
       "      <td>로이드미 X30 프로</td>\n",
       "      <td>248990</td>\n",
       "      <td>70.0</td>\n",
       "      <td>265.0</td>\n",
       "    </tr>\n",
       "    <tr>\n",
       "      <th>30</th>\n",
       "      <td>핸디스틱청소기</td>\n",
       "      <td>다이슨</td>\n",
       "      <td>Gen5 디텍트™ 컴플리트</td>\n",
       "      <td>1320150</td>\n",
       "      <td>70.0</td>\n",
       "      <td>262.0</td>\n",
       "    </tr>\n",
       "    <tr>\n",
       "      <th>131</th>\n",
       "      <td>핸디스틱청소기</td>\n",
       "      <td>샤오미</td>\n",
       "      <td>드리미 T20</td>\n",
       "      <td>296100</td>\n",
       "      <td>70.0</td>\n",
       "      <td>250.0</td>\n",
       "    </tr>\n",
       "    <tr>\n",
       "      <th>...</th>\n",
       "      <td>...</td>\n",
       "      <td>...</td>\n",
       "      <td>...</td>\n",
       "      <td>...</td>\n",
       "      <td>...</td>\n",
       "      <td>...</td>\n",
       "    </tr>\n",
       "    <tr>\n",
       "      <th>181</th>\n",
       "      <td>핸디스틱청소기</td>\n",
       "      <td>한빛시스템</td>\n",
       "      <td>HV-5088</td>\n",
       "      <td>77130</td>\n",
       "      <td>NaN</td>\n",
       "      <td>NaN</td>\n",
       "    </tr>\n",
       "    <tr>\n",
       "      <th>228</th>\n",
       "      <td>핸디스틱청소기</td>\n",
       "      <td>보만</td>\n",
       "      <td>VC7210</td>\n",
       "      <td>48570</td>\n",
       "      <td>NaN</td>\n",
       "      <td>NaN</td>\n",
       "    </tr>\n",
       "    <tr>\n",
       "      <th>233</th>\n",
       "      <td>핸디스틱청소기</td>\n",
       "      <td>카처</td>\n",
       "      <td>VC4I 코드리스 PLUS</td>\n",
       "      <td>321990</td>\n",
       "      <td>NaN</td>\n",
       "      <td>NaN</td>\n",
       "    </tr>\n",
       "    <tr>\n",
       "      <th>341</th>\n",
       "      <td>핸디스틱청소기</td>\n",
       "      <td>기펠</td>\n",
       "      <td>ZET-10</td>\n",
       "      <td>228000</td>\n",
       "      <td>NaN</td>\n",
       "      <td>NaN</td>\n",
       "    </tr>\n",
       "    <tr>\n",
       "      <th>346</th>\n",
       "      <td>핸디스틱청소기</td>\n",
       "      <td>자일렉</td>\n",
       "      <td>ZL-274H</td>\n",
       "      <td>38900</td>\n",
       "      <td>NaN</td>\n",
       "      <td>NaN</td>\n",
       "    </tr>\n",
       "  </tbody>\n",
       "</table>\n",
       "<p>221 rows × 6 columns</p>\n",
       "</div>"
      ],
      "text/plain": [
       "        카테고리    회사명              제품       가격  사용시간    흡입력\n",
       "132  핸디스틱청소기    샤오미         드리미 V12   327800  90.0  270.0\n",
       "352  핸디스틱청소기    샤오미         드리미 V11   460000  90.0  250.0\n",
       "350  핸디스틱청소기    샤오미     로이드미 X30 프로   248990  70.0  265.0\n",
       "30   핸디스틱청소기    다이슨  Gen5 디텍트™ 컴플리트  1320150  70.0  262.0\n",
       "131  핸디스틱청소기    샤오미         드리미 T20   296100  70.0  250.0\n",
       "..       ...    ...             ...      ...   ...    ...\n",
       "181  핸디스틱청소기  한빛시스템         HV-5088    77130   NaN    NaN\n",
       "228  핸디스틱청소기     보만          VC7210    48570   NaN    NaN\n",
       "233  핸디스틱청소기     카처  VC4I 코드리스 PLUS   321990   NaN    NaN\n",
       "341  핸디스틱청소기     기펠          ZET-10   228000   NaN    NaN\n",
       "346  핸디스틱청소기    자일렉         ZL-274H    38900   NaN    NaN\n",
       "\n",
       "[221 rows x 6 columns]"
      ]
     },
     "execution_count": 187,
     "metadata": {},
     "output_type": "execute_result"
    }
   ],
   "source": [
    "# 사용시간과 흡입력 기준 정렬\n",
    "top_list = pd_data_final.sort_values(['사용시간', '흡입력'], ascending=False)\n",
    "top_list"
   ]
  },
  {
   "cell_type": "markdown",
   "id": "3867c7ff",
   "metadata": {},
   "source": [
    "## 3-2. 가성비제품 추출"
   ]
  },
  {
   "cell_type": "code",
   "execution_count": 188,
   "id": "4f933c0e",
   "metadata": {},
   "outputs": [
    {
     "name": "stdout",
     "output_type": "stream",
     "text": [
      "가격 평균값 376117.149321267\n",
      "흡입력 평균값 198.9047619047619\n",
      "사용시간 평균값 48.12322274881517\n"
     ]
    }
   ],
   "source": [
    "# 평균값 정리\n",
    "price_mean_value = pd_data_final['가격'].mean()\n",
    "suction_mean_value = pd_data_final['흡입력'].mean()\n",
    "use_time_mean_value = pd_data_final['사용시간'].mean()\n",
    "print('가격 평균값', price_mean_value)\n",
    "print('흡입력 평균값', suction_mean_value)\n",
    "print('사용시간 평균값', use_time_mean_value)"
   ]
  },
  {
   "cell_type": "code",
   "execution_count": 190,
   "id": "18b8dc7d",
   "metadata": {},
   "outputs": [
    {
     "data": {
      "text/html": [
       "<div>\n",
       "<style scoped>\n",
       "    .dataframe tbody tr th:only-of-type {\n",
       "        vertical-align: middle;\n",
       "    }\n",
       "\n",
       "    .dataframe tbody tr th {\n",
       "        vertical-align: top;\n",
       "    }\n",
       "\n",
       "    .dataframe thead th {\n",
       "        text-align: right;\n",
       "    }\n",
       "</style>\n",
       "<table border=\"1\" class=\"dataframe\">\n",
       "  <thead>\n",
       "    <tr style=\"text-align: right;\">\n",
       "      <th></th>\n",
       "      <th>카테고리</th>\n",
       "      <th>회사명</th>\n",
       "      <th>제품</th>\n",
       "      <th>가격</th>\n",
       "      <th>사용시간</th>\n",
       "      <th>흡입력</th>\n",
       "    </tr>\n",
       "  </thead>\n",
       "  <tbody>\n",
       "    <tr>\n",
       "      <th>7</th>\n",
       "      <td>핸디스틱청소기</td>\n",
       "      <td>삼성전자</td>\n",
       "      <td>제트 VS20T92K3QD</td>\n",
       "      <td>359980</td>\n",
       "      <td>60.0</td>\n",
       "      <td>200.0</td>\n",
       "    </tr>\n",
       "    <tr>\n",
       "      <th>11</th>\n",
       "      <td>핸디스틱청소기</td>\n",
       "      <td>샤오미</td>\n",
       "      <td>드리미 V10</td>\n",
       "      <td>157730</td>\n",
       "      <td>60.0</td>\n",
       "      <td>220.0</td>\n",
       "    </tr>\n",
       "    <tr>\n",
       "      <th>16</th>\n",
       "      <td>핸디스틱청소기</td>\n",
       "      <td>아이닉</td>\n",
       "      <td>NEW i20</td>\n",
       "      <td>179000</td>\n",
       "      <td>50.0</td>\n",
       "      <td>300.0</td>\n",
       "    </tr>\n",
       "    <tr>\n",
       "      <th>63</th>\n",
       "      <td>핸디스틱청소기</td>\n",
       "      <td>샤오미</td>\n",
       "      <td>COCLEAN V30</td>\n",
       "      <td>123600</td>\n",
       "      <td>60.0</td>\n",
       "      <td>250.0</td>\n",
       "    </tr>\n",
       "    <tr>\n",
       "      <th>96</th>\n",
       "      <td>핸디스틱청소기</td>\n",
       "      <td>원더스리빙</td>\n",
       "      <td>원더스 다이나킹 Z24</td>\n",
       "      <td>139000</td>\n",
       "      <td>50.0</td>\n",
       "      <td>280.0</td>\n",
       "    </tr>\n",
       "    <tr>\n",
       "      <th>116</th>\n",
       "      <td>핸디스틱청소기</td>\n",
       "      <td>샤오미</td>\n",
       "      <td>드리미 V9</td>\n",
       "      <td>104360</td>\n",
       "      <td>60.0</td>\n",
       "      <td>200.0</td>\n",
       "    </tr>\n",
       "    <tr>\n",
       "      <th>131</th>\n",
       "      <td>핸디스틱청소기</td>\n",
       "      <td>샤오미</td>\n",
       "      <td>드리미 T20</td>\n",
       "      <td>296100</td>\n",
       "      <td>70.0</td>\n",
       "      <td>250.0</td>\n",
       "    </tr>\n",
       "    <tr>\n",
       "      <th>132</th>\n",
       "      <td>핸디스틱청소기</td>\n",
       "      <td>샤오미</td>\n",
       "      <td>드리미 V12</td>\n",
       "      <td>327800</td>\n",
       "      <td>90.0</td>\n",
       "      <td>270.0</td>\n",
       "    </tr>\n",
       "    <tr>\n",
       "      <th>196</th>\n",
       "      <td>핸디스틱청소기</td>\n",
       "      <td>욜로닉스</td>\n",
       "      <td>로헨 L30</td>\n",
       "      <td>169000</td>\n",
       "      <td>50.0</td>\n",
       "      <td>350.0</td>\n",
       "    </tr>\n",
       "    <tr>\n",
       "      <th>240</th>\n",
       "      <td>핸디스틱청소기</td>\n",
       "      <td>델로라</td>\n",
       "      <td>V11 파워 300W</td>\n",
       "      <td>84370</td>\n",
       "      <td>70.0</td>\n",
       "      <td>220.0</td>\n",
       "    </tr>\n",
       "    <tr>\n",
       "      <th>242</th>\n",
       "      <td>핸디스틱청소기</td>\n",
       "      <td>샤오미</td>\n",
       "      <td>G10</td>\n",
       "      <td>241240</td>\n",
       "      <td>65.0</td>\n",
       "      <td>250.0</td>\n",
       "    </tr>\n",
       "    <tr>\n",
       "      <th>248</th>\n",
       "      <td>핸디스틱청소기</td>\n",
       "      <td>샤오미</td>\n",
       "      <td>TROUVER POWER 12</td>\n",
       "      <td>178080</td>\n",
       "      <td>60.0</td>\n",
       "      <td>220.0</td>\n",
       "    </tr>\n",
       "    <tr>\n",
       "      <th>265</th>\n",
       "      <td>핸디스틱청소기</td>\n",
       "      <td>DIBEA</td>\n",
       "      <td>올인원뉴</td>\n",
       "      <td>179000</td>\n",
       "      <td>50.0</td>\n",
       "      <td>200.0</td>\n",
       "    </tr>\n",
       "    <tr>\n",
       "      <th>273</th>\n",
       "      <td>핸디스틱청소기</td>\n",
       "      <td>샤오미</td>\n",
       "      <td>VIOMI A9 V-HWVC12A</td>\n",
       "      <td>198000</td>\n",
       "      <td>60.0</td>\n",
       "      <td>230.0</td>\n",
       "    </tr>\n",
       "    <tr>\n",
       "      <th>276</th>\n",
       "      <td>핸디스틱청소기</td>\n",
       "      <td>DIBEA</td>\n",
       "      <td>올인원25000</td>\n",
       "      <td>129000</td>\n",
       "      <td>55.0</td>\n",
       "      <td>250.0</td>\n",
       "    </tr>\n",
       "    <tr>\n",
       "      <th>283</th>\n",
       "      <td>핸디스틱청소기</td>\n",
       "      <td>샤오미</td>\n",
       "      <td>SHUNZAO Z11 MAX</td>\n",
       "      <td>256160</td>\n",
       "      <td>60.0</td>\n",
       "      <td>260.0</td>\n",
       "    </tr>\n",
       "    <tr>\n",
       "      <th>288</th>\n",
       "      <td>핸디스틱청소기</td>\n",
       "      <td>샤오미</td>\n",
       "      <td>드리미 P10 Pro</td>\n",
       "      <td>181990</td>\n",
       "      <td>60.0</td>\n",
       "      <td>220.0</td>\n",
       "    </tr>\n",
       "    <tr>\n",
       "      <th>324</th>\n",
       "      <td>핸디스틱청소기</td>\n",
       "      <td>DIBEA</td>\n",
       "      <td>M500 클래스</td>\n",
       "      <td>168990</td>\n",
       "      <td>50.0</td>\n",
       "      <td>200.0</td>\n",
       "    </tr>\n",
       "    <tr>\n",
       "      <th>350</th>\n",
       "      <td>핸디스틱청소기</td>\n",
       "      <td>샤오미</td>\n",
       "      <td>로이드미 X30 프로</td>\n",
       "      <td>248990</td>\n",
       "      <td>70.0</td>\n",
       "      <td>265.0</td>\n",
       "    </tr>\n",
       "    <tr>\n",
       "      <th>357</th>\n",
       "      <td>핸디스틱청소기</td>\n",
       "      <td>DIBEA</td>\n",
       "      <td>M500 퀀텀</td>\n",
       "      <td>181830</td>\n",
       "      <td>50.0</td>\n",
       "      <td>250.0</td>\n",
       "    </tr>\n",
       "    <tr>\n",
       "      <th>371</th>\n",
       "      <td>핸디스틱청소기</td>\n",
       "      <td>아이닉</td>\n",
       "      <td>i20</td>\n",
       "      <td>199000</td>\n",
       "      <td>50.0</td>\n",
       "      <td>250.0</td>\n",
       "    </tr>\n",
       "    <tr>\n",
       "      <th>384</th>\n",
       "      <td>핸디스틱청소기</td>\n",
       "      <td>샤오미</td>\n",
       "      <td>TROUVER POWER 11</td>\n",
       "      <td>169000</td>\n",
       "      <td>60.0</td>\n",
       "      <td>200.0</td>\n",
       "    </tr>\n",
       "    <tr>\n",
       "      <th>397</th>\n",
       "      <td>핸디스틱청소기</td>\n",
       "      <td>캐치웰</td>\n",
       "      <td>CX11 PLUS</td>\n",
       "      <td>152150</td>\n",
       "      <td>60.0</td>\n",
       "      <td>200.0</td>\n",
       "    </tr>\n",
       "  </tbody>\n",
       "</table>\n",
       "</div>"
      ],
      "text/plain": [
       "        카테고리    회사명                  제품      가격  사용시간    흡입력\n",
       "7    핸디스틱청소기   삼성전자      제트 VS20T92K3QD  359980  60.0  200.0\n",
       "11   핸디스틱청소기    샤오미             드리미 V10  157730  60.0  220.0\n",
       "16   핸디스틱청소기    아이닉             NEW i20  179000  50.0  300.0\n",
       "63   핸디스틱청소기    샤오미         COCLEAN V30  123600  60.0  250.0\n",
       "96   핸디스틱청소기  원더스리빙        원더스 다이나킹 Z24  139000  50.0  280.0\n",
       "116  핸디스틱청소기    샤오미              드리미 V9  104360  60.0  200.0\n",
       "131  핸디스틱청소기    샤오미             드리미 T20  296100  70.0  250.0\n",
       "132  핸디스틱청소기    샤오미             드리미 V12  327800  90.0  270.0\n",
       "196  핸디스틱청소기   욜로닉스              로헨 L30  169000  50.0  350.0\n",
       "240  핸디스틱청소기    델로라         V11 파워 300W   84370  70.0  220.0\n",
       "242  핸디스틱청소기    샤오미                 G10  241240  65.0  250.0\n",
       "248  핸디스틱청소기    샤오미    TROUVER POWER 12  178080  60.0  220.0\n",
       "265  핸디스틱청소기  DIBEA                올인원뉴  179000  50.0  200.0\n",
       "273  핸디스틱청소기    샤오미  VIOMI A9 V-HWVC12A  198000  60.0  230.0\n",
       "276  핸디스틱청소기  DIBEA            올인원25000  129000  55.0  250.0\n",
       "283  핸디스틱청소기    샤오미     SHUNZAO Z11 MAX  256160  60.0  260.0\n",
       "288  핸디스틱청소기    샤오미         드리미 P10 Pro  181990  60.0  220.0\n",
       "324  핸디스틱청소기  DIBEA            M500 클래스  168990  50.0  200.0\n",
       "350  핸디스틱청소기    샤오미         로이드미 X30 프로  248990  70.0  265.0\n",
       "357  핸디스틱청소기  DIBEA             M500 퀀텀  181830  50.0  250.0\n",
       "371  핸디스틱청소기    아이닉                 i20  199000  50.0  250.0\n",
       "384  핸디스틱청소기    샤오미    TROUVER POWER 11  169000  60.0  200.0\n",
       "397  핸디스틱청소기    캐치웰           CX11 PLUS  152150  60.0  200.0"
      ]
     },
     "execution_count": 190,
     "metadata": {},
     "output_type": "execute_result"
    }
   ],
   "source": [
    "# 가성비 좋은 제품 탐색 - 가격 < 평균, 흡입력, 사용시간 > 평균\n",
    "condition_data = pd_data_final[(pd_data_final['가격'] <= price_mean_value) & \n",
    "                               (pd_data_final['흡입력'] >= suction_mean_value) & \n",
    "                               (pd_data_final['사용시간'] >= use_time_mean_value)]\n",
    "condition_data"
   ]
  },
  {
   "cell_type": "markdown",
   "id": "59e11839",
   "metadata": {},
   "source": [
    "## 3-3. 데이터 시각화"
   ]
  },
  {
   "cell_type": "code",
   "execution_count": 192,
   "id": "2b0af6f5",
   "metadata": {},
   "outputs": [],
   "source": [
    "import matplotlib.pyplot as plt\n",
    "import seaborn as sns"
   ]
  },
  {
   "cell_type": "code",
   "execution_count": 193,
   "id": "60c85bfd",
   "metadata": {},
   "outputs": [
    {
     "data": {
      "text/plain": [
       "144"
      ]
     },
     "execution_count": 193,
     "metadata": {},
     "output_type": "execute_result"
    }
   ],
   "source": [
    "# 결측치 제거\n",
    "chart_data = pd_data_final.dropna(axis=0)\n",
    "len(chart_data)"
   ]
  },
  {
   "cell_type": "code",
   "execution_count": 195,
   "id": "20beef55",
   "metadata": {},
   "outputs": [],
   "source": [
    "# 흡입력, 사용시간의 최댓값/평균값 정리\n",
    "suction_max_value = chart_data['흡입력'].max()\n",
    "suction_mean_value = chart_data['흡입력'].mean()\n",
    "use_time_max_value = chart_data['사용시간'].max()\n",
    "use_time_mean_value = chart_data['사용시간'].mean()"
   ]
  },
  {
   "cell_type": "code",
   "execution_count": 197,
   "id": "ad5cf386",
   "metadata": {
    "scrolled": false
   },
   "outputs": [
    {
     "name": "stderr",
     "output_type": "stream",
     "text": [
      "C:\\Python39\\Lib\\site-packages\\IPython\\core\\pylabtools.py:152: UserWarning: Glyph 49324 (\\N{HANGUL SYLLABLE SA}) missing from current font.\n",
      "  fig.canvas.print_figure(bytes_io, **kw)\n",
      "C:\\Python39\\Lib\\site-packages\\IPython\\core\\pylabtools.py:152: UserWarning: Glyph 50857 (\\N{HANGUL SYLLABLE YONG}) missing from current font.\n",
      "  fig.canvas.print_figure(bytes_io, **kw)\n",
      "C:\\Python39\\Lib\\site-packages\\IPython\\core\\pylabtools.py:152: UserWarning: Glyph 49884 (\\N{HANGUL SYLLABLE SI}) missing from current font.\n",
      "  fig.canvas.print_figure(bytes_io, **kw)\n",
      "C:\\Python39\\Lib\\site-packages\\IPython\\core\\pylabtools.py:152: UserWarning: Glyph 44036 (\\N{HANGUL SYLLABLE GAN}) missing from current font.\n",
      "  fig.canvas.print_figure(bytes_io, **kw)\n",
      "C:\\Python39\\Lib\\site-packages\\IPython\\core\\pylabtools.py:152: UserWarning: Glyph 54648 (\\N{HANGUL SYLLABLE HAEN}) missing from current font.\n",
      "  fig.canvas.print_figure(bytes_io, **kw)\n",
      "C:\\Python39\\Lib\\site-packages\\IPython\\core\\pylabtools.py:152: UserWarning: Glyph 46356 (\\N{HANGUL SYLLABLE DI}) missing from current font.\n",
      "  fig.canvas.print_figure(bytes_io, **kw)\n",
      "C:\\Python39\\Lib\\site-packages\\IPython\\core\\pylabtools.py:152: UserWarning: Glyph 49828 (\\N{HANGUL SYLLABLE SEU}) missing from current font.\n",
      "  fig.canvas.print_figure(bytes_io, **kw)\n",
      "C:\\Python39\\Lib\\site-packages\\IPython\\core\\pylabtools.py:152: UserWarning: Glyph 54001 (\\N{HANGUL SYLLABLE TIG}) missing from current font.\n",
      "  fig.canvas.print_figure(bytes_io, **kw)\n",
      "C:\\Python39\\Lib\\site-packages\\IPython\\core\\pylabtools.py:152: UserWarning: Glyph 52397 (\\N{HANGUL SYLLABLE CEONG}) missing from current font.\n",
      "  fig.canvas.print_figure(bytes_io, **kw)\n",
      "C:\\Python39\\Lib\\site-packages\\IPython\\core\\pylabtools.py:152: UserWarning: Glyph 49548 (\\N{HANGUL SYLLABLE SO}) missing from current font.\n",
      "  fig.canvas.print_figure(bytes_io, **kw)\n",
      "C:\\Python39\\Lib\\site-packages\\IPython\\core\\pylabtools.py:152: UserWarning: Glyph 44592 (\\N{HANGUL SYLLABLE GI}) missing from current font.\n",
      "  fig.canvas.print_figure(bytes_io, **kw)\n",
      "C:\\Python39\\Lib\\site-packages\\IPython\\core\\pylabtools.py:152: UserWarning: Glyph 52264 (\\N{HANGUL SYLLABLE CA}) missing from current font.\n",
      "  fig.canvas.print_figure(bytes_io, **kw)\n",
      "C:\\Python39\\Lib\\site-packages\\IPython\\core\\pylabtools.py:152: UserWarning: Glyph 53944 (\\N{HANGUL SYLLABLE TEU}) missing from current font.\n",
      "  fig.canvas.print_figure(bytes_io, **kw)\n",
      "C:\\Python39\\Lib\\site-packages\\IPython\\core\\pylabtools.py:152: UserWarning: Glyph 55137 (\\N{HANGUL SYLLABLE HEUB}) missing from current font.\n",
      "  fig.canvas.print_figure(bytes_io, **kw)\n",
      "C:\\Python39\\Lib\\site-packages\\IPython\\core\\pylabtools.py:152: UserWarning: Glyph 51077 (\\N{HANGUL SYLLABLE IB}) missing from current font.\n",
      "  fig.canvas.print_figure(bytes_io, **kw)\n",
      "C:\\Python39\\Lib\\site-packages\\IPython\\core\\pylabtools.py:152: UserWarning: Glyph 47141 (\\N{HANGUL SYLLABLE RYEOG}) missing from current font.\n",
      "  fig.canvas.print_figure(bytes_io, **kw)\n"
     ]
    },
    {
     "data": {
      "image/png": "[encoded data removed]",
      "text/plain": [
       "<Figure size 1200x800 with 1 Axes>"
      ]
     },
     "metadata": {},
     "output_type": "display_data"
    }
   ],
   "source": [
    "# 청소기 성능 시각화\n",
    "plt.figure(figsize=(12,8))\n",
    "plt.title('핸디스틱청소기 차트')\n",
    "sns.scatterplot(x = '흡입력', y = '사용시간', size = '가격', hue = chart_data['회사명'],\n",
    "               data = chart_data, sizes = (10, 1000), legend = False)\n",
    "plt.plot([0, suction_max_value],\n",
    "         [use_time_mean_value, use_time_mean_value],\n",
    "        'r--', lw = 1)\n",
    "plt.plot([suction_mean_value, suction_mean_value],\n",
    "         [0, use_time_max_value], \n",
    "        'r--', lw = 1)\n",
    "plt.show()"
   ]
  },
  {
   "cell_type": "markdown",
   "id": "56673e9c",
   "metadata": {},
   "source": [
    "# 4. 인기 제품의  데이터 시각화"
   ]
  },
  {
   "cell_type": "code",
   "execution_count": 198,
   "id": "cc65bd88",
   "metadata": {},
   "outputs": [
    {
     "data": {
      "text/plain": [
       "20"
      ]
     },
     "execution_count": 198,
     "metadata": {},
     "output_type": "execute_result"
    }
   ],
   "source": [
    "chart_data_selected = chart_data[:20]\n",
    "len(chart_data_selected)"
   ]
  },
  {
   "cell_type": "code",
   "execution_count": null,
   "id": "6e71f886",
   "metadata": {},
   "outputs": [],
   "source": [
    "suction_max_value = chart_data_selected['흡입력'].max()\n",
    "suction_mean_value = chart_data_selected['흡입력'].mean()\n",
    "use_time_max_value = chart_data_selected['사용시간'].max()\n",
    "use_time_mean_value = chart_data_selected['사용시간'].mean()"
   ]
  },
  {
   "cell_type": "code",
   "execution_count": 203,
   "id": "6a82b606",
   "metadata": {
    "scrolled": false
   },
   "outputs": [
    {
     "name": "stderr",
     "output_type": "stream",
     "text": [
      "findfont: Font family 'NanumMyeongjo' not found.\n",
      "findfont: Font family 'NanumMyeongjo' not found.\n",
      "findfont: Font family 'NanumMyeongjo' not found.\n",
      "findfont: Font family 'NanumMyeongjo' not found.\n",
      "findfont: Font family 'NanumMyeongjo' not found.\n",
      "findfont: Font family 'NanumMyeongjo' not found.\n",
      "findfont: Font family 'NanumMyeongjo' not found.\n",
      "C:\\Python39\\Lib\\site-packages\\IPython\\core\\pylabtools.py:152: UserWarning: Glyph 49324 (\\N{HANGUL SYLLABLE SA}) missing from current font.\n",
      "  fig.canvas.print_figure(bytes_io, **kw)\n",
      "C:\\Python39\\Lib\\site-packages\\IPython\\core\\pylabtools.py:152: UserWarning: Glyph 50857 (\\N{HANGUL SYLLABLE YONG}) missing from current font.\n",
      "  fig.canvas.print_figure(bytes_io, **kw)\n",
      "C:\\Python39\\Lib\\site-packages\\IPython\\core\\pylabtools.py:152: UserWarning: Glyph 49884 (\\N{HANGUL SYLLABLE SI}) missing from current font.\n",
      "  fig.canvas.print_figure(bytes_io, **kw)\n",
      "C:\\Python39\\Lib\\site-packages\\IPython\\core\\pylabtools.py:152: UserWarning: Glyph 44036 (\\N{HANGUL SYLLABLE GAN}) missing from current font.\n",
      "  fig.canvas.print_figure(bytes_io, **kw)\n",
      "findfont: Font family 'NanumMyeongjo' not found.\n",
      "findfont: Font family 'NanumMyeongjo' not found.\n",
      "C:\\Python39\\Lib\\site-packages\\IPython\\core\\pylabtools.py:152: UserWarning: Glyph 54648 (\\N{HANGUL SYLLABLE HAEN}) missing from current font.\n",
      "  fig.canvas.print_figure(bytes_io, **kw)\n",
      "C:\\Python39\\Lib\\site-packages\\IPython\\core\\pylabtools.py:152: UserWarning: Glyph 46356 (\\N{HANGUL SYLLABLE DI}) missing from current font.\n",
      "  fig.canvas.print_figure(bytes_io, **kw)\n",
      "C:\\Python39\\Lib\\site-packages\\IPython\\core\\pylabtools.py:152: UserWarning: Glyph 49828 (\\N{HANGUL SYLLABLE SEU}) missing from current font.\n",
      "  fig.canvas.print_figure(bytes_io, **kw)\n",
      "C:\\Python39\\Lib\\site-packages\\IPython\\core\\pylabtools.py:152: UserWarning: Glyph 54001 (\\N{HANGUL SYLLABLE TIG}) missing from current font.\n",
      "  fig.canvas.print_figure(bytes_io, **kw)\n",
      "C:\\Python39\\Lib\\site-packages\\IPython\\core\\pylabtools.py:152: UserWarning: Glyph 52397 (\\N{HANGUL SYLLABLE CEONG}) missing from current font.\n",
      "  fig.canvas.print_figure(bytes_io, **kw)\n",
      "C:\\Python39\\Lib\\site-packages\\IPython\\core\\pylabtools.py:152: UserWarning: Glyph 49548 (\\N{HANGUL SYLLABLE SO}) missing from current font.\n",
      "  fig.canvas.print_figure(bytes_io, **kw)\n",
      "C:\\Python39\\Lib\\site-packages\\IPython\\core\\pylabtools.py:152: UserWarning: Glyph 44592 (\\N{HANGUL SYLLABLE GI}) missing from current font.\n",
      "  fig.canvas.print_figure(bytes_io, **kw)\n",
      "C:\\Python39\\Lib\\site-packages\\IPython\\core\\pylabtools.py:152: UserWarning: Glyph 52264 (\\N{HANGUL SYLLABLE CA}) missing from current font.\n",
      "  fig.canvas.print_figure(bytes_io, **kw)\n",
      "C:\\Python39\\Lib\\site-packages\\IPython\\core\\pylabtools.py:152: UserWarning: Glyph 53944 (\\N{HANGUL SYLLABLE TEU}) missing from current font.\n",
      "  fig.canvas.print_figure(bytes_io, **kw)\n",
      "findfont: Font family 'NanumMyeongjo' not found.\n",
      "findfont: Font family 'NanumMyeongjo' not found.\n",
      "findfont: Font family 'NanumMyeongjo' not found.\n",
      "findfont: Font family 'NanumMyeongjo' not found.\n",
      "findfont: Font family 'NanumMyeongjo' not found.\n",
      "findfont: Font family 'NanumMyeongjo' not found.\n",
      "findfont: Font family 'NanumMyeongjo' not found.\n",
      "findfont: Font family 'NanumMyeongjo' not found.\n",
      "findfont: Font family 'NanumMyeongjo' not found.\n",
      "C:\\Python39\\Lib\\site-packages\\IPython\\core\\pylabtools.py:152: UserWarning: Glyph 55137 (\\N{HANGUL SYLLABLE HEUB}) missing from current font.\n",
      "  fig.canvas.print_figure(bytes_io, **kw)\n",
      "C:\\Python39\\Lib\\site-packages\\IPython\\core\\pylabtools.py:152: UserWarning: Glyph 51077 (\\N{HANGUL SYLLABLE IB}) missing from current font.\n",
      "  fig.canvas.print_figure(bytes_io, **kw)\n",
      "C:\\Python39\\Lib\\site-packages\\IPython\\core\\pylabtools.py:152: UserWarning: Glyph 47141 (\\N{HANGUL SYLLABLE RYEOG}) missing from current font.\n",
      "  fig.canvas.print_figure(bytes_io, **kw)\n",
      "findfont: Font family 'NanumMyeongjo' not found.\n",
      "findfont: Font family 'NanumMyeongjo' not found.\n",
      "C:\\Python39\\Lib\\site-packages\\IPython\\core\\pylabtools.py:152: UserWarning: Glyph 48708 (\\N{HANGUL SYLLABLE BI}) missing from current font.\n",
      "  fig.canvas.print_figure(bytes_io, **kw)\n",
      "C:\\Python39\\Lib\\site-packages\\IPython\\core\\pylabtools.py:152: UserWarning: Glyph 54252 (\\N{HANGUL SYLLABLE PO}) missing from current font.\n",
      "  fig.canvas.print_figure(bytes_io, **kw)\n",
      "C:\\Python39\\Lib\\site-packages\\IPython\\core\\pylabtools.py:152: UserWarning: Glyph 53356 (\\N{HANGUL SYLLABLE KEU}) missing from current font.\n",
      "  fig.canvas.print_figure(bytes_io, **kw)\n",
      "findfont: Font family 'NanumMyeongjo' not found.\n",
      "C:\\Python39\\Lib\\site-packages\\IPython\\core\\pylabtools.py:152: UserWarning: Glyph 50724 (\\N{HANGUL SYLLABLE O}) missing from current font.\n",
      "  fig.canvas.print_figure(bytes_io, **kw)\n",
      "C:\\Python39\\Lib\\site-packages\\IPython\\core\\pylabtools.py:152: UserWarning: Glyph 48652 (\\N{HANGUL SYLLABLE BEU}) missing from current font.\n",
      "  fig.canvas.print_figure(bytes_io, **kw)\n",
      "C:\\Python39\\Lib\\site-packages\\IPython\\core\\pylabtools.py:152: UserWarning: Glyph 51228 (\\N{HANGUL SYLLABLE JE}) missing from current font.\n",
      "  fig.canvas.print_figure(bytes_io, **kw)\n",
      "C:\\Python39\\Lib\\site-packages\\IPython\\core\\pylabtools.py:152: UserWarning: Glyph 52972 (\\N{HANGUL SYLLABLE KEOL}) missing from current font.\n",
      "  fig.canvas.print_figure(bytes_io, **kw)\n",
      "C:\\Python39\\Lib\\site-packages\\IPython\\core\\pylabtools.py:152: UserWarning: Glyph 47113 (\\N{HANGUL SYLLABLE REG}) missing from current font.\n",
      "  fig.canvas.print_figure(bytes_io, **kw)\n",
      "C:\\Python39\\Lib\\site-packages\\IPython\\core\\pylabtools.py:152: UserWarning: Glyph 49496 (\\N{HANGUL SYLLABLE SYEON}) missing from current font.\n",
      "  fig.canvas.print_figure(bytes_io, **kw)\n",
      "findfont: Font family 'NanumMyeongjo' not found.\n",
      "C:\\Python39\\Lib\\site-packages\\IPython\\core\\pylabtools.py:152: UserWarning: Glyph 53076 (\\N{HANGUL SYLLABLE KO}) missing from current font.\n",
      "  fig.canvas.print_figure(bytes_io, **kw)\n",
      "C:\\Python39\\Lib\\site-packages\\IPython\\core\\pylabtools.py:152: UserWarning: Glyph 46300 (\\N{HANGUL SYLLABLE DEU}) missing from current font.\n",
      "  fig.canvas.print_figure(bytes_io, **kw)\n",
      "C:\\Python39\\Lib\\site-packages\\IPython\\core\\pylabtools.py:152: UserWarning: Glyph 47196 (\\N{HANGUL SYLLABLE RO}) missing from current font.\n",
      "  fig.canvas.print_figure(bytes_io, **kw)\n",
      "findfont: Font family 'NanumMyeongjo' not found.\n",
      "findfont: Font family 'NanumMyeongjo' not found.\n",
      "C:\\Python39\\Lib\\site-packages\\IPython\\core\\pylabtools.py:152: UserWarning: Glyph 47532 (\\N{HANGUL SYLLABLE RI}) missing from current font.\n",
      "  fig.canvas.print_figure(bytes_io, **kw)\n",
      "C:\\Python39\\Lib\\site-packages\\IPython\\core\\pylabtools.py:152: UserWarning: Glyph 48120 (\\N{HANGUL SYLLABLE MI}) missing from current font.\n",
      "  fig.canvas.print_figure(bytes_io, **kw)\n",
      "findfont: Font family 'NanumMyeongjo' not found.\n",
      "findfont: Font family 'NanumMyeongjo' not found.\n",
      "findfont: Font family 'NanumMyeongjo' not found.\n",
      "findfont: Font family 'NanumMyeongjo' not found.\n",
      "findfont: Font family 'NanumMyeongjo' not found.\n",
      "findfont: Font family 'NanumMyeongjo' not found.\n",
      "findfont: Font family 'NanumMyeongjo' not found.\n",
      "findfont: Font family 'NanumMyeongjo' not found.\n",
      "findfont: Font family 'NanumMyeongjo' not found.\n",
      "findfont: Font family 'NanumMyeongjo' not found.\n",
      "findfont: Font family 'NanumMyeongjo' not found.\n",
      "findfont: Font family 'NanumMyeongjo' not found.\n",
      "findfont: Font family 'NanumMyeongjo' not found.\n",
      "findfont: Font family 'NanumMyeongjo' not found.\n",
      "findfont: Font family 'NanumMyeongjo' not found.\n",
      "findfont: Font family 'NanumMyeongjo' not found.\n",
      "findfont: Font family 'NanumMyeongjo' not found.\n",
      "findfont: Font family 'NanumMyeongjo' not found.\n",
      "findfont: Font family 'NanumMyeongjo' not found.\n",
      "findfont: Font family 'NanumMyeongjo' not found.\n",
      "findfont: Font family 'NanumMyeongjo' not found.\n",
      "findfont: Font family 'NanumMyeongjo' not found.\n",
      "findfont: Font family 'NanumMyeongjo' not found.\n",
      "findfont: Font family 'NanumMyeongjo' not found.\n",
      "findfont: Font family 'NanumMyeongjo' not found.\n",
      "findfont: Font family 'NanumMyeongjo' not found.\n",
      "findfont: Font family 'NanumMyeongjo' not found.\n",
      "findfont: Font family 'NanumMyeongjo' not found.\n",
      "findfont: Font family 'NanumMyeongjo' not found.\n",
      "findfont: Font family 'NanumMyeongjo' not found.\n",
      "findfont: Font family 'NanumMyeongjo' not found.\n",
      "findfont: Font family 'NanumMyeongjo' not found.\n"
     ]
    },
    {
     "name": "stderr",
     "output_type": "stream",
     "text": [
      "findfont: Font family 'NanumMyeongjo' not found.\n",
      "findfont: Font family 'NanumMyeongjo' not found.\n",
      "findfont: Font family 'NanumMyeongjo' not found.\n",
      "findfont: Font family 'NanumMyeongjo' not found.\n",
      "findfont: Font family 'NanumMyeongjo' not found.\n",
      "findfont: Font family 'NanumMyeongjo' not found.\n",
      "findfont: Font family 'NanumMyeongjo' not found.\n",
      "findfont: Font family 'NanumMyeongjo' not found.\n",
      "findfont: Font family 'NanumMyeongjo' not found.\n",
      "findfont: Font family 'NanumMyeongjo' not found.\n",
      "findfont: Font family 'NanumMyeongjo' not found.\n",
      "findfont: Font family 'NanumMyeongjo' not found.\n",
      "findfont: Font family 'NanumMyeongjo' not found.\n",
      "findfont: Font family 'NanumMyeongjo' not found.\n",
      "findfont: Font family 'NanumMyeongjo' not found.\n",
      "findfont: Font family 'NanumMyeongjo' not found.\n",
      "findfont: Font family 'NanumMyeongjo' not found.\n",
      "findfont: Font family 'NanumMyeongjo' not found.\n",
      "findfont: Font family 'NanumMyeongjo' not found.\n",
      "findfont: Font family 'NanumMyeongjo' not found.\n",
      "findfont: Font family 'NanumMyeongjo' not found.\n",
      "findfont: Font family 'NanumMyeongjo' not found.\n",
      "findfont: Font family 'NanumMyeongjo' not found.\n",
      "findfont: Font family 'NanumMyeongjo' not found.\n",
      "findfont: Font family 'NanumMyeongjo' not found.\n",
      "findfont: Font family 'NanumMyeongjo' not found.\n",
      "findfont: Font family 'NanumMyeongjo' not found.\n",
      "findfont: Font family 'NanumMyeongjo' not found.\n",
      "findfont: Font family 'NanumMyeongjo' not found.\n",
      "findfont: Font family 'NanumMyeongjo' not found.\n",
      "findfont: Font family 'NanumMyeongjo' not found.\n",
      "findfont: Font family 'NanumMyeongjo' not found.\n",
      "findfont: Font family 'NanumMyeongjo' not found.\n",
      "findfont: Font family 'NanumMyeongjo' not found.\n",
      "findfont: Font family 'NanumMyeongjo' not found.\n"
     ]
    },
    {
     "data": {
      "image/png": "[encoded data removed]",
      "text/plain": [
       "<Figure size 1200x800 with 1 Axes>"
      ]
     },
     "metadata": {},
     "output_type": "display_data"
    }
   ],
   "source": [
    "# 청소기 성능 시각화\n",
    "plt.figure(figsize=(12,8))\n",
    "plt.title('핸디스틱청소기 차트')\n",
    "sns.scatterplot(x = '흡입력', y = '사용시간', size = '가격', hue = chart_data_selected['회사명'],\n",
    "               data = chart_data_selected, sizes = (10, 1000), legend = False)\n",
    "plt.plot([0, suction_max_value],\n",
    "         [use_time_mean_value, use_time_mean_value],\n",
    "        'r--', lw = 1)\n",
    "plt.plot([suction_mean_value, suction_mean_value],\n",
    "         [0, use_time_max_value], \n",
    "        'r--', lw = 1)\n",
    "for index, row in chart_data_selected.iterrows():\n",
    "    x = row['흡입력']\n",
    "    y = row['사용시간']\n",
    "    s = row['제품'].split(' ')[0]\n",
    "    plt.text(x, y, s, size = 20)\n",
    "plt.show()"
   ]
  },
  {
   "cell_type": "code",
   "execution_count": null,
   "id": "4d75373f",
   "metadata": {},
   "outputs": [],
   "source": []
  }
 ],
 "metadata": {
  "kernelspec": {
   "display_name": "Python 3 (ipykernel)",
   "language": "python",
   "name": "python3"
  },
  "language_info": {
   "codemirror_mode": {
    "name": "ipython",
    "version": 3
   },
   "file_extension": ".py",
   "mimetype": "text/x-python",
   "name": "python",
   "nbconvert_exporter": "python",
   "pygments_lexer": "ipython3",
   "version": "3.11.1"
  }
 },
 "nbformat": 4,
 "nbformat_minor": 5
}
