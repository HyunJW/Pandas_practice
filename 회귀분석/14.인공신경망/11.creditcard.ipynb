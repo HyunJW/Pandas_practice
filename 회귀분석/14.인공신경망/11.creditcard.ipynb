{
 "cells": [
  {
   "cell_type": "code",
   "execution_count": 1,
   "metadata": {},
   "outputs": [],
   "source": [
    "import pandas as pd\n",
    "from matplotlib import font_manager, rc\n",
    "import matplotlib.pyplot as plt\n",
    "font_name = font_manager.FontProperties(fname=\"c:/Windows/Fonts/malgun.ttf\").get_name()\n",
    "rc('font', family=font_name)\n",
    "import seaborn as sns"
   ]
  },
  {
   "cell_type": "code",
   "execution_count": 2,
   "metadata": {},
   "outputs": [
    {
     "data": {
      "text/html": [
       "<div>\n",
       "<style scoped>\n",
       "    .dataframe tbody tr th:only-of-type {\n",
       "        vertical-align: middle;\n",
       "    }\n",
       "\n",
       "    .dataframe tbody tr th {\n",
       "        vertical-align: top;\n",
       "    }\n",
       "\n",
       "    .dataframe thead th {\n",
       "        text-align: right;\n",
       "    }\n",
       "</style>\n",
       "<table border=\"1\" class=\"dataframe\">\n",
       "  <thead>\n",
       "    <tr style=\"text-align: right;\">\n",
       "      <th></th>\n",
       "      <th>Time</th>\n",
       "      <th>V1</th>\n",
       "      <th>V2</th>\n",
       "      <th>V3</th>\n",
       "      <th>V4</th>\n",
       "      <th>V5</th>\n",
       "      <th>V6</th>\n",
       "      <th>V7</th>\n",
       "      <th>V8</th>\n",
       "      <th>V9</th>\n",
       "      <th>...</th>\n",
       "      <th>V21</th>\n",
       "      <th>V22</th>\n",
       "      <th>V23</th>\n",
       "      <th>V24</th>\n",
       "      <th>V25</th>\n",
       "      <th>V26</th>\n",
       "      <th>V27</th>\n",
       "      <th>V28</th>\n",
       "      <th>Amount</th>\n",
       "      <th>Class</th>\n",
       "    </tr>\n",
       "  </thead>\n",
       "  <tbody>\n",
       "    <tr>\n",
       "      <th>0</th>\n",
       "      <td>0.0</td>\n",
       "      <td>-1.359807</td>\n",
       "      <td>-0.072781</td>\n",
       "      <td>2.536347</td>\n",
       "      <td>1.378155</td>\n",
       "      <td>-0.338321</td>\n",
       "      <td>0.462388</td>\n",
       "      <td>0.239599</td>\n",
       "      <td>0.098698</td>\n",
       "      <td>0.363787</td>\n",
       "      <td>...</td>\n",
       "      <td>-0.018307</td>\n",
       "      <td>0.277838</td>\n",
       "      <td>-0.110474</td>\n",
       "      <td>0.066928</td>\n",
       "      <td>0.128539</td>\n",
       "      <td>-0.189115</td>\n",
       "      <td>0.133558</td>\n",
       "      <td>-0.021053</td>\n",
       "      <td>149.62</td>\n",
       "      <td>0</td>\n",
       "    </tr>\n",
       "    <tr>\n",
       "      <th>1</th>\n",
       "      <td>0.0</td>\n",
       "      <td>1.191857</td>\n",
       "      <td>0.266151</td>\n",
       "      <td>0.166480</td>\n",
       "      <td>0.448154</td>\n",
       "      <td>0.060018</td>\n",
       "      <td>-0.082361</td>\n",
       "      <td>-0.078803</td>\n",
       "      <td>0.085102</td>\n",
       "      <td>-0.255425</td>\n",
       "      <td>...</td>\n",
       "      <td>-0.225775</td>\n",
       "      <td>-0.638672</td>\n",
       "      <td>0.101288</td>\n",
       "      <td>-0.339846</td>\n",
       "      <td>0.167170</td>\n",
       "      <td>0.125895</td>\n",
       "      <td>-0.008983</td>\n",
       "      <td>0.014724</td>\n",
       "      <td>2.69</td>\n",
       "      <td>0</td>\n",
       "    </tr>\n",
       "    <tr>\n",
       "      <th>2</th>\n",
       "      <td>1.0</td>\n",
       "      <td>-1.358354</td>\n",
       "      <td>-1.340163</td>\n",
       "      <td>1.773209</td>\n",
       "      <td>0.379780</td>\n",
       "      <td>-0.503198</td>\n",
       "      <td>1.800499</td>\n",
       "      <td>0.791461</td>\n",
       "      <td>0.247676</td>\n",
       "      <td>-1.514654</td>\n",
       "      <td>...</td>\n",
       "      <td>0.247998</td>\n",
       "      <td>0.771679</td>\n",
       "      <td>0.909412</td>\n",
       "      <td>-0.689281</td>\n",
       "      <td>-0.327642</td>\n",
       "      <td>-0.139097</td>\n",
       "      <td>-0.055353</td>\n",
       "      <td>-0.059752</td>\n",
       "      <td>378.66</td>\n",
       "      <td>0</td>\n",
       "    </tr>\n",
       "    <tr>\n",
       "      <th>3</th>\n",
       "      <td>1.0</td>\n",
       "      <td>-0.966272</td>\n",
       "      <td>-0.185226</td>\n",
       "      <td>1.792993</td>\n",
       "      <td>-0.863291</td>\n",
       "      <td>-0.010309</td>\n",
       "      <td>1.247203</td>\n",
       "      <td>0.237609</td>\n",
       "      <td>0.377436</td>\n",
       "      <td>-1.387024</td>\n",
       "      <td>...</td>\n",
       "      <td>-0.108300</td>\n",
       "      <td>0.005274</td>\n",
       "      <td>-0.190321</td>\n",
       "      <td>-1.175575</td>\n",
       "      <td>0.647376</td>\n",
       "      <td>-0.221929</td>\n",
       "      <td>0.062723</td>\n",
       "      <td>0.061458</td>\n",
       "      <td>123.50</td>\n",
       "      <td>0</td>\n",
       "    </tr>\n",
       "    <tr>\n",
       "      <th>4</th>\n",
       "      <td>2.0</td>\n",
       "      <td>-1.158233</td>\n",
       "      <td>0.877737</td>\n",
       "      <td>1.548718</td>\n",
       "      <td>0.403034</td>\n",
       "      <td>-0.407193</td>\n",
       "      <td>0.095921</td>\n",
       "      <td>0.592941</td>\n",
       "      <td>-0.270533</td>\n",
       "      <td>0.817739</td>\n",
       "      <td>...</td>\n",
       "      <td>-0.009431</td>\n",
       "      <td>0.798278</td>\n",
       "      <td>-0.137458</td>\n",
       "      <td>0.141267</td>\n",
       "      <td>-0.206010</td>\n",
       "      <td>0.502292</td>\n",
       "      <td>0.219422</td>\n",
       "      <td>0.215153</td>\n",
       "      <td>69.99</td>\n",
       "      <td>0</td>\n",
       "    </tr>\n",
       "  </tbody>\n",
       "</table>\n",
       "<p>5 rows × 31 columns</p>\n",
       "</div>"
      ],
      "text/plain": [
       "   Time        V1        V2        V3        V4        V5        V6        V7  \\\n",
       "0   0.0 -1.359807 -0.072781  2.536347  1.378155 -0.338321  0.462388  0.239599   \n",
       "1   0.0  1.191857  0.266151  0.166480  0.448154  0.060018 -0.082361 -0.078803   \n",
       "2   1.0 -1.358354 -1.340163  1.773209  0.379780 -0.503198  1.800499  0.791461   \n",
       "3   1.0 -0.966272 -0.185226  1.792993 -0.863291 -0.010309  1.247203  0.237609   \n",
       "4   2.0 -1.158233  0.877737  1.548718  0.403034 -0.407193  0.095921  0.592941   \n",
       "\n",
       "         V8        V9  ...       V21       V22       V23       V24       V25  \\\n",
       "0  0.098698  0.363787  ... -0.018307  0.277838 -0.110474  0.066928  0.128539   \n",
       "1  0.085102 -0.255425  ... -0.225775 -0.638672  0.101288 -0.339846  0.167170   \n",
       "2  0.247676 -1.514654  ...  0.247998  0.771679  0.909412 -0.689281 -0.327642   \n",
       "3  0.377436 -1.387024  ... -0.108300  0.005274 -0.190321 -1.175575  0.647376   \n",
       "4 -0.270533  0.817739  ... -0.009431  0.798278 -0.137458  0.141267 -0.206010   \n",
       "\n",
       "        V26       V27       V28  Amount  Class  \n",
       "0 -0.189115  0.133558 -0.021053  149.62      0  \n",
       "1  0.125895 -0.008983  0.014724    2.69      0  \n",
       "2 -0.139097 -0.055353 -0.059752  378.66      0  \n",
       "3 -0.221929  0.062723  0.061458  123.50      0  \n",
       "4  0.502292  0.219422  0.215153   69.99      0  \n",
       "\n",
       "[5 rows x 31 columns]"
      ]
     },
     "execution_count": 2,
     "metadata": {},
     "output_type": "execute_result"
    }
   ],
   "source": [
    "df = pd.read_csv('c:/data/creditcard/creditcard.csv')\n",
    "df.head()"
   ]
  },
  {
   "cell_type": "code",
   "execution_count": 3,
   "metadata": {},
   "outputs": [
    {
     "name": "stderr",
     "output_type": "stream",
     "text": [
      "c:\\anaconda\\lib\\site-packages\\seaborn\\_decorators.py:36: FutureWarning: Pass the following variable as a keyword arg: x. From version 0.12, the only valid positional argument will be `data`, and passing other arguments without an explicit keyword will result in an error or misinterpretation.\n",
      "  warnings.warn(\n"
     ]
    },
    {
     "data": {
      "text/plain": [
       "Text(0.5, 1.0, '분류\\n (0: 정상거래, 1: 사기거래)')"
      ]
     },
     "execution_count": 3,
     "metadata": {},
     "output_type": "execute_result"
    },
    {
     "data": {
      "image/png": "[encoded data removed]",
      "text/plain": [
       "<Figure size 640x480 with 1 Axes>"
      ]
     },
     "metadata": {},
     "output_type": "display_data"
    }
   ],
   "source": [
    "#데이터 불균형 확인\n",
    "colors = ['yellow', 'red']\n",
    "sns.countplot('Class', data=df, palette=colors)\n",
    "plt.title('분류\\n (0: 정상거래, 1: 사기거래)', fontsize=14)"
   ]
  },
  {
   "cell_type": "code",
   "execution_count": 4,
   "metadata": {},
   "outputs": [
    {
     "name": "stdout",
     "output_type": "stream",
     "text": [
      "사기거래\n",
      "count     492.000000\n",
      "mean      122.211321\n",
      "std       256.683288\n",
      "min         0.000000\n",
      "25%         1.000000\n",
      "50%         9.250000\n",
      "75%       105.890000\n",
      "max      2125.870000\n",
      "Name: Amount, dtype: float64\n",
      "\n",
      "정상거래\n",
      "count    284315.000000\n",
      "mean         88.291022\n",
      "std         250.105092\n",
      "min           0.000000\n",
      "25%           5.650000\n",
      "50%          22.000000\n",
      "75%          77.050000\n",
      "max       25691.160000\n",
      "Name: Amount, dtype: float64\n"
     ]
    }
   ],
   "source": [
    "print('사기거래')\n",
    "print(df.Amount[df.Class == 1].describe())\n",
    "print()\n",
    "print('정상거래')\n",
    "print(df.Amount[df.Class == 0].describe())"
   ]
  },
  {
   "cell_type": "code",
   "execution_count": 5,
   "metadata": {},
   "outputs": [],
   "source": [
    "train_cols = df.columns[1:30]\n",
    "X = df[train_cols]\n",
    "y = df['Class']"
   ]
  },
  {
   "cell_type": "code",
   "execution_count": 6,
   "metadata": {},
   "outputs": [
    {
     "data": {
      "text/plain": [
       "0    492\n",
       "1    492\n",
       "Name: Class, dtype: int64"
      ]
     },
     "execution_count": 6,
     "metadata": {},
     "output_type": "execute_result"
    }
   ],
   "source": [
    "#언더샘플링\n",
    "from imblearn.under_sampling import RandomUnderSampler\n",
    "X_sample, y_sample = RandomUnderSampler(random_state=0).fit_resample(X, y)\n",
    "X_samp = pd.DataFrame(data=X_sample, columns=train_cols)\n",
    "y_samp = pd.DataFrame(data=y_sample, columns=['Class'])\n",
    "df2 = pd.concat([X_samp, y_samp], axis=1)\n",
    "df2['Class'].value_counts()"
   ]
  },
  {
   "cell_type": "code",
   "execution_count": 7,
   "metadata": {},
   "outputs": [],
   "source": [
    "X = X_samp\n",
    "y = y_samp"
   ]
  },
  {
   "cell_type": "code",
   "execution_count": 8,
   "metadata": {},
   "outputs": [],
   "source": [
    "from sklearn.model_selection import train_test_split\n",
    "X_train, X_test, y_train, y_test = train_test_split(X, y, test_size=0.2, \n",
    "                                                    stratify=y, random_state=10)"
   ]
  },
  {
   "cell_type": "code",
   "execution_count": 9,
   "metadata": {},
   "outputs": [],
   "source": [
    "#분류 모델 구현 함수\n",
    "from keras.models import Sequential\n",
    "from keras.layers import Dense, Dropout\n",
    "import numpy as np\n",
    "np.random.seed(123)\n",
    "def make_model(input_number, hidden_layers, output_number):\n",
    "    # 모델 초기화\n",
    "    model = Sequential(name='model1')\n",
    "    model.add(Dense(hidden_layers[0], activation='relu', \n",
    "                    input_shape=(input_number, ), name='hidden-1'))\n",
    "    model.add(Dense(hidden_layers[1], activation='relu', name='hidden-2'))\n",
    "    model.add(Dense(hidden_layers[2], activation='relu', name='hidden-3'))\n",
    "    # 드롭아웃 계층\n",
    "    model.add(Dropout(0.2, name='Dropout'))\n",
    "    # 출력층\n",
    "    model.add(Dense(output_number, activation='sigmoid', name='Output'))\n",
    "    model.compile(loss='mse', optimizer='adam', metrics=['accuracy'])\n",
    "    return model"
   ]
  },
  {
   "cell_type": "code",
   "execution_count": 10,
   "metadata": {},
   "outputs": [],
   "source": [
    "model = make_model(len(X_train.columns), [128, 64, 32], 1)"
   ]
  },
  {
   "cell_type": "code",
   "execution_count": 11,
   "metadata": {},
   "outputs": [
    {
     "name": "stdout",
     "output_type": "stream",
     "text": [
      "Model: \"model1\"\n",
      "_________________________________________________________________\n",
      " Layer (type)                Output Shape              Param #   \n",
      "=================================================================\n",
      " hidden-1 (Dense)            (None, 128)               3840      \n",
      "                                                                 \n",
      " hidden-2 (Dense)            (None, 64)                8256      \n",
      "                                                                 \n",
      " hidden-3 (Dense)            (None, 32)                2080      \n",
      "                                                                 \n",
      " Dropout (Dropout)           (None, 32)                0         \n",
      "                                                                 \n",
      " Output (Dense)              (None, 1)                 33        \n",
      "                                                                 \n",
      "=================================================================\n",
      "Total params: 14,209\n",
      "Trainable params: 14,209\n",
      "Non-trainable params: 0\n",
      "_________________________________________________________________\n"
     ]
    }
   ],
   "source": [
    "model.summary()"
   ]
  },
  {
   "cell_type": "code",
   "execution_count": 12,
   "metadata": {},
   "outputs": [
    {
     "data": {
      "image/png": "[encoded data removed]",
      "text/plain": [
       "<IPython.core.display.Image object>"
      ]
     },
     "execution_count": 12,
     "metadata": {},
     "output_type": "execute_result"
    }
   ],
   "source": [
    "from keras.utils import plot_model  \n",
    "plot_model(model,show_shapes=True)"
   ]
  },
  {
   "cell_type": "code",
   "execution_count": 14,
   "metadata": {},
   "outputs": [
    {
     "data": {
      "text/plain": [
       "'c:/logs/20230417-114019'"
      ]
     },
     "execution_count": 14,
     "metadata": {},
     "output_type": "execute_result"
    }
   ],
   "source": [
    "from datetime import datetime  \n",
    "import tensorflow as tf  \n",
    "logdir=\"c:/logs/\" + datetime.now().strftime(\"%Y%m%d-%H%M%S\")  \n",
    "logdir"
   ]
  },
  {
   "cell_type": "code",
   "execution_count": 15,
   "metadata": {},
   "outputs": [
    {
     "name": "stdout",
     "output_type": "stream",
     "text": [
      "Epoch 1/70\n",
      "25/25 [==============================] - 1s 4ms/step - loss: 0.2757 - accuracy: 0.6506\n",
      "Epoch 2/70\n",
      "25/25 [==============================] - 0s 3ms/step - loss: 0.1475 - accuracy: 0.8437\n",
      "Epoch 3/70\n",
      "25/25 [==============================] - 0s 5ms/step - loss: 0.2276 - accuracy: 0.7332\n",
      "Epoch 4/70\n",
      "25/25 [==============================] - 0s 4ms/step - loss: 0.1751 - accuracy: 0.8183\n",
      "Epoch 5/70\n",
      "25/25 [==============================] - 0s 4ms/step - loss: 0.1127 - accuracy: 0.8793\n",
      "Epoch 6/70\n",
      "25/25 [==============================] - 0s 4ms/step - loss: 0.1036 - accuracy: 0.8907\n",
      "Epoch 7/70\n",
      "25/25 [==============================] - 0s 4ms/step - loss: 0.0707 - accuracy: 0.9250\n",
      "Epoch 8/70\n",
      "25/25 [==============================] - 0s 4ms/step - loss: 0.1075 - accuracy: 0.8869\n",
      "Epoch 9/70\n",
      "25/25 [==============================] - 0s 4ms/step - loss: 0.0820 - accuracy: 0.9161\n",
      "Epoch 10/70\n",
      "25/25 [==============================] - 0s 3ms/step - loss: 0.0882 - accuracy: 0.8996\n",
      "Epoch 11/70\n",
      "25/25 [==============================] - 0s 4ms/step - loss: 0.0830 - accuracy: 0.9111\n",
      "Epoch 12/70\n",
      "25/25 [==============================] - 0s 3ms/step - loss: 0.0852 - accuracy: 0.9047\n",
      "Epoch 13/70\n",
      "25/25 [==============================] - 0s 3ms/step - loss: 0.0723 - accuracy: 0.9250\n",
      "Epoch 14/70\n",
      "25/25 [==============================] - 0s 4ms/step - loss: 0.0783 - accuracy: 0.9225\n",
      "Epoch 15/70\n",
      "25/25 [==============================] - 0s 5ms/step - loss: 0.0578 - accuracy: 0.9403\n",
      "Epoch 16/70\n",
      "25/25 [==============================] - 0s 4ms/step - loss: 0.0696 - accuracy: 0.9288\n",
      "Epoch 17/70\n",
      "25/25 [==============================] - 0s 4ms/step - loss: 0.0472 - accuracy: 0.9504\n",
      "Epoch 18/70\n",
      "25/25 [==============================] - 0s 3ms/step - loss: 0.0805 - accuracy: 0.9123\n",
      "Epoch 19/70\n",
      "25/25 [==============================] - 0s 4ms/step - loss: 0.0809 - accuracy: 0.9187\n",
      "Epoch 20/70\n",
      "25/25 [==============================] - 0s 4ms/step - loss: 0.0755 - accuracy: 0.9212\n",
      "Epoch 21/70\n",
      "25/25 [==============================] - 0s 3ms/step - loss: 0.0516 - accuracy: 0.9441\n",
      "Epoch 22/70\n",
      "25/25 [==============================] - 0s 3ms/step - loss: 0.0799 - accuracy: 0.9212\n",
      "Epoch 23/70\n",
      "25/25 [==============================] - 0s 4ms/step - loss: 0.0796 - accuracy: 0.9199\n",
      "Epoch 24/70\n",
      "25/25 [==============================] - 0s 3ms/step - loss: 0.0643 - accuracy: 0.9314\n",
      "Epoch 25/70\n",
      "25/25 [==============================] - 0s 4ms/step - loss: 0.0521 - accuracy: 0.9466\n",
      "Epoch 26/70\n",
      "25/25 [==============================] - 0s 3ms/step - loss: 0.0447 - accuracy: 0.9504\n",
      "Epoch 27/70\n",
      "25/25 [==============================] - 0s 3ms/step - loss: 0.0521 - accuracy: 0.9466\n",
      "Epoch 28/70\n",
      "25/25 [==============================] - 0s 3ms/step - loss: 0.0476 - accuracy: 0.9517\n",
      "Epoch 29/70\n",
      "25/25 [==============================] - 0s 3ms/step - loss: 0.0503 - accuracy: 0.9441\n",
      "Epoch 30/70\n",
      "25/25 [==============================] - 0s 3ms/step - loss: 0.0515 - accuracy: 0.9428\n",
      "Epoch 31/70\n",
      "25/25 [==============================] - 0s 5ms/step - loss: 0.0509 - accuracy: 0.9479\n",
      "Epoch 32/70\n",
      "25/25 [==============================] - 0s 3ms/step - loss: 0.0475 - accuracy: 0.9504\n",
      "Epoch 33/70\n",
      "25/25 [==============================] - 0s 3ms/step - loss: 0.0806 - accuracy: 0.9111\n",
      "Epoch 34/70\n",
      "25/25 [==============================] - 0s 3ms/step - loss: 0.0526 - accuracy: 0.9428\n",
      "Epoch 35/70\n",
      "25/25 [==============================] - 0s 3ms/step - loss: 0.0546 - accuracy: 0.9428\n",
      "Epoch 36/70\n",
      "25/25 [==============================] - 0s 3ms/step - loss: 0.0434 - accuracy: 0.9555\n",
      "Epoch 37/70\n",
      "25/25 [==============================] - 0s 3ms/step - loss: 0.0490 - accuracy: 0.9492\n",
      "Epoch 38/70\n",
      "25/25 [==============================] - 0s 3ms/step - loss: 0.0445 - accuracy: 0.9555\n",
      "Epoch 39/70\n",
      "25/25 [==============================] - 0s 3ms/step - loss: 0.0397 - accuracy: 0.9581\n",
      "Epoch 40/70\n",
      "25/25 [==============================] - 0s 3ms/step - loss: 0.0431 - accuracy: 0.9555\n",
      "Epoch 41/70\n",
      "25/25 [==============================] - 0s 3ms/step - loss: 0.0425 - accuracy: 0.9581\n",
      "Epoch 42/70\n",
      "25/25 [==============================] - 0s 3ms/step - loss: 0.0400 - accuracy: 0.9593\n",
      "Epoch 43/70\n",
      "25/25 [==============================] - 0s 3ms/step - loss: 0.0395 - accuracy: 0.9593\n",
      "Epoch 44/70\n",
      "25/25 [==============================] - 0s 3ms/step - loss: 0.0425 - accuracy: 0.9568\n",
      "Epoch 45/70\n",
      "25/25 [==============================] - 0s 3ms/step - loss: 0.0490 - accuracy: 0.9466\n",
      "Epoch 46/70\n",
      "25/25 [==============================] - 0s 4ms/step - loss: 0.0521 - accuracy: 0.9466\n",
      "Epoch 47/70\n",
      "25/25 [==============================] - 0s 3ms/step - loss: 0.0481 - accuracy: 0.9504\n",
      "Epoch 48/70\n",
      "25/25 [==============================] - 0s 4ms/step - loss: 0.0690 - accuracy: 0.9314\n",
      "Epoch 49/70\n",
      "25/25 [==============================] - 0s 5ms/step - loss: 0.0745 - accuracy: 0.9174\n",
      "Epoch 50/70\n",
      "25/25 [==============================] - 0s 3ms/step - loss: 0.0734 - accuracy: 0.9250\n",
      "Epoch 51/70\n",
      "25/25 [==============================] - 0s 3ms/step - loss: 0.0723 - accuracy: 0.9276\n",
      "Epoch 52/70\n",
      "25/25 [==============================] - 0s 3ms/step - loss: 0.0621 - accuracy: 0.9377\n",
      "Epoch 53/70\n",
      "25/25 [==============================] - 0s 3ms/step - loss: 0.0495 - accuracy: 0.9479\n",
      "Epoch 54/70\n",
      "25/25 [==============================] - 0s 3ms/step - loss: 0.0504 - accuracy: 0.9492\n",
      "Epoch 55/70\n",
      "25/25 [==============================] - 0s 3ms/step - loss: 0.0512 - accuracy: 0.9492\n",
      "Epoch 56/70\n",
      "25/25 [==============================] - 0s 3ms/step - loss: 0.0902 - accuracy: 0.9009\n",
      "Epoch 57/70\n",
      "25/25 [==============================] - 0s 3ms/step - loss: 0.0854 - accuracy: 0.9136\n",
      "Epoch 58/70\n",
      "25/25 [==============================] - 0s 3ms/step - loss: 0.0767 - accuracy: 0.9238\n",
      "Epoch 59/70\n",
      "25/25 [==============================] - 0s 3ms/step - loss: 0.0674 - accuracy: 0.9327\n",
      "Epoch 60/70\n",
      "25/25 [==============================] - 0s 3ms/step - loss: 0.0448 - accuracy: 0.9543\n",
      "Epoch 61/70\n",
      "25/25 [==============================] - 0s 3ms/step - loss: 0.1545 - accuracy: 0.8399\n",
      "Epoch 62/70\n",
      "25/25 [==============================] - 0s 4ms/step - loss: 0.2402 - accuracy: 0.7535\n",
      "Epoch 63/70\n",
      "25/25 [==============================] - 0s 3ms/step - loss: 0.0629 - accuracy: 0.9365\n",
      "Epoch 64/70\n",
      "25/25 [==============================] - 0s 4ms/step - loss: 0.0408 - accuracy: 0.9593\n",
      "Epoch 65/70\n",
      "25/25 [==============================] - 0s 3ms/step - loss: 0.0408 - accuracy: 0.9593\n",
      "Epoch 66/70\n",
      "25/25 [==============================] - 0s 5ms/step - loss: 0.0420 - accuracy: 0.9581\n",
      "Epoch 67/70\n",
      "25/25 [==============================] - 0s 3ms/step - loss: 0.0445 - accuracy: 0.9555\n",
      "Epoch 68/70\n",
      "25/25 [==============================] - 0s 3ms/step - loss: 0.0415 - accuracy: 0.9581\n",
      "Epoch 69/70\n",
      "25/25 [==============================] - 0s 3ms/step - loss: 0.0514 - accuracy: 0.9479\n",
      "Epoch 70/70\n",
      "25/25 [==============================] - 0s 3ms/step - loss: 0.0399 - accuracy: 0.9593\n"
     ]
    }
   ],
   "source": [
    "#모델 학습\n",
    "tensorboard_callback = tf.keras.callbacks.TensorBoard(log_dir=logdir)  \n",
    "hist = model.fit(X_train, y_train, epochs=70, \n",
    "                 callbacks=[tensorboard_callback])"
   ]
  },
  {
   "cell_type": "code",
   "execution_count": 16,
   "metadata": {},
   "outputs": [
    {
     "data": {
      "image/png": "[encoded data removed]",
      "text/plain": [
       "<Figure size 1200x800 with 1 Axes>"
      ]
     },
     "metadata": {},
     "output_type": "display_data"
    }
   ],
   "source": [
    "#모델 학습 과정 표시\n",
    "plt.figure(figsize=(12,8))\n",
    "plt.plot(hist.history['loss'])\n",
    "plt.plot(hist.history['accuracy'])\n",
    "plt.legend(['loss', 'accuracy'])\n",
    "plt.grid()\n",
    "plt.show()"
   ]
  },
  {
   "cell_type": "code",
   "execution_count": 17,
   "metadata": {},
   "outputs": [
    {
     "name": "stdout",
     "output_type": "stream",
     "text": [
      "25/25 [==============================] - 0s 2ms/step - loss: 0.0345 - accuracy: 0.9644\n",
      "[0.03449399024248123, 0.9644218683242798]\n",
      "학습용 accuracy: 96.44%\n"
     ]
    }
   ],
   "source": [
    "#모델 평가\n",
    "scores = model.evaluate(X_train, y_train, verbose=1)\n",
    "print(scores)\n",
    "print(\"학습용 %s: %.2f%%\" %(model.metrics_names[1], scores[1]*100))"
   ]
  },
  {
   "cell_type": "code",
   "execution_count": 18,
   "metadata": {},
   "outputs": [
    {
     "name": "stdout",
     "output_type": "stream",
     "text": [
      "7/7 [==============================] - 0s 2ms/step - loss: 0.0860 - accuracy: 0.9137\n",
      "[0.08600636571645737, 0.913705587387085]\n",
      "검증용 accuracy: 91.37%\n"
     ]
    }
   ],
   "source": [
    "scores = model.evaluate(X_test, y_test, verbose=1)\n",
    "print(scores)\n",
    "print(\"검증용 %s: %.2f%%\" %(model.metrics_names[1], scores[1]*100))"
   ]
  },
  {
   "cell_type": "code",
   "execution_count": 36,
   "metadata": {},
   "outputs": [
    {
     "name": "stdout",
     "output_type": "stream",
     "text": [
      "31/31 [==============================] - 0s 2ms/step\n",
      "[[9.9999964e-01]\n",
      " [1.0000000e+00]\n",
      " [8.5003707e-38]\n",
      " [4.6627738e-02]\n",
      " [1.0000000e+00]]\n",
      "[[1.]\n",
      " [1.]\n",
      " [0.]\n",
      " [0.]\n",
      " [1.]]\n"
     ]
    }
   ],
   "source": [
    "pred = model.predict(X)\n",
    "print(pred[-10:-5])\n",
    "print(np.round(pred[-10:-5]))"
   ]
  },
  {
   "cell_type": "code",
   "execution_count": 33,
   "metadata": {},
   "outputs": [],
   "source": [
    "#모델 저장\n",
    "model.save('c:/data/creditcard/model.h5')"
   ]
  },
  {
   "cell_type": "code",
   "execution_count": null,
   "metadata": {},
   "outputs": [],
   "source": []
  }
 ],
 "metadata": {
  "kernelspec": {
   "display_name": "base",
   "language": "python",
   "name": "python3"
  },
  "language_info": {
   "codemirror_mode": {
    "name": "ipython",
    "version": 3
   },
   "file_extension": ".py",
   "mimetype": "text/x-python",
   "name": "python",
   "nbconvert_exporter": "python",
   "pygments_lexer": "ipython3",
   "version": "3.9.13"
  },
  "orig_nbformat": 4
 },
 "nbformat": 4,
 "nbformat_minor": 2
}
